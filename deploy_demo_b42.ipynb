{
  "nbformat": 4,
  "nbformat_minor": 0,
  "metadata": {
    "colab": {
      "name": "deploy-demo-b42.ipynb",
      "provenance": [],
      "include_colab_link": true
    },
    "kernelspec": {
      "name": "python3",
      "display_name": "Python 3"
    },
    "language_info": {
      "name": "python"
    }
  },
  "cells": [
    {
      "cell_type": "markdown",
      "metadata": {
        "id": "view-in-github",
        "colab_type": "text"
      },
      "source": [
        "<a href=\"https://colab.research.google.com/github/himanshushakyawar/Python_AI_ML_NIT/blob/main/deploy_demo_b42.ipynb\" target=\"_parent\"><img src=\"https://colab.research.google.com/assets/colab-badge.svg\" alt=\"Open In Colab\"/></a>"
      ]
    },
    {
      "cell_type": "code",
      "execution_count": null,
      "metadata": {
        "id": "MEFG94qfsJyE"
      },
      "outputs": [],
      "source": [
        "import pickle\n",
        "obj = open(\"polynomial.save\",\"rb\")\n",
        "poly = pickle.load(obj)\n",
        "obj.close() # Load my Polynomial data transformer"
      ]
    },
    {
      "cell_type": "code",
      "source": [
        "obj = open(\"linear_regression.save\",\"rb\")\n",
        "lr = pickle.load(obj)\n",
        "obj.close() # Load my Polynomial data transformer"
      ],
      "metadata": {
        "id": "KVQOz8JgsUo3"
      },
      "execution_count": null,
      "outputs": []
    },
    {
      "cell_type": "code",
      "source": [
        "x = [[4]]\n",
        "x_transform = poly.transform(x)\n",
        "y_pred = lr.predict(x_transform)\n",
        "y_pred"
      ],
      "metadata": {
        "colab": {
          "base_uri": "https://localhost:8080/"
        },
        "id": "iaX5d0QXsWYU",
        "outputId": "f3dae4e1-5888-4986-bb6f-d428ba9fc955"
      },
      "execution_count": null,
      "outputs": [
        {
          "output_type": "execute_result",
          "data": {
            "text/plain": [
              "array([[13.64529023]])"
            ]
          },
          "metadata": {},
          "execution_count": 5
        }
      ]
    },
    {
      "cell_type": "code",
      "source": [
        "from  sklearn import  datasets\n",
        "iris=datasets.load_iris()\n",
        "x=iris.data\n",
        "y=iris.target\n",
        "\n",
        "from sklearn.model_selection import train_test_split\n",
        "x_train,x_test,y_train,y_test=train_test_split(x,y,test_size=.5)\n",
        "\n"
      ],
      "metadata": {
        "id": "j_1uxKLtsfQo"
      },
      "execution_count": null,
      "outputs": []
    }
  ]
}