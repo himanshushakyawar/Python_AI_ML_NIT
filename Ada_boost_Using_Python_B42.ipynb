{
  "cells": [
    {
      "cell_type": "markdown",
      "metadata": {
        "id": "view-in-github",
        "colab_type": "text"
      },
      "source": [
        "<a href=\"https://colab.research.google.com/github/himanshushakyawar/Python_AI_ML_NIT/blob/main/Ada_boost_Using_Python_B42.ipynb\" target=\"_parent\"><img src=\"https://colab.research.google.com/assets/colab-badge.svg\" alt=\"Open In Colab\"/></a>"
      ]
    },
    {
      "cell_type": "markdown",
      "metadata": {
        "id": "gKHtsDtzW0kS"
      },
      "source": [
        "#**Demo: Ada-boost Using Python**"
      ]
    },
    {
      "cell_type": "markdown",
      "metadata": {
        "id": "4eBkXVIWC2Nl"
      },
      "source": [
        "###**Problem Definition**\n",
        "\n",
        "Perform RandomForestClassifier on the in-built wine dataset and find the accuracy and then use **AdaBoostClassifier** to improve the accuracy of the model\n",
        "\n",
        "  \n",
        "\n",
        "###**Dataset Description**\n",
        "\n",
        "These data are the results of a chemical analysis of wines grown in the same region in Italy but derived from three different cultivars. The analysis determined the quantities of 13 constituents found in each of the three types of wines.\n",
        "\n",
        "The wine dataset is a classic and very easy multi-class classification dataset. The dataset contains 13 feature variables and one target variable.\n",
        "\n",
        "The attributes are:\n",
        ">* Alcohol\n",
        ">* Malic acid\n",
        ">* Ash\n",
        ">* Alcalinity of ash\n",
        ">* Magnesium\n",
        ">* Total phenols\n",
        ">* Flavanoids\n",
        ">* Nonflavanoid phenols\n",
        ">* Proanthocyanins\n",
        ">*Color intensity\n",
        ">*Hue\n",
        ">*OD280/OD315 of diluted wines\n",
        ">*Proline\n",
        "\n",
        "###**Tasks to be performed**\n",
        "\n",
        ">* Understanding Adaboost\n",
        ">* Importing Required Libraries\n",
        ">* Loading the Dataset\n",
        ">* Analyzing and Preparing the data-set\n",
        ">* Splitting the Dataset\n",
        ">* Implementing RandomForestClassifier\n",
        ">* Implementing Adaboost Classifier using sklearn library"
      ]
    },
    {
      "cell_type": "markdown",
      "metadata": {
        "id": "GO1F0RRgW0fk"
      },
      "source": [
        "###**Understanding Adaboost**\n",
        "\n",
        "If you were to take an important decision in life, you would ask a number of people you look upto instead of just accepting one person's advice. This is the idea behind meta-algorithms or ensemble methods. Meta-Algorithms are a way of combining many algorithms. One of the most commonly used meta-algorithm is AdaBoost. \n",
        "\n",
        "Ada-boost or Adaptive Boosting is one of the ensemble boosting classifier algorithm proposed by Yoav Freund and Robert Schapire in 1996. It invloves  combining multiple classifiers to enhance the accuracy of the classifiers. It is an iterative ensemble method. AdaBoost classifier creates a strong classifier by combining multiple poorly performing weak classifiers to get high accuracy strong classifier.  Any machine learning algorithm can be used as base classifier if it accepts weights on the training set.\n",
        "\n",
        "###**The goal of AdaBoost is to boost the performance of Decision Tree and Random Forests with weak learners**"
      ]
    },
    {
      "cell_type": "markdown",
      "metadata": {
        "id": "1w0IoKZzXEe4"
      },
      "source": [
        "####**Importing Required Libraries**\n"
      ]
    },
    {
      "cell_type": "code",
      "execution_count": null,
      "metadata": {
        "id": "ilKIWEwqWSMv"
      },
      "outputs": [],
      "source": [
        "import numpy as np\n",
        "import pandas as pd\n",
        "import matplotlib.pyplot as plt\n",
        "from sklearn.model_selection import train_test_split\n",
        "from sklearn.ensemble import AdaBoostClassifier\n",
        "from sklearn.ensemble import RandomForestClassifier\n",
        "from sklearn.datasets import load_wine\n",
        "from sklearn.linear_model import LogisticRegression\n",
        "from sklearn import metrics\n",
        "import warnings\n",
        "warnings.filterwarnings(\"ignore\")"
      ]
    },
    {
      "cell_type": "markdown",
      "metadata": {
        "id": "rLPEL5UIXnN8"
      },
      "source": [
        "####**Loading the Dataset**"
      ]
    },
    {
      "cell_type": "code",
      "execution_count": null,
      "metadata": {
        "colab": {
          "base_uri": "https://localhost:8080/"
        },
        "id": "MsvjllKsDXH5",
        "outputId": "f22d4082-4fae-43b5-a7cc-d1157074a998"
      },
      "outputs": [
        {
          "output_type": "execute_result",
          "data": {
            "text/plain": [
              "['alcohol',\n",
              " 'malic_acid',\n",
              " 'ash',\n",
              " 'alcalinity_of_ash',\n",
              " 'magnesium',\n",
              " 'total_phenols',\n",
              " 'flavanoids',\n",
              " 'nonflavanoid_phenols',\n",
              " 'proanthocyanins',\n",
              " 'color_intensity',\n",
              " 'hue',\n",
              " 'od280/od315_of_diluted_wines',\n",
              " 'proline']"
            ]
          },
          "metadata": {},
          "execution_count": 2
        }
      ],
      "source": [
        "wine = load_wine()\n",
        "wine.feature_names"
      ]
    },
    {
      "cell_type": "code",
      "execution_count": null,
      "metadata": {
        "colab": {
          "base_uri": "https://localhost:8080/"
        },
        "id": "ag7tQuIpbf4X",
        "outputId": "7da4641d-c515-4ab1-f21f-e35032441bc2"
      },
      "outputs": [
        {
          "output_type": "execute_result",
          "data": {
            "text/plain": [
              "array(['class_0', 'class_1', 'class_2'], dtype='<U7')"
            ]
          },
          "metadata": {},
          "execution_count": 3
        }
      ],
      "source": [
        "wine.target_names"
      ]
    },
    {
      "cell_type": "markdown",
      "metadata": {
        "id": "Jm1c8P6sZTaL"
      },
      "source": [
        "####**Analyzing and Preparing the dataset**"
      ]
    },
    {
      "cell_type": "code",
      "execution_count": null,
      "metadata": {
        "colab": {
          "base_uri": "https://localhost:8080/",
          "height": 305
        },
        "id": "wyD4mS_zWz95",
        "outputId": "96008ce1-ca50-46c9-8f02-ad71ff599c91"
      },
      "outputs": [
        {
          "output_type": "execute_result",
          "data": {
            "text/html": [
              "\n",
              "  <div id=\"df-9bdf68e7-9725-4546-9e0e-983942d4cc98\">\n",
              "    <div class=\"colab-df-container\">\n",
              "      <div>\n",
              "<style scoped>\n",
              "    .dataframe tbody tr th:only-of-type {\n",
              "        vertical-align: middle;\n",
              "    }\n",
              "\n",
              "    .dataframe tbody tr th {\n",
              "        vertical-align: top;\n",
              "    }\n",
              "\n",
              "    .dataframe thead th {\n",
              "        text-align: right;\n",
              "    }\n",
              "</style>\n",
              "<table border=\"1\" class=\"dataframe\">\n",
              "  <thead>\n",
              "    <tr style=\"text-align: right;\">\n",
              "      <th></th>\n",
              "      <th>Alcohol</th>\n",
              "      <th>Malic Acid</th>\n",
              "      <th>Ash</th>\n",
              "      <th>Alcalinity_of_ash</th>\n",
              "      <th>Magnesium</th>\n",
              "      <th>Total_Phenols</th>\n",
              "      <th>flavonoids</th>\n",
              "      <th>non_flavonoid_phenols</th>\n",
              "      <th>proanthocyanins</th>\n",
              "      <th>color_intensity</th>\n",
              "      <th>hue</th>\n",
              "      <th>od of diluted wines</th>\n",
              "      <th>proline</th>\n",
              "      <th>target</th>\n",
              "    </tr>\n",
              "  </thead>\n",
              "  <tbody>\n",
              "    <tr>\n",
              "      <th>0</th>\n",
              "      <td>14.23</td>\n",
              "      <td>1.71</td>\n",
              "      <td>2.43</td>\n",
              "      <td>15.6</td>\n",
              "      <td>127.0</td>\n",
              "      <td>2.80</td>\n",
              "      <td>3.06</td>\n",
              "      <td>0.28</td>\n",
              "      <td>2.29</td>\n",
              "      <td>5.64</td>\n",
              "      <td>1.04</td>\n",
              "      <td>3.92</td>\n",
              "      <td>1065.0</td>\n",
              "      <td>0</td>\n",
              "    </tr>\n",
              "    <tr>\n",
              "      <th>1</th>\n",
              "      <td>13.20</td>\n",
              "      <td>1.78</td>\n",
              "      <td>2.14</td>\n",
              "      <td>11.2</td>\n",
              "      <td>100.0</td>\n",
              "      <td>2.65</td>\n",
              "      <td>2.76</td>\n",
              "      <td>0.26</td>\n",
              "      <td>1.28</td>\n",
              "      <td>4.38</td>\n",
              "      <td>1.05</td>\n",
              "      <td>3.40</td>\n",
              "      <td>1050.0</td>\n",
              "      <td>0</td>\n",
              "    </tr>\n",
              "    <tr>\n",
              "      <th>2</th>\n",
              "      <td>13.16</td>\n",
              "      <td>2.36</td>\n",
              "      <td>2.67</td>\n",
              "      <td>18.6</td>\n",
              "      <td>101.0</td>\n",
              "      <td>2.80</td>\n",
              "      <td>3.24</td>\n",
              "      <td>0.30</td>\n",
              "      <td>2.81</td>\n",
              "      <td>5.68</td>\n",
              "      <td>1.03</td>\n",
              "      <td>3.17</td>\n",
              "      <td>1185.0</td>\n",
              "      <td>0</td>\n",
              "    </tr>\n",
              "    <tr>\n",
              "      <th>3</th>\n",
              "      <td>14.37</td>\n",
              "      <td>1.95</td>\n",
              "      <td>2.50</td>\n",
              "      <td>16.8</td>\n",
              "      <td>113.0</td>\n",
              "      <td>3.85</td>\n",
              "      <td>3.49</td>\n",
              "      <td>0.24</td>\n",
              "      <td>2.18</td>\n",
              "      <td>7.80</td>\n",
              "      <td>0.86</td>\n",
              "      <td>3.45</td>\n",
              "      <td>1480.0</td>\n",
              "      <td>0</td>\n",
              "    </tr>\n",
              "    <tr>\n",
              "      <th>4</th>\n",
              "      <td>13.24</td>\n",
              "      <td>2.59</td>\n",
              "      <td>2.87</td>\n",
              "      <td>21.0</td>\n",
              "      <td>118.0</td>\n",
              "      <td>2.80</td>\n",
              "      <td>2.69</td>\n",
              "      <td>0.39</td>\n",
              "      <td>1.82</td>\n",
              "      <td>4.32</td>\n",
              "      <td>1.04</td>\n",
              "      <td>2.93</td>\n",
              "      <td>735.0</td>\n",
              "      <td>0</td>\n",
              "    </tr>\n",
              "  </tbody>\n",
              "</table>\n",
              "</div>\n",
              "      <button class=\"colab-df-convert\" onclick=\"convertToInteractive('df-9bdf68e7-9725-4546-9e0e-983942d4cc98')\"\n",
              "              title=\"Convert this dataframe to an interactive table.\"\n",
              "              style=\"display:none;\">\n",
              "        \n",
              "  <svg xmlns=\"http://www.w3.org/2000/svg\" height=\"24px\"viewBox=\"0 0 24 24\"\n",
              "       width=\"24px\">\n",
              "    <path d=\"M0 0h24v24H0V0z\" fill=\"none\"/>\n",
              "    <path d=\"M18.56 5.44l.94 2.06.94-2.06 2.06-.94-2.06-.94-.94-2.06-.94 2.06-2.06.94zm-11 1L8.5 8.5l.94-2.06 2.06-.94-2.06-.94L8.5 2.5l-.94 2.06-2.06.94zm10 10l.94 2.06.94-2.06 2.06-.94-2.06-.94-.94-2.06-.94 2.06-2.06.94z\"/><path d=\"M17.41 7.96l-1.37-1.37c-.4-.4-.92-.59-1.43-.59-.52 0-1.04.2-1.43.59L10.3 9.45l-7.72 7.72c-.78.78-.78 2.05 0 2.83L4 21.41c.39.39.9.59 1.41.59.51 0 1.02-.2 1.41-.59l7.78-7.78 2.81-2.81c.8-.78.8-2.07 0-2.86zM5.41 20L4 18.59l7.72-7.72 1.47 1.35L5.41 20z\"/>\n",
              "  </svg>\n",
              "      </button>\n",
              "      \n",
              "  <style>\n",
              "    .colab-df-container {\n",
              "      display:flex;\n",
              "      flex-wrap:wrap;\n",
              "      gap: 12px;\n",
              "    }\n",
              "\n",
              "    .colab-df-convert {\n",
              "      background-color: #E8F0FE;\n",
              "      border: none;\n",
              "      border-radius: 50%;\n",
              "      cursor: pointer;\n",
              "      display: none;\n",
              "      fill: #1967D2;\n",
              "      height: 32px;\n",
              "      padding: 0 0 0 0;\n",
              "      width: 32px;\n",
              "    }\n",
              "\n",
              "    .colab-df-convert:hover {\n",
              "      background-color: #E2EBFA;\n",
              "      box-shadow: 0px 1px 2px rgba(60, 64, 67, 0.3), 0px 1px 3px 1px rgba(60, 64, 67, 0.15);\n",
              "      fill: #174EA6;\n",
              "    }\n",
              "\n",
              "    [theme=dark] .colab-df-convert {\n",
              "      background-color: #3B4455;\n",
              "      fill: #D2E3FC;\n",
              "    }\n",
              "\n",
              "    [theme=dark] .colab-df-convert:hover {\n",
              "      background-color: #434B5C;\n",
              "      box-shadow: 0px 1px 3px 1px rgba(0, 0, 0, 0.15);\n",
              "      filter: drop-shadow(0px 1px 2px rgba(0, 0, 0, 0.3));\n",
              "      fill: #FFFFFF;\n",
              "    }\n",
              "  </style>\n",
              "\n",
              "      <script>\n",
              "        const buttonEl =\n",
              "          document.querySelector('#df-9bdf68e7-9725-4546-9e0e-983942d4cc98 button.colab-df-convert');\n",
              "        buttonEl.style.display =\n",
              "          google.colab.kernel.accessAllowed ? 'block' : 'none';\n",
              "\n",
              "        async function convertToInteractive(key) {\n",
              "          const element = document.querySelector('#df-9bdf68e7-9725-4546-9e0e-983942d4cc98');\n",
              "          const dataTable =\n",
              "            await google.colab.kernel.invokeFunction('convertToInteractive',\n",
              "                                                     [key], {});\n",
              "          if (!dataTable) return;\n",
              "\n",
              "          const docLinkHtml = 'Like what you see? Visit the ' +\n",
              "            '<a target=\"_blank\" href=https://colab.research.google.com/notebooks/data_table.ipynb>data table notebook</a>'\n",
              "            + ' to learn more about interactive tables.';\n",
              "          element.innerHTML = '';\n",
              "          dataTable['output_type'] = 'display_data';\n",
              "          await google.colab.output.renderOutput(dataTable, element);\n",
              "          const docLink = document.createElement('div');\n",
              "          docLink.innerHTML = docLinkHtml;\n",
              "          element.appendChild(docLink);\n",
              "        }\n",
              "      </script>\n",
              "    </div>\n",
              "  </div>\n",
              "  "
            ],
            "text/plain": [
              "   Alcohol  Malic Acid   Ash  ...  od of diluted wines  proline  target\n",
              "0    14.23        1.71  2.43  ...                 3.92   1065.0       0\n",
              "1    13.20        1.78  2.14  ...                 3.40   1050.0       0\n",
              "2    13.16        2.36  2.67  ...                 3.17   1185.0       0\n",
              "3    14.37        1.95  2.50  ...                 3.45   1480.0       0\n",
              "4    13.24        2.59  2.87  ...                 2.93    735.0       0\n",
              "\n",
              "[5 rows x 14 columns]"
            ]
          },
          "metadata": {},
          "execution_count": 4
        }
      ],
      "source": [
        "df=pd.DataFrame({'Alcohol':wine.data[:,0],'Malic Acid':wine.data[:,1],'Ash':wine.data[:,2],'Alcalinity_of_ash':wine.data[:,3],'Magnesium':wine.data[:,4],'Total_Phenols':wine.data[:,5],\n",
        "    'flavonoids':wine.data[:,6],\n",
        "    'non_flavonoid_phenols':wine.data[:,7],\n",
        "     'proanthocyanins':wine.data[:,8],\n",
        "     'color_intensity':wine.data[:,9],\n",
        "     'hue':wine.data[:,10],\n",
        "     'od of diluted wines':wine.data[:,11],\n",
        "     'proline':wine.data[:,12],\n",
        "     'target':wine.target\n",
        "})\n",
        "df.head()"
      ]
    },
    {
      "cell_type": "code",
      "execution_count": null,
      "metadata": {
        "colab": {
          "base_uri": "https://localhost:8080/"
        },
        "id": "EcpfFBU1ruSr",
        "outputId": "2a48fed0-ce70-4abc-efbe-f94feca6056e"
      },
      "outputs": [
        {
          "output_type": "execute_result",
          "data": {
            "text/plain": [
              "178"
            ]
          },
          "metadata": {},
          "execution_count": 5
        }
      ],
      "source": [
        "len(df)"
      ]
    },
    {
      "cell_type": "code",
      "execution_count": null,
      "metadata": {
        "colab": {
          "base_uri": "https://localhost:8080/"
        },
        "id": "fwaXZArqWz5g",
        "outputId": "3022bc88-0e3a-44c4-a70e-852f90298dda"
      },
      "outputs": [
        {
          "output_type": "execute_result",
          "data": {
            "text/plain": [
              "Alcohol                  float64\n",
              "Malic Acid               float64\n",
              "Ash                      float64\n",
              "Alcalinity_of_ash        float64\n",
              "Magnesium                float64\n",
              "Total_Phenols            float64\n",
              "flavonoids               float64\n",
              "non_flavonoid_phenols    float64\n",
              "proanthocyanins          float64\n",
              "color_intensity          float64\n",
              "hue                      float64\n",
              "od of diluted wines      float64\n",
              "proline                  float64\n",
              "target                     int64\n",
              "dtype: object"
            ]
          },
          "metadata": {},
          "execution_count": 6
        }
      ],
      "source": [
        "df.dtypes"
      ]
    },
    {
      "cell_type": "markdown",
      "metadata": {
        "id": "iAwVgvevbHSd"
      },
      "source": [
        "**Splitting the Dataset**"
      ]
    },
    {
      "cell_type": "code",
      "execution_count": null,
      "metadata": {
        "id": "toYIdI8AbCkQ"
      },
      "outputs": [],
      "source": [
        "X = wine.data\n",
        "Y = wine.target"
      ]
    },
    {
      "cell_type": "code",
      "execution_count": null,
      "metadata": {
        "id": "wCLvvbfG31DR"
      },
      "outputs": [],
      "source": [
        "X_train, X_test, y_train, y_test = train_test_split(X, Y, test_size=0.3,random_state=3) # 70% training and 30% test"
      ]
    },
    {
      "cell_type": "markdown",
      "metadata": {
        "id": "dCiLYnDqbM8J"
      },
      "source": [
        "**Applying RandomForestClassifier**"
      ]
    },
    {
      "cell_type": "code",
      "execution_count": null,
      "metadata": {
        "id": "6LR87dECI-YY"
      },
      "outputs": [],
      "source": [
        "clf=RandomForestClassifier(n_estimators=10, random_state=20)\n",
        "\n",
        "#Train the model using the training sets y_pred=clf.predict(X_test)\n",
        "clf.fit(X_train,y_train)\n",
        "\n",
        "y_pred=clf.predict(X_test)"
      ]
    },
    {
      "cell_type": "code",
      "execution_count": null,
      "metadata": {
        "colab": {
          "base_uri": "https://localhost:8080/"
        },
        "id": "fZ-l-2-2J6id",
        "outputId": "59b1dec8-3567-48a1-afca-cdbb9f473a7c"
      },
      "outputs": [
        {
          "output_type": "stream",
          "name": "stdout",
          "text": [
            "Accuracy: 0.9444444444444444\n"
          ]
        }
      ],
      "source": [
        "print(\"Accuracy:\",metrics.accuracy_score(y_test, y_pred))"
      ]
    },
    {
      "cell_type": "markdown",
      "metadata": {
        "id": "D1_jWRGggFIg"
      },
      "source": [
        "**From above, you can see the model's accuracy using RandomForestClasssifier**"
      ]
    },
    {
      "cell_type": "markdown",
      "metadata": {
        "id": "IInEhogYgXqI"
      },
      "source": [
        "**Now, let's see how AdaBoost Classsifier improves the Accuracy of the Model**"
      ]
    },
    {
      "cell_type": "code",
      "execution_count": null,
      "metadata": {
        "colab": {
          "base_uri": "https://localhost:8080/"
        },
        "id": "K2BDl3Wl7IUv",
        "outputId": "ad80de79-c745-4e0e-cdaf-b2bba2d0f4c7"
      },
      "outputs": [
        {
          "output_type": "stream",
          "name": "stdout",
          "text": [
            "Accuracy: 0.9629629629629629\n",
            "Accuracy: 0.9625015322651257\n"
          ]
        }
      ],
      "source": [
        "clf = RandomForestClassifier()\n",
        "abc = AdaBoostClassifier(base_estimator=clf,n_estimators=50,learning_rate=1)\n",
        "# Train Adaboost Classifer\n",
        "model = abc.fit(X_train, y_train)\n",
        "\n",
        "#Predict the response for test dataset\n",
        "y_pred = model.predict(X_test)\n",
        "\n",
        "from sklearn import metrics\n",
        "print(\"Accuracy:\",metrics.accuracy_score(y_test, y_pred))\n",
        "print(\"Accuracy:\",metrics.f1_score(y_test, y_pred,average='weighted'))\n"
      ]
    },
    {
      "cell_type": "markdown",
      "metadata": {
        "id": "3t7ZFeeBhvDr"
      },
      "source": [
        "**From above, you can see that AdaBoostClassifier has improved the accuracy by a significant amount**"
      ]
    },
    {
      "cell_type": "code",
      "execution_count": null,
      "metadata": {
        "id": "XU4cGFYm7mTh"
      },
      "outputs": [],
      "source": [
        "data['Glucose'] = data['Glucose'].replace(0,data['Glucose'].median())"
      ]
    }
  ],
  "metadata": {
    "colab": {
      "collapsed_sections": [],
      "name": "Ada_boost_Using_Python-B42.ipynb",
      "provenance": [],
      "include_colab_link": true
    },
    "kernelspec": {
      "display_name": "Python 3",
      "language": "python",
      "name": "python3"
    },
    "language_info": {
      "codemirror_mode": {
        "name": "ipython",
        "version": 3
      },
      "file_extension": ".py",
      "mimetype": "text/x-python",
      "name": "python",
      "nbconvert_exporter": "python",
      "pygments_lexer": "ipython3",
      "version": "3.8.3"
    }
  },
  "nbformat": 4,
  "nbformat_minor": 0
}