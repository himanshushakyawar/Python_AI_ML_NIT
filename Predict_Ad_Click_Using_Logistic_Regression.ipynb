{
  "nbformat": 4,
  "nbformat_minor": 0,
  "metadata": {
    "colab": {
      "name": "Predict_Ad_Click_Using_Logistic_Regression.ipynb",
      "provenance": [],
      "collapsed_sections": [],
      "include_colab_link": true
    },
    "kernelspec": {
      "name": "python3",
      "display_name": "Python 3"
    },
    "widgets": {
      "application/vnd.jupyter.widget-state+json": {
        "8607208b8d1549d2a6d23bd2acb2f614": {
          "model_module": "@jupyter-widgets/controls",
          "model_name": "HBoxModel",
          "model_module_version": "1.5.0",
          "state": {
            "_view_name": "HBoxView",
            "_dom_classes": [],
            "_model_name": "HBoxModel",
            "_view_module": "@jupyter-widgets/controls",
            "_model_module_version": "1.5.0",
            "_view_count": null,
            "_view_module_version": "1.5.0",
            "box_style": "",
            "layout": "IPY_MODEL_3a50f956666b42fa896a382b703a5b36",
            "_model_module": "@jupyter-widgets/controls",
            "children": [
              "IPY_MODEL_47dd4b618e5c477d9b36a699808eaa82",
              "IPY_MODEL_97c8fa5d9b9849299dc984df50af2d67",
              "IPY_MODEL_4ce6d35cbab844c0aba8246d6fdd0a6d"
            ]
          }
        },
        "3a50f956666b42fa896a382b703a5b36": {
          "model_module": "@jupyter-widgets/base",
          "model_name": "LayoutModel",
          "model_module_version": "1.2.0",
          "state": {
            "_view_name": "LayoutView",
            "grid_template_rows": null,
            "right": null,
            "justify_content": null,
            "_view_module": "@jupyter-widgets/base",
            "overflow": null,
            "_model_module_version": "1.2.0",
            "_view_count": null,
            "flex_flow": "row wrap",
            "width": "100%",
            "min_width": null,
            "border": null,
            "align_items": null,
            "bottom": null,
            "_model_module": "@jupyter-widgets/base",
            "top": null,
            "grid_column": null,
            "overflow_y": null,
            "overflow_x": null,
            "grid_auto_flow": null,
            "grid_area": null,
            "grid_template_columns": null,
            "flex": null,
            "_model_name": "LayoutModel",
            "justify_items": null,
            "grid_row": null,
            "max_height": null,
            "align_content": null,
            "visibility": null,
            "align_self": null,
            "height": null,
            "min_height": null,
            "padding": null,
            "grid_auto_rows": null,
            "grid_gap": null,
            "max_width": null,
            "order": null,
            "_view_module_version": "1.2.0",
            "grid_template_areas": null,
            "object_position": null,
            "object_fit": null,
            "grid_auto_columns": null,
            "margin": null,
            "display": "inline-flex",
            "left": null
          }
        },
        "47dd4b618e5c477d9b36a699808eaa82": {
          "model_module": "@jupyter-widgets/controls",
          "model_name": "HTMLModel",
          "model_module_version": "1.5.0",
          "state": {
            "_view_name": "HTMLView",
            "style": "IPY_MODEL_9c84e33753d844ebbb85a675422785b7",
            "_dom_classes": [],
            "description": "",
            "_model_name": "HTMLModel",
            "placeholder": "​",
            "_view_module": "@jupyter-widgets/controls",
            "_model_module_version": "1.5.0",
            "value": "Done! Use &#x27;show&#x27; commands to display/save.   ",
            "_view_count": null,
            "_view_module_version": "1.5.0",
            "description_tooltip": null,
            "_model_module": "@jupyter-widgets/controls",
            "layout": "IPY_MODEL_f77e6d90bce0403697c4989ae5349b92"
          }
        },
        "97c8fa5d9b9849299dc984df50af2d67": {
          "model_module": "@jupyter-widgets/controls",
          "model_name": "FloatProgressModel",
          "model_module_version": "1.5.0",
          "state": {
            "_view_name": "ProgressView",
            "style": "IPY_MODEL_d843891b4c954a2e89dd74889f862b13",
            "_dom_classes": [],
            "description": "",
            "_model_name": "FloatProgressModel",
            "bar_style": "success",
            "max": 1,
            "_view_module": "@jupyter-widgets/controls",
            "_model_module_version": "1.5.0",
            "value": 1,
            "_view_count": null,
            "_view_module_version": "1.5.0",
            "orientation": "horizontal",
            "min": 0,
            "description_tooltip": null,
            "_model_module": "@jupyter-widgets/controls",
            "layout": "IPY_MODEL_14a5deb560eb48aa81121e8092749bf0"
          }
        },
        "4ce6d35cbab844c0aba8246d6fdd0a6d": {
          "model_module": "@jupyter-widgets/controls",
          "model_name": "HTMLModel",
          "model_module_version": "1.5.0",
          "state": {
            "_view_name": "HTMLView",
            "style": "IPY_MODEL_2e7c40d95c3243858c5109ece9d3994c",
            "_dom_classes": [],
            "description": "",
            "_model_name": "HTMLModel",
            "placeholder": "​",
            "_view_module": "@jupyter-widgets/controls",
            "_model_module_version": "1.5.0",
            "value": " [100%]   00:00 -&gt; (00:00 left)",
            "_view_count": null,
            "_view_module_version": "1.5.0",
            "description_tooltip": null,
            "_model_module": "@jupyter-widgets/controls",
            "layout": "IPY_MODEL_c32142c4d1634f0fb93e320e022d4073"
          }
        },
        "9c84e33753d844ebbb85a675422785b7": {
          "model_module": "@jupyter-widgets/controls",
          "model_name": "DescriptionStyleModel",
          "model_module_version": "1.5.0",
          "state": {
            "_view_name": "StyleView",
            "_model_name": "DescriptionStyleModel",
            "description_width": "",
            "_view_module": "@jupyter-widgets/base",
            "_model_module_version": "1.5.0",
            "_view_count": null,
            "_view_module_version": "1.2.0",
            "_model_module": "@jupyter-widgets/controls"
          }
        },
        "f77e6d90bce0403697c4989ae5349b92": {
          "model_module": "@jupyter-widgets/base",
          "model_name": "LayoutModel",
          "model_module_version": "1.2.0",
          "state": {
            "_view_name": "LayoutView",
            "grid_template_rows": null,
            "right": null,
            "justify_content": null,
            "_view_module": "@jupyter-widgets/base",
            "overflow": null,
            "_model_module_version": "1.2.0",
            "_view_count": null,
            "flex_flow": null,
            "width": null,
            "min_width": null,
            "border": null,
            "align_items": null,
            "bottom": null,
            "_model_module": "@jupyter-widgets/base",
            "top": null,
            "grid_column": null,
            "overflow_y": null,
            "overflow_x": null,
            "grid_auto_flow": null,
            "grid_area": null,
            "grid_template_columns": null,
            "flex": null,
            "_model_name": "LayoutModel",
            "justify_items": null,
            "grid_row": null,
            "max_height": null,
            "align_content": null,
            "visibility": null,
            "align_self": null,
            "height": null,
            "min_height": null,
            "padding": null,
            "grid_auto_rows": null,
            "grid_gap": null,
            "max_width": null,
            "order": null,
            "_view_module_version": "1.2.0",
            "grid_template_areas": null,
            "object_position": null,
            "object_fit": null,
            "grid_auto_columns": null,
            "margin": null,
            "display": null,
            "left": null
          }
        },
        "d843891b4c954a2e89dd74889f862b13": {
          "model_module": "@jupyter-widgets/controls",
          "model_name": "ProgressStyleModel",
          "model_module_version": "1.5.0",
          "state": {
            "_view_name": "StyleView",
            "_model_name": "ProgressStyleModel",
            "description_width": "",
            "_view_module": "@jupyter-widgets/base",
            "_model_module_version": "1.5.0",
            "_view_count": null,
            "_view_module_version": "1.2.0",
            "bar_color": null,
            "_model_module": "@jupyter-widgets/controls"
          }
        },
        "14a5deb560eb48aa81121e8092749bf0": {
          "model_module": "@jupyter-widgets/base",
          "model_name": "LayoutModel",
          "model_module_version": "1.2.0",
          "state": {
            "_view_name": "LayoutView",
            "grid_template_rows": null,
            "right": null,
            "justify_content": null,
            "_view_module": "@jupyter-widgets/base",
            "overflow": null,
            "_model_module_version": "1.2.0",
            "_view_count": null,
            "flex_flow": null,
            "width": null,
            "min_width": null,
            "border": null,
            "align_items": null,
            "bottom": null,
            "_model_module": "@jupyter-widgets/base",
            "top": null,
            "grid_column": null,
            "overflow_y": null,
            "overflow_x": null,
            "grid_auto_flow": null,
            "grid_area": null,
            "grid_template_columns": null,
            "flex": "2",
            "_model_name": "LayoutModel",
            "justify_items": null,
            "grid_row": null,
            "max_height": null,
            "align_content": null,
            "visibility": null,
            "align_self": null,
            "height": null,
            "min_height": null,
            "padding": null,
            "grid_auto_rows": null,
            "grid_gap": null,
            "max_width": null,
            "order": null,
            "_view_module_version": "1.2.0",
            "grid_template_areas": null,
            "object_position": null,
            "object_fit": null,
            "grid_auto_columns": null,
            "margin": null,
            "display": null,
            "left": null
          }
        },
        "2e7c40d95c3243858c5109ece9d3994c": {
          "model_module": "@jupyter-widgets/controls",
          "model_name": "DescriptionStyleModel",
          "model_module_version": "1.5.0",
          "state": {
            "_view_name": "StyleView",
            "_model_name": "DescriptionStyleModel",
            "description_width": "",
            "_view_module": "@jupyter-widgets/base",
            "_model_module_version": "1.5.0",
            "_view_count": null,
            "_view_module_version": "1.2.0",
            "_model_module": "@jupyter-widgets/controls"
          }
        },
        "c32142c4d1634f0fb93e320e022d4073": {
          "model_module": "@jupyter-widgets/base",
          "model_name": "LayoutModel",
          "model_module_version": "1.2.0",
          "state": {
            "_view_name": "LayoutView",
            "grid_template_rows": null,
            "right": null,
            "justify_content": null,
            "_view_module": "@jupyter-widgets/base",
            "overflow": null,
            "_model_module_version": "1.2.0",
            "_view_count": null,
            "flex_flow": null,
            "width": null,
            "min_width": null,
            "border": null,
            "align_items": null,
            "bottom": null,
            "_model_module": "@jupyter-widgets/base",
            "top": null,
            "grid_column": null,
            "overflow_y": null,
            "overflow_x": null,
            "grid_auto_flow": null,
            "grid_area": null,
            "grid_template_columns": null,
            "flex": null,
            "_model_name": "LayoutModel",
            "justify_items": null,
            "grid_row": null,
            "max_height": null,
            "align_content": null,
            "visibility": null,
            "align_self": null,
            "height": null,
            "min_height": null,
            "padding": null,
            "grid_auto_rows": null,
            "grid_gap": null,
            "max_width": null,
            "order": null,
            "_view_module_version": "1.2.0",
            "grid_template_areas": null,
            "object_position": null,
            "object_fit": null,
            "grid_auto_columns": null,
            "margin": null,
            "display": null,
            "left": null
          }
        }
      }
    }
  },
  "cells": [
    {
      "cell_type": "markdown",
      "metadata": {
        "id": "view-in-github",
        "colab_type": "text"
      },
      "source": [
        "<a href=\"https://colab.research.google.com/github/himanshushakyawar/Python_AI_ML_NIT/blob/main/Predict_Ad_Click_Using_Logistic_Regression.ipynb\" target=\"_parent\"><img src=\"https://colab.research.google.com/assets/colab-badge.svg\" alt=\"Open In Colab\"/></a>"
      ]
    },
    {
      "cell_type": "markdown",
      "metadata": {
        "id": "tKLmoyfgYQCL"
      },
      "source": [
        "#Demo: **Predict Ad Click Using Logistic Regression**"
      ]
    },
    {
      "cell_type": "markdown",
      "metadata": {
        "id": "qrX5EwCmZODn"
      },
      "source": [
        "Explore the data to predict who is more likely to click the ad! using **Logistic Regression** based on the features of the user\n",
        "\n"
      ]
    },
    {
      "cell_type": "markdown",
      "metadata": {
        "id": "h3nwzygzYX5m"
      },
      "source": [
        "###**Dataset Description**\n",
        "\n",
        "\n",
        "\n",
        "The dataset contains the following attributes:\n",
        "\n",
        "- **Daily Time Spent on Site** - Consumer time on site in minutes\n",
        "- **Age** - Cutomer age in years\n",
        "- **Area Income** - Avg. Income of geographical area of consumer\n",
        "- **Daily Internet Usage** - Avg. minutes a day consumer is on the internet\n",
        "- **Ad Topic Line** - Headline of the advertisement\n",
        "- **City** - City of consumer\n",
        "- **Male** - Whether or not consumer was male\n",
        "- **Country** - Country of consumer\n",
        "- **Timestamp** - Time at which consumer clicked on Ad or closed window\n",
        "- **Clicked on Ad** - 0 or 1 indicated clicking on Ad"
      ]
    },
    {
      "cell_type": "markdown",
      "metadata": {
        "id": "m9ff_nJwZE_N"
      },
      "source": [
        "###**Tasks to be performed**\n",
        "\n",
        "- Import Required Libraries and analyze the dataset\n",
        "       Check the shape of the dataset\n",
        "       Check and deal with the Null Values present in the dataset\n",
        "       Analyze the dataset using Pandas Profiling and Sweetviz\n",
        "- Perform Data Visualization on the dataset Using **Plotly Express**\n",
        "- Split the dataset using train_test_split from the sklearn library\n",
        "- Build a Logistic Regression model and fit the model\n",
        "- Evaluate the Model\n",
        "\n",
        "       Use a Confusion Matrix and write your observations\n",
        "       Check the accuracy_score\n",
        "       Print a classification report\n"
      ]
    },
    {
      "cell_type": "markdown",
      "metadata": {
        "id": "Uw420v7eZHKY"
      },
      "source": [
        "###**Task 1:**\n",
        "Import Required Libraries and analyze the dataset\n",
        "\n",
        "       Check the shape of the dataset\n",
        "       Check and deal with the Null Values present in the dataset\n",
        "       Analyze the dataset using Pandas Profiling and Sweetviz"
      ]
    },
    {
      "cell_type": "code",
      "metadata": {
        "id": "fls1uTPuYDD7",
        "outputId": "ba5f013a-c349-488f-9655-abd1f8c9d2fb",
        "colab": {
          "base_uri": "https://localhost:8080/"
        }
      },
      "source": [
        "import warnings\n",
        "warnings.filterwarnings(\"ignore\", category=FutureWarning)\n",
        "\n",
        "import pandas as pd\n",
        "import numpy as np\n",
        "import matplotlib.pyplot as plt\n",
        "import seaborn as sns\n",
        "import plotly.express as px\n",
        "print('Libraries Imported')"
      ],
      "execution_count": null,
      "outputs": [
        {
          "output_type": "stream",
          "name": "stdout",
          "text": [
            "Libraries Imported\n"
          ]
        }
      ]
    },
    {
      "cell_type": "code",
      "metadata": {
        "id": "4NevxOPzaBfi",
        "outputId": "a65d3777-046c-414b-dfd8-7ed187841656",
        "colab": {
          "base_uri": "https://localhost:8080/"
        }
      },
      "source": [
        "# Downloading the dataset from Dropbox\n",
        "\n",
        "!wget https://www.dropbox.com/s/3u5l88jokdaj1wu/advertising.csv"
      ],
      "execution_count": null,
      "outputs": [
        {
          "output_type": "stream",
          "name": "stdout",
          "text": [
            "--2021-12-18 16:49:03--  https://www.dropbox.com/s/3u5l88jokdaj1wu/advertising.csv\n",
            "Resolving www.dropbox.com (www.dropbox.com)... 162.125.80.18, 2620:100:6035:18::a27d:5512\n",
            "Connecting to www.dropbox.com (www.dropbox.com)|162.125.80.18|:443... connected.\n",
            "HTTP request sent, awaiting response... 301 Moved Permanently\n",
            "Location: /s/raw/3u5l88jokdaj1wu/advertising.csv [following]\n",
            "--2021-12-18 16:49:03--  https://www.dropbox.com/s/raw/3u5l88jokdaj1wu/advertising.csv\n",
            "Reusing existing connection to www.dropbox.com:443.\n",
            "HTTP request sent, awaiting response... 302 Found\n",
            "Location: https://uc53a2a215d065f7b45b291acd90.dl.dropboxusercontent.com/cd/0/inline/BcGbo7JXsaCDAKFOy_dseXkDiKFm8BiinL7MW4oq2JO1Y-wSTUrz9_FuVqyGuR-V1yJBnkoH7E3JQT3wKfyNZJ5XOM37fPaDY_vr-SrW4rrncpiET3KI77l_RsPbPDzTBT57mflxCtxqomGSaGes_Wjt/file# [following]\n",
            "--2021-12-18 16:49:04--  https://uc53a2a215d065f7b45b291acd90.dl.dropboxusercontent.com/cd/0/inline/BcGbo7JXsaCDAKFOy_dseXkDiKFm8BiinL7MW4oq2JO1Y-wSTUrz9_FuVqyGuR-V1yJBnkoH7E3JQT3wKfyNZJ5XOM37fPaDY_vr-SrW4rrncpiET3KI77l_RsPbPDzTBT57mflxCtxqomGSaGes_Wjt/file\n",
            "Resolving uc53a2a215d065f7b45b291acd90.dl.dropboxusercontent.com (uc53a2a215d065f7b45b291acd90.dl.dropboxusercontent.com)... 162.125.81.15, 2620:100:6031:15::a27d:510f\n",
            "Connecting to uc53a2a215d065f7b45b291acd90.dl.dropboxusercontent.com (uc53a2a215d065f7b45b291acd90.dl.dropboxusercontent.com)|162.125.81.15|:443... connected.\n",
            "HTTP request sent, awaiting response... 200 OK\n",
            "Length: 107424 (105K) [text/plain]\n",
            "Saving to: ‘advertising.csv’\n",
            "\n",
            "advertising.csv     100%[===================>] 104.91K  --.-KB/s    in 0.1s    \n",
            "\n",
            "2021-12-18 16:49:04 (874 KB/s) - ‘advertising.csv’ saved [107424/107424]\n",
            "\n"
          ]
        }
      ]
    },
    {
      "cell_type": "code",
      "metadata": {
        "id": "JpEPGRCYayEl",
        "outputId": "4535e3c0-2c90-4064-aeaf-b0e213b04fa7",
        "colab": {
          "base_uri": "https://localhost:8080/",
          "height": 354
        }
      },
      "source": [
        "df = pd.read_csv('advertising.csv')\n",
        "df.head()"
      ],
      "execution_count": null,
      "outputs": [
        {
          "output_type": "execute_result",
          "data": {
            "text/html": [
              "\n",
              "  <div id=\"df-ebb6eb22-ee41-4903-bdaf-5fe8b534f9b3\">\n",
              "    <div class=\"colab-df-container\">\n",
              "      <div>\n",
              "<style scoped>\n",
              "    .dataframe tbody tr th:only-of-type {\n",
              "        vertical-align: middle;\n",
              "    }\n",
              "\n",
              "    .dataframe tbody tr th {\n",
              "        vertical-align: top;\n",
              "    }\n",
              "\n",
              "    .dataframe thead th {\n",
              "        text-align: right;\n",
              "    }\n",
              "</style>\n",
              "<table border=\"1\" class=\"dataframe\">\n",
              "  <thead>\n",
              "    <tr style=\"text-align: right;\">\n",
              "      <th></th>\n",
              "      <th>Daily Time Spent on Site</th>\n",
              "      <th>Age</th>\n",
              "      <th>Area Income</th>\n",
              "      <th>Daily Internet Usage</th>\n",
              "      <th>Ad Topic Line</th>\n",
              "      <th>City</th>\n",
              "      <th>Male</th>\n",
              "      <th>Country</th>\n",
              "      <th>Timestamp</th>\n",
              "      <th>Clicked on Ad</th>\n",
              "    </tr>\n",
              "  </thead>\n",
              "  <tbody>\n",
              "    <tr>\n",
              "      <th>0</th>\n",
              "      <td>68.95</td>\n",
              "      <td>35</td>\n",
              "      <td>61833.90</td>\n",
              "      <td>256.09</td>\n",
              "      <td>Cloned 5thgeneration orchestration</td>\n",
              "      <td>Wrightburgh</td>\n",
              "      <td>0</td>\n",
              "      <td>Tunisia</td>\n",
              "      <td>2016-03-27 00:53:11</td>\n",
              "      <td>0</td>\n",
              "    </tr>\n",
              "    <tr>\n",
              "      <th>1</th>\n",
              "      <td>80.23</td>\n",
              "      <td>31</td>\n",
              "      <td>68441.85</td>\n",
              "      <td>193.77</td>\n",
              "      <td>Monitored national standardization</td>\n",
              "      <td>West Jodi</td>\n",
              "      <td>1</td>\n",
              "      <td>Nauru</td>\n",
              "      <td>2016-04-04 01:39:02</td>\n",
              "      <td>0</td>\n",
              "    </tr>\n",
              "    <tr>\n",
              "      <th>2</th>\n",
              "      <td>69.47</td>\n",
              "      <td>26</td>\n",
              "      <td>59785.94</td>\n",
              "      <td>236.50</td>\n",
              "      <td>Organic bottom-line service-desk</td>\n",
              "      <td>Davidton</td>\n",
              "      <td>0</td>\n",
              "      <td>San Marino</td>\n",
              "      <td>2016-03-13 20:35:42</td>\n",
              "      <td>0</td>\n",
              "    </tr>\n",
              "    <tr>\n",
              "      <th>3</th>\n",
              "      <td>74.15</td>\n",
              "      <td>29</td>\n",
              "      <td>54806.18</td>\n",
              "      <td>245.89</td>\n",
              "      <td>Triple-buffered reciprocal time-frame</td>\n",
              "      <td>West Terrifurt</td>\n",
              "      <td>1</td>\n",
              "      <td>Italy</td>\n",
              "      <td>2016-01-10 02:31:19</td>\n",
              "      <td>0</td>\n",
              "    </tr>\n",
              "    <tr>\n",
              "      <th>4</th>\n",
              "      <td>68.37</td>\n",
              "      <td>35</td>\n",
              "      <td>73889.99</td>\n",
              "      <td>225.58</td>\n",
              "      <td>Robust logistical utilization</td>\n",
              "      <td>South Manuel</td>\n",
              "      <td>0</td>\n",
              "      <td>Iceland</td>\n",
              "      <td>2016-06-03 03:36:18</td>\n",
              "      <td>0</td>\n",
              "    </tr>\n",
              "  </tbody>\n",
              "</table>\n",
              "</div>\n",
              "      <button class=\"colab-df-convert\" onclick=\"convertToInteractive('df-ebb6eb22-ee41-4903-bdaf-5fe8b534f9b3')\"\n",
              "              title=\"Convert this dataframe to an interactive table.\"\n",
              "              style=\"display:none;\">\n",
              "        \n",
              "  <svg xmlns=\"http://www.w3.org/2000/svg\" height=\"24px\"viewBox=\"0 0 24 24\"\n",
              "       width=\"24px\">\n",
              "    <path d=\"M0 0h24v24H0V0z\" fill=\"none\"/>\n",
              "    <path d=\"M18.56 5.44l.94 2.06.94-2.06 2.06-.94-2.06-.94-.94-2.06-.94 2.06-2.06.94zm-11 1L8.5 8.5l.94-2.06 2.06-.94-2.06-.94L8.5 2.5l-.94 2.06-2.06.94zm10 10l.94 2.06.94-2.06 2.06-.94-2.06-.94-.94-2.06-.94 2.06-2.06.94z\"/><path d=\"M17.41 7.96l-1.37-1.37c-.4-.4-.92-.59-1.43-.59-.52 0-1.04.2-1.43.59L10.3 9.45l-7.72 7.72c-.78.78-.78 2.05 0 2.83L4 21.41c.39.39.9.59 1.41.59.51 0 1.02-.2 1.41-.59l7.78-7.78 2.81-2.81c.8-.78.8-2.07 0-2.86zM5.41 20L4 18.59l7.72-7.72 1.47 1.35L5.41 20z\"/>\n",
              "  </svg>\n",
              "      </button>\n",
              "      \n",
              "  <style>\n",
              "    .colab-df-container {\n",
              "      display:flex;\n",
              "      flex-wrap:wrap;\n",
              "      gap: 12px;\n",
              "    }\n",
              "\n",
              "    .colab-df-convert {\n",
              "      background-color: #E8F0FE;\n",
              "      border: none;\n",
              "      border-radius: 50%;\n",
              "      cursor: pointer;\n",
              "      display: none;\n",
              "      fill: #1967D2;\n",
              "      height: 32px;\n",
              "      padding: 0 0 0 0;\n",
              "      width: 32px;\n",
              "    }\n",
              "\n",
              "    .colab-df-convert:hover {\n",
              "      background-color: #E2EBFA;\n",
              "      box-shadow: 0px 1px 2px rgba(60, 64, 67, 0.3), 0px 1px 3px 1px rgba(60, 64, 67, 0.15);\n",
              "      fill: #174EA6;\n",
              "    }\n",
              "\n",
              "    [theme=dark] .colab-df-convert {\n",
              "      background-color: #3B4455;\n",
              "      fill: #D2E3FC;\n",
              "    }\n",
              "\n",
              "    [theme=dark] .colab-df-convert:hover {\n",
              "      background-color: #434B5C;\n",
              "      box-shadow: 0px 1px 3px 1px rgba(0, 0, 0, 0.15);\n",
              "      filter: drop-shadow(0px 1px 2px rgba(0, 0, 0, 0.3));\n",
              "      fill: #FFFFFF;\n",
              "    }\n",
              "  </style>\n",
              "\n",
              "      <script>\n",
              "        const buttonEl =\n",
              "          document.querySelector('#df-ebb6eb22-ee41-4903-bdaf-5fe8b534f9b3 button.colab-df-convert');\n",
              "        buttonEl.style.display =\n",
              "          google.colab.kernel.accessAllowed ? 'block' : 'none';\n",
              "\n",
              "        async function convertToInteractive(key) {\n",
              "          const element = document.querySelector('#df-ebb6eb22-ee41-4903-bdaf-5fe8b534f9b3');\n",
              "          const dataTable =\n",
              "            await google.colab.kernel.invokeFunction('convertToInteractive',\n",
              "                                                     [key], {});\n",
              "          if (!dataTable) return;\n",
              "\n",
              "          const docLinkHtml = 'Like what you see? Visit the ' +\n",
              "            '<a target=\"_blank\" href=https://colab.research.google.com/notebooks/data_table.ipynb>data table notebook</a>'\n",
              "            + ' to learn more about interactive tables.';\n",
              "          element.innerHTML = '';\n",
              "          dataTable['output_type'] = 'display_data';\n",
              "          await google.colab.output.renderOutput(dataTable, element);\n",
              "          const docLink = document.createElement('div');\n",
              "          docLink.innerHTML = docLinkHtml;\n",
              "          element.appendChild(docLink);\n",
              "        }\n",
              "      </script>\n",
              "    </div>\n",
              "  </div>\n",
              "  "
            ],
            "text/plain": [
              "   Daily Time Spent on Site  Age  ...            Timestamp  Clicked on Ad\n",
              "0                     68.95   35  ...  2016-03-27 00:53:11              0\n",
              "1                     80.23   31  ...  2016-04-04 01:39:02              0\n",
              "2                     69.47   26  ...  2016-03-13 20:35:42              0\n",
              "3                     74.15   29  ...  2016-01-10 02:31:19              0\n",
              "4                     68.37   35  ...  2016-06-03 03:36:18              0\n",
              "\n",
              "[5 rows x 10 columns]"
            ]
          },
          "metadata": {},
          "execution_count": 3
        }
      ]
    },
    {
      "cell_type": "markdown",
      "metadata": {
        "id": "ts1nrRxMTGkb"
      },
      "source": [
        "**Analyzing the data using Pandas Profiling**"
      ]
    },
    {
      "cell_type": "code",
      "metadata": {
        "id": "c33Pa7mTVXUf"
      },
      "source": [
        "!pip install pandas-profiling==2.7.1 "
      ],
      "execution_count": null,
      "outputs": []
    },
    {
      "cell_type": "code",
      "metadata": {
        "id": "rgpXjP67VXEG"
      },
      "source": [
        "#Generating a Pandas Profiling Report \n",
        "\n",
        "import pandas_profiling\n",
        "from pandas_profiling import ProfileReport\n",
        "prof = ProfileReport(df)\n",
        "prof.to_file(output_file='output.html')"
      ],
      "execution_count": null,
      "outputs": []
    },
    {
      "cell_type": "markdown",
      "metadata": {
        "id": "lgUZ5iO1UVro"
      },
      "source": [
        "Please refer to the HTML file created by the name of **output.html**"
      ]
    },
    {
      "cell_type": "markdown",
      "metadata": {
        "id": "aOa4PaBiTLll"
      },
      "source": [
        "**Analyzing the data using Sweetviz**\n",
        "\n",
        "**Sweetviz** is an open source Python library that generates beautiful, high-density visualizations to kickstart EDA (Exploratory Data Analysis) with a single line of code. **Output** is a fully self-contained **HTML** application.\n",
        "\n",
        "The system is built around quickly visualizing target values and comparing datasets. Its goal is to help quick analysis of target characteristics, training vs testing data, and other such data characterization tasks.\n",
        "\n",
        "**[Click Here!](https://pypi.org/project/sweetviz/)** to learn more about Sweetviz"
      ]
    },
    {
      "cell_type": "code",
      "metadata": {
        "id": "rtCu38-OVWoa",
        "outputId": "ba9a8ff6-eef7-4b58-dbe5-59b29f3b84f4",
        "colab": {
          "base_uri": "https://localhost:8080/"
        }
      },
      "source": [
        "#Installing Sweetviz\n",
        "\n",
        "!pip install sweetviz"
      ],
      "execution_count": null,
      "outputs": [
        {
          "output_type": "stream",
          "name": "stdout",
          "text": [
            "Collecting sweetviz\n",
            "  Downloading sweetviz-2.1.3-py3-none-any.whl (15.1 MB)\n",
            "\u001b[K     |████████████████████████████████| 15.1 MB 4.0 MB/s \n",
            "\u001b[?25hRequirement already satisfied: scipy>=1.3.2 in /usr/local/lib/python3.7/dist-packages (from sweetviz) (1.4.1)\n",
            "Requirement already satisfied: jinja2>=2.11.1 in /usr/local/lib/python3.7/dist-packages (from sweetviz) (2.11.3)\n",
            "Requirement already satisfied: pandas!=1.0.0,!=1.0.1,!=1.0.2,>=0.25.3 in /usr/local/lib/python3.7/dist-packages (from sweetviz) (1.1.5)\n",
            "Requirement already satisfied: numpy>=1.16.0 in /usr/local/lib/python3.7/dist-packages (from sweetviz) (1.19.5)\n",
            "Requirement already satisfied: tqdm>=4.43.0 in /usr/local/lib/python3.7/dist-packages (from sweetviz) (4.62.3)\n",
            "Requirement already satisfied: matplotlib>=3.1.3 in /usr/local/lib/python3.7/dist-packages (from sweetviz) (3.2.2)\n",
            "Requirement already satisfied: importlib-resources>=1.2.0 in /usr/local/lib/python3.7/dist-packages (from sweetviz) (5.4.0)\n",
            "Requirement already satisfied: zipp>=3.1.0 in /usr/local/lib/python3.7/dist-packages (from importlib-resources>=1.2.0->sweetviz) (3.6.0)\n",
            "Requirement already satisfied: MarkupSafe>=0.23 in /usr/local/lib/python3.7/dist-packages (from jinja2>=2.11.1->sweetviz) (2.0.1)\n",
            "Requirement already satisfied: kiwisolver>=1.0.1 in /usr/local/lib/python3.7/dist-packages (from matplotlib>=3.1.3->sweetviz) (1.3.2)\n",
            "Requirement already satisfied: pyparsing!=2.0.4,!=2.1.2,!=2.1.6,>=2.0.1 in /usr/local/lib/python3.7/dist-packages (from matplotlib>=3.1.3->sweetviz) (3.0.6)\n",
            "Requirement already satisfied: python-dateutil>=2.1 in /usr/local/lib/python3.7/dist-packages (from matplotlib>=3.1.3->sweetviz) (2.8.2)\n",
            "Requirement already satisfied: cycler>=0.10 in /usr/local/lib/python3.7/dist-packages (from matplotlib>=3.1.3->sweetviz) (0.11.0)\n",
            "Requirement already satisfied: pytz>=2017.2 in /usr/local/lib/python3.7/dist-packages (from pandas!=1.0.0,!=1.0.1,!=1.0.2,>=0.25.3->sweetviz) (2018.9)\n",
            "Requirement already satisfied: six>=1.5 in /usr/local/lib/python3.7/dist-packages (from python-dateutil>=2.1->matplotlib>=3.1.3->sweetviz) (1.15.0)\n",
            "Installing collected packages: sweetviz\n",
            "Successfully installed sweetviz-2.1.3\n"
          ]
        }
      ]
    },
    {
      "cell_type": "code",
      "metadata": {
        "id": "qPdUKNJ5VWvC",
        "outputId": "90ae13a9-28f4-41db-86cc-507a8577cb0e",
        "colab": {
          "base_uri": "https://localhost:8080/",
          "height": 87,
          "referenced_widgets": [
            "8607208b8d1549d2a6d23bd2acb2f614",
            "3a50f956666b42fa896a382b703a5b36",
            "47dd4b618e5c477d9b36a699808eaa82",
            "97c8fa5d9b9849299dc984df50af2d67",
            "4ce6d35cbab844c0aba8246d6fdd0a6d",
            "9c84e33753d844ebbb85a675422785b7",
            "f77e6d90bce0403697c4989ae5349b92",
            "d843891b4c954a2e89dd74889f862b13",
            "14a5deb560eb48aa81121e8092749bf0",
            "2e7c40d95c3243858c5109ece9d3994c",
            "c32142c4d1634f0fb93e320e022d4073"
          ]
        }
      },
      "source": [
        "# Importing sweetviz\n",
        "import sweetviz as sv\n",
        "\n",
        "#Analyzing the dataset\n",
        "report = sv.analyze(df)\n",
        "\n",
        "#Display the report\n",
        "report.show_html('Ad-Click.html')"
      ],
      "execution_count": null,
      "outputs": [
        {
          "output_type": "display_data",
          "data": {
            "application/vnd.jupyter.widget-view+json": {
              "model_id": "8607208b8d1549d2a6d23bd2acb2f614",
              "version_minor": 0,
              "version_major": 2
            },
            "text/plain": [
              "                                             |          | [  0%]   00:00 -> (? left)"
            ]
          },
          "metadata": {}
        },
        {
          "output_type": "stream",
          "name": "stdout",
          "text": [
            "Report Ad-Click.html was generated! NOTEBOOK/COLAB USERS: the web browser MAY not pop up, regardless, the report IS saved in your notebook/colab files.\n"
          ]
        }
      ]
    },
    {
      "cell_type": "markdown",
      "metadata": {
        "id": "suFlUAAYUlFv"
      },
      "source": [
        "Please refer to the HTML file created by the name of **Ad-Click.html**"
      ]
    },
    {
      "cell_type": "code",
      "metadata": {
        "id": "wDQzb2nQa39v",
        "outputId": "ef4ef9bd-b359-4365-ca6a-55c6e5754697",
        "colab": {
          "base_uri": "https://localhost:8080/"
        }
      },
      "source": [
        "print('Columns present in the dataset:\\n')\n",
        "for i in df.columns:\n",
        "  print(i)"
      ],
      "execution_count": null,
      "outputs": [
        {
          "output_type": "stream",
          "name": "stdout",
          "text": [
            "Columns present in the dataset:\n",
            "\n",
            "Daily Time Spent on Site\n",
            "Age\n",
            "Area Income\n",
            "Daily Internet Usage\n",
            "Ad Topic Line\n",
            "City\n",
            "Male\n",
            "Country\n",
            "Timestamp\n",
            "Clicked on Ad\n"
          ]
        }
      ]
    },
    {
      "cell_type": "markdown",
      "metadata": {
        "id": "-qoBGbG4bkRp"
      },
      "source": [
        "**Check the Shape of the Dataset**"
      ]
    },
    {
      "cell_type": "code",
      "metadata": {
        "id": "uwNsipd5a56e",
        "outputId": "d0e1e718-0142-4257-ce21-d31c3b100b2c",
        "colab": {
          "base_uri": "https://localhost:8080/"
        }
      },
      "source": [
        "df.shape"
      ],
      "execution_count": null,
      "outputs": [
        {
          "output_type": "execute_result",
          "data": {
            "text/plain": [
              "(1000, 10)"
            ]
          },
          "metadata": {},
          "execution_count": 5
        }
      ]
    },
    {
      "cell_type": "markdown",
      "metadata": {
        "id": "V7btUwDzbnfL"
      },
      "source": [
        "**Check the Null Values present in the dataset**"
      ]
    },
    {
      "cell_type": "code",
      "metadata": {
        "id": "BupuztS8bErA",
        "outputId": "f681d2da-424f-43ec-cee1-82b44dbca31c",
        "colab": {
          "base_uri": "https://localhost:8080/"
        }
      },
      "source": [
        "df.isnull().sum()"
      ],
      "execution_count": null,
      "outputs": [
        {
          "output_type": "execute_result",
          "data": {
            "text/plain": [
              "Daily Time Spent on Site    0\n",
              "Age                         0\n",
              "Area Income                 0\n",
              "Daily Internet Usage        0\n",
              "Ad Topic Line               0\n",
              "City                        0\n",
              "Male                        0\n",
              "Country                     0\n",
              "Timestamp                   0\n",
              "Clicked on Ad               0\n",
              "dtype: int64"
            ]
          },
          "metadata": {},
          "execution_count": 6
        }
      ]
    },
    {
      "cell_type": "code",
      "metadata": {
        "id": "r58zY579bL9x",
        "outputId": "8823fe26-b8b0-42fe-9d36-dff60785dfda",
        "colab": {
          "base_uri": "https://localhost:8080/",
          "height": 300
        }
      },
      "source": [
        "df.describe()"
      ],
      "execution_count": null,
      "outputs": [
        {
          "output_type": "execute_result",
          "data": {
            "text/html": [
              "\n",
              "  <div id=\"df-839ebb14-12f5-4099-926b-cee0d7cabf97\">\n",
              "    <div class=\"colab-df-container\">\n",
              "      <div>\n",
              "<style scoped>\n",
              "    .dataframe tbody tr th:only-of-type {\n",
              "        vertical-align: middle;\n",
              "    }\n",
              "\n",
              "    .dataframe tbody tr th {\n",
              "        vertical-align: top;\n",
              "    }\n",
              "\n",
              "    .dataframe thead th {\n",
              "        text-align: right;\n",
              "    }\n",
              "</style>\n",
              "<table border=\"1\" class=\"dataframe\">\n",
              "  <thead>\n",
              "    <tr style=\"text-align: right;\">\n",
              "      <th></th>\n",
              "      <th>Daily Time Spent on Site</th>\n",
              "      <th>Age</th>\n",
              "      <th>Area Income</th>\n",
              "      <th>Daily Internet Usage</th>\n",
              "      <th>Male</th>\n",
              "      <th>Clicked on Ad</th>\n",
              "    </tr>\n",
              "  </thead>\n",
              "  <tbody>\n",
              "    <tr>\n",
              "      <th>count</th>\n",
              "      <td>1000.000000</td>\n",
              "      <td>1000.000000</td>\n",
              "      <td>1000.000000</td>\n",
              "      <td>1000.000000</td>\n",
              "      <td>1000.000000</td>\n",
              "      <td>1000.00000</td>\n",
              "    </tr>\n",
              "    <tr>\n",
              "      <th>mean</th>\n",
              "      <td>65.000200</td>\n",
              "      <td>36.009000</td>\n",
              "      <td>55000.000080</td>\n",
              "      <td>180.000100</td>\n",
              "      <td>0.481000</td>\n",
              "      <td>0.50000</td>\n",
              "    </tr>\n",
              "    <tr>\n",
              "      <th>std</th>\n",
              "      <td>15.853615</td>\n",
              "      <td>8.785562</td>\n",
              "      <td>13414.634022</td>\n",
              "      <td>43.902339</td>\n",
              "      <td>0.499889</td>\n",
              "      <td>0.50025</td>\n",
              "    </tr>\n",
              "    <tr>\n",
              "      <th>min</th>\n",
              "      <td>32.600000</td>\n",
              "      <td>19.000000</td>\n",
              "      <td>13996.500000</td>\n",
              "      <td>104.780000</td>\n",
              "      <td>0.000000</td>\n",
              "      <td>0.00000</td>\n",
              "    </tr>\n",
              "    <tr>\n",
              "      <th>25%</th>\n",
              "      <td>51.360000</td>\n",
              "      <td>29.000000</td>\n",
              "      <td>47031.802500</td>\n",
              "      <td>138.830000</td>\n",
              "      <td>0.000000</td>\n",
              "      <td>0.00000</td>\n",
              "    </tr>\n",
              "    <tr>\n",
              "      <th>50%</th>\n",
              "      <td>68.215000</td>\n",
              "      <td>35.000000</td>\n",
              "      <td>57012.300000</td>\n",
              "      <td>183.130000</td>\n",
              "      <td>0.000000</td>\n",
              "      <td>0.50000</td>\n",
              "    </tr>\n",
              "    <tr>\n",
              "      <th>75%</th>\n",
              "      <td>78.547500</td>\n",
              "      <td>42.000000</td>\n",
              "      <td>65470.635000</td>\n",
              "      <td>218.792500</td>\n",
              "      <td>1.000000</td>\n",
              "      <td>1.00000</td>\n",
              "    </tr>\n",
              "    <tr>\n",
              "      <th>max</th>\n",
              "      <td>91.430000</td>\n",
              "      <td>61.000000</td>\n",
              "      <td>79484.800000</td>\n",
              "      <td>269.960000</td>\n",
              "      <td>1.000000</td>\n",
              "      <td>1.00000</td>\n",
              "    </tr>\n",
              "  </tbody>\n",
              "</table>\n",
              "</div>\n",
              "      <button class=\"colab-df-convert\" onclick=\"convertToInteractive('df-839ebb14-12f5-4099-926b-cee0d7cabf97')\"\n",
              "              title=\"Convert this dataframe to an interactive table.\"\n",
              "              style=\"display:none;\">\n",
              "        \n",
              "  <svg xmlns=\"http://www.w3.org/2000/svg\" height=\"24px\"viewBox=\"0 0 24 24\"\n",
              "       width=\"24px\">\n",
              "    <path d=\"M0 0h24v24H0V0z\" fill=\"none\"/>\n",
              "    <path d=\"M18.56 5.44l.94 2.06.94-2.06 2.06-.94-2.06-.94-.94-2.06-.94 2.06-2.06.94zm-11 1L8.5 8.5l.94-2.06 2.06-.94-2.06-.94L8.5 2.5l-.94 2.06-2.06.94zm10 10l.94 2.06.94-2.06 2.06-.94-2.06-.94-.94-2.06-.94 2.06-2.06.94z\"/><path d=\"M17.41 7.96l-1.37-1.37c-.4-.4-.92-.59-1.43-.59-.52 0-1.04.2-1.43.59L10.3 9.45l-7.72 7.72c-.78.78-.78 2.05 0 2.83L4 21.41c.39.39.9.59 1.41.59.51 0 1.02-.2 1.41-.59l7.78-7.78 2.81-2.81c.8-.78.8-2.07 0-2.86zM5.41 20L4 18.59l7.72-7.72 1.47 1.35L5.41 20z\"/>\n",
              "  </svg>\n",
              "      </button>\n",
              "      \n",
              "  <style>\n",
              "    .colab-df-container {\n",
              "      display:flex;\n",
              "      flex-wrap:wrap;\n",
              "      gap: 12px;\n",
              "    }\n",
              "\n",
              "    .colab-df-convert {\n",
              "      background-color: #E8F0FE;\n",
              "      border: none;\n",
              "      border-radius: 50%;\n",
              "      cursor: pointer;\n",
              "      display: none;\n",
              "      fill: #1967D2;\n",
              "      height: 32px;\n",
              "      padding: 0 0 0 0;\n",
              "      width: 32px;\n",
              "    }\n",
              "\n",
              "    .colab-df-convert:hover {\n",
              "      background-color: #E2EBFA;\n",
              "      box-shadow: 0px 1px 2px rgba(60, 64, 67, 0.3), 0px 1px 3px 1px rgba(60, 64, 67, 0.15);\n",
              "      fill: #174EA6;\n",
              "    }\n",
              "\n",
              "    [theme=dark] .colab-df-convert {\n",
              "      background-color: #3B4455;\n",
              "      fill: #D2E3FC;\n",
              "    }\n",
              "\n",
              "    [theme=dark] .colab-df-convert:hover {\n",
              "      background-color: #434B5C;\n",
              "      box-shadow: 0px 1px 3px 1px rgba(0, 0, 0, 0.15);\n",
              "      filter: drop-shadow(0px 1px 2px rgba(0, 0, 0, 0.3));\n",
              "      fill: #FFFFFF;\n",
              "    }\n",
              "  </style>\n",
              "\n",
              "      <script>\n",
              "        const buttonEl =\n",
              "          document.querySelector('#df-839ebb14-12f5-4099-926b-cee0d7cabf97 button.colab-df-convert');\n",
              "        buttonEl.style.display =\n",
              "          google.colab.kernel.accessAllowed ? 'block' : 'none';\n",
              "\n",
              "        async function convertToInteractive(key) {\n",
              "          const element = document.querySelector('#df-839ebb14-12f5-4099-926b-cee0d7cabf97');\n",
              "          const dataTable =\n",
              "            await google.colab.kernel.invokeFunction('convertToInteractive',\n",
              "                                                     [key], {});\n",
              "          if (!dataTable) return;\n",
              "\n",
              "          const docLinkHtml = 'Like what you see? Visit the ' +\n",
              "            '<a target=\"_blank\" href=https://colab.research.google.com/notebooks/data_table.ipynb>data table notebook</a>'\n",
              "            + ' to learn more about interactive tables.';\n",
              "          element.innerHTML = '';\n",
              "          dataTable['output_type'] = 'display_data';\n",
              "          await google.colab.output.renderOutput(dataTable, element);\n",
              "          const docLink = document.createElement('div');\n",
              "          docLink.innerHTML = docLinkHtml;\n",
              "          element.appendChild(docLink);\n",
              "        }\n",
              "      </script>\n",
              "    </div>\n",
              "  </div>\n",
              "  "
            ],
            "text/plain": [
              "       Daily Time Spent on Site          Age  ...         Male  Clicked on Ad\n",
              "count               1000.000000  1000.000000  ...  1000.000000     1000.00000\n",
              "mean                  65.000200    36.009000  ...     0.481000        0.50000\n",
              "std                   15.853615     8.785562  ...     0.499889        0.50025\n",
              "min                   32.600000    19.000000  ...     0.000000        0.00000\n",
              "25%                   51.360000    29.000000  ...     0.000000        0.00000\n",
              "50%                   68.215000    35.000000  ...     0.000000        0.50000\n",
              "75%                   78.547500    42.000000  ...     1.000000        1.00000\n",
              "max                   91.430000    61.000000  ...     1.000000        1.00000\n",
              "\n",
              "[8 rows x 6 columns]"
            ]
          },
          "metadata": {},
          "execution_count": 7
        }
      ]
    },
    {
      "cell_type": "markdown",
      "metadata": {
        "id": "71OEx-9rb2Nb"
      },
      "source": [
        "###**Task 2:**\n",
        "Perform Data Visualization on the dataset Using **Plotly Express**\n"
      ]
    },
    {
      "cell_type": "code",
      "metadata": {
        "id": "DRq30pl_b9Oy",
        "outputId": "ba1147d5-99fc-468f-ec9f-6097adea645b",
        "colab": {
          "base_uri": "https://localhost:8080/",
          "height": 542
        }
      },
      "source": [
        "fig = px.histogram(df, x=\"Age\")\n",
        "\n",
        "fig.show()"
      ],
      "execution_count": null,
      "outputs": [
        {
          "output_type": "display_data",
          "data": {
            "text/html": [
              "<html>\n",
              "<head><meta charset=\"utf-8\" /></head>\n",
              "<body>\n",
              "    <div>\n",
              "            <script src=\"https://cdnjs.cloudflare.com/ajax/libs/mathjax/2.7.5/MathJax.js?config=TeX-AMS-MML_SVG\"></script><script type=\"text/javascript\">if (window.MathJax) {MathJax.Hub.Config({SVG: {font: \"STIX-Web\"}});}</script>\n",
              "                <script type=\"text/javascript\">window.PlotlyConfig = {MathJaxConfig: 'local'};</script>\n",
              "        <script src=\"https://cdn.plot.ly/plotly-latest.min.js\"></script>    \n",
              "            <div id=\"59d34b67-b70b-4368-8057-92e04a870ee7\" class=\"plotly-graph-div\" style=\"height:525px; width:100%;\"></div>\n",
              "            <script type=\"text/javascript\">\n",
              "                \n",
              "                    window.PLOTLYENV=window.PLOTLYENV || {};\n",
              "                    \n",
              "                if (document.getElementById(\"59d34b67-b70b-4368-8057-92e04a870ee7\")) {\n",
              "                    Plotly.newPlot(\n",
              "                        '59d34b67-b70b-4368-8057-92e04a870ee7',\n",
              "                        [{\"alignmentgroup\": \"True\", \"bingroup\": \"x\", \"hoverlabel\": {\"namelength\": 0}, \"hovertemplate\": \"Age=%{x}<br>count=%{y}\", \"legendgroup\": \"\", \"marker\": {\"color\": \"#636efa\"}, \"name\": \"\", \"offsetgroup\": \"\", \"orientation\": \"v\", \"showlegend\": false, \"type\": \"histogram\", \"x\": [35, 31, 26, 29, 35, 23, 33, 48, 30, 20, 49, 37, 48, 24, 33, 23, 37, 41, 36, 40, 30, 35, 52, 36, 41, 28, 28, 52, 34, 22, 35, 28, 57, 23, 57, 30, 53, 39, 46, 39, 29, 30, 32, 31, 25, 52, 20, 43, 37, 46, 23, 28, 45, 50, 47, 31, 36, 49, 29, 41, 27, 34, 29, 32, 45, 29, 40, 32, 25, 34, 31, 46, 39, 43, 42, 22, 35, 33, 38, 45, 27, 28, 38, 54, 31, 41, 36, 34, 34, 37, 43, 24, 26, 40, 31, 26, 36, 41, 46, 34, 53, 23, 40, 21, 20, 40, 25, 42, 30, 32, 60, 53, 22, 46, 32, 31, 55, 42, 50, 45, 31, 26, 27, 36, 43, 31, 44, 45, 27, 37, 50, 36, 36, 29, 47, 39, 36, 38, 23, 38, 31, 30, 44, 44, 41, 44, 49, 41, 46, 57, 25, 35, 48, 33, 27, 38, 36, 28, 27, 36, 35, 33, 31, 24, 50, 32, 55, 31, 42, 34, 52, 47, 31, 26, 48, 35, 44, 22, 31, 34, 38, 27, 60, 41, 29, 54, 57, 31, 30, 36, 30, 35, 49, 53, 33, 32, 45, 36, 31, 27, 40, 29, 40, 31, 29, 29, 28, 30, 58, 38, 28, 38, 27, 43, 40, 23, 53, 34, 40, 38, 37, 27, 39, 41, 42, 30, 29, 38, 31, 23, 33, 32, 38, 28, 50, 45, 36, 30, 33, 32, 44, 47, 32, 30, 24, 53, 45, 41, 56, 25, 36, 45, 33, 30, 48, 28, 32, 38, 39, 31, 28, 35, 35, 44, 38, 43, 26, 34, 26, 26, 53, 37, 33, 37, 28, 29, 35, 32, 26, 28, 52, 24, 35, 35, 51, 22, 26, 37, 42, 24, 31, 32, 39, 33, 36, 36, 35, 31, 31, 25, 28, 50, 39, 38, 43, 24, 33, 35, 32, 54, 34, 49, 22, 33, 41, 39, 21, 25, 31, 44, 34, 37, 30, 35, 41, 36, 48, 32, 25, 31, 26, 31, 49, 34, 40, 41, 35, 28, 40, 22, 47, 48, 38, 28, 26, 21, 25, 52, 37, 19, 28, 23, 30, 44, 52, 36, 47, 39, 59, 34, 33, 41, 28, 36, 42, 54, 29, 40, 36, 25, 50, 45, 26, 47, 25, 24, 37, 42, 31, 39, 30, 41, 29, 26, 27, 37, 33, 42, 40, 38, 36, 44, 28, 26, 47, 20, 51, 28, 40, 27, 47, 34, 43, 29, 52, 41, 50, 27, 49, 45, 33, 29, 20, 40, 39, 43, 32, 29, 24, 43, 41, 45, 35, 31, 36, 42, 37, 33, 29, 31, 32, 35, 43, 36, 39, 42, 27, 27, 36, 23, 32, 35, 39, 38, 40, 32, 34, 44, 50, 22, 28, 24, 34, 25, 52, 33, 35, 25, 42, 26, 40, 45, 27, 52, 45, 33, 35, 23, 47, 25, 36, 37, 24, 29, 31, 33, 24, 50, 41, 28, 22, 40, 25, 30, 37, 35, 40, 30, 48, 31, 40, 33, 30, 28, 30, 35, 29, 39, 27, 37, 46, 37, 26, 37, 49, 42, 31, 41, 58, 33, 30, 26, 33, 44, 41, 37, 32, 34, 55, 40, 42, 29, 32, 43, 32, 41, 39, 21, 52, 34, 49, 42, 51, 39, 30, 32, 23, 26, 35, 34, 36, 39, 33, 38, 29, 55, 28, 39, 33, 35, 36, 31, 58, 35, 33, 37, 49, 28, 26, 31, 44, 41, 44, 37, 36, 26, 42, 30, 42, 37, 40, 33, 35, 23, 45, 54, 39, 36, 23, 38, 46, 36, 27, 33, 25, 46, 38, 45, 32, 28, 25, 42, 25, 24, 38, 36, 27, 37, 36, 48, 48, 50, 40, 24, 35, 51, 26, 30, 40, 30, 37, 31, 31, 31, 31, 53, 41, 38, 39, 24, 24, 31, 60, 35, 27, 23, 27, 49, 39, 26, 29, 36, 31, 37, 55, 51, 49, 40, 41, 23, 45, 28, 36, 22, 46, 28, 41, 28, 27, 29, 38, 33, 32, 46, 26, 43, 31, 46, 39, 26, 49, 26, 50, 55, 33, 32, 29, 31, 31, 33, 26, 61, 33, 55, 28, 38, 29, 38, 34, 46, 26, 28, 36, 28, 34, 27, 37, 28, 36, 28, 33, 37, 47, 29, 33, 38, 54, 25, 28, 29, 19, 54, 30, 28, 40, 26, 23, 41, 48, 57, 43, 31, 35, 53, 21, 38, 35, 29, 51, 45, 34, 36, 43, 40, 25, 27, 24, 30, 34, 28, 19, 35, 41, 41, 26, 29, 28, 52, 43, 30, 38, 28, 29, 37, 29, 50, 29, 32, 58, 42, 59, 31, 28, 31, 36, 34, 37, 35, 29, 32, 40, 31, 54, 25, 51, 33, 29, 42, 41, 27, 30, 19, 40, 60, 45, 54, 26, 30, 44, 35, 41, 36, 29, 29, 39, 40, 22, 33, 29, 33, 31, 47, 26, 32, 49, 29, 27, 34, 46, 24, 29, 34, 50, 49, 41, 28, 43, 44, 35, 43, 29, 30, 32, 28, 34, 39, 48, 23, 34, 39, 38, 31, 30, 32, 28, 36, 31, 45, 35, 49, 30, 34, 42, 33, 27, 34, 46, 49, 40, 46, 40, 45, 23, 38, 37, 42, 37, 36, 32, 52, 33, 35, 45, 26, 34, 24, 30, 25, 51, 43, 45, 29, 25, 39, 50, 33, 32, 40, 25, 36, 27, 27, 33, 32, 34, 29, 44, 34, 43, 22, 33, 31, 29, 42, 39, 45, 53, 44, 31, 36, 31, 20, 40, 25, 36, 26, 32, 41, 37, 45, 51, 38, 43, 30, 26, 27, 50, 31, 50, 24, 52, 47, 42, 37, 39, 34, 42, 31, 32, 25, 34, 37, 49, 56, 51, 45, 22, 38, 29, 45, 36, 34, 38, 34, 33, 36, 45, 48, 38, 19, 46, 51, 39, 32, 30, 36, 34, 31, 30, 50, 43, 27, 36, 29, 31, 44, 36, 28, 29, 37, 28, 26, 21, 42, 24, 50, 52, 25, 38, 27, 29, 48, 50, 28, 40, 48, 45, 31, 30, 31, 57, 46, 38, 32, 31, 44, 28, 43, 48, 31, 44, 38, 40, 27, 28, 30, 45, 51, 19, 26], \"xaxis\": \"x\", \"yaxis\": \"y\"}],\n",
              "                        {\"barmode\": \"relative\", \"legend\": {\"tracegroupgap\": 0}, \"margin\": {\"t\": 60}, \"template\": {\"data\": {\"bar\": [{\"error_x\": {\"color\": \"#2a3f5f\"}, \"error_y\": {\"color\": \"#2a3f5f\"}, \"marker\": {\"line\": {\"color\": \"#E5ECF6\", \"width\": 0.5}}, \"type\": \"bar\"}], \"barpolar\": [{\"marker\": {\"line\": {\"color\": \"#E5ECF6\", \"width\": 0.5}}, \"type\": \"barpolar\"}], \"carpet\": [{\"aaxis\": {\"endlinecolor\": \"#2a3f5f\", \"gridcolor\": \"white\", \"linecolor\": \"white\", \"minorgridcolor\": \"white\", \"startlinecolor\": \"#2a3f5f\"}, \"baxis\": {\"endlinecolor\": \"#2a3f5f\", \"gridcolor\": \"white\", \"linecolor\": \"white\", \"minorgridcolor\": \"white\", \"startlinecolor\": \"#2a3f5f\"}, \"type\": \"carpet\"}], \"choropleth\": [{\"colorbar\": {\"outlinewidth\": 0, \"ticks\": \"\"}, \"type\": \"choropleth\"}], \"contour\": [{\"colorbar\": {\"outlinewidth\": 0, \"ticks\": \"\"}, \"colorscale\": [[0.0, \"#0d0887\"], [0.1111111111111111, \"#46039f\"], [0.2222222222222222, \"#7201a8\"], [0.3333333333333333, \"#9c179e\"], [0.4444444444444444, \"#bd3786\"], [0.5555555555555556, \"#d8576b\"], [0.6666666666666666, \"#ed7953\"], [0.7777777777777778, \"#fb9f3a\"], [0.8888888888888888, \"#fdca26\"], [1.0, \"#f0f921\"]], \"type\": \"contour\"}], \"contourcarpet\": [{\"colorbar\": {\"outlinewidth\": 0, \"ticks\": \"\"}, \"type\": \"contourcarpet\"}], \"heatmap\": [{\"colorbar\": {\"outlinewidth\": 0, \"ticks\": \"\"}, \"colorscale\": [[0.0, \"#0d0887\"], [0.1111111111111111, \"#46039f\"], [0.2222222222222222, \"#7201a8\"], [0.3333333333333333, \"#9c179e\"], [0.4444444444444444, \"#bd3786\"], [0.5555555555555556, \"#d8576b\"], [0.6666666666666666, \"#ed7953\"], [0.7777777777777778, \"#fb9f3a\"], [0.8888888888888888, \"#fdca26\"], [1.0, \"#f0f921\"]], \"type\": \"heatmap\"}], \"heatmapgl\": [{\"colorbar\": {\"outlinewidth\": 0, \"ticks\": \"\"}, \"colorscale\": [[0.0, \"#0d0887\"], [0.1111111111111111, \"#46039f\"], [0.2222222222222222, \"#7201a8\"], [0.3333333333333333, \"#9c179e\"], [0.4444444444444444, \"#bd3786\"], [0.5555555555555556, \"#d8576b\"], [0.6666666666666666, \"#ed7953\"], [0.7777777777777778, \"#fb9f3a\"], [0.8888888888888888, \"#fdca26\"], [1.0, \"#f0f921\"]], \"type\": \"heatmapgl\"}], \"histogram\": [{\"marker\": {\"colorbar\": {\"outlinewidth\": 0, \"ticks\": \"\"}}, \"type\": \"histogram\"}], \"histogram2d\": [{\"colorbar\": {\"outlinewidth\": 0, \"ticks\": \"\"}, \"colorscale\": [[0.0, \"#0d0887\"], [0.1111111111111111, \"#46039f\"], [0.2222222222222222, \"#7201a8\"], [0.3333333333333333, \"#9c179e\"], [0.4444444444444444, \"#bd3786\"], [0.5555555555555556, \"#d8576b\"], [0.6666666666666666, \"#ed7953\"], [0.7777777777777778, \"#fb9f3a\"], [0.8888888888888888, \"#fdca26\"], [1.0, \"#f0f921\"]], \"type\": \"histogram2d\"}], \"histogram2dcontour\": [{\"colorbar\": {\"outlinewidth\": 0, \"ticks\": \"\"}, \"colorscale\": [[0.0, \"#0d0887\"], [0.1111111111111111, \"#46039f\"], [0.2222222222222222, \"#7201a8\"], [0.3333333333333333, \"#9c179e\"], [0.4444444444444444, \"#bd3786\"], [0.5555555555555556, \"#d8576b\"], [0.6666666666666666, \"#ed7953\"], [0.7777777777777778, \"#fb9f3a\"], [0.8888888888888888, \"#fdca26\"], [1.0, \"#f0f921\"]], \"type\": \"histogram2dcontour\"}], \"mesh3d\": [{\"colorbar\": {\"outlinewidth\": 0, \"ticks\": \"\"}, \"type\": \"mesh3d\"}], \"parcoords\": [{\"line\": {\"colorbar\": {\"outlinewidth\": 0, \"ticks\": \"\"}}, \"type\": \"parcoords\"}], \"pie\": [{\"automargin\": true, \"type\": \"pie\"}], \"scatter\": [{\"marker\": {\"colorbar\": {\"outlinewidth\": 0, \"ticks\": \"\"}}, \"type\": \"scatter\"}], \"scatter3d\": [{\"line\": {\"colorbar\": {\"outlinewidth\": 0, \"ticks\": \"\"}}, \"marker\": {\"colorbar\": {\"outlinewidth\": 0, \"ticks\": \"\"}}, \"type\": \"scatter3d\"}], \"scattercarpet\": [{\"marker\": {\"colorbar\": {\"outlinewidth\": 0, \"ticks\": \"\"}}, \"type\": \"scattercarpet\"}], \"scattergeo\": [{\"marker\": {\"colorbar\": {\"outlinewidth\": 0, \"ticks\": \"\"}}, \"type\": \"scattergeo\"}], \"scattergl\": [{\"marker\": {\"colorbar\": {\"outlinewidth\": 0, \"ticks\": \"\"}}, \"type\": \"scattergl\"}], \"scattermapbox\": [{\"marker\": {\"colorbar\": {\"outlinewidth\": 0, \"ticks\": \"\"}}, \"type\": \"scattermapbox\"}], \"scatterpolar\": [{\"marker\": {\"colorbar\": {\"outlinewidth\": 0, \"ticks\": \"\"}}, \"type\": \"scatterpolar\"}], \"scatterpolargl\": [{\"marker\": {\"colorbar\": {\"outlinewidth\": 0, \"ticks\": \"\"}}, \"type\": \"scatterpolargl\"}], \"scatterternary\": [{\"marker\": {\"colorbar\": {\"outlinewidth\": 0, \"ticks\": \"\"}}, \"type\": \"scatterternary\"}], \"surface\": [{\"colorbar\": {\"outlinewidth\": 0, \"ticks\": \"\"}, \"colorscale\": [[0.0, \"#0d0887\"], [0.1111111111111111, \"#46039f\"], [0.2222222222222222, \"#7201a8\"], [0.3333333333333333, \"#9c179e\"], [0.4444444444444444, \"#bd3786\"], [0.5555555555555556, \"#d8576b\"], [0.6666666666666666, \"#ed7953\"], [0.7777777777777778, \"#fb9f3a\"], [0.8888888888888888, \"#fdca26\"], [1.0, \"#f0f921\"]], \"type\": \"surface\"}], \"table\": [{\"cells\": {\"fill\": {\"color\": \"#EBF0F8\"}, \"line\": {\"color\": \"white\"}}, \"header\": {\"fill\": {\"color\": \"#C8D4E3\"}, \"line\": {\"color\": \"white\"}}, \"type\": \"table\"}]}, \"layout\": {\"annotationdefaults\": {\"arrowcolor\": \"#2a3f5f\", \"arrowhead\": 0, \"arrowwidth\": 1}, \"coloraxis\": {\"colorbar\": {\"outlinewidth\": 0, \"ticks\": \"\"}}, \"colorscale\": {\"diverging\": [[0, \"#8e0152\"], [0.1, \"#c51b7d\"], [0.2, \"#de77ae\"], [0.3, \"#f1b6da\"], [0.4, \"#fde0ef\"], [0.5, \"#f7f7f7\"], [0.6, \"#e6f5d0\"], [0.7, \"#b8e186\"], [0.8, \"#7fbc41\"], [0.9, \"#4d9221\"], [1, \"#276419\"]], \"sequential\": [[0.0, \"#0d0887\"], [0.1111111111111111, \"#46039f\"], [0.2222222222222222, \"#7201a8\"], [0.3333333333333333, \"#9c179e\"], [0.4444444444444444, \"#bd3786\"], [0.5555555555555556, \"#d8576b\"], [0.6666666666666666, \"#ed7953\"], [0.7777777777777778, \"#fb9f3a\"], [0.8888888888888888, \"#fdca26\"], [1.0, \"#f0f921\"]], \"sequentialminus\": [[0.0, \"#0d0887\"], [0.1111111111111111, \"#46039f\"], [0.2222222222222222, \"#7201a8\"], [0.3333333333333333, \"#9c179e\"], [0.4444444444444444, \"#bd3786\"], [0.5555555555555556, \"#d8576b\"], [0.6666666666666666, \"#ed7953\"], [0.7777777777777778, \"#fb9f3a\"], [0.8888888888888888, \"#fdca26\"], [1.0, \"#f0f921\"]]}, \"colorway\": [\"#636efa\", \"#EF553B\", \"#00cc96\", \"#ab63fa\", \"#FFA15A\", \"#19d3f3\", \"#FF6692\", \"#B6E880\", \"#FF97FF\", \"#FECB52\"], \"font\": {\"color\": \"#2a3f5f\"}, \"geo\": {\"bgcolor\": \"white\", \"lakecolor\": \"white\", \"landcolor\": \"#E5ECF6\", \"showlakes\": true, \"showland\": true, \"subunitcolor\": \"white\"}, \"hoverlabel\": {\"align\": \"left\"}, \"hovermode\": \"closest\", \"mapbox\": {\"style\": \"light\"}, \"paper_bgcolor\": \"white\", \"plot_bgcolor\": \"#E5ECF6\", \"polar\": {\"angularaxis\": {\"gridcolor\": \"white\", \"linecolor\": \"white\", \"ticks\": \"\"}, \"bgcolor\": \"#E5ECF6\", \"radialaxis\": {\"gridcolor\": \"white\", \"linecolor\": \"white\", \"ticks\": \"\"}}, \"scene\": {\"xaxis\": {\"backgroundcolor\": \"#E5ECF6\", \"gridcolor\": \"white\", \"gridwidth\": 2, \"linecolor\": \"white\", \"showbackground\": true, \"ticks\": \"\", \"zerolinecolor\": \"white\"}, \"yaxis\": {\"backgroundcolor\": \"#E5ECF6\", \"gridcolor\": \"white\", \"gridwidth\": 2, \"linecolor\": \"white\", \"showbackground\": true, \"ticks\": \"\", \"zerolinecolor\": \"white\"}, \"zaxis\": {\"backgroundcolor\": \"#E5ECF6\", \"gridcolor\": \"white\", \"gridwidth\": 2, \"linecolor\": \"white\", \"showbackground\": true, \"ticks\": \"\", \"zerolinecolor\": \"white\"}}, \"shapedefaults\": {\"line\": {\"color\": \"#2a3f5f\"}}, \"ternary\": {\"aaxis\": {\"gridcolor\": \"white\", \"linecolor\": \"white\", \"ticks\": \"\"}, \"baxis\": {\"gridcolor\": \"white\", \"linecolor\": \"white\", \"ticks\": \"\"}, \"bgcolor\": \"#E5ECF6\", \"caxis\": {\"gridcolor\": \"white\", \"linecolor\": \"white\", \"ticks\": \"\"}}, \"title\": {\"x\": 0.05}, \"xaxis\": {\"automargin\": true, \"gridcolor\": \"white\", \"linecolor\": \"white\", \"ticks\": \"\", \"title\": {\"standoff\": 15}, \"zerolinecolor\": \"white\", \"zerolinewidth\": 2}, \"yaxis\": {\"automargin\": true, \"gridcolor\": \"white\", \"linecolor\": \"white\", \"ticks\": \"\", \"title\": {\"standoff\": 15}, \"zerolinecolor\": \"white\", \"zerolinewidth\": 2}}}, \"xaxis\": {\"anchor\": \"y\", \"domain\": [0.0, 1.0], \"title\": {\"text\": \"Age\"}}, \"yaxis\": {\"anchor\": \"x\", \"domain\": [0.0, 1.0], \"title\": {\"text\": \"count\"}}},\n",
              "                        {\"responsive\": true}\n",
              "                    ).then(function(){\n",
              "                            \n",
              "var gd = document.getElementById('59d34b67-b70b-4368-8057-92e04a870ee7');\n",
              "var x = new MutationObserver(function (mutations, observer) {{\n",
              "        var display = window.getComputedStyle(gd).display;\n",
              "        if (!display || display === 'none') {{\n",
              "            console.log([gd, 'removed!']);\n",
              "            Plotly.purge(gd);\n",
              "            observer.disconnect();\n",
              "        }}\n",
              "}});\n",
              "\n",
              "// Listen for the removal of the full notebook cells\n",
              "var notebookContainer = gd.closest('#notebook-container');\n",
              "if (notebookContainer) {{\n",
              "    x.observe(notebookContainer, {childList: true});\n",
              "}}\n",
              "\n",
              "// Listen for the clearing of the current output cell\n",
              "var outputEl = gd.closest('.output');\n",
              "if (outputEl) {{\n",
              "    x.observe(outputEl, {childList: true});\n",
              "}}\n",
              "\n",
              "                        })\n",
              "                };\n",
              "                \n",
              "            </script>\n",
              "        </div>\n",
              "</body>\n",
              "</html>"
            ]
          },
          "metadata": {}
        }
      ]
    },
    {
      "cell_type": "markdown",
      "metadata": {
        "id": "3r6OErFpd6Y7"
      },
      "source": [
        "___\n",
        "**Observations:**\n",
        "- Most of the users present in the dataset fall between the age group of 20 and 40\n",
        "___"
      ]
    },
    {
      "cell_type": "code",
      "metadata": {
        "id": "xbsz3Be7c57u",
        "outputId": "9460ce52-7300-405a-aec2-af58648fbc91",
        "colab": {
          "base_uri": "https://localhost:8080/",
          "height": 542
        }
      },
      "source": [
        "fig = px.bar(df, x='Age', y='Daily Internet Usage')\n",
        "fig.show()"
      ],
      "execution_count": null,
      "outputs": [
        {
          "output_type": "display_data",
          "data": {
            "text/html": [
              "<html>\n",
              "<head><meta charset=\"utf-8\" /></head>\n",
              "<body>\n",
              "    <div>\n",
              "            <script src=\"https://cdnjs.cloudflare.com/ajax/libs/mathjax/2.7.5/MathJax.js?config=TeX-AMS-MML_SVG\"></script><script type=\"text/javascript\">if (window.MathJax) {MathJax.Hub.Config({SVG: {font: \"STIX-Web\"}});}</script>\n",
              "                <script type=\"text/javascript\">window.PlotlyConfig = {MathJaxConfig: 'local'};</script>\n",
              "        <script src=\"https://cdn.plot.ly/plotly-latest.min.js\"></script>    \n",
              "            <div id=\"8a6e8d17-e73b-44a2-9d85-8289aa749417\" class=\"plotly-graph-div\" style=\"height:525px; width:100%;\"></div>\n",
              "            <script type=\"text/javascript\">\n",
              "                \n",
              "                    window.PLOTLYENV=window.PLOTLYENV || {};\n",
              "                    \n",
              "                if (document.getElementById(\"8a6e8d17-e73b-44a2-9d85-8289aa749417\")) {\n",
              "                    Plotly.newPlot(\n",
              "                        '8a6e8d17-e73b-44a2-9d85-8289aa749417',\n",
              "                        [{\"alignmentgroup\": \"True\", \"hoverlabel\": {\"namelength\": 0}, \"hovertemplate\": \"Age=%{x}<br>Daily Internet Usage=%{y}\", \"legendgroup\": \"\", \"marker\": {\"color\": \"#636efa\"}, \"name\": \"\", \"offsetgroup\": \"\", \"orientation\": \"v\", \"showlegend\": false, \"textposition\": \"auto\", \"type\": \"bar\", \"x\": [35, 31, 26, 29, 35, 23, 33, 48, 30, 20, 49, 37, 48, 24, 33, 23, 37, 41, 36, 40, 30, 35, 52, 36, 41, 28, 28, 52, 34, 22, 35, 28, 57, 23, 57, 30, 53, 39, 46, 39, 29, 30, 32, 31, 25, 52, 20, 43, 37, 46, 23, 28, 45, 50, 47, 31, 36, 49, 29, 41, 27, 34, 29, 32, 45, 29, 40, 32, 25, 34, 31, 46, 39, 43, 42, 22, 35, 33, 38, 45, 27, 28, 38, 54, 31, 41, 36, 34, 34, 37, 43, 24, 26, 40, 31, 26, 36, 41, 46, 34, 53, 23, 40, 21, 20, 40, 25, 42, 30, 32, 60, 53, 22, 46, 32, 31, 55, 42, 50, 45, 31, 26, 27, 36, 43, 31, 44, 45, 27, 37, 50, 36, 36, 29, 47, 39, 36, 38, 23, 38, 31, 30, 44, 44, 41, 44, 49, 41, 46, 57, 25, 35, 48, 33, 27, 38, 36, 28, 27, 36, 35, 33, 31, 24, 50, 32, 55, 31, 42, 34, 52, 47, 31, 26, 48, 35, 44, 22, 31, 34, 38, 27, 60, 41, 29, 54, 57, 31, 30, 36, 30, 35, 49, 53, 33, 32, 45, 36, 31, 27, 40, 29, 40, 31, 29, 29, 28, 30, 58, 38, 28, 38, 27, 43, 40, 23, 53, 34, 40, 38, 37, 27, 39, 41, 42, 30, 29, 38, 31, 23, 33, 32, 38, 28, 50, 45, 36, 30, 33, 32, 44, 47, 32, 30, 24, 53, 45, 41, 56, 25, 36, 45, 33, 30, 48, 28, 32, 38, 39, 31, 28, 35, 35, 44, 38, 43, 26, 34, 26, 26, 53, 37, 33, 37, 28, 29, 35, 32, 26, 28, 52, 24, 35, 35, 51, 22, 26, 37, 42, 24, 31, 32, 39, 33, 36, 36, 35, 31, 31, 25, 28, 50, 39, 38, 43, 24, 33, 35, 32, 54, 34, 49, 22, 33, 41, 39, 21, 25, 31, 44, 34, 37, 30, 35, 41, 36, 48, 32, 25, 31, 26, 31, 49, 34, 40, 41, 35, 28, 40, 22, 47, 48, 38, 28, 26, 21, 25, 52, 37, 19, 28, 23, 30, 44, 52, 36, 47, 39, 59, 34, 33, 41, 28, 36, 42, 54, 29, 40, 36, 25, 50, 45, 26, 47, 25, 24, 37, 42, 31, 39, 30, 41, 29, 26, 27, 37, 33, 42, 40, 38, 36, 44, 28, 26, 47, 20, 51, 28, 40, 27, 47, 34, 43, 29, 52, 41, 50, 27, 49, 45, 33, 29, 20, 40, 39, 43, 32, 29, 24, 43, 41, 45, 35, 31, 36, 42, 37, 33, 29, 31, 32, 35, 43, 36, 39, 42, 27, 27, 36, 23, 32, 35, 39, 38, 40, 32, 34, 44, 50, 22, 28, 24, 34, 25, 52, 33, 35, 25, 42, 26, 40, 45, 27, 52, 45, 33, 35, 23, 47, 25, 36, 37, 24, 29, 31, 33, 24, 50, 41, 28, 22, 40, 25, 30, 37, 35, 40, 30, 48, 31, 40, 33, 30, 28, 30, 35, 29, 39, 27, 37, 46, 37, 26, 37, 49, 42, 31, 41, 58, 33, 30, 26, 33, 44, 41, 37, 32, 34, 55, 40, 42, 29, 32, 43, 32, 41, 39, 21, 52, 34, 49, 42, 51, 39, 30, 32, 23, 26, 35, 34, 36, 39, 33, 38, 29, 55, 28, 39, 33, 35, 36, 31, 58, 35, 33, 37, 49, 28, 26, 31, 44, 41, 44, 37, 36, 26, 42, 30, 42, 37, 40, 33, 35, 23, 45, 54, 39, 36, 23, 38, 46, 36, 27, 33, 25, 46, 38, 45, 32, 28, 25, 42, 25, 24, 38, 36, 27, 37, 36, 48, 48, 50, 40, 24, 35, 51, 26, 30, 40, 30, 37, 31, 31, 31, 31, 53, 41, 38, 39, 24, 24, 31, 60, 35, 27, 23, 27, 49, 39, 26, 29, 36, 31, 37, 55, 51, 49, 40, 41, 23, 45, 28, 36, 22, 46, 28, 41, 28, 27, 29, 38, 33, 32, 46, 26, 43, 31, 46, 39, 26, 49, 26, 50, 55, 33, 32, 29, 31, 31, 33, 26, 61, 33, 55, 28, 38, 29, 38, 34, 46, 26, 28, 36, 28, 34, 27, 37, 28, 36, 28, 33, 37, 47, 29, 33, 38, 54, 25, 28, 29, 19, 54, 30, 28, 40, 26, 23, 41, 48, 57, 43, 31, 35, 53, 21, 38, 35, 29, 51, 45, 34, 36, 43, 40, 25, 27, 24, 30, 34, 28, 19, 35, 41, 41, 26, 29, 28, 52, 43, 30, 38, 28, 29, 37, 29, 50, 29, 32, 58, 42, 59, 31, 28, 31, 36, 34, 37, 35, 29, 32, 40, 31, 54, 25, 51, 33, 29, 42, 41, 27, 30, 19, 40, 60, 45, 54, 26, 30, 44, 35, 41, 36, 29, 29, 39, 40, 22, 33, 29, 33, 31, 47, 26, 32, 49, 29, 27, 34, 46, 24, 29, 34, 50, 49, 41, 28, 43, 44, 35, 43, 29, 30, 32, 28, 34, 39, 48, 23, 34, 39, 38, 31, 30, 32, 28, 36, 31, 45, 35, 49, 30, 34, 42, 33, 27, 34, 46, 49, 40, 46, 40, 45, 23, 38, 37, 42, 37, 36, 32, 52, 33, 35, 45, 26, 34, 24, 30, 25, 51, 43, 45, 29, 25, 39, 50, 33, 32, 40, 25, 36, 27, 27, 33, 32, 34, 29, 44, 34, 43, 22, 33, 31, 29, 42, 39, 45, 53, 44, 31, 36, 31, 20, 40, 25, 36, 26, 32, 41, 37, 45, 51, 38, 43, 30, 26, 27, 50, 31, 50, 24, 52, 47, 42, 37, 39, 34, 42, 31, 32, 25, 34, 37, 49, 56, 51, 45, 22, 38, 29, 45, 36, 34, 38, 34, 33, 36, 45, 48, 38, 19, 46, 51, 39, 32, 30, 36, 34, 31, 30, 50, 43, 27, 36, 29, 31, 44, 36, 28, 29, 37, 28, 26, 21, 42, 24, 50, 52, 25, 38, 27, 29, 48, 50, 28, 40, 48, 45, 31, 30, 31, 57, 46, 38, 32, 31, 44, 28, 43, 48, 31, 44, 38, 40, 27, 28, 30, 45, 51, 19, 26], \"xaxis\": \"x\", \"y\": [256.09, 193.77, 236.5, 245.89, 225.58, 226.74, 208.36, 131.76, 221.51, 183.82, 122.02, 230.87, 113.12, 214.23, 143.56, 140.64, 129.41, 187.53, 118.39, 135.51, 224.44, 226.54, 164.83, 209.93, 167.22, 204.79, 134.14, 129.23, 119.2, 209.82, 267.01, 207.48, 169.23, 212.58, 133.81, 201.58, 125.45, 221.94, 119.32, 162.08, 202.61, 252.36, 198.11, 212.3, 204.86, 172.83, 202.25, 198.72, 123.72, 119.93, 196.71, 225.29, 193.58, 133.2, 119.3, 177.55, 150.61, 129.31, 239.22, 156.36, 183.43, 192.93, 169.5, 178.92, 141.22, 198.5, 105.22, 200.22, 215.25, 131.72, 139.01, 222.63, 153.17, 167.07, 145.98, 215.93, 120.06, 238.99, 113.53, 111.71, 209.25, 222.75, 115.91, 138.71, 184.1, 105.15, 200.55, 118.6, 109.07, 109.29, 138.35, 149.67, 227.72, 125.85, 166.29, 238.63, 154.02, 156.3, 158.22, 211.65, 169.18, 235.28, 194.23, 218.17, 202.16, 229.12, 241.03, 150.99, 135.18, 210.54, 176.98, 235.78, 211.87, 123.64, 221.21, 244.34, 162.95, 112.19, 207.18, 152.49, 210.26, 231.94, 212.79, 225.24, 127.11, 230.93, 127.07, 206.98, 223.03, 233.56, 175.37, 132.55, 176.73, 215.44, 127.83, 160.03, 140.46, 137.28, 172.81, 146.19, 190.25, 163.0, 124.38, 234.26, 210.6, 141.89, 128.95, 108.16, 152.24, 150.29, 176.28, 172.1, 158.22, 247.31, 183.48, 222.11, 127.01, 202.18, 207.96, 159.24, 195.31, 222.77, 251.0, 162.44, 140.39, 194.83, 143.42, 219.72, 104.78, 198.56, 138.55, 199.79, 196.23, 163.05, 137.43, 227.56, 105.69, 199.43, 133.17, 208.23, 145.96, 168.34, 157.04, 255.61, 210.46, 136.64, 153.98, 233.65, 153.76, 145.85, 123.91, 106.86, 110.57, 143.79, 254.05, 116.53, 137.24, 239.32, 201.26, 191.14, 214.42, 252.77, 172.58, 183.85, 218.79, 120.9, 212.67, 187.36, 140.83, 134.88, 217.85, 163.38, 235.35, 155.8, 229.22, 151.95, 125.94, 111.94, 200.23, 170.49, 254.57, 200.59, 136.59, 154.97, 171.07, 133.99, 119.84, 154.75, 199.08, 201.04, 228.03, 136.4, 143.94, 239.52, 199.25, 133.9, 123.51, 158.05, 128.17, 234.75, 150.84, 115.26, 192.85, 204.52, 178.75, 223.09, 146.13, 269.96, 168.27, 161.16, 222.25, 119.03, 204.02, 164.63, 123.13, 201.15, 231.42, 138.68, 226.11, 121.05, 212.56, 109.77, 144.62, 125.22, 244.55, 120.95, 136.94, 230.14, 171.31, 203.23, 168.0, 221.79, 254.34, 179.58, 242.37, 156.54, 216.87, 177.78, 156.48, 196.76, 144.27, 148.61, 133.18, 237.39, 130.41, 212.87, 127.26, 213.36, 141.36, 167.22, 171.62, 210.23, 159.46, 228.76, 163.99, 218.97, 238.58, 226.45, 214.74, 231.49, 250.0, 176.52, 152.36, 130.83, 165.56, 178.85, 214.53, 231.07, 186.48, 161.16, 221.53, 243.37, 169.4, 250.35, 232.54, 110.68, 186.98, 236.19, 186.37, 105.0, 135.31, 180.77, 170.13, 243.61, 240.95, 195.91, 208.21, 231.59, 220.92, 219.79, 200.58, 214.08, 135.24, 245.78, 188.27, 142.67, 184.03, 233.6, 220.05, 211.39, 168.92, 115.35, 230.91, 205.5, 131.68, 218.61, 199.39, 188.56, 178.51, 184.94, 237.34, 211.38, 228.81, 217.68, 126.97, 221.98, 167.86, 111.59, 158.56, 207.87, 150.8, 110.93, 193.8, 135.72, 231.48, 140.15, 195.36, 261.02, 217.79, 205.38, 113.7, 151.47, 206.79, 144.71, 203.74, 197.33, 222.26, 123.8, 125.45, 248.19, 224.58, 123.25, 168.15, 235.99, 153.69, 224.23, 190.75, 132.66, 227.73, 136.85, 234.64, 216.0, 200.28, 202.77, 124.44, 204.22, 174.55, 219.69, 198.32, 201.24, 165.52, 230.36, 148.93, 202.12, 117.35, 248.16, 139.02, 142.04, 258.62, 152.86, 180.42, 208.05, 205.64, 108.15, 209.64, 129.25, 120.85, 217.1, 184.88, 192.6, 160.74, 220.48, 120.06, 129.33, 132.31, 120.75, 154.74, 230.9, 123.28, 231.85, 211.87, 218.8, 255.07, 212.92, 221.18, 139.42, 248.12, 214.42, 110.25, 167.67, 147.92, 236.87, 147.64, 109.0, 171.72, 256.4, 214.38, 218.22, 119.65, 169.88, 160.73, 145.08, 239.76, 183.42, 201.15, 238.45, 127.37, 219.94, 129.8, 223.28, 134.6, 177.46, 175.17, 196.61, 191.17, 151.12, 159.6, 149.2, 121.81, 224.92, 167.42, 216.57, 207.27, 231.54, 141.34, 219.49, 219.98, 132.71, 143.13, 196.83, 207.17, 187.76, 213.38, 129.88, 119.3, 119.47, 158.42, 213.75, 159.77, 244.87, 117.3, 124.54, 193.63, 120.25, 117.75, 223.16, 216.49, 126.95, 173.49, 132.63, 124.85, 253.17, 228.7, 105.94, 113.8, 215.18, 236.64, 121.07, 173.43, 234.72, 166.86, 231.37, 215.18, 106.04, 250.03, 130.4, 233.93, 132.08, 126.39, 151.25, 136.18, 120.46, 202.9, 128.16, 230.18, 165.27, 138.87, 198.45, 156.99, 162.03, 118.1, 108.17, 244.91, 209.91, 212.38, 208.02, 181.11, 218.49, 236.29, 230.95, 222.91, 247.9, 194.37, 108.7, 211.64, 168.29, 211.83, 235.01, 236.72, 229.99, 224.9, 208.76, 154.23, 127.56, 145.48, 223.93, 114.85, 226.79, 164.25, 235.28, 109.22, 144.69, 251.08, 166.19, 117.66, 185.45, 114.53, 238.06, 190.71, 246.72, 125.65, 240.63, 249.54, 158.35, 118.16, 134.46, 142.81, 233.04, 208.24, 231.21, 112.72, 120.12, 161.58, 135.08, 164.25, 254.59, 252.07, 129.01, 238.1, 161.24, 141.13, 110.66, 211.12, 193.97, 135.24, 156.97, 231.38, 246.44, 204.56, 222.11, 136.21, 118.27, 135.48, 196.77, 127.82, 138.35, 203.84, 240.09, 116.27, 160.33, 181.02, 148.19, 245.76, 228.94, 242.59, 161.77, 109.34, 259.76, 151.18, 219.75, 190.08, 210.27, 151.54, 149.25, 192.27, 146.8, 191.78, 150.83, 108.03, 236.15, 236.75, 241.8, 224.98, 136.99, 131.29, 195.07, 110.84, 198.13, 149.21, 225.99, 158.8, 219.72, 235.56, 182.65, 253.48, 137.97, 120.63, 137.2, 199.76, 225.87, 175.14, 222.35, 224.07, 233.36, 224.2, 122.31, 182.84, 258.06, 201.29, 223.16, 182.11, 228.78, 122.45, 150.77, 215.04, 195.54, 230.36, 235.97, 250.36, 126.44, 201.54, 184.23, 210.53, 151.94, 210.39, 225.23, 161.79, 149.8, 153.01, 130.86, 200.71, 141.96, 125.2, 192.81, 131.55, 226.69, 247.05, 216.24, 230.52, 225.34, 197.15, 231.95, 179.04, 117.3, 198.86, 244.23, 173.05, 214.49, 189.91, 233.61, 197.93, 132.27, 204.27, 208.01, 219.55, 217.66, 169.4, 225.47, 176.78, 152.94, 119.27, 214.06, 158.29, 128.0, 216.03, 123.08, 138.52, 192.5, 185.85, 113.69, 246.06, 137.63, 163.48, 214.33, 230.77, 234.75, 225.05, 231.91, 171.23, 227.37, 190.17, 250.2, 194.95, 121.24, 131.98, 222.87, 229.88, 122.59, 210.87, 207.44, 135.25, 190.95, 193.29, 105.86, 118.69, 124.58, 248.51, 120.49, 195.69, 164.02, 151.93, 240.64, 190.12, 179.82, 212.59, 227.53, 111.8, 128.37, 195.89, 147.75, 229.19, 190.84, 126.29, 147.61, 121.57, 115.91, 187.09, 106.96, 171.54, 175.43, 224.82, 180.47, 213.96, 198.3, 185.47, 166.85, 151.63, 225.02, 191.26, 219.91, 202.7, 123.71, 230.78, 167.41, 154.0, 144.53, 165.43, 197.66, 195.68, 136.18, 167.87, 170.04, 204.47, 162.44, 119.86, 204.82, 198.79, 236.08, 196.17, 228.81, 123.24, 111.63, 142.23, 139.32, 125.46, 180.88, 127.65, 108.85, 156.11, 127.2, 143.04, 241.38, 170.9, 203.87, 232.78, 225.0, 159.69, 141.52, 212.88, 194.23, 105.71, 232.21, 252.6, 209.72, 226.64, 192.57, 222.72, 124.67, 108.27, 132.38, 144.77, 132.38, 128.98, 124.61, 225.97, 254.94, 115.6, 117.33, 128.48, 107.56, 113.53, 108.18, 199.29, 231.28, 224.01, 133.42, 124.34, 169.1, 261.52, 118.45, 250.11, 158.03, 108.25, 213.7, 255.57, 190.41, 223.2, 205.71, 161.29, 244.4, 182.65, 220.08, 165.65, 241.5, 246.29, 142.21, 195.93, 216.5, 225.76, 222.08, 171.24, 235.94, 203.44, 250.32, 167.26, 173.75, 107.19, 187.03, 249.45, 217.37, 154.93, 236.96, 199.62, 158.81, 249.81, 123.22, 140.95, 115.37, 205.84, 111.02, 238.43, 171.9, 190.95, 241.36, 194.56, 207.53, 235.29, 115.79, 108.1, 151.72, 122.04, 203.9, 121.28, 178.69, 221.59, 236.96, 216.01, 193.6, 146.44, 226.49, 182.2, 109.98, 160.49, 211.56, 128.62, 174.88, 113.75, 199.4, 215.29, 181.25, 245.5, 112.52, 129.16, 149.53, 153.12, 150.79, 202.34, 184.98, 187.64, 130.84, 239.94, 114.69, 116.19, 149.79, 248.23, 194.62, 107.92, 135.67, 190.05, 185.46, 123.86, 162.05, 125.11, 145.73, 116.07, 198.24, 191.82, 154.77, 178.75, 193.15, 138.46, 162.46, 231.87, 141.58, 249.99, 109.04, 172.57, 247.01, 234.23, 161.42, 124.32, 195.56, 211.17, 247.05, 233.85, 194.44, 176.7, 188.32, 125.27, 159.05, 151.96, 132.07, 162.43, 203.3, 126.11, 139.34, 105.63, 116.38, 166.31, 254.65, 168.41, 258.26, 140.77, 234.81, 256.39, 125.12, 232.68, 105.04, 204.4, 256.4, 165.62, 140.67, 123.62, 227.63, 173.01, 208.58, 134.42, 120.37, 187.95, 178.35], \"yaxis\": \"y\"}],\n",
              "                        {\"barmode\": \"relative\", \"legend\": {\"tracegroupgap\": 0}, \"margin\": {\"t\": 60}, \"template\": {\"data\": {\"bar\": [{\"error_x\": {\"color\": \"#2a3f5f\"}, \"error_y\": {\"color\": \"#2a3f5f\"}, \"marker\": {\"line\": {\"color\": \"#E5ECF6\", \"width\": 0.5}}, \"type\": \"bar\"}], \"barpolar\": [{\"marker\": {\"line\": {\"color\": \"#E5ECF6\", \"width\": 0.5}}, \"type\": \"barpolar\"}], \"carpet\": [{\"aaxis\": {\"endlinecolor\": \"#2a3f5f\", \"gridcolor\": \"white\", \"linecolor\": \"white\", \"minorgridcolor\": \"white\", \"startlinecolor\": \"#2a3f5f\"}, \"baxis\": {\"endlinecolor\": \"#2a3f5f\", \"gridcolor\": \"white\", \"linecolor\": \"white\", \"minorgridcolor\": \"white\", \"startlinecolor\": \"#2a3f5f\"}, \"type\": \"carpet\"}], \"choropleth\": [{\"colorbar\": {\"outlinewidth\": 0, \"ticks\": \"\"}, \"type\": \"choropleth\"}], \"contour\": [{\"colorbar\": {\"outlinewidth\": 0, \"ticks\": \"\"}, \"colorscale\": [[0.0, \"#0d0887\"], [0.1111111111111111, \"#46039f\"], [0.2222222222222222, \"#7201a8\"], [0.3333333333333333, \"#9c179e\"], [0.4444444444444444, \"#bd3786\"], [0.5555555555555556, \"#d8576b\"], [0.6666666666666666, \"#ed7953\"], [0.7777777777777778, \"#fb9f3a\"], [0.8888888888888888, \"#fdca26\"], [1.0, \"#f0f921\"]], \"type\": \"contour\"}], \"contourcarpet\": [{\"colorbar\": {\"outlinewidth\": 0, \"ticks\": \"\"}, \"type\": \"contourcarpet\"}], \"heatmap\": [{\"colorbar\": {\"outlinewidth\": 0, \"ticks\": \"\"}, \"colorscale\": [[0.0, \"#0d0887\"], [0.1111111111111111, \"#46039f\"], [0.2222222222222222, \"#7201a8\"], [0.3333333333333333, \"#9c179e\"], [0.4444444444444444, \"#bd3786\"], [0.5555555555555556, \"#d8576b\"], [0.6666666666666666, \"#ed7953\"], [0.7777777777777778, \"#fb9f3a\"], [0.8888888888888888, \"#fdca26\"], [1.0, \"#f0f921\"]], \"type\": \"heatmap\"}], \"heatmapgl\": [{\"colorbar\": {\"outlinewidth\": 0, \"ticks\": \"\"}, \"colorscale\": [[0.0, \"#0d0887\"], [0.1111111111111111, \"#46039f\"], [0.2222222222222222, \"#7201a8\"], [0.3333333333333333, \"#9c179e\"], [0.4444444444444444, \"#bd3786\"], [0.5555555555555556, \"#d8576b\"], [0.6666666666666666, \"#ed7953\"], [0.7777777777777778, \"#fb9f3a\"], [0.8888888888888888, \"#fdca26\"], [1.0, \"#f0f921\"]], \"type\": \"heatmapgl\"}], \"histogram\": [{\"marker\": {\"colorbar\": {\"outlinewidth\": 0, \"ticks\": \"\"}}, \"type\": \"histogram\"}], \"histogram2d\": [{\"colorbar\": {\"outlinewidth\": 0, \"ticks\": \"\"}, \"colorscale\": [[0.0, \"#0d0887\"], [0.1111111111111111, \"#46039f\"], [0.2222222222222222, \"#7201a8\"], [0.3333333333333333, \"#9c179e\"], [0.4444444444444444, \"#bd3786\"], [0.5555555555555556, \"#d8576b\"], [0.6666666666666666, \"#ed7953\"], [0.7777777777777778, \"#fb9f3a\"], [0.8888888888888888, \"#fdca26\"], [1.0, \"#f0f921\"]], \"type\": \"histogram2d\"}], \"histogram2dcontour\": [{\"colorbar\": {\"outlinewidth\": 0, \"ticks\": \"\"}, \"colorscale\": [[0.0, \"#0d0887\"], [0.1111111111111111, \"#46039f\"], [0.2222222222222222, \"#7201a8\"], [0.3333333333333333, \"#9c179e\"], [0.4444444444444444, \"#bd3786\"], [0.5555555555555556, \"#d8576b\"], [0.6666666666666666, \"#ed7953\"], [0.7777777777777778, \"#fb9f3a\"], [0.8888888888888888, \"#fdca26\"], [1.0, \"#f0f921\"]], \"type\": \"histogram2dcontour\"}], \"mesh3d\": [{\"colorbar\": {\"outlinewidth\": 0, \"ticks\": \"\"}, \"type\": \"mesh3d\"}], \"parcoords\": [{\"line\": {\"colorbar\": {\"outlinewidth\": 0, \"ticks\": \"\"}}, \"type\": \"parcoords\"}], \"pie\": [{\"automargin\": true, \"type\": \"pie\"}], \"scatter\": [{\"marker\": {\"colorbar\": {\"outlinewidth\": 0, \"ticks\": \"\"}}, \"type\": \"scatter\"}], \"scatter3d\": [{\"line\": {\"colorbar\": {\"outlinewidth\": 0, \"ticks\": \"\"}}, \"marker\": {\"colorbar\": {\"outlinewidth\": 0, \"ticks\": \"\"}}, \"type\": \"scatter3d\"}], \"scattercarpet\": [{\"marker\": {\"colorbar\": {\"outlinewidth\": 0, \"ticks\": \"\"}}, \"type\": \"scattercarpet\"}], \"scattergeo\": [{\"marker\": {\"colorbar\": {\"outlinewidth\": 0, \"ticks\": \"\"}}, \"type\": \"scattergeo\"}], \"scattergl\": [{\"marker\": {\"colorbar\": {\"outlinewidth\": 0, \"ticks\": \"\"}}, \"type\": \"scattergl\"}], \"scattermapbox\": [{\"marker\": {\"colorbar\": {\"outlinewidth\": 0, \"ticks\": \"\"}}, \"type\": \"scattermapbox\"}], \"scatterpolar\": [{\"marker\": {\"colorbar\": {\"outlinewidth\": 0, \"ticks\": \"\"}}, \"type\": \"scatterpolar\"}], \"scatterpolargl\": [{\"marker\": {\"colorbar\": {\"outlinewidth\": 0, \"ticks\": \"\"}}, \"type\": \"scatterpolargl\"}], \"scatterternary\": [{\"marker\": {\"colorbar\": {\"outlinewidth\": 0, \"ticks\": \"\"}}, \"type\": \"scatterternary\"}], \"surface\": [{\"colorbar\": {\"outlinewidth\": 0, \"ticks\": \"\"}, \"colorscale\": [[0.0, \"#0d0887\"], [0.1111111111111111, \"#46039f\"], [0.2222222222222222, \"#7201a8\"], [0.3333333333333333, \"#9c179e\"], [0.4444444444444444, \"#bd3786\"], [0.5555555555555556, \"#d8576b\"], [0.6666666666666666, \"#ed7953\"], [0.7777777777777778, \"#fb9f3a\"], [0.8888888888888888, \"#fdca26\"], [1.0, \"#f0f921\"]], \"type\": \"surface\"}], \"table\": [{\"cells\": {\"fill\": {\"color\": \"#EBF0F8\"}, \"line\": {\"color\": \"white\"}}, \"header\": {\"fill\": {\"color\": \"#C8D4E3\"}, \"line\": {\"color\": \"white\"}}, \"type\": \"table\"}]}, \"layout\": {\"annotationdefaults\": {\"arrowcolor\": \"#2a3f5f\", \"arrowhead\": 0, \"arrowwidth\": 1}, \"coloraxis\": {\"colorbar\": {\"outlinewidth\": 0, \"ticks\": \"\"}}, \"colorscale\": {\"diverging\": [[0, \"#8e0152\"], [0.1, \"#c51b7d\"], [0.2, \"#de77ae\"], [0.3, \"#f1b6da\"], [0.4, \"#fde0ef\"], [0.5, \"#f7f7f7\"], [0.6, \"#e6f5d0\"], [0.7, \"#b8e186\"], [0.8, \"#7fbc41\"], [0.9, \"#4d9221\"], [1, \"#276419\"]], \"sequential\": [[0.0, \"#0d0887\"], [0.1111111111111111, \"#46039f\"], [0.2222222222222222, \"#7201a8\"], [0.3333333333333333, \"#9c179e\"], [0.4444444444444444, \"#bd3786\"], [0.5555555555555556, \"#d8576b\"], [0.6666666666666666, \"#ed7953\"], [0.7777777777777778, \"#fb9f3a\"], [0.8888888888888888, \"#fdca26\"], [1.0, \"#f0f921\"]], \"sequentialminus\": [[0.0, \"#0d0887\"], [0.1111111111111111, \"#46039f\"], [0.2222222222222222, \"#7201a8\"], [0.3333333333333333, \"#9c179e\"], [0.4444444444444444, \"#bd3786\"], [0.5555555555555556, \"#d8576b\"], [0.6666666666666666, \"#ed7953\"], [0.7777777777777778, \"#fb9f3a\"], [0.8888888888888888, \"#fdca26\"], [1.0, \"#f0f921\"]]}, \"colorway\": [\"#636efa\", \"#EF553B\", \"#00cc96\", \"#ab63fa\", \"#FFA15A\", \"#19d3f3\", \"#FF6692\", \"#B6E880\", \"#FF97FF\", \"#FECB52\"], \"font\": {\"color\": \"#2a3f5f\"}, \"geo\": {\"bgcolor\": \"white\", \"lakecolor\": \"white\", \"landcolor\": \"#E5ECF6\", \"showlakes\": true, \"showland\": true, \"subunitcolor\": \"white\"}, \"hoverlabel\": {\"align\": \"left\"}, \"hovermode\": \"closest\", \"mapbox\": {\"style\": \"light\"}, \"paper_bgcolor\": \"white\", \"plot_bgcolor\": \"#E5ECF6\", \"polar\": {\"angularaxis\": {\"gridcolor\": \"white\", \"linecolor\": \"white\", \"ticks\": \"\"}, \"bgcolor\": \"#E5ECF6\", \"radialaxis\": {\"gridcolor\": \"white\", \"linecolor\": \"white\", \"ticks\": \"\"}}, \"scene\": {\"xaxis\": {\"backgroundcolor\": \"#E5ECF6\", \"gridcolor\": \"white\", \"gridwidth\": 2, \"linecolor\": \"white\", \"showbackground\": true, \"ticks\": \"\", \"zerolinecolor\": \"white\"}, \"yaxis\": {\"backgroundcolor\": \"#E5ECF6\", \"gridcolor\": \"white\", \"gridwidth\": 2, \"linecolor\": \"white\", \"showbackground\": true, \"ticks\": \"\", \"zerolinecolor\": \"white\"}, \"zaxis\": {\"backgroundcolor\": \"#E5ECF6\", \"gridcolor\": \"white\", \"gridwidth\": 2, \"linecolor\": \"white\", \"showbackground\": true, \"ticks\": \"\", \"zerolinecolor\": \"white\"}}, \"shapedefaults\": {\"line\": {\"color\": \"#2a3f5f\"}}, \"ternary\": {\"aaxis\": {\"gridcolor\": \"white\", \"linecolor\": \"white\", \"ticks\": \"\"}, \"baxis\": {\"gridcolor\": \"white\", \"linecolor\": \"white\", \"ticks\": \"\"}, \"bgcolor\": \"#E5ECF6\", \"caxis\": {\"gridcolor\": \"white\", \"linecolor\": \"white\", \"ticks\": \"\"}}, \"title\": {\"x\": 0.05}, \"xaxis\": {\"automargin\": true, \"gridcolor\": \"white\", \"linecolor\": \"white\", \"ticks\": \"\", \"title\": {\"standoff\": 15}, \"zerolinecolor\": \"white\", \"zerolinewidth\": 2}, \"yaxis\": {\"automargin\": true, \"gridcolor\": \"white\", \"linecolor\": \"white\", \"ticks\": \"\", \"title\": {\"standoff\": 15}, \"zerolinecolor\": \"white\", \"zerolinewidth\": 2}}}, \"xaxis\": {\"anchor\": \"y\", \"domain\": [0.0, 1.0], \"title\": {\"text\": \"Age\"}}, \"yaxis\": {\"anchor\": \"x\", \"domain\": [0.0, 1.0], \"title\": {\"text\": \"Daily Internet Usage\"}}},\n",
              "                        {\"responsive\": true}\n",
              "                    ).then(function(){\n",
              "                            \n",
              "var gd = document.getElementById('8a6e8d17-e73b-44a2-9d85-8289aa749417');\n",
              "var x = new MutationObserver(function (mutations, observer) {{\n",
              "        var display = window.getComputedStyle(gd).display;\n",
              "        if (!display || display === 'none') {{\n",
              "            console.log([gd, 'removed!']);\n",
              "            Plotly.purge(gd);\n",
              "            observer.disconnect();\n",
              "        }}\n",
              "}});\n",
              "\n",
              "// Listen for the removal of the full notebook cells\n",
              "var notebookContainer = gd.closest('#notebook-container');\n",
              "if (notebookContainer) {{\n",
              "    x.observe(notebookContainer, {childList: true});\n",
              "}}\n",
              "\n",
              "// Listen for the clearing of the current output cell\n",
              "var outputEl = gd.closest('.output');\n",
              "if (outputEl) {{\n",
              "    x.observe(outputEl, {childList: true});\n",
              "}}\n",
              "\n",
              "                        })\n",
              "                };\n",
              "                \n",
              "            </script>\n",
              "        </div>\n",
              "</body>\n",
              "</html>"
            ]
          },
          "metadata": {}
        }
      ]
    },
    {
      "cell_type": "markdown",
      "metadata": {
        "id": "fy0xuDqgeNao"
      },
      "source": [
        "___\n",
        "**Observations:**\n",
        "- People between the age group of 20 and 40 spent the most time on Internet\n",
        "- Old people and very young tend to spend less time of Internet daily as compared to other people\n",
        "___"
      ]
    },
    {
      "cell_type": "code",
      "metadata": {
        "id": "p72AflFwdlmr",
        "outputId": "555003b8-008f-4efe-9255-2e199c718eb7",
        "colab": {
          "base_uri": "https://localhost:8080/",
          "height": 542
        }
      },
      "source": [
        "fig = px.scatter(x= df['Daily Time Spent on Site'], y= df.Age, labels={'x':'Daily Time Spent on Site', 'y':'Age'})\n",
        "fig.show()"
      ],
      "execution_count": null,
      "outputs": [
        {
          "output_type": "display_data",
          "data": {
            "text/html": [
              "<html>\n",
              "<head><meta charset=\"utf-8\" /></head>\n",
              "<body>\n",
              "    <div>\n",
              "            <script src=\"https://cdnjs.cloudflare.com/ajax/libs/mathjax/2.7.5/MathJax.js?config=TeX-AMS-MML_SVG\"></script><script type=\"text/javascript\">if (window.MathJax) {MathJax.Hub.Config({SVG: {font: \"STIX-Web\"}});}</script>\n",
              "                <script type=\"text/javascript\">window.PlotlyConfig = {MathJaxConfig: 'local'};</script>\n",
              "        <script src=\"https://cdn.plot.ly/plotly-latest.min.js\"></script>    \n",
              "            <div id=\"bd18ee27-1916-45a0-ae0b-cf38c5f5e457\" class=\"plotly-graph-div\" style=\"height:525px; width:100%;\"></div>\n",
              "            <script type=\"text/javascript\">\n",
              "                \n",
              "                    window.PLOTLYENV=window.PLOTLYENV || {};\n",
              "                    \n",
              "                if (document.getElementById(\"bd18ee27-1916-45a0-ae0b-cf38c5f5e457\")) {\n",
              "                    Plotly.newPlot(\n",
              "                        'bd18ee27-1916-45a0-ae0b-cf38c5f5e457',\n",
              "                        [{\"hoverlabel\": {\"namelength\": 0}, \"hovertemplate\": \"Daily Time Spent on Site=%{x}<br>Age=%{y}\", \"legendgroup\": \"\", \"marker\": {\"color\": \"#636efa\", \"symbol\": \"circle\"}, \"mode\": \"markers\", \"name\": \"\", \"showlegend\": false, \"type\": \"scatter\", \"x\": [68.95, 80.23, 69.47, 74.15, 68.37, 59.99, 88.91, 66.0, 74.53, 69.88, 47.64, 83.07, 69.57, 79.52, 42.95, 63.45, 55.39, 82.03, 54.7, 74.58, 77.22, 84.59, 41.49, 87.29, 41.39, 78.74, 48.53, 51.95, 70.2, 76.02, 67.64, 86.41, 59.05, 55.6, 57.64, 84.37, 62.26, 65.82, 50.43, 38.93, 84.98, 64.24, 82.52, 81.38, 80.47, 37.68, 69.62, 85.4, 44.33, 48.01, 73.18, 79.94, 33.33, 50.33, 62.31, 80.6, 65.19, 44.98, 77.63, 41.82, 85.61, 85.84, 72.08, 86.06, 45.96, 62.42, 63.89, 35.33, 75.74, 78.53, 46.13, 69.01, 55.35, 33.21, 38.46, 64.1, 49.81, 82.73, 56.14, 55.13, 78.11, 73.46, 56.64, 68.94, 70.79, 57.76, 77.51, 52.7, 57.7, 56.89, 69.9, 55.79, 70.03, 50.08, 43.67, 72.84, 45.72, 39.94, 35.61, 79.71, 41.49, 63.6, 89.91, 68.18, 66.49, 80.49, 72.23, 42.39, 47.53, 74.02, 66.63, 63.24, 71.0, 46.13, 69.0, 76.99, 72.6, 61.88, 84.45, 88.97, 86.19, 49.58, 77.65, 37.75, 62.33, 79.57, 80.31, 89.05, 70.41, 67.36, 46.98, 41.67, 51.24, 75.7, 43.49, 49.89, 38.37, 38.52, 71.89, 75.8, 83.86, 37.51, 55.6, 83.67, 69.08, 37.47, 56.04, 70.92, 49.78, 68.61, 58.18, 78.54, 37.0, 65.4, 79.52, 87.98, 44.64, 41.73, 80.46, 75.55, 76.32, 82.68, 72.01, 75.83, 41.28, 34.66, 66.18, 86.06, 59.59, 86.69, 43.77, 71.84, 80.23, 74.41, 63.36, 71.74, 60.72, 72.04, 44.57, 85.86, 39.85, 84.53, 62.95, 67.58, 85.56, 46.88, 46.31, 77.95, 84.73, 39.86, 50.08, 60.23, 60.7, 43.67, 77.2, 71.86, 44.78, 78.57, 73.41, 77.05, 66.4, 69.35, 35.65, 70.04, 69.78, 58.22, 76.9, 84.08, 59.51, 40.15, 76.81, 41.89, 76.87, 67.28, 81.98, 66.01, 61.57, 53.3, 34.87, 43.6, 77.88, 75.83, 49.95, 60.94, 89.15, 78.7, 57.35, 34.86, 70.68, 76.06, 66.67, 46.77, 62.42, 78.32, 37.32, 40.42, 76.77, 65.65, 74.32, 73.27, 80.03, 53.68, 85.84, 85.03, 70.44, 81.22, 39.96, 57.05, 42.44, 62.2, 76.7, 61.22, 84.54, 46.08, 56.7, 81.03, 80.91, 40.06, 83.47, 73.84, 74.65, 60.25, 59.21, 43.02, 84.04, 70.66, 70.58, 72.44, 40.17, 79.15, 44.49, 73.04, 76.28, 68.88, 73.1, 47.66, 87.3, 89.34, 81.37, 81.67, 46.37, 54.88, 40.67, 71.76, 47.51, 75.15, 56.01, 82.87, 45.05, 60.53, 50.52, 84.71, 55.2, 81.61, 71.55, 82.4, 73.95, 72.07, 80.39, 65.8, 69.97, 52.62, 39.25, 77.56, 33.52, 79.81, 84.79, 82.7, 84.88, 54.92, 76.56, 69.74, 75.55, 72.19, 84.29, 73.89, 75.84, 73.38, 80.72, 62.06, 51.5, 90.97, 86.78, 66.18, 84.33, 36.87, 34.78, 76.84, 67.05, 41.47, 80.71, 80.09, 56.3, 79.36, 86.38, 38.94, 87.26, 75.32, 74.38, 65.9, 36.31, 72.23, 88.12, 83.97, 61.09, 65.77, 81.58, 37.87, 76.2, 60.91, 74.49, 73.71, 78.19, 79.54, 74.87, 87.09, 37.45, 49.84, 51.38, 83.4, 38.91, 62.14, 79.72, 73.3, 69.11, 71.9, 72.45, 77.07, 74.62, 82.07, 58.6, 36.08, 79.44, 41.73, 73.19, 77.6, 89.0, 69.2, 67.56, 81.11, 80.22, 43.63, 77.66, 74.63, 49.67, 80.59, 83.49, 44.46, 68.1, 63.88, 78.83, 79.97, 80.51, 62.26, 66.99, 71.05, 42.05, 50.52, 76.24, 77.29, 35.98, 84.95, 39.34, 87.23, 57.24, 81.58, 56.34, 48.73, 51.68, 35.34, 48.09, 78.68, 68.82, 56.99, 86.63, 41.18, 71.03, 72.92, 77.14, 60.7, 34.3, 83.71, 53.38, 58.03, 43.59, 60.07, 54.43, 81.99, 60.53, 84.69, 88.72, 88.89, 69.58, 85.23, 83.55, 56.66, 56.39, 76.24, 57.64, 78.18, 46.04, 79.4, 36.44, 53.14, 32.84, 73.72, 38.1, 73.93, 51.87, 77.69, 43.41, 55.92, 80.67, 83.42, 82.12, 66.17, 43.01, 80.05, 64.88, 79.82, 48.03, 32.99, 74.88, 36.49, 88.04, 45.7, 82.38, 52.68, 65.59, 65.65, 43.84, 67.69, 78.37, 81.46, 47.48, 75.15, 78.76, 44.96, 39.56, 39.76, 57.11, 83.26, 69.42, 50.6, 46.2, 66.88, 83.97, 76.56, 35.49, 80.29, 50.19, 59.12, 59.88, 59.7, 67.8, 81.59, 81.1, 41.7, 73.94, 58.35, 51.56, 79.81, 66.17, 58.21, 66.12, 80.47, 77.05, 49.99, 80.3, 79.36, 57.86, 70.29, 84.53, 59.13, 81.51, 42.94, 84.81, 82.79, 59.22, 35.0, 46.61, 63.26, 79.16, 67.94, 79.91, 66.14, 43.65, 59.61, 46.61, 89.37, 65.1, 53.44, 79.53, 91.43, 73.57, 78.76, 76.49, 61.72, 84.53, 72.03, 77.47, 75.65, 78.15, 63.8, 76.59, 42.6, 78.77, 83.4, 79.53, 73.89, 75.8, 81.95, 56.39, 44.73, 38.35, 72.53, 56.2, 79.67, 75.42, 78.64, 67.69, 38.35, 59.52, 62.26, 64.75, 79.97, 47.9, 80.38, 64.51, 71.28, 50.32, 72.76, 72.8, 74.59, 46.66, 48.86, 37.05, 81.21, 66.89, 68.11, 69.15, 65.72, 40.04, 68.6, 56.16, 78.6, 78.29, 43.83, 77.31, 39.86, 66.77, 57.2, 73.15, 82.07, 49.84, 43.97, 77.25, 74.84, 83.53, 38.63, 84.0, 52.13, 71.83, 78.36, 50.18, 64.67, 69.5, 65.22, 62.06, 84.29, 32.91, 39.5, 75.19, 76.21, 67.76, 40.01, 52.7, 68.41, 35.55, 74.54, 81.75, 87.85, 60.23, 87.97, 78.17, 67.91, 85.77, 41.16, 53.54, 73.94, 63.43, 84.59, 70.13, 40.19, 58.95, 35.76, 59.36, 91.1, 61.04, 74.06, 64.63, 81.29, 76.07, 75.92, 78.35, 46.14, 44.33, 46.43, 66.04, 84.31, 83.66, 81.25, 85.26, 86.53, 76.44, 52.84, 85.24, 74.71, 82.95, 76.42, 42.04, 46.28, 48.26, 71.03, 81.37, 58.05, 75.0, 79.61, 52.56, 62.18, 77.89, 66.08, 89.21, 49.96, 77.44, 82.58, 39.36, 47.23, 87.85, 65.57, 78.01, 44.15, 43.57, 76.83, 42.06, 76.27, 74.27, 73.27, 74.58, 77.5, 87.16, 87.16, 66.26, 65.15, 68.25, 73.49, 39.19, 80.15, 86.76, 73.88, 58.6, 69.77, 87.27, 77.65, 76.02, 78.84, 71.33, 81.9, 46.89, 77.8, 45.44, 69.96, 87.35, 49.42, 71.27, 49.19, 39.96, 85.01, 68.95, 67.59, 75.71, 43.07, 39.47, 48.22, 76.76, 78.74, 67.47, 81.17, 89.66, 79.6, 65.53, 61.87, 83.16, 44.11, 56.57, 83.91, 79.8, 71.23, 47.23, 82.37, 43.63, 70.9, 71.9, 62.12, 67.35, 57.99, 66.8, 49.13, 45.11, 54.35, 61.82, 77.75, 70.61, 82.72, 76.87, 65.07, 56.93, 48.86, 36.56, 85.73, 75.81, 72.94, 53.63, 52.35, 52.84, 51.58, 42.32, 55.04, 68.58, 85.54, 71.14, 64.38, 88.85, 66.79, 32.6, 43.88, 56.46, 72.18, 52.67, 80.55, 67.85, 75.55, 80.46, 82.69, 35.21, 36.37, 74.07, 59.96, 85.62, 40.88, 36.98, 35.49, 56.56, 36.62, 49.35, 75.64, 79.22, 77.05, 66.83, 76.2, 56.64, 53.33, 50.63, 41.84, 53.92, 83.89, 55.32, 53.22, 43.16, 67.51, 43.16, 79.89, 84.25, 74.18, 85.78, 80.96, 36.91, 54.47, 81.98, 79.6, 57.51, 82.3, 73.21, 79.09, 68.47, 83.69, 83.48, 43.49, 66.69, 48.46, 42.51, 42.83, 41.46, 45.99, 68.72, 63.11, 49.21, 55.77, 44.13, 57.82, 72.46, 61.88, 78.24, 74.61, 89.18, 44.16, 55.74, 88.82, 70.39, 59.05, 78.58, 35.11, 60.39, 81.56, 75.03, 50.87, 82.8, 78.51, 37.65, 83.17, 91.37, 68.25, 81.32, 76.64, 74.06, 39.53, 86.58, 90.75, 67.71, 82.41, 45.82, 76.79, 70.05, 72.19, 77.35, 40.34, 67.39, 68.68, 81.75, 66.03, 47.74, 79.18, 86.81, 41.53, 70.92, 46.84, 44.4, 52.17, 81.45, 54.08, 76.65, 54.39, 37.74, 69.86, 85.37, 80.99, 78.84, 77.36, 55.46, 35.66, 50.78, 40.47, 45.62, 84.76, 80.64, 75.94, 37.01, 87.18, 56.91, 75.24, 42.84, 67.56, 34.96, 87.46, 41.86, 34.04, 54.96, 87.14, 78.79, 65.56, 81.05, 55.71, 45.48, 47.0, 59.64, 35.98, 72.55, 91.15, 80.53, 82.49, 80.94, 61.76, 63.3, 36.73, 78.41, 83.98, 63.18, 50.6, 32.6, 60.83, 44.72, 78.76, 79.51, 39.3, 64.79, 89.8, 72.82, 38.65, 59.01, 78.96, 63.99, 41.35, 62.79, 45.53, 51.65, 54.55, 35.66, 69.95, 79.83, 85.35, 56.78, 78.67, 70.09, 60.75, 65.07, 35.25, 37.58, 68.01, 45.08, 63.04, 40.18, 45.17, 50.48, 80.87, 41.88, 39.87, 61.84, 54.97, 71.4, 70.29, 67.26, 76.58, 54.37, 82.79, 66.47, 72.88, 76.44, 63.37, 89.71, 70.96, 35.79, 38.96, 69.17, 64.2, 43.7, 72.97, 51.3, 51.63, 55.55, 45.01], \"xaxis\": \"x\", \"y\": [35, 31, 26, 29, 35, 23, 33, 48, 30, 20, 49, 37, 48, 24, 33, 23, 37, 41, 36, 40, 30, 35, 52, 36, 41, 28, 28, 52, 34, 22, 35, 28, 57, 23, 57, 30, 53, 39, 46, 39, 29, 30, 32, 31, 25, 52, 20, 43, 37, 46, 23, 28, 45, 50, 47, 31, 36, 49, 29, 41, 27, 34, 29, 32, 45, 29, 40, 32, 25, 34, 31, 46, 39, 43, 42, 22, 35, 33, 38, 45, 27, 28, 38, 54, 31, 41, 36, 34, 34, 37, 43, 24, 26, 40, 31, 26, 36, 41, 46, 34, 53, 23, 40, 21, 20, 40, 25, 42, 30, 32, 60, 53, 22, 46, 32, 31, 55, 42, 50, 45, 31, 26, 27, 36, 43, 31, 44, 45, 27, 37, 50, 36, 36, 29, 47, 39, 36, 38, 23, 38, 31, 30, 44, 44, 41, 44, 49, 41, 46, 57, 25, 35, 48, 33, 27, 38, 36, 28, 27, 36, 35, 33, 31, 24, 50, 32, 55, 31, 42, 34, 52, 47, 31, 26, 48, 35, 44, 22, 31, 34, 38, 27, 60, 41, 29, 54, 57, 31, 30, 36, 30, 35, 49, 53, 33, 32, 45, 36, 31, 27, 40, 29, 40, 31, 29, 29, 28, 30, 58, 38, 28, 38, 27, 43, 40, 23, 53, 34, 40, 38, 37, 27, 39, 41, 42, 30, 29, 38, 31, 23, 33, 32, 38, 28, 50, 45, 36, 30, 33, 32, 44, 47, 32, 30, 24, 53, 45, 41, 56, 25, 36, 45, 33, 30, 48, 28, 32, 38, 39, 31, 28, 35, 35, 44, 38, 43, 26, 34, 26, 26, 53, 37, 33, 37, 28, 29, 35, 32, 26, 28, 52, 24, 35, 35, 51, 22, 26, 37, 42, 24, 31, 32, 39, 33, 36, 36, 35, 31, 31, 25, 28, 50, 39, 38, 43, 24, 33, 35, 32, 54, 34, 49, 22, 33, 41, 39, 21, 25, 31, 44, 34, 37, 30, 35, 41, 36, 48, 32, 25, 31, 26, 31, 49, 34, 40, 41, 35, 28, 40, 22, 47, 48, 38, 28, 26, 21, 25, 52, 37, 19, 28, 23, 30, 44, 52, 36, 47, 39, 59, 34, 33, 41, 28, 36, 42, 54, 29, 40, 36, 25, 50, 45, 26, 47, 25, 24, 37, 42, 31, 39, 30, 41, 29, 26, 27, 37, 33, 42, 40, 38, 36, 44, 28, 26, 47, 20, 51, 28, 40, 27, 47, 34, 43, 29, 52, 41, 50, 27, 49, 45, 33, 29, 20, 40, 39, 43, 32, 29, 24, 43, 41, 45, 35, 31, 36, 42, 37, 33, 29, 31, 32, 35, 43, 36, 39, 42, 27, 27, 36, 23, 32, 35, 39, 38, 40, 32, 34, 44, 50, 22, 28, 24, 34, 25, 52, 33, 35, 25, 42, 26, 40, 45, 27, 52, 45, 33, 35, 23, 47, 25, 36, 37, 24, 29, 31, 33, 24, 50, 41, 28, 22, 40, 25, 30, 37, 35, 40, 30, 48, 31, 40, 33, 30, 28, 30, 35, 29, 39, 27, 37, 46, 37, 26, 37, 49, 42, 31, 41, 58, 33, 30, 26, 33, 44, 41, 37, 32, 34, 55, 40, 42, 29, 32, 43, 32, 41, 39, 21, 52, 34, 49, 42, 51, 39, 30, 32, 23, 26, 35, 34, 36, 39, 33, 38, 29, 55, 28, 39, 33, 35, 36, 31, 58, 35, 33, 37, 49, 28, 26, 31, 44, 41, 44, 37, 36, 26, 42, 30, 42, 37, 40, 33, 35, 23, 45, 54, 39, 36, 23, 38, 46, 36, 27, 33, 25, 46, 38, 45, 32, 28, 25, 42, 25, 24, 38, 36, 27, 37, 36, 48, 48, 50, 40, 24, 35, 51, 26, 30, 40, 30, 37, 31, 31, 31, 31, 53, 41, 38, 39, 24, 24, 31, 60, 35, 27, 23, 27, 49, 39, 26, 29, 36, 31, 37, 55, 51, 49, 40, 41, 23, 45, 28, 36, 22, 46, 28, 41, 28, 27, 29, 38, 33, 32, 46, 26, 43, 31, 46, 39, 26, 49, 26, 50, 55, 33, 32, 29, 31, 31, 33, 26, 61, 33, 55, 28, 38, 29, 38, 34, 46, 26, 28, 36, 28, 34, 27, 37, 28, 36, 28, 33, 37, 47, 29, 33, 38, 54, 25, 28, 29, 19, 54, 30, 28, 40, 26, 23, 41, 48, 57, 43, 31, 35, 53, 21, 38, 35, 29, 51, 45, 34, 36, 43, 40, 25, 27, 24, 30, 34, 28, 19, 35, 41, 41, 26, 29, 28, 52, 43, 30, 38, 28, 29, 37, 29, 50, 29, 32, 58, 42, 59, 31, 28, 31, 36, 34, 37, 35, 29, 32, 40, 31, 54, 25, 51, 33, 29, 42, 41, 27, 30, 19, 40, 60, 45, 54, 26, 30, 44, 35, 41, 36, 29, 29, 39, 40, 22, 33, 29, 33, 31, 47, 26, 32, 49, 29, 27, 34, 46, 24, 29, 34, 50, 49, 41, 28, 43, 44, 35, 43, 29, 30, 32, 28, 34, 39, 48, 23, 34, 39, 38, 31, 30, 32, 28, 36, 31, 45, 35, 49, 30, 34, 42, 33, 27, 34, 46, 49, 40, 46, 40, 45, 23, 38, 37, 42, 37, 36, 32, 52, 33, 35, 45, 26, 34, 24, 30, 25, 51, 43, 45, 29, 25, 39, 50, 33, 32, 40, 25, 36, 27, 27, 33, 32, 34, 29, 44, 34, 43, 22, 33, 31, 29, 42, 39, 45, 53, 44, 31, 36, 31, 20, 40, 25, 36, 26, 32, 41, 37, 45, 51, 38, 43, 30, 26, 27, 50, 31, 50, 24, 52, 47, 42, 37, 39, 34, 42, 31, 32, 25, 34, 37, 49, 56, 51, 45, 22, 38, 29, 45, 36, 34, 38, 34, 33, 36, 45, 48, 38, 19, 46, 51, 39, 32, 30, 36, 34, 31, 30, 50, 43, 27, 36, 29, 31, 44, 36, 28, 29, 37, 28, 26, 21, 42, 24, 50, 52, 25, 38, 27, 29, 48, 50, 28, 40, 48, 45, 31, 30, 31, 57, 46, 38, 32, 31, 44, 28, 43, 48, 31, 44, 38, 40, 27, 28, 30, 45, 51, 19, 26], \"yaxis\": \"y\"}],\n",
              "                        {\"legend\": {\"tracegroupgap\": 0}, \"margin\": {\"t\": 60}, \"template\": {\"data\": {\"bar\": [{\"error_x\": {\"color\": \"#2a3f5f\"}, \"error_y\": {\"color\": \"#2a3f5f\"}, \"marker\": {\"line\": {\"color\": \"#E5ECF6\", \"width\": 0.5}}, \"type\": \"bar\"}], \"barpolar\": [{\"marker\": {\"line\": {\"color\": \"#E5ECF6\", \"width\": 0.5}}, \"type\": \"barpolar\"}], \"carpet\": [{\"aaxis\": {\"endlinecolor\": \"#2a3f5f\", \"gridcolor\": \"white\", \"linecolor\": \"white\", \"minorgridcolor\": \"white\", \"startlinecolor\": \"#2a3f5f\"}, \"baxis\": {\"endlinecolor\": \"#2a3f5f\", \"gridcolor\": \"white\", \"linecolor\": \"white\", \"minorgridcolor\": \"white\", \"startlinecolor\": \"#2a3f5f\"}, \"type\": \"carpet\"}], \"choropleth\": [{\"colorbar\": {\"outlinewidth\": 0, \"ticks\": \"\"}, \"type\": \"choropleth\"}], \"contour\": [{\"colorbar\": {\"outlinewidth\": 0, \"ticks\": \"\"}, \"colorscale\": [[0.0, \"#0d0887\"], [0.1111111111111111, \"#46039f\"], [0.2222222222222222, \"#7201a8\"], [0.3333333333333333, \"#9c179e\"], [0.4444444444444444, \"#bd3786\"], [0.5555555555555556, \"#d8576b\"], [0.6666666666666666, \"#ed7953\"], [0.7777777777777778, \"#fb9f3a\"], [0.8888888888888888, \"#fdca26\"], [1.0, \"#f0f921\"]], \"type\": \"contour\"}], \"contourcarpet\": [{\"colorbar\": {\"outlinewidth\": 0, \"ticks\": \"\"}, \"type\": \"contourcarpet\"}], \"heatmap\": [{\"colorbar\": {\"outlinewidth\": 0, \"ticks\": \"\"}, \"colorscale\": [[0.0, \"#0d0887\"], [0.1111111111111111, \"#46039f\"], [0.2222222222222222, \"#7201a8\"], [0.3333333333333333, \"#9c179e\"], [0.4444444444444444, \"#bd3786\"], [0.5555555555555556, \"#d8576b\"], [0.6666666666666666, \"#ed7953\"], [0.7777777777777778, \"#fb9f3a\"], [0.8888888888888888, \"#fdca26\"], [1.0, \"#f0f921\"]], \"type\": \"heatmap\"}], \"heatmapgl\": [{\"colorbar\": {\"outlinewidth\": 0, \"ticks\": \"\"}, \"colorscale\": [[0.0, \"#0d0887\"], [0.1111111111111111, \"#46039f\"], [0.2222222222222222, \"#7201a8\"], [0.3333333333333333, \"#9c179e\"], [0.4444444444444444, \"#bd3786\"], [0.5555555555555556, \"#d8576b\"], [0.6666666666666666, \"#ed7953\"], [0.7777777777777778, \"#fb9f3a\"], [0.8888888888888888, \"#fdca26\"], [1.0, \"#f0f921\"]], \"type\": \"heatmapgl\"}], \"histogram\": [{\"marker\": {\"colorbar\": {\"outlinewidth\": 0, \"ticks\": \"\"}}, \"type\": \"histogram\"}], \"histogram2d\": [{\"colorbar\": {\"outlinewidth\": 0, \"ticks\": \"\"}, \"colorscale\": [[0.0, \"#0d0887\"], [0.1111111111111111, \"#46039f\"], [0.2222222222222222, \"#7201a8\"], [0.3333333333333333, \"#9c179e\"], [0.4444444444444444, \"#bd3786\"], [0.5555555555555556, \"#d8576b\"], [0.6666666666666666, \"#ed7953\"], [0.7777777777777778, \"#fb9f3a\"], [0.8888888888888888, \"#fdca26\"], [1.0, \"#f0f921\"]], \"type\": \"histogram2d\"}], \"histogram2dcontour\": [{\"colorbar\": {\"outlinewidth\": 0, \"ticks\": \"\"}, \"colorscale\": [[0.0, \"#0d0887\"], [0.1111111111111111, \"#46039f\"], [0.2222222222222222, \"#7201a8\"], [0.3333333333333333, \"#9c179e\"], [0.4444444444444444, \"#bd3786\"], [0.5555555555555556, \"#d8576b\"], [0.6666666666666666, \"#ed7953\"], [0.7777777777777778, \"#fb9f3a\"], [0.8888888888888888, \"#fdca26\"], [1.0, \"#f0f921\"]], \"type\": \"histogram2dcontour\"}], \"mesh3d\": [{\"colorbar\": {\"outlinewidth\": 0, \"ticks\": \"\"}, \"type\": \"mesh3d\"}], \"parcoords\": [{\"line\": {\"colorbar\": {\"outlinewidth\": 0, \"ticks\": \"\"}}, \"type\": \"parcoords\"}], \"pie\": [{\"automargin\": true, \"type\": \"pie\"}], \"scatter\": [{\"marker\": {\"colorbar\": {\"outlinewidth\": 0, \"ticks\": \"\"}}, \"type\": \"scatter\"}], \"scatter3d\": [{\"line\": {\"colorbar\": {\"outlinewidth\": 0, \"ticks\": \"\"}}, \"marker\": {\"colorbar\": {\"outlinewidth\": 0, \"ticks\": \"\"}}, \"type\": \"scatter3d\"}], \"scattercarpet\": [{\"marker\": {\"colorbar\": {\"outlinewidth\": 0, \"ticks\": \"\"}}, \"type\": \"scattercarpet\"}], \"scattergeo\": [{\"marker\": {\"colorbar\": {\"outlinewidth\": 0, \"ticks\": \"\"}}, \"type\": \"scattergeo\"}], \"scattergl\": [{\"marker\": {\"colorbar\": {\"outlinewidth\": 0, \"ticks\": \"\"}}, \"type\": \"scattergl\"}], \"scattermapbox\": [{\"marker\": {\"colorbar\": {\"outlinewidth\": 0, \"ticks\": \"\"}}, \"type\": \"scattermapbox\"}], \"scatterpolar\": [{\"marker\": {\"colorbar\": {\"outlinewidth\": 0, \"ticks\": \"\"}}, \"type\": \"scatterpolar\"}], \"scatterpolargl\": [{\"marker\": {\"colorbar\": {\"outlinewidth\": 0, \"ticks\": \"\"}}, \"type\": \"scatterpolargl\"}], \"scatterternary\": [{\"marker\": {\"colorbar\": {\"outlinewidth\": 0, \"ticks\": \"\"}}, \"type\": \"scatterternary\"}], \"surface\": [{\"colorbar\": {\"outlinewidth\": 0, \"ticks\": \"\"}, \"colorscale\": [[0.0, \"#0d0887\"], [0.1111111111111111, \"#46039f\"], [0.2222222222222222, \"#7201a8\"], [0.3333333333333333, \"#9c179e\"], [0.4444444444444444, \"#bd3786\"], [0.5555555555555556, \"#d8576b\"], [0.6666666666666666, \"#ed7953\"], [0.7777777777777778, \"#fb9f3a\"], [0.8888888888888888, \"#fdca26\"], [1.0, \"#f0f921\"]], \"type\": \"surface\"}], \"table\": [{\"cells\": {\"fill\": {\"color\": \"#EBF0F8\"}, \"line\": {\"color\": \"white\"}}, \"header\": {\"fill\": {\"color\": \"#C8D4E3\"}, \"line\": {\"color\": \"white\"}}, \"type\": \"table\"}]}, \"layout\": {\"annotationdefaults\": {\"arrowcolor\": \"#2a3f5f\", \"arrowhead\": 0, \"arrowwidth\": 1}, \"coloraxis\": {\"colorbar\": {\"outlinewidth\": 0, \"ticks\": \"\"}}, \"colorscale\": {\"diverging\": [[0, \"#8e0152\"], [0.1, \"#c51b7d\"], [0.2, \"#de77ae\"], [0.3, \"#f1b6da\"], [0.4, \"#fde0ef\"], [0.5, \"#f7f7f7\"], [0.6, \"#e6f5d0\"], [0.7, \"#b8e186\"], [0.8, \"#7fbc41\"], [0.9, \"#4d9221\"], [1, \"#276419\"]], \"sequential\": [[0.0, \"#0d0887\"], [0.1111111111111111, \"#46039f\"], [0.2222222222222222, \"#7201a8\"], [0.3333333333333333, \"#9c179e\"], [0.4444444444444444, \"#bd3786\"], [0.5555555555555556, \"#d8576b\"], [0.6666666666666666, \"#ed7953\"], [0.7777777777777778, \"#fb9f3a\"], [0.8888888888888888, \"#fdca26\"], [1.0, \"#f0f921\"]], \"sequentialminus\": [[0.0, \"#0d0887\"], [0.1111111111111111, \"#46039f\"], [0.2222222222222222, \"#7201a8\"], [0.3333333333333333, \"#9c179e\"], [0.4444444444444444, \"#bd3786\"], [0.5555555555555556, \"#d8576b\"], [0.6666666666666666, \"#ed7953\"], [0.7777777777777778, \"#fb9f3a\"], [0.8888888888888888, \"#fdca26\"], [1.0, \"#f0f921\"]]}, \"colorway\": [\"#636efa\", \"#EF553B\", \"#00cc96\", \"#ab63fa\", \"#FFA15A\", \"#19d3f3\", \"#FF6692\", \"#B6E880\", \"#FF97FF\", \"#FECB52\"], \"font\": {\"color\": \"#2a3f5f\"}, \"geo\": {\"bgcolor\": \"white\", \"lakecolor\": \"white\", \"landcolor\": \"#E5ECF6\", \"showlakes\": true, \"showland\": true, \"subunitcolor\": \"white\"}, \"hoverlabel\": {\"align\": \"left\"}, \"hovermode\": \"closest\", \"mapbox\": {\"style\": \"light\"}, \"paper_bgcolor\": \"white\", \"plot_bgcolor\": \"#E5ECF6\", \"polar\": {\"angularaxis\": {\"gridcolor\": \"white\", \"linecolor\": \"white\", \"ticks\": \"\"}, \"bgcolor\": \"#E5ECF6\", \"radialaxis\": {\"gridcolor\": \"white\", \"linecolor\": \"white\", \"ticks\": \"\"}}, \"scene\": {\"xaxis\": {\"backgroundcolor\": \"#E5ECF6\", \"gridcolor\": \"white\", \"gridwidth\": 2, \"linecolor\": \"white\", \"showbackground\": true, \"ticks\": \"\", \"zerolinecolor\": \"white\"}, \"yaxis\": {\"backgroundcolor\": \"#E5ECF6\", \"gridcolor\": \"white\", \"gridwidth\": 2, \"linecolor\": \"white\", \"showbackground\": true, \"ticks\": \"\", \"zerolinecolor\": \"white\"}, \"zaxis\": {\"backgroundcolor\": \"#E5ECF6\", \"gridcolor\": \"white\", \"gridwidth\": 2, \"linecolor\": \"white\", \"showbackground\": true, \"ticks\": \"\", \"zerolinecolor\": \"white\"}}, \"shapedefaults\": {\"line\": {\"color\": \"#2a3f5f\"}}, \"ternary\": {\"aaxis\": {\"gridcolor\": \"white\", \"linecolor\": \"white\", \"ticks\": \"\"}, \"baxis\": {\"gridcolor\": \"white\", \"linecolor\": \"white\", \"ticks\": \"\"}, \"bgcolor\": \"#E5ECF6\", \"caxis\": {\"gridcolor\": \"white\", \"linecolor\": \"white\", \"ticks\": \"\"}}, \"title\": {\"x\": 0.05}, \"xaxis\": {\"automargin\": true, \"gridcolor\": \"white\", \"linecolor\": \"white\", \"ticks\": \"\", \"title\": {\"standoff\": 15}, \"zerolinecolor\": \"white\", \"zerolinewidth\": 2}, \"yaxis\": {\"automargin\": true, \"gridcolor\": \"white\", \"linecolor\": \"white\", \"ticks\": \"\", \"title\": {\"standoff\": 15}, \"zerolinecolor\": \"white\", \"zerolinewidth\": 2}}}, \"xaxis\": {\"anchor\": \"y\", \"domain\": [0.0, 1.0], \"title\": {\"text\": \"Daily Time Spent on Site\"}}, \"yaxis\": {\"anchor\": \"x\", \"domain\": [0.0, 1.0], \"title\": {\"text\": \"Age\"}}},\n",
              "                        {\"responsive\": true}\n",
              "                    ).then(function(){\n",
              "                            \n",
              "var gd = document.getElementById('bd18ee27-1916-45a0-ae0b-cf38c5f5e457');\n",
              "var x = new MutationObserver(function (mutations, observer) {{\n",
              "        var display = window.getComputedStyle(gd).display;\n",
              "        if (!display || display === 'none') {{\n",
              "            console.log([gd, 'removed!']);\n",
              "            Plotly.purge(gd);\n",
              "            observer.disconnect();\n",
              "        }}\n",
              "}});\n",
              "\n",
              "// Listen for the removal of the full notebook cells\n",
              "var notebookContainer = gd.closest('#notebook-container');\n",
              "if (notebookContainer) {{\n",
              "    x.observe(notebookContainer, {childList: true});\n",
              "}}\n",
              "\n",
              "// Listen for the clearing of the current output cell\n",
              "var outputEl = gd.closest('.output');\n",
              "if (outputEl) {{\n",
              "    x.observe(outputEl, {childList: true});\n",
              "}}\n",
              "\n",
              "                        })\n",
              "                };\n",
              "                \n",
              "            </script>\n",
              "        </div>\n",
              "</body>\n",
              "</html>"
            ]
          },
          "metadata": {}
        }
      ]
    },
    {
      "cell_type": "markdown",
      "metadata": {
        "id": "uSFv2q38feYh"
      },
      "source": [
        "___\n",
        "**Observations:**\n",
        "- People in their twenties and thirties spent the most time on site\n",
        "- Older people tend to spend less time as compared to young people\n",
        "___"
      ]
    },
    {
      "cell_type": "markdown",
      "metadata": {
        "id": "Sl2XQB11f-7m"
      },
      "source": [
        "###**Task 3:**\n",
        "Split the dataset using **train_test_split** from the **sklearn** library "
      ]
    },
    {
      "cell_type": "code",
      "metadata": {
        "id": "2P5LrX7uf_tO",
        "outputId": "44ef4fad-7ef9-4fe7-c795-af797790a949",
        "colab": {
          "base_uri": "https://localhost:8080/"
        }
      },
      "source": [
        "from sklearn.model_selection import train_test_split\n",
        "\n",
        "X = df[['Daily Time Spent on Site', 'Age', 'Area Income','Daily Internet Usage',  'Male']]\n",
        "y = df['Clicked on Ad']\n",
        "\n",
        "train_X, test_X, train_y, test_y = train_test_split(X, y, test_size =  0.4, random_state= 42)\n",
        "\n",
        "print('Splitting the Dataset Completed')"
      ],
      "execution_count": null,
      "outputs": [
        {
          "output_type": "stream",
          "name": "stdout",
          "text": [
            "Splitting the Dataset Completed\n"
          ]
        }
      ]
    },
    {
      "cell_type": "markdown",
      "metadata": {
        "id": "DkGKSIojhF6p"
      },
      "source": [
        "###**Task 4:**\n",
        "Build a **Logistic Regression** model and fit the model"
      ]
    },
    {
      "cell_type": "code",
      "metadata": {
        "id": "8A9eIi7Eg6au",
        "outputId": "5bf59e47-461c-4ff4-ba8d-647d67e45c0f",
        "colab": {
          "base_uri": "https://localhost:8080/"
        }
      },
      "source": [
        "from sklearn.linear_model import LogisticRegression\n",
        "\n",
        "# Creating a Logistic Regression Object\n",
        "\n",
        "model = LogisticRegression()\n",
        "\n",
        "# Fitting the Model \n",
        "\n",
        "model.fit(train_X, train_y)"
      ],
      "execution_count": null,
      "outputs": [
        {
          "output_type": "execute_result",
          "data": {
            "text/plain": [
              "LogisticRegression()"
            ]
          },
          "metadata": {},
          "execution_count": 9
        }
      ]
    },
    {
      "cell_type": "code",
      "metadata": {
        "id": "ldAOk3pYhMaG"
      },
      "source": [
        "prediction = model.predict(test_X)"
      ],
      "execution_count": null,
      "outputs": []
    },
    {
      "cell_type": "code",
      "source": [
        "prediction[:5]"
      ],
      "metadata": {
        "colab": {
          "base_uri": "https://localhost:8080/"
        },
        "id": "C57qQ7svc453",
        "outputId": "231a9faf-e35b-402a-cce2-f2151cf8c325"
      },
      "execution_count": null,
      "outputs": [
        {
          "output_type": "execute_result",
          "data": {
            "text/plain": [
              "array([0, 1, 1, 1, 0])"
            ]
          },
          "metadata": {},
          "execution_count": 11
        }
      ]
    },
    {
      "cell_type": "code",
      "source": [
        "test_y[:5]"
      ],
      "metadata": {
        "colab": {
          "base_uri": "https://localhost:8080/"
        },
        "id": "irPnVFMCc9bv",
        "outputId": "ec1e5aa4-4ce3-4b4e-ecdd-33a2e87cddce"
      },
      "execution_count": null,
      "outputs": [
        {
          "output_type": "execute_result",
          "data": {
            "text/plain": [
              "521    1\n",
              "737    1\n",
              "740    1\n",
              "660    1\n",
              "411    0\n",
              "Name: Clicked on Ad, dtype: int64"
            ]
          },
          "metadata": {},
          "execution_count": 12
        }
      ]
    },
    {
      "cell_type": "code",
      "source": [
        "model.predict_proba(test_X)[:5]"
      ],
      "metadata": {
        "colab": {
          "base_uri": "https://localhost:8080/"
        },
        "id": "ZkRE1TpHxC_T",
        "outputId": "4821caba-ff7c-494a-c8cb-7d3e62e852aa"
      },
      "execution_count": null,
      "outputs": [
        {
          "output_type": "execute_result",
          "data": {
            "text/plain": [
              "array([[0.53939278, 0.46060722],\n",
              "       [0.00368351, 0.99631649],\n",
              "       [0.05078672, 0.94921328],\n",
              "       [0.00926288, 0.99073712],\n",
              "       [0.96951522, 0.03048478]])"
            ]
          },
          "metadata": {},
          "execution_count": 13
        }
      ]
    },
    {
      "cell_type": "code",
      "source": [
        "prediction[0:5]"
      ],
      "metadata": {
        "colab": {
          "base_uri": "https://localhost:8080/"
        },
        "id": "HmXWHavhw2ym",
        "outputId": "a656708f-984d-46a8-c3fe-34907cfd03b4"
      },
      "execution_count": null,
      "outputs": [
        {
          "output_type": "execute_result",
          "data": {
            "text/plain": [
              "array([0, 1, 1, 1, 0])"
            ]
          },
          "metadata": {},
          "execution_count": 16
        }
      ]
    },
    {
      "cell_type": "code",
      "source": [
        "test_y[:5]"
      ],
      "metadata": {
        "colab": {
          "base_uri": "https://localhost:8080/"
        },
        "id": "bto4RDetw66P",
        "outputId": "f5fdeced-f0e8-4952-94bc-c9bcc36b9c52"
      },
      "execution_count": null,
      "outputs": [
        {
          "output_type": "execute_result",
          "data": {
            "text/plain": [
              "521    1\n",
              "737    1\n",
              "740    1\n",
              "660    1\n",
              "411    0\n",
              "Name: Clicked on Ad, dtype: int64"
            ]
          },
          "metadata": {},
          "execution_count": 17
        }
      ]
    },
    {
      "cell_type": "markdown",
      "metadata": {
        "id": "hrl9J3Zche2c"
      },
      "source": [
        "###**Task 5:**\n",
        "Evaluate the Model\n",
        "\n",
        "- Use a Confusion Matrix and write your observations\n",
        "- Check the **accuracy_score**\n",
        "- Print a classification report"
      ]
    },
    {
      "cell_type": "code",
      "metadata": {
        "id": "eKDj-_UChmG3",
        "colab": {
          "base_uri": "https://localhost:8080/"
        },
        "outputId": "4095a59d-cd12-41d1-8273-0fa71ddeb016"
      },
      "source": [
        "from sklearn.metrics import confusion_matrix\n",
        "\n",
        "confusion_matrix(test_y, prediction)"
      ],
      "execution_count": null,
      "outputs": [
        {
          "output_type": "execute_result",
          "data": {
            "text/plain": [
              "array([[181,  10],\n",
              "       [ 32, 177]])"
            ]
          },
          "metadata": {},
          "execution_count": 14
        }
      ]
    },
    {
      "cell_type": "markdown",
      "metadata": {
        "id": "AjewdCWjhyvC"
      },
      "source": [
        "___\n",
        "**Observations:**\n",
        "\n",
        "**Confusion Matrix:**\n",
        "\n",
        "**Each row:** Actual Class\n",
        "\n",
        "**Each column:** Predicted Class\n",
        "\n",
        "**First:** Non-clicked Ads, the **negative class**:\n",
        "\n",
        "- 181 were correctly classified as Non-clicked Ads. True negatives.\n",
        "- Remaining 32 were wrongly classified as clicked Ads. False positive\n",
        "\n",
        "**Second:** The clicked Ads, the **positive class**:\n",
        "\n",
        "- 10 were incorrectly classified as Non-clicked Ads. False negatives\n",
        "- 177 were correctly classified clicked Ads. True positives\n",
        "___"
      ]
    },
    {
      "cell_type": "code",
      "metadata": {
        "id": "jqUdcRkuhpEx",
        "outputId": "4230decf-9bf5-4fe2-a3e2-b39042a27468",
        "colab": {
          "base_uri": "https://localhost:8080/"
        }
      },
      "source": [
        "from sklearn.metrics import accuracy_score\n",
        "\n",
        "print(f\"ACCURACY SCORE:\\n{accuracy_score(test_y, prediction):.4f}\")"
      ],
      "execution_count": null,
      "outputs": [
        {
          "output_type": "stream",
          "name": "stdout",
          "text": [
            "ACCURACY SCORE:\n",
            "0.8950\n"
          ]
        }
      ]
    },
    {
      "cell_type": "markdown",
      "metadata": {
        "id": "px-6gdgVmDMD"
      },
      "source": [
        "**Accuracy** is the fraction of predictions our model got right. Formally, accuracy has the following definition:\n",
        "\n",
        "**Accuracy** = Number of Correct Predictions **/** Total Number of Predictions\n",
        "\n"
      ]
    },
    {
      "cell_type": "markdown",
      "metadata": {
        "id": "k7-ermailox1"
      },
      "source": [
        "___\n",
        "**Observations:**\n",
        "- Accuracy comes out to 0.89, or 89% (89 correct predictions out of 100 total examples)\n",
        "___"
      ]
    },
    {
      "cell_type": "code",
      "metadata": {
        "id": "-fsjNZN5mXza",
        "colab": {
          "base_uri": "https://localhost:8080/"
        },
        "outputId": "620322fc-cefa-4bf0-d9d8-e34ceb8046d7"
      },
      "source": [
        "from sklearn import metrics\n",
        "\n",
        "print(metrics.classification_report(test_y, prediction))"
      ],
      "execution_count": null,
      "outputs": [
        {
          "output_type": "stream",
          "name": "stdout",
          "text": [
            "              precision    recall  f1-score   support\n",
            "\n",
            "           0       0.85      0.95      0.90       191\n",
            "           1       0.95      0.85      0.89       209\n",
            "\n",
            "    accuracy                           0.90       400\n",
            "   macro avg       0.90      0.90      0.89       400\n",
            "weighted avg       0.90      0.90      0.89       400\n",
            "\n"
          ]
        }
      ]
    },
    {
      "cell_type": "markdown",
      "metadata": {
        "id": "DvDxkeABd6hT"
      },
      "source": [
        "___\n",
        "- **Precision**: Ability of a classifier not to label an instance positive that is actually negative. For each class, it is defined as the ratio of true positives (TP) to the sum of a true positive (TP) and false positive (FP).\n",
        "\n",
        "   Precision = TP/(TP + FP)\n",
        "\n",
        "- **Recall**: Ability of a classifier to find all positive instances. For each class, it is defined as the ratio of true positives (TPs) to the sum of true positives (TPs) and false negatives (FNs).\n",
        "\n",
        "   Recall = TP/(TP+FN)\n",
        "\n",
        "- **f1-score**: A weighted harmonic mean of **precision** and **recall** such that the best score is **1.0** and the worst is **0.0**. **F1 scores** are lower than accuracy measures\n",
        "\n",
        "- **Support**: Support is the number of actual occurrences of the class in the specified dataset\n",
        "___"
      ]
    },
    {
      "cell_type": "code",
      "metadata": {
        "id": "aDDzHBC0eyDK"
      },
      "source": [
        ""
      ],
      "execution_count": null,
      "outputs": []
    }
  ]
}