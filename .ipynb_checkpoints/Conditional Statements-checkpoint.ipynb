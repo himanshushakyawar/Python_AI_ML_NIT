{
 "cells": [
  {
   "cell_type": "markdown",
   "id": "f9cfbe54",
   "metadata": {},
   "source": [
    "###Conditional Statement"
   ]
  },
  {
   "cell_type": "markdown",
   "id": "d4567301",
   "metadata": {},
   "source": [
    "Conditional statements are used to execute a block based on some condition.\n",
    "\n",
    "\n",
    "![](https://i.imgur.com/rFvXk20.png)"
   ]
  },
  {
   "cell_type": "code",
   "execution_count": 8,
   "id": "7ad48344",
   "metadata": {},
   "outputs": [
    {
     "name": "stdout",
     "output_type": "stream",
     "text": [
      "X is less than 15\n"
     ]
    }
   ],
   "source": [
    "x = 10 \n",
    "if (x<15):\n",
    "    print(\"X is less than 15\")"
   ]
  },
  {
   "cell_type": "code",
   "execution_count": 9,
   "id": "600202d1",
   "metadata": {},
   "outputs": [],
   "source": [
    "x = 100\n",
    "if (x < 25) :\n",
    "  print(\"X is less than 25\")"
   ]
  },
  {
   "cell_type": "code",
   "execution_count": 10,
   "id": "720f37ec",
   "metadata": {},
   "outputs": [
    {
     "name": "stdout",
     "output_type": "stream",
     "text": [
      "Hello World\n",
      "Deep Learning\n"
     ]
    }
   ],
   "source": [
    "x = 100\n",
    "if (x < 25) :\n",
    "  print(\"X is less than 25\")\n",
    "  print(\"Hello Edureka\")\n",
    "print(\"Hello World\")\n",
    "print(\"Deep Learning\")"
   ]
  },
  {
   "cell_type": "code",
   "execution_count": 11,
   "id": "0259877f",
   "metadata": {},
   "outputs": [
    {
     "name": "stdout",
     "output_type": "stream",
     "text": [
      "X is less than 25\n",
      "Hello Edureka\n",
      "Hello World\n",
      "Deep Learning\n"
     ]
    }
   ],
   "source": [
    "x = 10\n",
    "if (x < 25) :\n",
    "  print(\"X is less than 25\")\n",
    "  print(\"Hello Edureka\")\n",
    "print(\"Hello World\")\n",
    "print(\"Deep Learning\")"
   ]
  },
  {
   "cell_type": "code",
   "execution_count": 12,
   "id": "0d5366d5",
   "metadata": {},
   "outputs": [
    {
     "name": "stdout",
     "output_type": "stream",
     "text": [
      "X is less than 25\n",
      "Hello Edureka\n",
      "x is less than 50\n",
      "Machine Learning\n",
      "Hello World\n",
      "Deep Learning\n"
     ]
    }
   ],
   "source": [
    "x = 10\n",
    "if (x < 25) :\n",
    "  print(\"X is less than 25\")\n",
    "  print(\"Hello Edureka\")\n",
    "if (x <50):\n",
    "  print(\"x is less than 50\")\n",
    "  print(\"Machine Learning\")\n",
    "print(\"Hello World\")\n",
    "print(\"Deep Learning\")"
   ]
  },
  {
   "cell_type": "code",
   "execution_count": 13,
   "id": "0186b13e",
   "metadata": {},
   "outputs": [
    {
     "name": "stdout",
     "output_type": "stream",
     "text": [
      "x is less than 50\n",
      "Machine Learning\n",
      "Hello World\n",
      "Deep Learning\n"
     ]
    }
   ],
   "source": [
    "x = 30\n",
    "if (x < 25) :\n",
    "  print(\"X is less than 25\")\n",
    "  print(\"Hello Edureka\")\n",
    "if (x <50):\n",
    "  print(\"x is less than 50\")\n",
    "  print(\"Machine Learning\")\n",
    "print(\"Hello World\")\n",
    "print(\"Deep Learning\")"
   ]
  },
  {
   "cell_type": "code",
   "execution_count": 14,
   "id": "a8524bc8",
   "metadata": {
    "scrolled": true
   },
   "outputs": [
    {
     "name": "stdout",
     "output_type": "stream",
     "text": [
      "Hello World\n",
      "Deep Learning\n"
     ]
    }
   ],
   "source": [
    "x = 100\n",
    "if (x < 25) :\n",
    "  print(\"X is less than 25\")\n",
    "  print(\"Hello Edureka\")\n",
    "if (x <50):\n",
    "  print(\"x is less than 50\")\n",
    "  print(\"Machine Learning\")\n",
    "print(\"Hello World\")\n",
    "print(\"Deep Learning\")"
   ]
  },
  {
   "cell_type": "code",
   "execution_count": 15,
   "id": "3a9e79dd",
   "metadata": {},
   "outputs": [
    {
     "name": "stdout",
     "output_type": "stream",
     "text": [
      "X is less than 50\n",
      "Hello Edureka\n",
      "Something else\n"
     ]
    }
   ],
   "source": [
    "#if - else\n",
    "x = 26\n",
    "if (x < 50) : \n",
    "  print(\"X is less than 50\")\n",
    "  print(\"Hello Edureka\")\n",
    "else:\n",
    "  print(\"X is greater than 50\")\n",
    "  print(\"Hello World\")\n",
    "print(\"Something else\")"
   ]
  },
  {
   "cell_type": "code",
   "execution_count": 16,
   "id": "1c376908",
   "metadata": {},
   "outputs": [
    {
     "name": "stdout",
     "output_type": "stream",
     "text": [
      "Do Nothing\n",
      "Something else\n"
     ]
    }
   ],
   "source": [
    "#if - else\n",
    "x = 100\n",
    "if (x < 50) : \n",
    "  print(\"X is less than 50\")\n",
    "  print(\"Hello Edureka\")\n",
    "else:\n",
    "  if (x < 100):\n",
    "    print(\"X is less than 100\")\n",
    "  else:\n",
    "    print(\"Do Nothing\")\n",
    "print(\"Something else\")"
   ]
  },
  {
   "cell_type": "markdown",
   "id": "1920a646",
   "metadata": {},
   "source": [
    "WAP to get an input from user, and check if its even or not.\n",
    "Print if its even or odd.\n",
    "\n",
    "Create a Python list and Add the input value it to the Python list"
   ]
  },
  {
   "cell_type": "code",
   "execution_count": 20,
   "id": "0163b50a",
   "metadata": {},
   "outputs": [
    {
     "name": "stdout",
     "output_type": "stream",
     "text": [
      "Enter the Number : 23\n",
      "Odd\n",
      "[23]\n"
     ]
    }
   ],
   "source": [
    "inp = int(input('Enter the Number : '))\n",
    "if inp%2 ==0 :\n",
    "    print('Even')\n",
    "else:\n",
    "    print(\"Odd\")\n",
    "    \n",
    "l = []\n",
    "l.append(inp)\n",
    "print(l)"
   ]
  },
  {
   "cell_type": "code",
   "execution_count": 21,
   "id": "8fac773b",
   "metadata": {},
   "outputs": [
    {
     "name": "stdout",
     "output_type": "stream",
     "text": [
      "Enter the First Number 12\n",
      "Enter the Second Number 21\n",
      "X is less than Y\n"
     ]
    }
   ],
   "source": [
    "X = int(input(\"Enter the First Number X \"))\n",
    "Y = int(input(\"Enter the Second Number Y \"))\n",
    "if X<Y:\n",
    "  print('X is less than Y')\n",
    "elif X>Y:\n",
    "  print('X is greater than Y')\n",
    "else:\n",
    "  print('X and Y are equal')"
   ]
  },
  {
   "cell_type": "code",
   "execution_count": 24,
   "id": "8e06f896",
   "metadata": {},
   "outputs": [
    {
     "name": "stdout",
     "output_type": "stream",
     "text": [
      "Enter Number to Count 5\n",
      "0\n",
      "1\n",
      "2\n",
      "3\n",
      "4\n",
      "After While\n"
     ]
    }
   ],
   "source": [
    "inp = int(input(\"Enter Number to Count \"))\n",
    "count = 0\n",
    "while count<inp:\n",
    "    print(count)\n",
    "    count+=1\n",
    "print(\"After While\")"
   ]
  },
  {
   "cell_type": "code",
   "execution_count": 25,
   "id": "666455e6",
   "metadata": {},
   "outputs": [
    {
     "name": "stdout",
     "output_type": "stream",
     "text": [
      "Enter the Start Value2\n",
      "Enter the Start Value5\n",
      "My python list is [2, 3, 4]\n"
     ]
    }
   ],
   "source": [
    "ex_list = []\n",
    "start = int(input(\"Enter the Start Value \"))\n",
    "end = int(input(\"Enter the Start Value \"))\n",
    "if start > end :\n",
    "    print(\"Invalid Value\")\n",
    "else:\n",
    "    while(start<end):\n",
    "        ex_list.append(start)\n",
    "        start+=1\n",
    "    print(f'My python list is {ex_list}')"
   ]
  },
  {
   "cell_type": "markdown",
   "id": "38fa5b51",
   "metadata": {},
   "source": [
    "# Get 10 inputs from user, and append each value to python list --> while loops"
   ]
  },
  {
   "cell_type": "code",
   "execution_count": 27,
   "id": "00570142",
   "metadata": {},
   "outputs": [
    {
     "name": "stdout",
     "output_type": "stream",
     "text": [
      "Enter 1 Value 2\n",
      "Enter 2 Value 3\n",
      "Enter 3 Value 4\n",
      "Enter 4 Value 56\n",
      "Enter 5 Value 6\n",
      "Enter 6 Value 78\n",
      "Enter 7 Value 89\n",
      "Enter 8 Value 9\n",
      "Enter 9 Value 5\n",
      "Enter 10 Value 45\n",
      "[2, 3, 4, 56, 6, 78, 89, 9, 5, 45]\n"
     ]
    }
   ],
   "source": [
    "user_list = []\n",
    "while len(user_list) < 10:\n",
    "    user_list.append(int(input(f\"Enter {len(user_list) + 1} Value \" )))\n",
    "print(user_list)"
   ]
  },
  {
   "cell_type": "code",
   "execution_count": 28,
   "id": "e95a23b4",
   "metadata": {},
   "outputs": [
    {
     "name": "stdout",
     "output_type": "stream",
     "text": [
      "Enter a value to be added : 3\n",
      "Enter a value to be added : 3\n",
      "Enter a value to be added : 33\n",
      "Enter a value to be added : 4546\n",
      "Enter a value to be added : 5465\n",
      "Enter a value to be added : 5335\n",
      "Enter a value to be added : 35435\n",
      "Enter a value to be added : 135\n",
      "Enter a value to be added : 3534\n",
      "Enter a value to be added : 1354\n",
      "['3', '3', '33', '4546', '5465', '5335', '35435', '135', '3534', '1354']\n"
     ]
    }
   ],
   "source": [
    "user_list = []\n",
    "count = 0\n",
    "while count < 10 :\n",
    "  inp = input(\"Enter a value to be added : \")\n",
    "  user_list.append(inp)\n",
    "  count += 1\n",
    "print(user_list)"
   ]
  },
  {
   "cell_type": "code",
   "execution_count": 30,
   "id": "da76181a",
   "metadata": {},
   "outputs": [
    {
     "name": "stdout",
     "output_type": "stream",
     "text": [
      "Executed\n",
      "Executed\n",
      "Executed\n"
     ]
    }
   ],
   "source": [
    "emp = ['ram', 'krishna', 'radha']\n",
    "\n",
    "for name in emp:\n",
    "    print('Executed')"
   ]
  },
  {
   "cell_type": "code",
   "execution_count": 31,
   "id": "499e2a12",
   "metadata": {},
   "outputs": [
    {
     "name": "stdout",
     "output_type": "stream",
     "text": [
      "Executed\n",
      "Executed\n",
      "Executed\n"
     ]
    }
   ],
   "source": [
    "emp = ['ram', 'krishna', 'radha']\n",
    "for _ in emp:\n",
    "    print(\"Executed\")"
   ]
  },
  {
   "cell_type": "code",
   "execution_count": 32,
   "id": "f0a671dd",
   "metadata": {},
   "outputs": [
    {
     "name": "stdout",
     "output_type": "stream",
     "text": [
      "W\n",
      "e\n",
      "l\n",
      "c\n",
      "o\n",
      "m\n",
      "e\n"
     ]
    }
   ],
   "source": [
    "s = \"Welcome\"\n",
    "for _ in s:\n",
    "    print(_)"
   ]
  },
  {
   "cell_type": "code",
   "execution_count": 35,
   "id": "ade1d7de",
   "metadata": {},
   "outputs": [
    {
     "name": "stdout",
     "output_type": "stream",
     "text": [
      "12\n",
      "14\n",
      "15\n",
      "16\n",
      "8\n",
      "6\n"
     ]
    }
   ],
   "source": [
    "tup = (12,14,15,16,8,6)\n",
    "for _ in tup:\n",
    "    print(_)"
   ]
  },
  {
   "cell_type": "code",
   "execution_count": 44,
   "id": "65c2b7e4",
   "metadata": {},
   "outputs": [
    {
     "name": "stdout",
     "output_type": "stream",
     "text": [
      "-----H------\n",
      "-----e------\n",
      "-----l------\n",
      "-----l------\n",
      "-----o------\n",
      "----- ------\n",
      "-----W------\n",
      "-----O------\n",
      "-----r------\n",
      "-----l------\n",
      "-----d------\n"
     ]
    }
   ],
   "source": [
    "for w in \"Hello WOrld\":\n",
    "    print(f'{w:-^12}')\n",
    "    "
   ]
  },
  {
   "cell_type": "code",
   "execution_count": 45,
   "id": "25df5c85",
   "metadata": {},
   "outputs": [
    {
     "data": {
      "text/plain": [
       "11"
      ]
     },
     "execution_count": 45,
     "metadata": {},
     "output_type": "execute_result"
    }
   ],
   "source": [
    "len(\"Hello World\")"
   ]
  },
  {
   "cell_type": "code",
   "execution_count": 49,
   "id": "665d15ed",
   "metadata": {},
   "outputs": [
    {
     "data": {
      "text/plain": [
       "range"
      ]
     },
     "execution_count": 49,
     "metadata": {},
     "output_type": "execute_result"
    }
   ],
   "source": [
    "#range()\n",
    "a = range(10)\n",
    "a\n",
    "type(a)"
   ]
  },
  {
   "cell_type": "code",
   "execution_count": 48,
   "id": "08846432",
   "metadata": {},
   "outputs": [
    {
     "data": {
      "text/plain": [
       "[0, 1, 2, 3, 4, 5, 6, 7, 8, 9]"
      ]
     },
     "execution_count": 48,
     "metadata": {},
     "output_type": "execute_result"
    }
   ],
   "source": [
    "list(a)"
   ]
  },
  {
   "cell_type": "code",
   "execution_count": 63,
   "id": "4a431395",
   "metadata": {},
   "outputs": [],
   "source": [
    "b = ([i for i  in a])"
   ]
  },
  {
   "cell_type": "code",
   "execution_count": 64,
   "id": "bccb2d51",
   "metadata": {},
   "outputs": [
    {
     "data": {
      "text/plain": [
       "[0, 1, 2, 3, 4, 5, 6, 7, 8, 9]"
      ]
     },
     "execution_count": 64,
     "metadata": {},
     "output_type": "execute_result"
    }
   ],
   "source": [
    "b"
   ]
  },
  {
   "cell_type": "code",
   "execution_count": 65,
   "id": "9e99bdf8",
   "metadata": {},
   "outputs": [
    {
     "data": {
      "text/plain": [
       "list"
      ]
     },
     "execution_count": 65,
     "metadata": {},
     "output_type": "execute_result"
    }
   ],
   "source": [
    "type(b)"
   ]
  },
  {
   "cell_type": "code",
   "execution_count": 66,
   "id": "10a0cbef",
   "metadata": {},
   "outputs": [
    {
     "name": "stdout",
     "output_type": "stream",
     "text": [
      "hello\n",
      "hello\n",
      "hello\n",
      "hello\n",
      "hello\n"
     ]
    }
   ],
   "source": [
    "for i in range(5):\n",
    "    print(\"hello\")"
   ]
  },
  {
   "cell_type": "code",
   "execution_count": 68,
   "id": "442edb6f",
   "metadata": {},
   "outputs": [
    {
     "data": {
      "text/plain": [
       "range(2, 5)"
      ]
     },
     "execution_count": 68,
     "metadata": {},
     "output_type": "execute_result"
    }
   ],
   "source": [
    "# Start, Stop, Stepsize\n",
    "b = range(2,5)\n",
    "b"
   ]
  },
  {
   "cell_type": "code",
   "execution_count": 69,
   "id": "d8d72c3c",
   "metadata": {},
   "outputs": [
    {
     "data": {
      "text/plain": [
       "[2, 3, 4]"
      ]
     },
     "execution_count": 69,
     "metadata": {},
     "output_type": "execute_result"
    }
   ],
   "source": [
    "list(b)"
   ]
  },
  {
   "cell_type": "code",
   "execution_count": 70,
   "id": "9166a757",
   "metadata": {},
   "outputs": [],
   "source": [
    "c = range(0,10,2)"
   ]
  },
  {
   "cell_type": "code",
   "execution_count": 72,
   "id": "eac53f2d",
   "metadata": {},
   "outputs": [
    {
     "data": {
      "text/plain": [
       "[0, 2, 4, 6, 8]"
      ]
     },
     "execution_count": 72,
     "metadata": {},
     "output_type": "execute_result"
    }
   ],
   "source": [
    "list(c)"
   ]
  },
  {
   "cell_type": "code",
   "execution_count": 73,
   "id": "0d323968",
   "metadata": {},
   "outputs": [
    {
     "data": {
      "text/plain": [
       "[0, 1, 2, 3, 4, 5, 6, 7, 8, 9]"
      ]
     },
     "execution_count": 73,
     "metadata": {},
     "output_type": "execute_result"
    }
   ],
   "source": [
    "list(range(10))"
   ]
  },
  {
   "cell_type": "code",
   "execution_count": 86,
   "id": "0e432172",
   "metadata": {},
   "outputs": [
    {
     "name": "stdout",
     "output_type": "stream",
     "text": [
      "\n",
      "\n",
      "1 \n",
      "\n",
      "1 2 \n",
      "\n",
      "1 2 3 \n",
      "\n",
      "1 2 3 4 \n",
      "\n",
      "1 2 3 4 5 \n",
      "\n"
     ]
    }
   ],
   "source": [
    "n =5\n",
    "for i in range(1,n+2):\n",
    "    for j in range(1,i):\n",
    "        print(j,end=\" \")\n",
    "    print(\"\\n\")"
   ]
  },
  {
   "cell_type": "code",
   "execution_count": 87,
   "id": "9cf95365",
   "metadata": {},
   "outputs": [
    {
     "name": "stdout",
     "output_type": "stream",
     "text": [
      "1\n",
      "2\n",
      "3\n",
      "4\n",
      "print something\n"
     ]
    }
   ],
   "source": [
    "for i in range(1,11):\n",
    "  if i==5:\n",
    "    break\n",
    "  print(i)\n",
    "print(\"print something\")"
   ]
  },
  {
   "cell_type": "code",
   "execution_count": 88,
   "id": "a032de6c",
   "metadata": {},
   "outputs": [
    {
     "name": "stdout",
     "output_type": "stream",
     "text": [
      "1\n",
      "2\n",
      "3\n",
      "4\n",
      "6\n",
      "7\n",
      "8\n",
      "9\n",
      "10\n"
     ]
    }
   ],
   "source": [
    "for i in range(1,11):\n",
    "  if i==5:\n",
    "    continue\n",
    "  print(i)"
   ]
  },
  {
   "cell_type": "code",
   "execution_count": 89,
   "id": "52999094",
   "metadata": {},
   "outputs": [
    {
     "name": "stdout",
     "output_type": "stream",
     "text": [
      "1\n",
      "2\n",
      "3\n",
      "4\n",
      "5\n",
      "6\n",
      "7\n",
      "8\n",
      "9\n",
      "10\n"
     ]
    }
   ],
   "source": [
    "for i in range(1,11):\n",
    "  if i==5:\n",
    "    pass\n",
    "  print(i)"
   ]
  },
  {
   "cell_type": "code",
   "execution_count": 91,
   "id": "5e7a0122",
   "metadata": {},
   "outputs": [
    {
     "name": "stdout",
     "output_type": "stream",
     "text": [
      "Enter a number: 21\n",
      "21 is not a prime\n"
     ]
    }
   ],
   "source": [
    "#Check if a number is prime\n",
    "num = int(input(\"Enter a number: \"))\n",
    "is_prime = True\n",
    "for i in range(2, num):\n",
    "  if num % i == 0:\n",
    "    is_prime = False  # number is not prime\n",
    "    break    # exit from for loop\n",
    "\n",
    "if is_prime:\n",
    "  print(num, \"is prime\")\n",
    "else:\n",
    "  print(num, \"is not a prime\")\n"
   ]
  },
  {
   "cell_type": "code",
   "execution_count": 92,
   "id": "d2176d8d",
   "metadata": {},
   "outputs": [
    {
     "name": "stdout",
     "output_type": "stream",
     "text": [
      "\n",
      "Enter a number: 2\n",
      "Cube of  2 is 8\n",
      "\n",
      "Enter a number: 21\n",
      "Cube of  21 is 9261\n",
      "\n",
      "Enter a number: 32\n",
      "Cube of  32 is 32768\n",
      "\n",
      "Enter a number: q\n",
      "Exiting program (break statement executed)...\n"
     ]
    }
   ],
   "source": [
    "# Find the cube of a number\n",
    "while True:\n",
    "  value = input(\"\\nEnter a number: \")\n",
    "  if value =='q':\n",
    "    # if input is 'q' exit from the while loop\n",
    "    print(\"Exiting program (break statement executed)...\")\n",
    "    break\n",
    "  \n",
    "  if not value.isdigit():\n",
    "    # if input is not a digit move on to the next iteration\n",
    "    print(\"Enter digits only (continue statement executed)\")\n",
    "    continue\n",
    "  value = int(value)\n",
    "  print(\"Cube of \", value, \"is\", value **3) # everything is fine, just print the cube\n"
   ]
  },
  {
   "cell_type": "code",
   "execution_count": null,
   "id": "a84061cd",
   "metadata": {},
   "outputs": [],
   "source": []
  }
 ],
 "metadata": {
  "kernelspec": {
   "display_name": "Python 3",
   "language": "python",
   "name": "python3"
  },
  "language_info": {
   "codemirror_mode": {
    "name": "ipython",
    "version": 3
   },
   "file_extension": ".py",
   "mimetype": "text/x-python",
   "name": "python",
   "nbconvert_exporter": "python",
   "pygments_lexer": "ipython3",
   "version": "3.8.8"
  }
 },
 "nbformat": 4,
 "nbformat_minor": 5
}
