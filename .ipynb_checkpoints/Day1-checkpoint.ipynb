{
 "cells": [
  {
   "cell_type": "code",
   "execution_count": 26,
   "id": "e85c4beb",
   "metadata": {},
   "outputs": [
    {
     "name": "stdout",
     "output_type": "stream",
     "text": [
      "Hello World\n"
     ]
    }
   ],
   "source": [
    "print(\"Hello World\")"
   ]
  },
  {
   "cell_type": "code",
   "execution_count": 27,
   "id": "50b446ca",
   "metadata": {},
   "outputs": [
    {
     "name": "stdout",
     "output_type": "stream",
     "text": [
      "10\n"
     ]
    }
   ],
   "source": [
    "var = 10\n",
    "print(var)"
   ]
  },
  {
   "cell_type": "code",
   "execution_count": 28,
   "id": "5b26fec4",
   "metadata": {},
   "outputs": [],
   "source": [
    "var1 = 100\n",
    "var2 = \"Deep Learning\""
   ]
  },
  {
   "cell_type": "code",
   "execution_count": 30,
   "id": "4abb08d9",
   "metadata": {},
   "outputs": [
    {
     "name": "stdout",
     "output_type": "stream",
     "text": [
      "100 Deep Learning\n"
     ]
    }
   ],
   "source": [
    "print(var1,var2)"
   ]
  },
  {
   "cell_type": "code",
   "execution_count": 31,
   "id": "465db21c",
   "metadata": {},
   "outputs": [
    {
     "data": {
      "text/plain": [
       "60"
      ]
     },
     "execution_count": 31,
     "metadata": {},
     "output_type": "execute_result"
    }
   ],
   "source": [
    "10+50"
   ]
  },
  {
   "cell_type": "code",
   "execution_count": 33,
   "id": "1822b627",
   "metadata": {},
   "outputs": [
    {
     "name": "stdout",
     "output_type": "stream",
     "text": [
      "60\n",
      "-40\n"
     ]
    }
   ],
   "source": [
    "a = 10\n",
    "b =50\n",
    "print(a+b)\n",
    "print(a-b)"
   ]
  },
  {
   "cell_type": "markdown",
   "id": "a2d5e6c6",
   "metadata": {},
   "source": [
    "<h4> Inputs\n",
    "   "
   ]
  },
  {
   "cell_type": "code",
   "execution_count": 34,
   "id": "1227725a",
   "metadata": {},
   "outputs": [
    {
     "name": "stdout",
     "output_type": "stream",
     "text": [
      "enter the number\t:50\n"
     ]
    }
   ],
   "source": [
    "num1 = input(\"enter the number\\t:\")"
   ]
  },
  {
   "cell_type": "code",
   "execution_count": 35,
   "id": "6144d38b",
   "metadata": {},
   "outputs": [
    {
     "ename": "TypeError",
     "evalue": "can only concatenate str (not \"int\") to str",
     "output_type": "error",
     "traceback": [
      "\u001b[1;31m---------------------------------------------------------------------------\u001b[0m",
      "\u001b[1;31mTypeError\u001b[0m                                 Traceback (most recent call last)",
      "\u001b[1;32m<ipython-input-35-72c7b579d129>\u001b[0m in \u001b[0;36m<module>\u001b[1;34m\u001b[0m\n\u001b[1;32m----> 1\u001b[1;33m \u001b[0mprint\u001b[0m\u001b[1;33m(\u001b[0m\u001b[0mnum1\u001b[0m\u001b[1;33m+\u001b[0m\u001b[1;36m10\u001b[0m\u001b[1;33m)\u001b[0m\u001b[1;33m\u001b[0m\u001b[1;33m\u001b[0m\u001b[0m\n\u001b[0m",
      "\u001b[1;31mTypeError\u001b[0m: can only concatenate str (not \"int\") to str"
     ]
    }
   ],
   "source": [
    "print(num1+10)"
   ]
  },
  {
   "cell_type": "code",
   "execution_count": 36,
   "id": "18731d23",
   "metadata": {},
   "outputs": [
    {
     "name": "stdout",
     "output_type": "stream",
     "text": [
      "60\n"
     ]
    }
   ],
   "source": [
    "num1 = int(num1)\n",
    "print(num1 + 10)"
   ]
  },
  {
   "cell_type": "code",
   "execution_count": 37,
   "id": "58cf5af9",
   "metadata": {},
   "outputs": [
    {
     "name": "stdout",
     "output_type": "stream",
     "text": [
      "Enter the first number to add : 10\n",
      "Enter the second number to add: 20\n",
      "The Sum of 10 and 20 is 30\n"
     ]
    }
   ],
   "source": [
    "a = int(input(\"Enter the first number to add : \"))\n",
    "b = int(input(\"Enter the second number to add: \"))\n",
    "\n",
    "sum = a + b\n",
    "\n",
    "print(\"The Sum of {0} and {1} is {2}\".format(a,b,sum))"
   ]
  },
  {
   "cell_type": "code",
   "execution_count": 38,
   "id": "e34bd7f4",
   "metadata": {},
   "outputs": [
    {
     "name": "stdout",
     "output_type": "stream",
     "text": [
      "30\n"
     ]
    }
   ],
   "source": [
    "# In the above example, sum of two numbers in Python:\n",
    "a = 10\n",
    "b = 20\n",
    "print(a+b)\n",
    "\n",
    "# Here 10,20 are literals, stored in variable(identifier) a, b. \n",
    "# print is a keyword and + is an operator"
   ]
  },
  {
   "cell_type": "markdown",
   "id": "17535a7a",
   "metadata": {},
   "source": [
    "<h4> Literals\n",
    "   "
   ]
  },
  {
   "cell_type": "code",
   "execution_count": 40,
   "id": "bff66076",
   "metadata": {},
   "outputs": [
    {
     "name": "stdout",
     "output_type": "stream",
     "text": [
      "<class 'int'>\n",
      "<class 'float'>\n",
      "<class 'complex'>\n",
      "<class 'str'>\n",
      "<class 'bool'>\n",
      "<class 'bool'>\n"
     ]
    }
   ],
   "source": [
    "a = 10 #integer \n",
    "b = 1.0 #Float\n",
    "c = 10 +9j #Complex\n",
    "d = \"hello\" \n",
    "e = True\n",
    "f = False\n",
    "print(type(a), type(b), type(c), type(d), type(e), type(f), sep = \"\\n\")"
   ]
  },
  {
   "cell_type": "code",
   "execution_count": 41,
   "id": "9524ad44",
   "metadata": {},
   "outputs": [
    {
     "ename": "NameError",
     "evalue": "name 'true' is not defined",
     "output_type": "error",
     "traceback": [
      "\u001b[1;31m---------------------------------------------------------------------------\u001b[0m",
      "\u001b[1;31mNameError\u001b[0m                                 Traceback (most recent call last)",
      "\u001b[1;32m<ipython-input-41-01b7fb8b2cba>\u001b[0m in \u001b[0;36m<module>\u001b[1;34m\u001b[0m\n\u001b[1;32m----> 1\u001b[1;33m \u001b[0mx\u001b[0m \u001b[1;33m=\u001b[0m \u001b[0mtrue\u001b[0m\u001b[1;33m\u001b[0m\u001b[1;33m\u001b[0m\u001b[0m\n\u001b[0m\u001b[0;32m      2\u001b[0m \u001b[0mtype\u001b[0m\u001b[1;33m(\u001b[0m\u001b[0mx\u001b[0m\u001b[1;33m)\u001b[0m\u001b[1;33m\u001b[0m\u001b[1;33m\u001b[0m\u001b[0m\n",
      "\u001b[1;31mNameError\u001b[0m: name 'true' is not defined"
     ]
    }
   ],
   "source": [
    "x = true\n",
    "type(x)"
   ]
  },
  {
   "cell_type": "code",
   "execution_count": 42,
   "id": "df086089",
   "metadata": {},
   "outputs": [],
   "source": [
    "# True --> Camelcase - Boolean value\n",
    "# true --> Not a keyword/Boolean value"
   ]
  },
  {
   "cell_type": "code",
   "execution_count": 43,
   "id": "8a16e782",
   "metadata": {},
   "outputs": [
    {
     "name": "stdout",
     "output_type": "stream",
     "text": [
      "<class 'str'>\n"
     ]
    }
   ],
   "source": [
    "#String data types - can be created with single quote as well\n",
    "e = 'python'\n",
    "print(type(e))"
   ]
  },
  {
   "cell_type": "code",
   "execution_count": 44,
   "id": "c2492da0",
   "metadata": {},
   "outputs": [],
   "source": [
    "##Identifiers in Python"
   ]
  },
  {
   "cell_type": "code",
   "execution_count": 49,
   "id": "332093d1",
   "metadata": {},
   "outputs": [],
   "source": [
    "hima = 10\n",
    "Hima = 10\n",
    "hima1 = 10\n",
    "_hima = 10\n",
    "# h@ima = 10 #Invaild Identifier format\n",
    "# hima\n",
    "# hima~himan = 10\n"
   ]
  },
  {
   "cell_type": "code",
   "execution_count": 50,
   "id": "acb33028",
   "metadata": {},
   "outputs": [
    {
     "name": "stdout",
     "output_type": "stream",
     "text": [
      "10 Himanshu 100\n"
     ]
    }
   ],
   "source": [
    "var = 10\n",
    "Var = 'Himanshu' #python is case sensitive\n",
    "vaR = 100\n",
    "print(var,Var, vaR)"
   ]
  },
  {
   "cell_type": "markdown",
   "id": "dbe48102",
   "metadata": {},
   "source": [
    "Variable Creation Rule\n",
    "1. Variable Name is case sensitive\n",
    "2. being with English letter or underscore\n",
    "3. only special character allowed is \"_\"\n",
    "4. variable cant be keyword\n",
    "5 variable can be Alpha Numeric"
   ]
  },
  {
   "cell_type": "code",
   "execution_count": 52,
   "id": "96e63fc8",
   "metadata": {},
   "outputs": [],
   "source": [
    "var_2_1 = 10\n",
    "_13var = 11"
   ]
  },
  {
   "cell_type": "code",
   "execution_count": 53,
   "id": "ac61678e",
   "metadata": {},
   "outputs": [
    {
     "name": "stdout",
     "output_type": "stream",
     "text": [
      "11\n"
     ]
    }
   ],
   "source": [
    "print(_13var)"
   ]
  },
  {
   "cell_type": "code",
   "execution_count": 54,
   "id": "9f69c92f",
   "metadata": {},
   "outputs": [
    {
     "ename": "SyntaxError",
     "evalue": "invalid syntax (<ipython-input-54-188e8a0aa642>, line 1)",
     "output_type": "error",
     "traceback": [
      "\u001b[1;36m  File \u001b[1;32m\"<ipython-input-54-188e8a0aa642>\"\u001b[1;36m, line \u001b[1;32m1\u001b[0m\n\u001b[1;33m    2132xy = 12\u001b[0m\n\u001b[1;37m        ^\u001b[0m\n\u001b[1;31mSyntaxError\u001b[0m\u001b[1;31m:\u001b[0m invalid syntax\n"
     ]
    }
   ],
   "source": [
    "2132xy = 12"
   ]
  },
  {
   "cell_type": "code",
   "execution_count": 63,
   "id": "d5e35eec",
   "metadata": {},
   "outputs": [
    {
     "data": {
      "text/plain": [
       "['False',\n",
       " 'None',\n",
       " 'True',\n",
       " 'and',\n",
       " 'as',\n",
       " 'assert',\n",
       " 'async',\n",
       " 'await',\n",
       " 'break',\n",
       " 'class',\n",
       " 'continue',\n",
       " 'def',\n",
       " 'del',\n",
       " 'elif',\n",
       " 'else',\n",
       " 'except',\n",
       " 'finally',\n",
       " 'for',\n",
       " 'from',\n",
       " 'global',\n",
       " 'if',\n",
       " 'import',\n",
       " 'in',\n",
       " 'is',\n",
       " 'lambda',\n",
       " 'nonlocal',\n",
       " 'not',\n",
       " 'or',\n",
       " 'pass',\n",
       " 'raise',\n",
       " 'return',\n",
       " 'try',\n",
       " 'while',\n",
       " 'with',\n",
       " 'yield']"
      ]
     },
     "execution_count": 63,
     "metadata": {},
     "output_type": "execute_result"
    }
   ],
   "source": [
    "import keyword\n",
    "keyword.kwlist\n",
    "keyword.kwlist"
   ]
  },
  {
   "cell_type": "code",
   "execution_count": 61,
   "id": "dd9722d7",
   "metadata": {},
   "outputs": [
    {
     "data": {
      "text/plain": [
       "35"
      ]
     },
     "execution_count": 61,
     "metadata": {},
     "output_type": "execute_result"
    }
   ],
   "source": [
    "len(keyword.kwlist)"
   ]
  },
  {
   "cell_type": "code",
   "execution_count": 64,
   "id": "27b9e6b8",
   "metadata": {},
   "outputs": [
    {
     "ename": "SyntaxError",
     "evalue": "invalid syntax (<ipython-input-64-0a9cee926e19>, line 1)",
     "output_type": "error",
     "traceback": [
      "\u001b[1;36m  File \u001b[1;32m\"<ipython-input-64-0a9cee926e19>\"\u001b[1;36m, line \u001b[1;32m1\u001b[0m\n\u001b[1;33m    in = 10\u001b[0m\n\u001b[1;37m    ^\u001b[0m\n\u001b[1;31mSyntaxError\u001b[0m\u001b[1;31m:\u001b[0m invalid syntax\n"
     ]
    }
   ],
   "source": [
    " in = 10 "
   ]
  },
  {
   "cell_type": "code",
   "execution_count": 65,
   "id": "d61dcc52",
   "metadata": {},
   "outputs": [],
   "source": [
    "In = 10"
   ]
  },
  {
   "cell_type": "code",
   "execution_count": 66,
   "id": "167f3da9",
   "metadata": {},
   "outputs": [
    {
     "ename": "SyntaxError",
     "evalue": "invalid syntax (<ipython-input-66-f2887dd34121>, line 1)",
     "output_type": "error",
     "traceback": [
      "\u001b[1;36m  File \u001b[1;32m\"<ipython-input-66-f2887dd34121>\"\u001b[1;36m, line \u001b[1;32m1\u001b[0m\n\u001b[1;33m    class\u001b[0m\n\u001b[1;37m         ^\u001b[0m\n\u001b[1;31mSyntaxError\u001b[0m\u001b[1;31m:\u001b[0m invalid syntax\n"
     ]
    }
   ],
   "source": [
    "class\n",
    "True\n",
    "False\n",
    "None\n",
    "and"
   ]
  },
  {
   "cell_type": "code",
   "execution_count": 67,
   "id": "23d5f94c",
   "metadata": {},
   "outputs": [
    {
     "name": "stdout",
     "output_type": "stream",
     "text": [
      "10\n"
     ]
    }
   ],
   "source": [
    "#Rules For Naming the Identifier\n",
    "\n",
    "x = 10 \n",
    "print(x)"
   ]
  },
  {
   "cell_type": "code",
   "execution_count": 68,
   "id": "49347592",
   "metadata": {},
   "outputs": [],
   "source": [
    "FirstName =\"Himanshu\""
   ]
  },
  {
   "cell_type": "code",
   "execution_count": 69,
   "id": "9fa6fcb1",
   "metadata": {},
   "outputs": [
    {
     "ename": "SyntaxError",
     "evalue": "invalid syntax (<ipython-input-69-2b2238611dcf>, line 1)",
     "output_type": "error",
     "traceback": [
      "\u001b[1;36m  File \u001b[1;32m\"<ipython-input-69-2b2238611dcf>\"\u001b[1;36m, line \u001b[1;32m1\u001b[0m\n\u001b[1;33m    first name = \"Himanshu\"\u001b[0m\n\u001b[1;37m          ^\u001b[0m\n\u001b[1;31mSyntaxError\u001b[0m\u001b[1;31m:\u001b[0m invalid syntax\n"
     ]
    }
   ],
   "source": [
    "first name = \"Himanshu\" # You will get a syntax error because you cannot use any spaces in between the variable name. \n",
    "#first_name = 'Edureka'"
   ]
  },
  {
   "cell_type": "code",
   "execution_count": 71,
   "id": "a67d57ac",
   "metadata": {},
   "outputs": [
    {
     "ename": "NameError",
     "evalue": "name 'count' is not defined",
     "output_type": "error",
     "traceback": [
      "\u001b[1;31m---------------------------------------------------------------------------\u001b[0m",
      "\u001b[1;31mNameError\u001b[0m                                 Traceback (most recent call last)",
      "\u001b[1;32m<ipython-input-71-28f18f989010>\u001b[0m in \u001b[0;36m<module>\u001b[1;34m\u001b[0m\n\u001b[0;32m      1\u001b[0m \u001b[0mCount\u001b[0m \u001b[1;33m=\u001b[0m \u001b[1;36m10\u001b[0m\u001b[1;33m\u001b[0m\u001b[1;33m\u001b[0m\u001b[0m\n\u001b[1;32m----> 2\u001b[1;33m \u001b[0mprint\u001b[0m\u001b[1;33m(\u001b[0m\u001b[0mcount\u001b[0m\u001b[1;33m)\u001b[0m \u001b[1;31m#You will get an error because Python is case-sensitive language ‘Count’ and ‘count’ are treated as two different variables.\u001b[0m\u001b[1;33m\u001b[0m\u001b[1;33m\u001b[0m\u001b[0m\n\u001b[0m\u001b[0;32m      3\u001b[0m \u001b[1;31m#print(Count)\u001b[0m\u001b[1;33m\u001b[0m\u001b[1;33m\u001b[0m\u001b[1;33m\u001b[0m\u001b[0m\n",
      "\u001b[1;31mNameError\u001b[0m: name 'count' is not defined"
     ]
    }
   ],
   "source": [
    "Count = 10\n",
    "print(count) #You will get an error because Python is case-sensitive language ‘Count’ and ‘count’ are treated as two different variables.\n",
    "#print(Count) "
   ]
  },
  {
   "cell_type": "code",
   "execution_count": null,
   "id": "9ee0f44b",
   "metadata": {},
   "outputs": [],
   "source": [
    "for = 10 # you will get error because the reserved kkeyword cannot be used\n",
    "#_for = 10"
   ]
  },
  {
   "cell_type": "code",
   "execution_count": 72,
   "id": "827569b1",
   "metadata": {},
   "outputs": [],
   "source": [
    "_for = 10 #Valid"
   ]
  },
  {
   "cell_type": "code",
   "execution_count": 73,
   "id": "1970fb83",
   "metadata": {},
   "outputs": [],
   "source": [
    "#9var = 10 # You will get an error because variable name cannot start with a number. It only starts with _, A-Z, a-z\n",
    "var9 = 10"
   ]
  },
  {
   "cell_type": "code",
   "execution_count": 74,
   "id": "798deef9",
   "metadata": {},
   "outputs": [],
   "source": [
    "# Number + number --> Datatype to be same\n",
    "# string + number --> get error(convert the value from one data type to the other = type casting)\n"
   ]
  },
  {
   "cell_type": "code",
   "execution_count": 76,
   "id": "611b4b01",
   "metadata": {},
   "outputs": [
    {
     "ename": "TypeError",
     "evalue": "can only concatenate str (not \"int\") to str",
     "output_type": "error",
     "traceback": [
      "\u001b[1;31m---------------------------------------------------------------------------\u001b[0m",
      "\u001b[1;31mTypeError\u001b[0m                                 Traceback (most recent call last)",
      "\u001b[1;32m<ipython-input-76-4c57fe2691b4>\u001b[0m in \u001b[0;36m<module>\u001b[1;34m\u001b[0m\n\u001b[1;32m----> 1\u001b[1;33m \u001b[0mprint\u001b[0m\u001b[1;33m(\u001b[0m\u001b[1;34m\"Edureaka\"\u001b[0m \u001b[1;33m+\u001b[0m \u001b[1;36m10\u001b[0m\u001b[1;33m)\u001b[0m\u001b[1;33m\u001b[0m\u001b[1;33m\u001b[0m\u001b[0m\n\u001b[0m",
      "\u001b[1;31mTypeError\u001b[0m: can only concatenate str (not \"int\") to str"
     ]
    }
   ],
   "source": [
    "print(\"Edureaka\" + 10) #  You are getting this TypeError because you cannot add string with integer"
   ]
  },
  {
   "cell_type": "code",
   "execution_count": 77,
   "id": "a763e097",
   "metadata": {},
   "outputs": [
    {
     "name": "stdout",
     "output_type": "stream",
     "text": [
      " Himanshu + 17\n"
     ]
    }
   ],
   "source": [
    "print(\" Himanshu + 17\")"
   ]
  },
  {
   "cell_type": "code",
   "execution_count": 81,
   "id": "cf45614f",
   "metadata": {},
   "outputs": [
    {
     "name": "stdout",
     "output_type": "stream",
     "text": [
      "Himanshu17\n"
     ]
    },
    {
     "data": {
      "text/plain": [
       "str"
      ]
     },
     "execution_count": 81,
     "metadata": {},
     "output_type": "execute_result"
    }
   ],
   "source": [
    "print('Himanshu' + '17') # see their is no space between them\n",
    "type('Himanshu' + '17')"
   ]
  },
  {
   "cell_type": "code",
   "execution_count": 85,
   "id": "193604e9",
   "metadata": {},
   "outputs": [
    {
     "name": "stdout",
     "output_type": "stream",
     "text": [
      "Himanshu 17\n"
     ]
    },
    {
     "data": {
      "text/plain": [
       "str"
      ]
     },
     "execution_count": 85,
     "metadata": {},
     "output_type": "execute_result"
    }
   ],
   "source": [
    "a = \"Himanshu\"\n",
    "b =\"17\"\n",
    "print(a,b) # here it gives you the space.\n",
    "type(a)"
   ]
  },
  {
   "cell_type": "code",
   "execution_count": 86,
   "id": "de4015e2",
   "metadata": {},
   "outputs": [
    {
     "ename": "SyntaxError",
     "evalue": "invalid syntax (<ipython-input-86-7a73ee8aa76a>, line 1)",
     "output_type": "error",
     "traceback": [
      "\u001b[1;36m  File \u001b[1;32m\"<ipython-input-86-7a73ee8aa76a>\"\u001b[1;36m, line \u001b[1;32m1\u001b[0m\n\u001b[1;33m    $at = 10 #You are getting this error as only special character allowed in Python is underscore(_)\u001b[0m\n\u001b[1;37m    ^\u001b[0m\n\u001b[1;31mSyntaxError\u001b[0m\u001b[1;31m:\u001b[0m invalid syntax\n"
     ]
    }
   ],
   "source": [
    "$at = 10 #You are getting this error as only special character allowed in Python is underscore(_)\n",
    "# _at = 10\n",
    "# at = 10"
   ]
  },
  {
   "cell_type": "code",
   "execution_count": 87,
   "id": "bc4358cc",
   "metadata": {},
   "outputs": [
    {
     "ename": "SyntaxError",
     "evalue": "invalid syntax (<ipython-input-87-16121f62f67e>, line 1)",
     "output_type": "error",
     "traceback": [
      "\u001b[1;36m  File \u001b[1;32m\"<ipython-input-87-16121f62f67e>\"\u001b[1;36m, line \u001b[1;32m1\u001b[0m\n\u001b[1;33m    9Himasnhu = 10 # you will get the error as Identifier/variable name should\u001b[0m\n\u001b[1;37m     ^\u001b[0m\n\u001b[1;31mSyntaxError\u001b[0m\u001b[1;31m:\u001b[0m invalid syntax\n"
     ]
    }
   ],
   "source": [
    "9Himasnhu = 10 # you will get the error as Identifier/variable name should \n",
    "#begin with character or underscore"
   ]
  },
  {
   "cell_type": "code",
   "execution_count": 88,
   "id": "13046ce4",
   "metadata": {},
   "outputs": [
    {
     "ename": "NameError",
     "evalue": "name 'himan' is not defined",
     "output_type": "error",
     "traceback": [
      "\u001b[1;31m---------------------------------------------------------------------------\u001b[0m",
      "\u001b[1;31mNameError\u001b[0m                                 Traceback (most recent call last)",
      "\u001b[1;32m<ipython-input-88-331d27c190c9>\u001b[0m in \u001b[0;36m<module>\u001b[1;34m\u001b[0m\n\u001b[1;32m----> 1\u001b[1;33m \u001b[0mhiman\u001b[0m\u001b[1;31m#shaky = 10\u001b[0m\u001b[1;33m\u001b[0m\u001b[1;33m\u001b[0m\u001b[0m\n\u001b[0m\u001b[0;32m      2\u001b[0m \u001b[1;31m#throw an error as only special character allowed is underscored(_)\u001b[0m\u001b[1;33m\u001b[0m\u001b[1;33m\u001b[0m\u001b[1;33m\u001b[0m\u001b[0m\n",
      "\u001b[1;31mNameError\u001b[0m: name 'himan' is not defined"
     ]
    }
   ],
   "source": [
    "himan#shaky = 10\n",
    "#throw an error as only special character allowed is underscored(_)"
   ]
  },
  {
   "cell_type": "code",
   "execution_count": 97,
   "id": "c1ae2f9e",
   "metadata": {},
   "outputs": [],
   "source": [
    "a = 10\n",
    "b = 20\n"
   ]
  },
  {
   "cell_type": "markdown",
   "id": "d39a9ebc",
   "metadata": {},
   "source": [
    "##Operator in python\n",
    "### Arithmetic Operators and Built-in Functions - Using Python as a calculator\n",
    "The following are examples of the kinds of Python expressions that we can use.\n",
    "\n",
    "| Operator | Description |\n",
    "|----|---|\n",
    "| +  | Addition |\n",
    "| -  | Subtraction |\n",
    "| /  | division |\n",
    "| %  | mod (remainder) |\n",
    "| *  | multiplication |\n",
    "| //  | floor division |\n",
    "| **  | to the power of |"
   ]
  },
  {
   "cell_type": "code",
   "execution_count": 98,
   "id": "3a81f73f",
   "metadata": {},
   "outputs": [],
   "source": [
    "#operand 1 & operand 2\n",
    "#Operand (Operator) Operand 2 -->Syntax"
   ]
  },
  {
   "cell_type": "code",
   "execution_count": 99,
   "id": "e01cfb68",
   "metadata": {},
   "outputs": [
    {
     "data": {
      "text/plain": [
       "11"
      ]
     },
     "execution_count": 99,
     "metadata": {},
     "output_type": "execute_result"
    }
   ],
   "source": [
    "6 + 5 "
   ]
  },
  {
   "cell_type": "code",
   "execution_count": 100,
   "id": "653004ef",
   "metadata": {},
   "outputs": [
    {
     "data": {
      "text/plain": [
       "6.5"
      ]
     },
     "execution_count": 100,
     "metadata": {},
     "output_type": "execute_result"
    }
   ],
   "source": [
    "20 -13.5"
   ]
  },
  {
   "cell_type": "code",
   "execution_count": 101,
   "id": "5ef49e3c",
   "metadata": {},
   "outputs": [
    {
     "data": {
      "text/plain": [
       "12.56"
      ]
     },
     "execution_count": 101,
     "metadata": {},
     "output_type": "execute_result"
    }
   ],
   "source": [
    "3.14*4"
   ]
  },
  {
   "cell_type": "code",
   "execution_count": 102,
   "id": "8bf5b147",
   "metadata": {},
   "outputs": [
    {
     "data": {
      "text/plain": [
       "8"
      ]
     },
     "execution_count": 102,
     "metadata": {},
     "output_type": "execute_result"
    }
   ],
   "source": [
    "2*4 #multiplication"
   ]
  },
  {
   "cell_type": "code",
   "execution_count": 103,
   "id": "f072c2f4",
   "metadata": {},
   "outputs": [
    {
     "data": {
      "text/plain": [
       "16"
      ]
     },
     "execution_count": 103,
     "metadata": {},
     "output_type": "execute_result"
    }
   ],
   "source": [
    "2**4 #power of "
   ]
  },
  {
   "cell_type": "code",
   "execution_count": 104,
   "id": "ede2a751",
   "metadata": {},
   "outputs": [
    {
     "data": {
      "text/plain": [
       "1"
      ]
     },
     "execution_count": 104,
     "metadata": {},
     "output_type": "execute_result"
    }
   ],
   "source": [
    "19%3 # mod or remainder"
   ]
  },
  {
   "cell_type": "code",
   "execution_count": 105,
   "id": "f26941d1",
   "metadata": {},
   "outputs": [
    {
     "data": {
      "text/plain": [
       "6"
      ]
     },
     "execution_count": 105,
     "metadata": {},
     "output_type": "execute_result"
    }
   ],
   "source": [
    "19//3 #floor Divsion"
   ]
  },
  {
   "cell_type": "code",
   "execution_count": 106,
   "id": "a0f8435d",
   "metadata": {},
   "outputs": [
    {
     "data": {
      "text/plain": [
       "6.333333333333333"
      ]
     },
     "execution_count": 106,
     "metadata": {},
     "output_type": "execute_result"
    }
   ],
   "source": [
    "19/3 #Division"
   ]
  },
  {
   "cell_type": "code",
   "execution_count": 114,
   "id": "c0db3ea7",
   "metadata": {},
   "outputs": [
    {
     "data": {
      "text/plain": [
       "1"
      ]
     },
     "execution_count": 114,
     "metadata": {},
     "output_type": "execute_result"
    }
   ],
   "source": [
    "var = 0.0000 \n",
    "var = 00000\n",
    "var = 100\n",
    "var % 3"
   ]
  },
  {
   "cell_type": "code",
   "execution_count": 115,
   "id": "08d46b95",
   "metadata": {},
   "outputs": [
    {
     "data": {
      "text/plain": [
       "-100"
      ]
     },
     "execution_count": 115,
     "metadata": {},
     "output_type": "execute_result"
    }
   ],
   "source": [
    "- var # negation"
   ]
  },
  {
   "cell_type": "markdown",
   "id": "d2a26a23",
   "metadata": {},
   "source": [
    "In other words, the fraction 10 / 3 can be rewritten as 3 1/3, so the remainder is `1`."
   ]
  },
  {
   "cell_type": "markdown",
   "id": "d5439d76",
   "metadata": {},
   "source": [
    "Operator order of precedence (from highest to lowest)\n",
    "\n",
    "- `**`\n",
    "\n",
    "- `-` (negation)\n",
    "\n",
    "- `*`, `/`, `//`, `%` (left to right)\n",
    "\n",
    "- `+` (addition), `-` (subtraction) (left to right)"
   ]
  },
  {
   "cell_type": "code",
   "execution_count": 116,
   "id": "facc7469",
   "metadata": {},
   "outputs": [
    {
     "data": {
      "text/plain": [
       "50"
      ]
     },
     "execution_count": 116,
     "metadata": {},
     "output_type": "execute_result"
    }
   ],
   "source": [
    "5**2*6+100-200"
   ]
  },
  {
   "cell_type": "code",
   "execution_count": 117,
   "id": "13b69950",
   "metadata": {},
   "outputs": [
    {
     "data": {
      "text/plain": [
       "400.0"
      ]
     },
     "execution_count": 117,
     "metadata": {},
     "output_type": "execute_result"
    }
   ],
   "source": [
    "#Experiment\n",
    "10 ** 2 *4 + 10 /2 - 5"
   ]
  },
  {
   "cell_type": "markdown",
   "id": "c80f0699",
   "metadata": {},
   "source": [
    "#### Encountering Errors\n",
    "When programming, it is common to encounter errors.  You will learn how to interpret the error messages, so that you can fix your code.  Here are a few examples:"
   ]
  },
  {
   "cell_type": "code",
   "execution_count": 118,
   "id": "ef2b057b",
   "metadata": {},
   "outputs": [
    {
     "ename": "SyntaxError",
     "evalue": "invalid syntax (<ipython-input-118-8598b6e23d74>, line 1)",
     "output_type": "error",
     "traceback": [
      "\u001b[1;36m  File \u001b[1;32m\"<ipython-input-118-8598b6e23d74>\"\u001b[1;36m, line \u001b[1;32m1\u001b[0m\n\u001b[1;33m    3  +\u001b[0m\n\u001b[1;37m        ^\u001b[0m\n\u001b[1;31mSyntaxError\u001b[0m\u001b[1;31m:\u001b[0m invalid syntax\n"
     ]
    }
   ],
   "source": [
    " 3  +"
   ]
  },
  {
   "cell_type": "code",
   "execution_count": 119,
   "id": "2ea8bf53",
   "metadata": {},
   "outputs": [
    {
     "ename": "SyntaxError",
     "evalue": "unmatched ')' (<ipython-input-119-ecd091ea1616>, line 1)",
     "output_type": "error",
     "traceback": [
      "\u001b[1;36m  File \u001b[1;32m\"<ipython-input-119-ecd091ea1616>\"\u001b[1;36m, line \u001b[1;32m1\u001b[0m\n\u001b[1;33m    3 + 5 ) * 22\u001b[0m\n\u001b[1;37m          ^\u001b[0m\n\u001b[1;31mSyntaxError\u001b[0m\u001b[1;31m:\u001b[0m unmatched ')'\n"
     ]
    }
   ],
   "source": [
    "3 + 5 ) * 22"
   ]
  },
  {
   "cell_type": "code",
   "execution_count": 121,
   "id": "f10f1d53",
   "metadata": {},
   "outputs": [
    {
     "ename": "SyntaxError",
     "evalue": "invalid syntax (<ipython-input-121-d43fd5bf46cc>, line 1)",
     "output_type": "error",
     "traceback": [
      "\u001b[1;36m  File \u001b[1;32m\"<ipython-input-121-d43fd5bf46cc>\"\u001b[1;36m, line \u001b[1;32m1\u001b[0m\n\u001b[1;33m    2* * 5 # their should be no space between the **\u001b[0m\n\u001b[1;37m       ^\u001b[0m\n\u001b[1;31mSyntaxError\u001b[0m\u001b[1;31m:\u001b[0m invalid syntax\n"
     ]
    }
   ],
   "source": [
    "2* * 5 # their should be no space between the **"
   ]
  },
  {
   "cell_type": "code",
   "execution_count": 122,
   "id": "2fa4d728",
   "metadata": {},
   "outputs": [
    {
     "ename": "ZeroDivisionError",
     "evalue": "division by zero",
     "output_type": "error",
     "traceback": [
      "\u001b[1;31m---------------------------------------------------------------------------\u001b[0m",
      "\u001b[1;31mZeroDivisionError\u001b[0m                         Traceback (most recent call last)",
      "\u001b[1;32m<ipython-input-122-7a5050487faa>\u001b[0m in \u001b[0;36m<module>\u001b[1;34m\u001b[0m\n\u001b[1;32m----> 1\u001b[1;33m \u001b[1;36m9\u001b[0m\u001b[1;33m/\u001b[0m\u001b[1;36m0\u001b[0m\u001b[1;33m\u001b[0m\u001b[1;33m\u001b[0m\u001b[0m\n\u001b[0m",
      "\u001b[1;31mZeroDivisionError\u001b[0m: division by zero"
     ]
    }
   ],
   "source": [
    "9/0"
   ]
  },
  {
   "cell_type": "code",
   "execution_count": 123,
   "id": "2da71356",
   "metadata": {},
   "outputs": [
    {
     "name": "stdout",
     "output_type": "stream",
     "text": [
      "['ArithmeticError', 'AssertionError', 'AttributeError', 'BaseException', 'BlockingIOError', 'BrokenPipeError', 'BufferError', 'BytesWarning', 'ChildProcessError', 'ConnectionAbortedError', 'ConnectionError', 'ConnectionRefusedError', 'ConnectionResetError', 'DeprecationWarning', 'EOFError', 'Ellipsis', 'EnvironmentError', 'Exception', 'False', 'FileExistsError', 'FileNotFoundError', 'FloatingPointError', 'FutureWarning', 'GeneratorExit', 'IOError', 'ImportError', 'ImportWarning', 'IndentationError', 'IndexError', 'InterruptedError', 'IsADirectoryError', 'KeyError', 'KeyboardInterrupt', 'LookupError', 'MemoryError', 'ModuleNotFoundError', 'NameError', 'None', 'NotADirectoryError', 'NotImplemented', 'NotImplementedError', 'OSError', 'OverflowError', 'PendingDeprecationWarning', 'PermissionError', 'ProcessLookupError', 'RecursionError', 'ReferenceError', 'ResourceWarning', 'RuntimeError', 'RuntimeWarning', 'StopAsyncIteration', 'StopIteration', 'SyntaxError', 'SyntaxWarning', 'SystemError', 'SystemExit', 'TabError', 'TimeoutError', 'True', 'TypeError', 'UnboundLocalError', 'UnicodeDecodeError', 'UnicodeEncodeError', 'UnicodeError', 'UnicodeTranslateError', 'UnicodeWarning', 'UserWarning', 'ValueError', 'Warning', 'WindowsError', 'ZeroDivisionError', '__IPYTHON__', '__build_class__', '__debug__', '__doc__', '__import__', '__loader__', '__name__', '__package__', '__spec__', 'abs', 'all', 'any', 'ascii', 'bin', 'bool', 'breakpoint', 'bytearray', 'bytes', 'callable', 'chr', 'classmethod', 'compile', 'complex', 'copyright', 'credits', 'delattr', 'dict', 'dir', 'display', 'divmod', 'enumerate', 'eval', 'exec', 'filter', 'float', 'format', 'frozenset', 'get_ipython', 'getattr', 'globals', 'hasattr', 'hash', 'help', 'hex', 'id', 'input', 'int', 'isinstance', 'issubclass', 'iter', 'len', 'license', 'list', 'locals', 'map', 'max', 'memoryview', 'min', 'next', 'object', 'oct', 'open', 'ord', 'pow', 'print', 'property', 'range', 'repr', 'reversed', 'round', 'set', 'setattr', 'slice', 'sorted', 'staticmethod', 'str', 'sum', 'super', 'tuple', 'type', 'vars', 'zip']\n"
     ]
    }
   ],
   "source": [
    "print(dir(locals()['__builtins__']))"
   ]
  },
  {
   "cell_type": "markdown",
   "id": "fc989262",
   "metadata": {},
   "source": [
    "#### Practice Exercise: Writing expressions\n",
    "\n",
    "1. A patient just turned 95 years old.  Write a Python expression to calculate her age in days.\n",
    "2. A father reports that his son's temperature was 39.1 degrees Celsius when measured at home.  Write an expression to covert the temperature from Celsius to Fahreneheit.  \n",
    "**Hint:** To convert Celsius to Fahreneheit Multiply by 9, divide by 5, and then add 32."
   ]
  },
  {
   "cell_type": "code",
   "execution_count": 129,
   "id": "7ad8b71c",
   "metadata": {},
   "outputs": [
    {
     "name": "stdout",
     "output_type": "stream",
     "text": [
      "Age in days: 33945 days\n"
     ]
    }
   ],
   "source": [
    "# Example 1\n",
    "age = 93\n",
    "days = 365\n",
    "\n",
    "print(\"Age in days: \" + str (age *days)+\" days\")"
   ]
  },
  {
   "cell_type": "code",
   "execution_count": 130,
   "id": "98300fc7",
   "metadata": {},
   "outputs": [
    {
     "name": "stdout",
     "output_type": "stream",
     "text": [
      "The Temperature in fahreneheit is 102.38000000000001 F\n"
     ]
    }
   ],
   "source": [
    "#Example 2\n",
    "temp_cel = 39.1\n",
    "temp_far = 9*temp_cel/5 + 32\n",
    "print(\"The Temperature in fahreneheit is {0} F\". format(temp_far))"
   ]
  },
  {
   "cell_type": "code",
   "execution_count": 131,
   "id": "58051a5b",
   "metadata": {},
   "outputs": [],
   "source": [
    "####Simplifying Arithmetic Operations"
   ]
  },
  {
   "cell_type": "markdown",
   "id": "7ffae737",
   "metadata": {},
   "source": [
    "**round( )** function rounds the input value to a specified number of places or to the nearest integer. "
   ]
  },
  {
   "cell_type": "code",
   "execution_count": 132,
   "id": "db2ce12c",
   "metadata": {},
   "outputs": [
    {
     "name": "stdout",
     "output_type": "stream",
     "text": [
      "11\n"
     ]
    }
   ],
   "source": [
    "print(round(10.678))"
   ]
  },
  {
   "cell_type": "code",
   "execution_count": 133,
   "id": "c4634dbc",
   "metadata": {},
   "outputs": [
    {
     "name": "stdout",
     "output_type": "stream",
     "text": [
      "10\n"
     ]
    }
   ],
   "source": [
    "print(round(10.478))"
   ]
  },
  {
   "cell_type": "code",
   "execution_count": 134,
   "id": "56e7f935",
   "metadata": {},
   "outputs": [
    {
     "name": "stdout",
     "output_type": "stream",
     "text": [
      "10\n"
     ]
    }
   ],
   "source": [
    "print(round(10.500))"
   ]
  },
  {
   "cell_type": "code",
   "execution_count": 135,
   "id": "2806695c",
   "metadata": {},
   "outputs": [
    {
     "name": "stdout",
     "output_type": "stream",
     "text": [
      "10.48\n"
     ]
    }
   ],
   "source": [
    "print(round(10.478, 2))"
   ]
  },
  {
   "cell_type": "code",
   "execution_count": 136,
   "id": "d27406be",
   "metadata": {},
   "outputs": [
    {
     "name": "stdout",
     "output_type": "stream",
     "text": [
      "10.5\n"
     ]
    }
   ],
   "source": [
    "print(round(10.478 , 1))"
   ]
  },
  {
   "cell_type": "markdown",
   "id": "597a942b",
   "metadata": {},
   "source": [
    "**complex( )** is used to define a complex number and **abs( )** outputs the absolute value of the same."
   ]
  },
  {
   "cell_type": "code",
   "execution_count": 139,
   "id": "2ec90b43",
   "metadata": {},
   "outputs": [
    {
     "data": {
      "text/plain": [
       "(complex, 15.524174696260024)"
      ]
     },
     "execution_count": 139,
     "metadata": {},
     "output_type": "execute_result"
    }
   ],
   "source": [
    "c = 15 +4j\n",
    "type(c), abs(c)"
   ]
  },
  {
   "cell_type": "code",
   "execution_count": 145,
   "id": "abc20c81",
   "metadata": {},
   "outputs": [
    {
     "name": "stdout",
     "output_type": "stream",
     "text": [
      "5.385164807134504\n"
     ]
    }
   ],
   "source": [
    "c =complex('5+2j')\n",
    "print(abs(c))\n"
   ]
  },
  {
   "cell_type": "markdown",
   "id": "ecb17742",
   "metadata": {},
   "source": [
    "**divmod(x,y)** outputs the quotient and the remainder in a tuple(you will be learning about it in the further chapters) in the format (quotient, remainder). "
   ]
  },
  {
   "cell_type": "code",
   "execution_count": 148,
   "id": "9ce7b26f",
   "metadata": {},
   "outputs": [
    {
     "data": {
      "text/plain": [
       "(3, 1)"
      ]
     },
     "execution_count": 148,
     "metadata": {},
     "output_type": "execute_result"
    }
   ],
   "source": [
    "divmod(10,3)"
   ]
  },
  {
   "cell_type": "markdown",
   "id": "5facfee3",
   "metadata": {},
   "source": [
    "**pow(x,y,z)** can be used to find the power $x^y$ also the mod of the resulting value with the third specified number can be found i.e. : ($x^y$ % z)."
   ]
  },
  {
   "cell_type": "code",
   "execution_count": 150,
   "id": "92af1708",
   "metadata": {},
   "outputs": [
    {
     "data": {
      "text/plain": [
       "1"
      ]
     },
     "execution_count": 150,
     "metadata": {},
     "output_type": "execute_result"
    }
   ],
   "source": [
    "pow(2,4,3) # 2 **4 = 16 then 16%3 -----> 1"
   ]
  },
  {
   "cell_type": "markdown",
   "id": "bb29588e",
   "metadata": {},
   "source": [
    "###Assignment Operator\n",
    "Used to assign value to a variable\n",
    "\n",
    "\n",
    "| Operator | Example | Similar to \n",
    "|----------|---------|----------|\n",
    "| = |x=10 |x = 10\n",
    "| +=  | x+=5 | x = x + 5\n",
    "| -= | x-=5 | x = x - 5\n",
    "| *=  | x*=5 |x = x * 5 \n",
    "| /=  | x/=5 |x = x / 5 \n",
    "| %=  | x%=5 |x = x % 5 \n",
    "| **=  | x**=5 |x = x ** 5\n",
    "| &=  | x&=5 |x = x & 5\n",
    "| ^=  | x^=5 |x = x ^ 5\n",
    "| <<=  | x<<=5 |x = x << 5\n",
    " \n"
   ]
  },
  {
   "cell_type": "code",
   "execution_count": 155,
   "id": "a43ad9f2",
   "metadata": {},
   "outputs": [
    {
     "name": "stdout",
     "output_type": "stream",
     "text": [
      "10\n"
     ]
    }
   ],
   "source": [
    "x = 5\n",
    "x +=5\n",
    "print(x)"
   ]
  },
  {
   "cell_type": "code",
   "execution_count": 156,
   "id": "eb6cc6bc",
   "metadata": {},
   "outputs": [
    {
     "name": "stdout",
     "output_type": "stream",
     "text": [
      "50\n"
     ]
    }
   ],
   "source": [
    "x *=5\n",
    "print(x)"
   ]
  },
  {
   "cell_type": "markdown",
   "id": "34403b42",
   "metadata": {},
   "source": [
    "### Comparison Operators \n",
    "\n",
    "These operators will allow us to compare variables and output a Boolean value (True or False). \n",
    "\n",
    "<h3> Table of Comparison Operators </h3><p>  In the table below, consider a=3 and b=4.</p>\n",
    "\n",
    "<table class=\"table table-bordered\">\n",
    "<tr>\n",
    "<th style=\"width:10%\">Operator</th><th style=\"width:45%\">Description</th><th>Example</th>\n",
    "</tr>\n",
    "<tr>\n",
    "<td>==</td>\n",
    "<td>If the values of two operands are equal, then the condition becomes true.</td>\n",
    "<td> (a == b) is not true.</td>\n",
    "</tr>\n",
    "<tr>\n",
    "<td>!=</td>\n",
    "<td>If values of two operands are not equal, then condition becomes true.</td>\n",
    "<td>(a != b) is true</td>\n",
    "</tr>\n",
    "<tr>\n",
    "<td>&gt;</td>\n",
    "<td>If the value of left operand is greater than the value of right operand, then condition becomes true.</td>\n",
    "<td> (a &gt; b) is not true.</td>\n",
    "</tr>\n",
    "<tr>\n",
    "<td>&lt;</td>\n",
    "<td>If the value of left operand is less than the value of right operand, then condition becomes true.</td>\n",
    "<td> (a &lt; b) is true.</td>\n",
    "</tr>\n",
    "<tr>\n",
    "<td>&gt;=</td>\n",
    "<td>If the value of left operand is greater than or equal to the value of right operand, then condition becomes true.</td>\n",
    "<td> (a &gt;= b) is not true. </td>\n",
    "</tr>\n",
    "<tr>\n",
    "<td>&lt;=</td>\n",
    "<td>If the value of left operand is less than or equal to the value of right operand, then condition becomes true.</td>\n",
    "<td> (a &lt;= b) is true. </td>\n",
    "</tr>\n",
    "</table>"
   ]
  },
  {
   "cell_type": "code",
   "execution_count": 157,
   "id": "9c7ceef2",
   "metadata": {},
   "outputs": [
    {
     "data": {
      "text/plain": [
       "(False, True, False, True, True, False)"
      ]
     },
     "execution_count": 157,
     "metadata": {},
     "output_type": "execute_result"
    }
   ],
   "source": [
    "10 < 3, 10 >3 ,10 ==3, 10!=3, 10>=3,10<=3"
   ]
  },
  {
   "cell_type": "markdown",
   "id": "14766ec0",
   "metadata": {},
   "source": [
    "Let's now work through quick examples of each of these.\n",
    "\n",
    "#### Equal"
   ]
  },
  {
   "cell_type": "code",
   "execution_count": 158,
   "id": "18bc2d07",
   "metadata": {},
   "outputs": [
    {
     "data": {
      "text/plain": [
       "True"
      ]
     },
     "execution_count": 158,
     "metadata": {},
     "output_type": "execute_result"
    }
   ],
   "source": [
    "2 == 2 "
   ]
  },
  {
   "cell_type": "code",
   "execution_count": 159,
   "id": "ead4a2c1",
   "metadata": {},
   "outputs": [
    {
     "data": {
      "text/plain": [
       "False"
      ]
     },
     "execution_count": 159,
     "metadata": {},
     "output_type": "execute_result"
    }
   ],
   "source": [
    "1 == 0 "
   ]
  },
  {
   "cell_type": "markdown",
   "id": "b026697a",
   "metadata": {},
   "source": [
    "Note that <code>==</code> is a <em>comparison</em> operator, while <code>=</code> is an <em>assignment</em> operator."
   ]
  },
  {
   "cell_type": "markdown",
   "id": "e938426b",
   "metadata": {},
   "source": [
    "#### Not Equal"
   ]
  },
  {
   "cell_type": "code",
   "execution_count": 160,
   "id": "1412b6c5",
   "metadata": {},
   "outputs": [
    {
     "ename": "SyntaxError",
     "evalue": "invalid syntax (<ipython-input-160-e42401d91c85>, line 1)",
     "output_type": "error",
     "traceback": [
      "\u001b[1;36m  File \u001b[1;32m\"<ipython-input-160-e42401d91c85>\"\u001b[1;36m, line \u001b[1;32m1\u001b[0m\n\u001b[1;33m    2 ! = 1\u001b[0m\n\u001b[1;37m      ^\u001b[0m\n\u001b[1;31mSyntaxError\u001b[0m\u001b[1;31m:\u001b[0m invalid syntax\n"
     ]
    }
   ],
   "source": [
    "2 ! = 1"
   ]
  },
  {
   "cell_type": "code",
   "execution_count": 161,
   "id": "a713032e",
   "metadata": {},
   "outputs": [
    {
     "data": {
      "text/plain": [
       "True"
      ]
     },
     "execution_count": 161,
     "metadata": {},
     "output_type": "execute_result"
    }
   ],
   "source": [
    "2 != 1"
   ]
  },
  {
   "cell_type": "markdown",
   "id": "34923904",
   "metadata": {},
   "source": [
    "#### Chained Comparison Operators\n",
    "\n",
    "An interesting feature of Python is the ability to *chain* multiple comparisons to perform a more complex test. You can use these chained comparisons as shorthand for larger Boolean Expressions.\n",
    "\n",
    "In this lecture we will learn how to chain comparison operators and we will also introduce two other important statements in Python: **and** and **or**.\n",
    "\n",
    "Let's look at a few examples of using chains:"
   ]
  },
  {
   "cell_type": "code",
   "execution_count": 162,
   "id": "6a080adb",
   "metadata": {},
   "outputs": [
    {
     "data": {
      "text/plain": [
       "True"
      ]
     },
     "execution_count": 162,
     "metadata": {},
     "output_type": "execute_result"
    }
   ],
   "source": [
    "1<2<3"
   ]
  },
  {
   "cell_type": "markdown",
   "id": "0bbce42d",
   "metadata": {},
   "source": [
    "The above statement checks if 1 was less than 2 **and** if 2 was less than 3. We could have written this using an **and** statement in Python:"
   ]
  },
  {
   "cell_type": "code",
   "execution_count": 164,
   "id": "63b31f9d",
   "metadata": {},
   "outputs": [
    {
     "data": {
      "text/plain": [
       "True"
      ]
     },
     "execution_count": 164,
     "metadata": {},
     "output_type": "execute_result"
    }
   ],
   "source": [
    "1 < 2 and 2 < 3"
   ]
  },
  {
   "cell_type": "code",
   "execution_count": 165,
   "id": "f31966b0",
   "metadata": {},
   "outputs": [
    {
     "data": {
      "text/plain": [
       "False"
      ]
     },
     "execution_count": 165,
     "metadata": {},
     "output_type": "execute_result"
    }
   ],
   "source": [
    "1 < 3 > 5"
   ]
  },
  {
   "cell_type": "markdown",
   "id": "2231f08a",
   "metadata": {},
   "source": [
    "###Logical Operator\n",
    "Logical Operators are used to combine conditional statements\n",
    "\n",
    "| Operator | Description | Example\n",
    "|----|---|---|\n",
    "| and  | Returns True if both statements are true | x < 5 and  x < 10\t\n",
    "| or  | Returns True if one of the statements is true | x < 5 or  x < 10\t\n",
    "| not  | Reverse the result, returns False if the result is true and vice versa | not(x < 5 or  x < 10)"
   ]
  },
  {
   "cell_type": "markdown",
   "id": "4062d1d8",
   "metadata": {},
   "source": [
    "The above checks if 3 is larger than both of the other numbers, so you could use **and** to rewrite it as:"
   ]
  },
  {
   "cell_type": "code",
   "execution_count": 166,
   "id": "e847b844",
   "metadata": {},
   "outputs": [
    {
     "data": {
      "text/plain": [
       "True"
      ]
     },
     "execution_count": 166,
     "metadata": {},
     "output_type": "execute_result"
    }
   ],
   "source": [
    "x = 2\n",
    "x < 5 and x < 10"
   ]
  },
  {
   "cell_type": "code",
   "execution_count": 167,
   "id": "9a0b9d72",
   "metadata": {},
   "outputs": [
    {
     "data": {
      "text/plain": [
       "False"
      ]
     },
     "execution_count": 167,
     "metadata": {},
     "output_type": "execute_result"
    }
   ],
   "source": [
    "False and True"
   ]
  },
  {
   "cell_type": "code",
   "execution_count": 168,
   "id": "6f7403cc",
   "metadata": {},
   "outputs": [
    {
     "data": {
      "text/plain": [
       "True"
      ]
     },
     "execution_count": 168,
     "metadata": {},
     "output_type": "execute_result"
    }
   ],
   "source": [
    "True and True"
   ]
  },
  {
   "cell_type": "code",
   "execution_count": 169,
   "id": "933e8d10",
   "metadata": {},
   "outputs": [
    {
     "data": {
      "text/plain": [
       "False"
      ]
     },
     "execution_count": 169,
     "metadata": {},
     "output_type": "execute_result"
    }
   ],
   "source": [
    "False and False"
   ]
  },
  {
   "cell_type": "code",
   "execution_count": 170,
   "id": "a568fd6f",
   "metadata": {},
   "outputs": [
    {
     "data": {
      "text/plain": [
       "True"
      ]
     },
     "execution_count": 170,
     "metadata": {},
     "output_type": "execute_result"
    }
   ],
   "source": [
    "1<3 and 3>2"
   ]
  },
  {
   "cell_type": "markdown",
   "id": "a12c4645",
   "metadata": {},
   "source": [
    "It's important to note that Python is checking both instances of the comparisons. We can also use **or** to write comparisons in Python. For example:"
   ]
  },
  {
   "cell_type": "code",
   "execution_count": 171,
   "id": "677d7e3f",
   "metadata": {},
   "outputs": [
    {
     "data": {
      "text/plain": [
       "True"
      ]
     },
     "execution_count": 171,
     "metadata": {},
     "output_type": "execute_result"
    }
   ],
   "source": [
    " 1 ==2 or 2<3 #False or True"
   ]
  },
  {
   "cell_type": "code",
   "execution_count": 172,
   "id": "34a0dd04",
   "metadata": {},
   "outputs": [
    {
     "data": {
      "text/plain": [
       "True"
      ]
     },
     "execution_count": 172,
     "metadata": {},
     "output_type": "execute_result"
    }
   ],
   "source": [
    "True or False"
   ]
  },
  {
   "cell_type": "code",
   "execution_count": 173,
   "id": "e75c27e7",
   "metadata": {},
   "outputs": [
    {
     "data": {
      "text/plain": [
       "True"
      ]
     },
     "execution_count": 173,
     "metadata": {},
     "output_type": "execute_result"
    }
   ],
   "source": [
    "True or True"
   ]
  },
  {
   "cell_type": "code",
   "execution_count": 174,
   "id": "da444f57",
   "metadata": {},
   "outputs": [
    {
     "data": {
      "text/plain": [
       "False"
      ]
     },
     "execution_count": 174,
     "metadata": {},
     "output_type": "execute_result"
    }
   ],
   "source": [
    "False or False"
   ]
  },
  {
   "cell_type": "code",
   "execution_count": 175,
   "id": "ccd2887b",
   "metadata": {},
   "outputs": [
    {
     "data": {
      "text/plain": [
       "True"
      ]
     },
     "execution_count": 175,
     "metadata": {},
     "output_type": "execute_result"
    }
   ],
   "source": [
    "not False"
   ]
  },
  {
   "cell_type": "code",
   "execution_count": 176,
   "id": "32c136d8",
   "metadata": {},
   "outputs": [
    {
     "data": {
      "text/plain": [
       "False"
      ]
     },
     "execution_count": 176,
     "metadata": {},
     "output_type": "execute_result"
    }
   ],
   "source": [
    "not True"
   ]
  },
  {
   "cell_type": "code",
   "execution_count": 177,
   "id": "0276b881",
   "metadata": {},
   "outputs": [
    {
     "data": {
      "text/plain": [
       "False"
      ]
     },
     "execution_count": 177,
     "metadata": {},
     "output_type": "execute_result"
    }
   ],
   "source": [
    "not(2 < 5)"
   ]
  },
  {
   "cell_type": "markdown",
   "id": "72faef55",
   "metadata": {},
   "source": [
    "Note how it was true; this is because with the **or** operator, we only need one *or* the other to be true. Let's see one more example to drive this home:"
   ]
  },
  {
   "cell_type": "markdown",
   "id": "1ff64af8",
   "metadata": {},
   "source": [
    "###Bitwise Operators"
   ]
  },
  {
   "cell_type": "markdown",
   "id": "f9607392",
   "metadata": {},
   "source": [
    "| Symbol | Task Performed |\n",
    "|----|---|\n",
    "| &  | Logical And |\n",
    "| l  | Logical OR |\n",
    "| ^  | XOR |\n",
    "| ~  | Negate |\n",
    "| >>  | Right shift |\n",
    "| <<  | Left shift |"
   ]
  },
  {
   "cell_type": "markdown",
   "id": "21030bd7",
   "metadata": {},
   "source": [
    "Extra Information - https://www.journaldev.com/26737/python-bitwise-operators"
   ]
  },
  {
   "cell_type": "code",
   "execution_count": 179,
   "id": "ead819f9",
   "metadata": {},
   "outputs": [
    {
     "name": "stdout",
     "output_type": "stream",
     "text": [
      "2\n"
     ]
    }
   ],
   "source": [
    "a = 2 #10\n",
    "b = 3 #11\n",
    "print(a & b) #10"
   ]
  },
  {
   "cell_type": "code",
   "execution_count": 182,
   "id": "5b32c5ea",
   "metadata": {},
   "outputs": [
    {
     "data": {
      "text/plain": [
       "'0b10'"
      ]
     },
     "execution_count": 182,
     "metadata": {},
     "output_type": "execute_result"
    }
   ],
   "source": [
    "bin(2)"
   ]
  },
  {
   "cell_type": "code",
   "execution_count": 183,
   "id": "963dd486",
   "metadata": {},
   "outputs": [
    {
     "data": {
      "text/plain": [
       "'0b11'"
      ]
     },
     "execution_count": 183,
     "metadata": {},
     "output_type": "execute_result"
    }
   ],
   "source": [
    "bin(3)"
   ]
  },
  {
   "cell_type": "code",
   "execution_count": 184,
   "id": "81f95e29",
   "metadata": {},
   "outputs": [
    {
     "data": {
      "text/plain": [
       "'0b110010'"
      ]
     },
     "execution_count": 184,
     "metadata": {},
     "output_type": "execute_result"
    }
   ],
   "source": [
    "bin(50)"
   ]
  },
  {
   "cell_type": "code",
   "execution_count": 185,
   "id": "be82bc64",
   "metadata": {},
   "outputs": [
    {
     "data": {
      "text/plain": [
       "2"
      ]
     },
     "execution_count": 185,
     "metadata": {},
     "output_type": "execute_result"
    }
   ],
   "source": [
    "5 >> 1"
   ]
  },
  {
   "cell_type": "code",
   "execution_count": 186,
   "id": "6a942209",
   "metadata": {},
   "outputs": [
    {
     "data": {
      "text/plain": [
       "'0b101'"
      ]
     },
     "execution_count": 186,
     "metadata": {},
     "output_type": "execute_result"
    }
   ],
   "source": [
    "bin(5)"
   ]
  },
  {
   "cell_type": "markdown",
   "id": "383e4c37",
   "metadata": {},
   "source": [
    "0000 0101 -> 5 \n",
    "\n",
    "Shifting the digits by 1 to the right and zero padding\n",
    "\n",
    "0000 0010 -> 2"
   ]
  },
  {
   "cell_type": "code",
   "execution_count": 187,
   "id": "fb7a2a30",
   "metadata": {},
   "outputs": [
    {
     "data": {
      "text/plain": [
       "10"
      ]
     },
     "execution_count": 187,
     "metadata": {},
     "output_type": "execute_result"
    }
   ],
   "source": [
    "5 << 1"
   ]
  },
  {
   "cell_type": "markdown",
   "id": "33adda30",
   "metadata": {},
   "source": [
    "0000 0101 -> 5 \n",
    "\n",
    "Shifting the digits by 1 to the left and zero padding\n",
    "\n",
    "0000 1010 -> 10"
   ]
  },
  {
   "cell_type": "markdown",
   "id": "5400f726",
   "metadata": {},
   "source": [
    "###Identity Operator\n",
    "Identity operators are used to compare the objects, not if they are equal, but if they are actually the same object, with the same memory location.\n",
    "\n",
    "\n",
    "| Operator | Description | Example\n",
    "|----|---|---|\n",
    "| is  | Returns True if both variables are the same object| x is y\n",
    "| is not  | Returns True if both variables are not the same object| x is not y\t\n"
   ]
  },
  {
   "cell_type": "code",
   "execution_count": 189,
   "id": "388ea074",
   "metadata": {},
   "outputs": [
    {
     "data": {
      "text/plain": [
       "True"
      ]
     },
     "execution_count": 189,
     "metadata": {},
     "output_type": "execute_result"
    }
   ],
   "source": [
    "x = 5\n",
    "y = 5\n",
    "x is y"
   ]
  },
  {
   "cell_type": "markdown",
   "id": "cf37724e",
   "metadata": {},
   "source": [
    "###Membership Operator\n",
    "Membership operators are used to test if a sequence is presented in an object\n",
    "\n",
    "| Operator | Description | Example\n",
    "|----|---|---|\n",
    "| in  | Returns True if a sequence with the specified value is present in the object| x in y\n",
    "| not in  | Returns True if a sequence with the specified value is not present in the object| x not in y\t\n"
   ]
  },
  {
   "cell_type": "code",
   "execution_count": 192,
   "id": "e3142ede",
   "metadata": {},
   "outputs": [
    {
     "data": {
      "text/plain": [
       "True"
      ]
     },
     "execution_count": 192,
     "metadata": {},
     "output_type": "execute_result"
    }
   ],
   "source": [
    "x = 'hima'\n",
    "y = 'himanshu'\n",
    "\n",
    "x in y"
   ]
  },
  {
   "cell_type": "code",
   "execution_count": 193,
   "id": "aa098397",
   "metadata": {},
   "outputs": [],
   "source": [
    "# Line 1\n",
    "# Line 2\n",
    "# Line 3"
   ]
  },
  {
   "cell_type": "code",
   "execution_count": 194,
   "id": "cdfa91fb",
   "metadata": {},
   "outputs": [
    {
     "data": {
      "text/plain": [
       "'\\nLine 1\\nLine 2\\nLine 3\\n'"
      ]
     },
     "execution_count": 194,
     "metadata": {},
     "output_type": "execute_result"
    }
   ],
   "source": [
    "\"\"\"\n",
    "Line 1\n",
    "Line 2\n",
    "Line 3\n",
    "\"\"\""
   ]
  },
  {
   "cell_type": "code",
   "execution_count": 201,
   "id": "1f7b5a02",
   "metadata": {},
   "outputs": [],
   "source": [
    "a = \"\"\" \n",
    "    {0}\n",
    "    {1}\n",
    "    {2}\n",
    "\"\"\""
   ]
  },
  {
   "cell_type": "code",
   "execution_count": 203,
   "id": "5a6f1f40",
   "metadata": {},
   "outputs": [
    {
     "name": "stdout",
     "output_type": "stream",
     "text": [
      " \n",
      "    8\n",
      "    5\n",
      "    3\n",
      "\n"
     ]
    }
   ],
   "source": [
    "print(\"\"\" \n",
    "    {0}\n",
    "    {1}\n",
    "    {2}\n",
    "\"\"\".format(8,5,3))"
   ]
  },
  {
   "cell_type": "code",
   "execution_count": 204,
   "id": "338407c0",
   "metadata": {},
   "outputs": [
    {
     "data": {
      "text/plain": [
       "(102.9, 102)"
      ]
     },
     "execution_count": 204,
     "metadata": {},
     "output_type": "execute_result"
    }
   ],
   "source": [
    "1029/10, 1029 //10"
   ]
  },
  {
   "cell_type": "markdown",
   "id": "706ea71f",
   "metadata": {},
   "source": [
    "## Interactive Notebook (careful)"
   ]
  },
  {
   "cell_type": "code",
   "execution_count": 205,
   "id": "dba300f6",
   "metadata": {},
   "outputs": [],
   "source": [
    "import numpy as np"
   ]
  },
  {
   "cell_type": "code",
   "execution_count": 206,
   "id": "cfbab4ad",
   "metadata": {},
   "outputs": [
    {
     "ename": "TypeError",
     "evalue": "round() missing required argument 'number' (pos 1)",
     "output_type": "error",
     "traceback": [
      "\u001b[1;31m---------------------------------------------------------------------------\u001b[0m",
      "\u001b[1;31mTypeError\u001b[0m                                 Traceback (most recent call last)",
      "\u001b[1;32m<ipython-input-206-776eeab594c2>\u001b[0m in \u001b[0;36m<module>\u001b[1;34m\u001b[0m\n\u001b[1;32m----> 1\u001b[1;33m \u001b[0mround\u001b[0m\u001b[1;33m(\u001b[0m\u001b[1;33m)\u001b[0m\u001b[1;33m\u001b[0m\u001b[1;33m\u001b[0m\u001b[0m\n\u001b[0m",
      "\u001b[1;31mTypeError\u001b[0m: round() missing required argument 'number' (pos 1)"
     ]
    }
   ],
   "source": [
    "round()"
   ]
  },
  {
   "cell_type": "code",
   "execution_count": 208,
   "id": "04f532ce",
   "metadata": {},
   "outputs": [
    {
     "data": {
      "text/plain": [
       "(100, 100.24)"
      ]
     },
     "execution_count": 208,
     "metadata": {},
     "output_type": "execute_result"
    }
   ],
   "source": [
    "round(100.436768), round(100.2356, 2)"
   ]
  },
  {
   "cell_type": "code",
   "execution_count": 210,
   "id": "892212d2",
   "metadata": {},
   "outputs": [
    {
     "data": {
      "text/plain": [
       "100.436768"
      ]
     },
     "execution_count": 210,
     "metadata": {},
     "output_type": "execute_result"
    }
   ],
   "source": [
    "abs(100.436768)"
   ]
  },
  {
   "cell_type": "markdown",
   "id": "10e70159",
   "metadata": {},
   "source": [
    "##Literals in Python\n",
    "Literals are values used in **Python**.\n",
    "![](https://i.imgur.com/KvqspwV.png)\n"
   ]
  },
  {
   "cell_type": "code",
   "execution_count": 213,
   "id": "17a9800b",
   "metadata": {},
   "outputs": [
    {
     "name": "stdout",
     "output_type": "stream",
     "text": [
      "Himanshu\n",
      "Himanshu's\n",
      "123\n",
      "How ya doing\n",
      "hello everyone!\n",
      "how are you?\n",
      "hey how are you doing\n",
      "\n",
      "Line 1\n",
      "Line 2\n",
      "Line 3\n"
     ]
    }
   ],
   "source": [
    "#String literals --> A string literal is a sequence of xero or more characters enclose within single, double or triple quotation marks.\n",
    "text1 =\"Himanshu\"\n",
    "text2=\"Himanshu's\"\n",
    "text3=\"123\"\n",
    "text4 ='How ya \\\n",
    "doing' #Adding black slash at the end of each line - to write multi line comment\n",
    "text6 = \"hey how \\\n",
    "are you doing\"\n",
    "text5 = '''hello everyone!\n",
    "how are you?''' #Note how multiple statements are written\n",
    "text7= '''\n",
    "Line 1\n",
    "Line 2\n",
    "Line 3'''\n",
    "\n",
    "\n",
    "print(text1)\n",
    "print(text2)\n",
    "print(text3)\n",
    "print(text4)\n",
    "print(text5)\n",
    "print(text6)\n",
    "print(text7)"
   ]
  },
  {
   "cell_type": "code",
   "execution_count": 214,
   "id": "71e3f0cb",
   "metadata": {},
   "outputs": [
    {
     "ename": "TypeError",
     "evalue": "can only concatenate str (not \"int\") to str",
     "output_type": "error",
     "traceback": [
      "\u001b[1;31m---------------------------------------------------------------------------\u001b[0m",
      "\u001b[1;31mTypeError\u001b[0m                                 Traceback (most recent call last)",
      "\u001b[1;32m<ipython-input-214-b5074dc0bc2f>\u001b[0m in \u001b[0;36m<module>\u001b[1;34m\u001b[0m\n\u001b[1;32m----> 1\u001b[1;33m \u001b[0mtext3\u001b[0m \u001b[1;33m+\u001b[0m \u001b[1;36m100\u001b[0m\u001b[1;33m\u001b[0m\u001b[1;33m\u001b[0m\u001b[0m\n\u001b[0m",
      "\u001b[1;31mTypeError\u001b[0m: can only concatenate str (not \"int\") to str"
     ]
    }
   ],
   "source": [
    "text3 + 100"
   ]
  },
  {
   "cell_type": "markdown",
   "id": "dedf8df7",
   "metadata": {},
   "source": [
    "**Important Escape Sequence in Python**\n",
    "\n",
    "![](https://i.imgur.com/IUvhv5i.jpg)"
   ]
  },
  {
   "cell_type": "code",
   "execution_count": 217,
   "id": "08b175aa",
   "metadata": {},
   "outputs": [
    {
     "name": "stdout",
     "output_type": "stream",
     "text": [
      "Hello \n",
      " World\n",
      "Hey 'Deep Learning' this is class 1\n"
     ]
    }
   ],
   "source": [
    "print(\"Hello \\n World\")\n",
    "#\\'\n",
    "print('Hey \\'Deep Learning\\' this is class 1')"
   ]
  },
  {
   "cell_type": "code",
   "execution_count": 218,
   "id": "98e4aa2a",
   "metadata": {},
   "outputs": [
    {
     "name": "stdout",
     "output_type": "stream",
     "text": [
      "Hello \\\n"
     ]
    }
   ],
   "source": [
    "print(\"Hello \\\\\")\n",
    "# \\n --> Nexr line\n",
    "#\\ ---> escape sequence character\n",
    "#\\t - tab\n",
    "#\\' - single quotation\n",
    "#\\\" - double quotation\n",
    "#\\\\ - single backslash"
   ]
  },
  {
   "cell_type": "code",
   "execution_count": 222,
   "id": "caf7f963",
   "metadata": {},
   "outputs": [
    {
     "name": "stdout",
     "output_type": "stream",
     "text": [
      "28 110 64 333\n",
      "3.14 15000.0\n",
      "(5+3.14j) 3.14 5.0\n"
     ]
    }
   ],
   "source": [
    "# Numeric Literal --> There are four types of numeric literals: integers, floating point numbers, and imaginary numbers.\n",
    "# NOTE: Integers in Python 3 are of unlimited size. Python 2 had two integer types - int and long. There is no 'long integer' in Python 3 anymore.\n",
    "\n",
    "b = 0b11100 #Binary literals\n",
    "d = 110 #Decimal Literal\n",
    "o = 0o100 #Octal Literal\n",
    "u = 0x14d #Hexadecimal Literal\n",
    "\n",
    "#Float Literal\n",
    "float_1 = 3.14\n",
    "float_2 = 1.5e4 # e -power 10\n",
    "\n",
    "#Complex Literal\n",
    "c = 5+3.14j\n",
    "\n",
    "print(b,d,o,u)\n",
    "print(float_1,float_2)\n",
    "print(c, c.imag, c.real)\n",
    "\n",
    "#NOTE: Note that numeric literals do not include a sign; a phrase like -1 is actually an expression composed of the unary operator `-' and the literal 1.\n"
   ]
  },
  {
   "cell_type": "code",
   "execution_count": 223,
   "id": "d810648b",
   "metadata": {},
   "outputs": [
    {
     "name": "stdout",
     "output_type": "stream",
     "text": [
      "a is False\n",
      "b is False\n",
      "c is False\n",
      "x: 11\n",
      "y: 10\n",
      "add:  11.56\n"
     ]
    }
   ],
   "source": [
    "#Boolean Literal --> Python literal Boolean has two values. One is True, and another one is False.\n",
    "# Additionally, 1 and 0 represent True and False, respectively.\n",
    "a = (10 == True)  \n",
    "b = (20 == False)  \n",
    "c = (30 == True)  \n",
    "x = True + 10  \n",
    "y = False + 10  \n",
    "add = True + 10.56  \n",
    "print(\"a is\", a)  \n",
    "print(\"b is\", b)  \n",
    "print(\"c is\", c)  \n",
    "print(\"x:\", x)  \n",
    "print(\"y:\", y)  \n",
    "print(\"add: \",add)\n",
    "# Broadcasting"
   ]
  },
  {
   "cell_type": "code",
   "execution_count": 224,
   "id": "e6c9b1ed",
   "metadata": {},
   "outputs": [],
   "source": [
    "a = (True == 10)"
   ]
  },
  {
   "cell_type": "code",
   "execution_count": 225,
   "id": "358d4aca",
   "metadata": {},
   "outputs": [
    {
     "data": {
      "text/plain": [
       "False"
      ]
     },
     "execution_count": 225,
     "metadata": {},
     "output_type": "execute_result"
    }
   ],
   "source": [
    "a"
   ]
  },
  {
   "cell_type": "code",
   "execution_count": 226,
   "id": "cc9f3dd4",
   "metadata": {},
   "outputs": [
    {
     "data": {
      "text/plain": [
       "(bool, int, float)"
      ]
     },
     "execution_count": 226,
     "metadata": {},
     "output_type": "execute_result"
    }
   ],
   "source": [
    "type(True), type(10), type(10.56)"
   ]
  },
  {
   "cell_type": "code",
   "execution_count": 227,
   "id": "128378bd",
   "metadata": {},
   "outputs": [],
   "source": [
    "#Broadcasting\n",
    "# implicit broadcasting\n",
    "# Value from lower data type is converted to higher data type to reduce the data loss - automatically\n",
    "\n",
    "#Explicit Broadcasting\n",
    "# Programmers specify how the values to be treated"
   ]
  },
  {
   "cell_type": "code",
   "execution_count": 228,
   "id": "431cf6d4",
   "metadata": {},
   "outputs": [
    {
     "name": "stdout",
     "output_type": "stream",
     "text": [
      "result:  25.5\n",
      "<class 'int'> <class 'float'> <class 'float'>\n"
     ]
    }
   ],
   "source": [
    "x = 10\n",
    "y = 15.5\n",
    "add = x + y\n",
    "print(\"result: \",add)\n",
    "print(type(x),type(y),type(add))"
   ]
  },
  {
   "cell_type": "code",
   "execution_count": 229,
   "id": "c67c6c39",
   "metadata": {},
   "outputs": [
    {
     "name": "stdout",
     "output_type": "stream",
     "text": [
      "x :  11\n",
      "y :  10.52\n",
      "<class 'int'> <class 'float'>\n"
     ]
    }
   ],
   "source": [
    "x = True + 10\n",
    "y = False + 10.52 # Float\n",
    "print(\"x : \", x)\n",
    "print(\"y : \", y)\n",
    "print(type(x),type(y))"
   ]
  },
  {
   "cell_type": "code",
   "execution_count": 230,
   "id": "03c63dfb",
   "metadata": {},
   "outputs": [
    {
     "name": "stdout",
     "output_type": "stream",
     "text": [
      "x : (11+5j)\n",
      "y :  (10.52+5j)\n",
      "<class 'complex'> <class 'complex'>\n"
     ]
    }
   ],
   "source": [
    "x = True + 10+5j  \n",
    "y = False + 10.52+5j # 0.0\n",
    "print(\"x :\",x)\n",
    "print(\"y : \",y)\n",
    "print(type(x),type(y))"
   ]
  },
  {
   "cell_type": "code",
   "execution_count": 231,
   "id": "867b4a0c",
   "metadata": {},
   "outputs": [
    {
     "ename": "TypeError",
     "evalue": "'complex' object is not subscriptable",
     "output_type": "error",
     "traceback": [
      "\u001b[1;31m---------------------------------------------------------------------------\u001b[0m",
      "\u001b[1;31mTypeError\u001b[0m                                 Traceback (most recent call last)",
      "\u001b[1;32m<ipython-input-231-fb0e0080324e>\u001b[0m in \u001b[0;36m<module>\u001b[1;34m\u001b[0m\n\u001b[1;32m----> 1\u001b[1;33m \u001b[0mx\u001b[0m\u001b[1;33m[\u001b[0m\u001b[1;36m1\u001b[0m\u001b[1;33m]\u001b[0m\u001b[1;33m\u001b[0m\u001b[1;33m\u001b[0m\u001b[0m\n\u001b[0m",
      "\u001b[1;31mTypeError\u001b[0m: 'complex' object is not subscriptable"
     ]
    }
   ],
   "source": [
    "x[1] #complex' object is not subscriptable"
   ]
  },
  {
   "cell_type": "code",
   "execution_count": 233,
   "id": "124aabf4",
   "metadata": {},
   "outputs": [
    {
     "data": {
      "text/plain": [
       "5.0"
      ]
     },
     "execution_count": 233,
     "metadata": {},
     "output_type": "execute_result"
    }
   ],
   "source": [
    "x.imag"
   ]
  },
  {
   "cell_type": "code",
   "execution_count": 234,
   "id": "5567c2f1",
   "metadata": {},
   "outputs": [
    {
     "data": {
      "text/plain": [
       "11.0"
      ]
     },
     "execution_count": 234,
     "metadata": {},
     "output_type": "execute_result"
    }
   ],
   "source": [
    "x.real"
   ]
  },
  {
   "cell_type": "code",
   "execution_count": 235,
   "id": "9774380f",
   "metadata": {},
   "outputs": [
    {
     "name": "stdout",
     "output_type": "stream",
     "text": [
      "<class 'str'> <class 'int'>\n"
     ]
    },
    {
     "ename": "TypeError",
     "evalue": "can only concatenate str (not \"int\") to str",
     "output_type": "error",
     "traceback": [
      "\u001b[1;31m---------------------------------------------------------------------------\u001b[0m",
      "\u001b[1;31mTypeError\u001b[0m                                 Traceback (most recent call last)",
      "\u001b[1;32m<ipython-input-235-4b519737bc99>\u001b[0m in \u001b[0;36m<module>\u001b[1;34m\u001b[0m\n\u001b[0;32m      3\u001b[0m \u001b[0my\u001b[0m \u001b[1;33m=\u001b[0m \u001b[1;36m50\u001b[0m \u001b[1;31m#integer\u001b[0m\u001b[1;33m\u001b[0m\u001b[1;33m\u001b[0m\u001b[0m\n\u001b[0;32m      4\u001b[0m \u001b[0mprint\u001b[0m\u001b[1;33m(\u001b[0m\u001b[0mtype\u001b[0m\u001b[1;33m(\u001b[0m\u001b[0mx\u001b[0m\u001b[1;33m)\u001b[0m\u001b[1;33m,\u001b[0m\u001b[0mtype\u001b[0m\u001b[1;33m(\u001b[0m\u001b[0my\u001b[0m\u001b[1;33m)\u001b[0m\u001b[1;33m)\u001b[0m\u001b[1;33m\u001b[0m\u001b[1;33m\u001b[0m\u001b[0m\n\u001b[1;32m----> 5\u001b[1;33m \u001b[0madd\u001b[0m \u001b[1;33m=\u001b[0m \u001b[0mx\u001b[0m \u001b[1;33m+\u001b[0m \u001b[0my\u001b[0m\u001b[1;33m\u001b[0m\u001b[1;33m\u001b[0m\u001b[0m\n\u001b[0m\u001b[0;32m      6\u001b[0m \u001b[0mprint\u001b[0m\u001b[1;33m(\u001b[0m\u001b[1;34m\"result: \"\u001b[0m\u001b[1;33m,\u001b[0m\u001b[0madd\u001b[0m\u001b[1;33m)\u001b[0m\u001b[1;33m\u001b[0m\u001b[1;33m\u001b[0m\u001b[0m\n\u001b[0;32m      7\u001b[0m \u001b[0mprint\u001b[0m\u001b[1;33m(\u001b[0m\u001b[0mtype\u001b[0m\u001b[1;33m(\u001b[0m\u001b[0madd\u001b[0m\u001b[1;33m)\u001b[0m\u001b[1;33m)\u001b[0m\u001b[1;33m\u001b[0m\u001b[1;33m\u001b[0m\u001b[0m\n",
      "\u001b[1;31mTypeError\u001b[0m: can only concatenate str (not \"int\") to str"
     ]
    }
   ],
   "source": [
    "#Implcity broadcasting\n",
    "x = \"100\" # String\n",
    "y = 50 #integer\n",
    "print(type(x),type(y))\n",
    "add = x + y\n",
    "print(\"result: \",add)\n",
    "print(type(add))"
   ]
  },
  {
   "cell_type": "code",
   "execution_count": 236,
   "id": "40a0b139",
   "metadata": {},
   "outputs": [],
   "source": [
    "# int --> integers\n",
    "#float --> float\n",
    "#complex -->complex\n",
    "#str --> string\n",
    "# bool -->Boolean values"
   ]
  },
  {
   "cell_type": "code",
   "execution_count": 239,
   "id": "679d9187",
   "metadata": {},
   "outputs": [
    {
     "name": "stdout",
     "output_type": "stream",
     "text": [
      "10\n",
      "100\n",
      "1\n",
      "True\n"
     ]
    }
   ],
   "source": [
    "print(int(10.568))\n",
    "#int(5+7j) #Not possbile to convert Complex to integer\n",
    "print(int(\"100\"))\n",
    "print(int(True))\n",
    "print(bool(10))"
   ]
  },
  {
   "cell_type": "code",
   "execution_count": 240,
   "id": "c84c45ba",
   "metadata": {},
   "outputs": [
    {
     "ename": "ValueError",
     "evalue": "invalid literal for int() with base 10: 'Hello'",
     "output_type": "error",
     "traceback": [
      "\u001b[1;31m---------------------------------------------------------------------------\u001b[0m",
      "\u001b[1;31mValueError\u001b[0m                                Traceback (most recent call last)",
      "\u001b[1;32m<ipython-input-240-6765ce49acfe>\u001b[0m in \u001b[0;36m<module>\u001b[1;34m\u001b[0m\n\u001b[1;32m----> 1\u001b[1;33m \u001b[0mint\u001b[0m\u001b[1;33m(\u001b[0m\u001b[1;34m'Hello'\u001b[0m\u001b[1;33m)\u001b[0m\u001b[1;33m\u001b[0m\u001b[1;33m\u001b[0m\u001b[0m\n\u001b[0m",
      "\u001b[1;31mValueError\u001b[0m: invalid literal for int() with base 10: 'Hello'"
     ]
    }
   ],
   "source": [
    "int('Hello')"
   ]
  },
  {
   "cell_type": "code",
   "execution_count": 241,
   "id": "a47cb924",
   "metadata": {},
   "outputs": [
    {
     "data": {
      "text/plain": [
       "(10.0, 10.0)"
      ]
     },
     "execution_count": 241,
     "metadata": {},
     "output_type": "execute_result"
    }
   ],
   "source": [
    "float(10), float(\"10\")"
   ]
  },
  {
   "cell_type": "code",
   "execution_count": 245,
   "id": "ec0745e3",
   "metadata": {},
   "outputs": [
    {
     "data": {
      "text/plain": [
       "('10', '10.2', 'True', '(10+2j)')"
      ]
     },
     "execution_count": 245,
     "metadata": {},
     "output_type": "execute_result"
    }
   ],
   "source": [
    "str(10), str(10.2), str(True), str(10+2j)"
   ]
  },
  {
   "cell_type": "code",
   "execution_count": 246,
   "id": "a664c64e",
   "metadata": {},
   "outputs": [
    {
     "data": {
      "text/plain": [
       "(True, True, True)"
      ]
     },
     "execution_count": 246,
     "metadata": {},
     "output_type": "execute_result"
    }
   ],
   "source": [
    "bool(1), bool(\"Himanshu\"), bool(\"10+1j\")"
   ]
  },
  {
   "cell_type": "code",
   "execution_count": 247,
   "id": "80bf66f2",
   "metadata": {},
   "outputs": [
    {
     "name": "stdout",
     "output_type": "stream",
     "text": [
      "result:  25\n",
      "<class 'int'> <class 'float'> <class 'int'>\n"
     ]
    }
   ],
   "source": [
    "x = 10\n",
    "y = 15.7\n",
    "add = x + int(y)\n",
    "print(\"result: \",add)\n",
    "print(type(x),type(y),type(add))"
   ]
  },
  {
   "cell_type": "code",
   "execution_count": 248,
   "id": "789c0e39",
   "metadata": {},
   "outputs": [
    {
     "name": "stdout",
     "output_type": "stream",
     "text": [
      "None\n"
     ]
    },
    {
     "data": {
      "text/plain": [
       "NoneType"
      ]
     },
     "execution_count": 248,
     "metadata": {},
     "output_type": "execute_result"
    }
   ],
   "source": [
    "# Special Literal --> The None keyword is used to define a null value, or no value at all. \n",
    "#None is not the same as 0, False, or an empty string. None is a datatype of its own (NoneType) and only None can be None.\n",
    "x = None\n",
    "print(x)\n",
    "type(x) #Used to check the data type of the variable"
   ]
  },
  {
   "cell_type": "code",
   "execution_count": 249,
   "id": "8c98309f",
   "metadata": {},
   "outputs": [
    {
     "data": {
      "text/plain": [
       "False"
      ]
     },
     "execution_count": 249,
     "metadata": {},
     "output_type": "execute_result"
    }
   ],
   "source": [
    "None ==0"
   ]
  },
  {
   "cell_type": "code",
   "execution_count": 250,
   "id": "5bced023",
   "metadata": {},
   "outputs": [
    {
     "data": {
      "text/plain": [
       "False"
      ]
     },
     "execution_count": 250,
     "metadata": {},
     "output_type": "execute_result"
    }
   ],
   "source": [
    "None == False"
   ]
  },
  {
   "cell_type": "code",
   "execution_count": 251,
   "id": "0c3c0c16",
   "metadata": {},
   "outputs": [],
   "source": [
    "#basic broadcasting"
   ]
  },
  {
   "cell_type": "markdown",
   "id": "44be48bf",
   "metadata": {},
   "source": [
    "![image.png](data:image/png;base64,iVBORw0KGgoAAAANSUhEUgAAAVEAAAEmCAYAAADbUaM7AAAgAElEQVR4Ae2dj1cTV97/n38SPCdBU3/ULoi2dD0gu7i12go+1a8VdrfYBa3QrfQ8antwLXEr7S7qA6crFkEt1rZUAZXyVLRGXNOs7++ZkMncezN3ZpJJMpPk7TmeDJOZO/e+Pve+53M/90f+C/xHAiRAAiRQMIH/KvhO3kgCJEACJACKKCsBCZAACfggQBH1AY+3kgAJkABFlHWABEiABHwQoIj6gMdbSYAESIAiyjpAAiRAAj4IUER9wOOtJEACJEARZR0gARIgAR8EKKI+4PFWEiABEqCIsg6QAAmQgA8CFFEf8HgrCZAACVBEWQdIgARIwAcBiqgPeLyVBEiABCiirAMkQAIk4IMARdQHPN5KAiRAAhRR1gESIAES8EGAIuoDHm8lARIgAYoo6wAJkAAJ+CBAEfUBj7eSAAmQAEWUdYAESIAEfBCgiPqAx1tJgARIgCLKOkACJEACPghQRH3A460kQAIkQBFlHSABEiABHwQooj7g8VYSIAESoIiyDpAACZCADwIUUR/weCsJkAAJUERZB0iABEjABwGKqA94vJUESIAEKKKsAyRAAiTggwBF1Ac83lpuAquYPr4L0boIou2n8e2zF+XOAJ9HAjkEKKI5SHgitAQeT2B/XQT1mf894/8ObVaZsdohQBGtHVtXfkmXRtEhiOjukQeVXyaWoOIJUEQr3oQ1UICfbiDeux9b11teaNobjWxBy5E45n5ht95vLUj+9CNmLn2OoXf3o3lLP677TDBxZxxDXb9H86ZYpucQw8amdnR+fAkLVWavUIlo8s4oDja9lO2umd22nM+dw1jwaOSViX40RyKItnTj/PcJj3eV8bJni4gfaknH+XLKaXpdG9oxOP2znKmHNzHQttGRVXTbIVxarmyBWfpHD7aaHFw+GSeVq4j2r1QSS3M3MHrmA3TveQ0bI8rLaV1f4SKaeoSJP73uXJ+j7RicfaLNXqV9ESoRfXBun6MoWCKzGYOz/3Fn/eI7nNgUFdKMoblzCFfDJCxKF9Uqo1yx1/Vfk8s7NSiUS75WTOPYtAdOcsqh+SsxNeBZQM0yd41VT+MshSEMpoZTYfKy/SxYRFcx/f4O57TNF2F0N84/qOwXvGmfUImoZ0+0LoKGP44jaZZC+3kPwy0NNkaNoe3EJJZS2hvL9wU9UXvWvyovwMgOHBqZxdKzzOWGNzU1goO/EV+SETBOao/TPDvdv8WmPSiiWqCIJi73Sh5otLUfVxefrz06lcTCvwbQKgp40wC+DUMbNOEU+BkqEc0tg04EI6iv34cvVjy8yR7fxFDHVsm42bfvhnYMXL6LREgM+XxCroSvD9/NRWJ3Zj6OFvMN7/kFY5dQiM7NDAo2i6FrTAlnmFl9OIY3hbJTRE0wms97o+g04pSRLWje04Ohzy5hZm4JY91m7DKC+kJE1HjpiS+0pn5cT+S2T7V3UQ32CreI3hzCRqGBtOx+Q/rbs8gASNy+oI23GrHDUMRLVe9rywlPb+rZ442Cd+Ex1KFpY2E5LYV26nfjvDYEcw+nmq3eBrvzhVlw+n1hLKIAEZUdgBh6vtJNP1vFxOHNVn31WMcLK1V57gqxiCYx0S3ATnueC3L3PF8DpJ5i7tyf0aKO8qaFOobmw2cxo22s5THI/Ke/sypYnVNlzORndRJHIkKX1mnQLfkIc9f/F/GP1gYUmrc3Cd5eZM072XUAAyMzWHKPlQBOg1tKQ1wbrW3NDGLEsPXNo4hPL2mhPoyL8fEYur7UeKLGCzIT5+PAkhan6xf+RFRpq0a7dHrilNzLqOS4vVHM8Iqo0k0zY6APRw/kJzJ2xkwtY/L4bllAsh5vwPFSpdzr3r6AFbsyZM7JPCLYpxObxxN4R4xHZcurxMPM85EdODquF670450Gt0wRTS3ignb2QQzb35vAil045ZbcC6mvi6H1aBxX55aQtLvegVFJvkotY+xwm6YOaZiabNXPDTvRMxbsnFdfIqoM4K7rveKM3HjxCwzazt13vj7k34ZWRGWPTOiiKp6Xm8g48l+6pp8mZEwrmnwQQINV3ur1O/G3xdzY0lq5lJhxQze+0i6FXMaYVsx0jb4Rx27oumVw9US/nv9nzsBPNh4tNCJ74V/GSPt64YUp5jGGjdveQvdH53F17mEANgJwZ1iKQ9uVK69zMRfvzbEi+//Sn4h+gz7BnttP33HO0Av5+pyZJ853h+7bcIqoGhtUuqhSDNBRZLzxDl28VIkFayulct2mgW+8FVh3VfJp7giqwl53q3FeimPWxRAVPN/otgMYuvzDmtf5+Br6hEGITR9q8n1vFB1CGlpR2rAT3SPfl3eAkJ6oVRUUUXQdLFKup4haKIt2JAepbbqod4bRLLz5fIuHkfN0vLRbM4fOiJeWc2WM4mHaxn7z8VjzM838/+y0PMD6LlzyuMJEFtGM55jx6HNycG8Ue9cbiyAGbEdxs9cvO/QWhDpgCOzWQ2PhmLaWzXzlHBTTE6WIBm73R7iwV+jGrbProioi49iNzbNAhpfUJAzUSA21EUe/Ls9kbjnWaTPAlGfsNB8Kkhg6jozLqUr31RU3tpy8fxujZ/6Czl3bHOOQrg1YzjL/yhCgiBZeFcLXnfc451EWGRtvNV8mofJEAbjEfuWYsY3I6spvTFK/llkjbTc6v/1VYb2zMR/XaXqR/BBJRM2BJfmSov1lrPW++tlf0akuE7b12ov22KpNiCJauGlDJ6JSvFPyAsWBBZvjPGJ3Kq7QxUQzGZRYiLHf1ZvoE5ezehSOxMxptNpO77LhabIPqYhmbZhaxkjHJiH84F30s2kUcsCYqEVNiXFqY/jmHcr1jImaYIrxqQ4omQ3Z06cwgu81Lx5G570mVZLrFK/cjP2qXriXRQcP4gccu8HaQZtARNTcfNmIRV+EfjbpGvUXk8csEa2LoCzzDjk6b1V5TnGyWAR9pA4oaRu2RlTNuaSu5QjzPFEp80p8OB37XZQXHHhY/pqcGVQ28lhbWJAz5/LZUyR++hEX33vdEqUgRHRZ3DfU/eX4/HJvQfmVUOf7Bz1RgZgyyOnWM+Jke4FdUQ/tBEM3P9J8sHKPm6C4rliK45aX9fjm48vwqXqde//fYWnpq/uLYxVjb2+wRKauEcdcBsek2GYQIqrsbNVw5KJ++lJqEcPifFKjAZfBLtX2CF8xUQCyAxRDz7huAFZZ9tnQh+thWDzhw6DhiYlquq5uZZONF4GuaxvWuKdb+dQBJtk7d/fSYMSfxGWhHSOO3eOVW8oeAyEQUaPM0fZexK/NI2EuRzV2BTJ2cVIGlnT2d+Vc4xf4FVGkFnFK3DHN4wYk1WCv0IiodhDFrXKrcVS1K+Gyi1Mwq5LcCiV/L7ERQxmeBtNyPVFjS7kVQYyMLnx6pPs1YRMK8zkhEVH55WE/EBZ9Y4TzROWq4/kv3yIKQA0bpbfCuy9shXdxbYP0rC0NodWusPOc9cAvDFZEnTawyDRi293Zve7Bee2mHD80haHIcxhLbkXFSzcrof1ySZvc3BpSYqL2ImSmq/uMtg9gxgx3eLFBlrfyPLud+sVsSzFR5V5Nmg1vncWczdZrYrI8BlamTuY/QyPNfG3ByYK5n6stzDw2ZTbCStO6Lr9t4qE9GayIOm1gITSWnNFWJWama/Tr+kZyd7Y/HL64p3vtUGK/Bps8FxgkbnqZ3rTWUC7+dbcQQ5VFLGsLjzbQ2kbdqV+CYI3Ot308jZX7NxD/4B20ZH+vJ5MnY09Ml92gpGT5BySPU2hjOjtJ5730SlJPMdn/W+eZIMbPg9yoDgE1qlSwIlpqT3T6Z4T+N5Y8Nmw19mtOd/J4+9plqWXMGBPUdwm/q2MIUXr7u6uYy3iZ0sCS0NDK5onqCqUIN1cn6UDpz5fWE7Wea/tDdcamMZ/wh+osSjwigXIToIiWmzif54FAsJ6ohwzyEhLIEqCIZlHwIDwEKKLhsQVz4kbg8QT2C+GFnnGHvU7d0uL3JFAkAhTRIoFkMuUgsIrZk2u/SMCfAikHbz7DCwGKqBdKvIYESIAENAQoohowPE0CJEACXghQRL1Q4jUkQAIkoCFAEdWA4WkSIAES8EKAIuqFEq8hARIgAQ0BiqgGDE+TAAmQgBcCFFEvlHgNCZAACWgIUEQ1YHiaBEiABLwQoIh6ocRrSIAESEBDgCKqAcPTJEACJOCFAEXUCyVeQwIkQAIaAhRRDRieJgESIAEvBCiiXijxGhIgARLQEKCIasDwNAmQAAl4IUAR9UKJ15AACZCAhgBFVAOGp0mABEjACwGKqBdKvIYESIAENAQoohowPE0CJEACXghQRL1Q4jUkQAIkoCFAEdWA4WkSIAES8EKAIuqFEq8hARIgAQ0BiqgGDE+TAAmQgBcCFFEvlHgNCZAACWgIUEQ1YHiaBEiABLwQoIh6ocRrSIAESEBDgCKqAcPTJEACJOCFAEXUCyVeQwIkQAIaAhRRDRieJgESIAEvBCiiXijxGhIgARLQEKCIasDwNAmQAAl4IUAR9UKJ15AACZCAhgBFVAOGp0mABEjACwGKqBdKvIYESIAENAQoohowPE0CJEACXghQRL1Q4jUkQAIkoCFAEdWA4WkSIAES8EKAIuqFEq8hARIgAQ0BiqgGDE+TAAmQgBcCFFEvlHgNCZAACWgIUEQ1YHiaBEiABLwQoIh6ocRrSIAESEBDgCKqAcPTJEACJOCFAEXUCyVeQwIkQAIaAhRRDRieJgESIAEvBCiiXijxGhIgARLQEKCIasCE7/Qqpo/vQrQugmj7aXz77EX4ssgckUANEqCIVorRH09gf10E9Zn/PeP/rpScM58kUNUEKKKVYt6lUXQIIrp75EGl5Jz5JIGqJkARDbt5f7qBeO9+bF1veaFpbzSyBS1H4pj7hd36sJuwEvKX/OlHzFz6HEPv7kfzln5c95npxJ1xDHX9Hs2bYpneUwwbm9rR+fElLFRZnQ2FiC5d7EFzRBEJwesyu7DWp2WQuRVnEVmZ6E+nHW3pxvnvEz6rRnlvX/pHD7Y6crCYqXHS5J1RHGx6Kdv9t9iJ9wxgRuG3MnUSrapgS3mIofnwRSyVFwWfVkwCqSSW5m5g9MwH6N7zGjaqbW9dX+EimnqEiT+9no7d29W59LloOwZnnxSzRIGmFQoRnX7fubFrjZFu3DHsG/4etvL44juc2BQVhCSG5s4hXF12Ft5ALZJ5eGJqwLOAmny6xqyK+eDcPqHclnCa15qfx6b/IxXXky38NDLpafyj3ASMeuXqsBRs31VMv7/DU72rj+7G+Qfhb4de7BMKEc3fE1VFIQb7GOE9DLc02Bg1hrYTk1hKeUEUwDW/KuIf2YFDI7NYepbJi+FJTI3g4G/EF0REYkBPNAC7VcAjp/u32LQHpT0VKKKJy72SBxpt7cfVxedrVFJJLPxrAK2i19s0gG/D2gbzsGUoRFTMr+QJdYzYdxsNEbl1Qe6u1u/E3xZt3myPb2KoY6tkXNMLq9/QjoHLd5EImyFnBoX8xtA19rOIyDp+OIY3ha62/YskiYnuzVbD0XGyUs0ezX/6O+u+uhh6vuKMgCycSj24N4pOI04Z2YLmPT0Y+uwSZuaWMNZtxi4jqC9ERI0Xv/hSb+rH9URue1R7WPZ1trLgVqaImowVEdn04TfmNzmfiduK6AriE912KFTxUqkrXr8b57Xhh3s41Wx52mJ3XgJwcwgbhfJuGtBzyt6nesNbTlSF15AtHw8kApLzUoCIPp8QvVCnF+4qJg4LL/UqqFeVLaJYxkj7estb0nmuZnVJPcXcuT+jxXbgxBgwOYsZrWCZiZT+82FcjGfG0PWlxhMFYMa41IElOZdKWKOhG1+5TNaXG0UErw/flZMU/kou3MbVLz5Ff+87aN3+qjAiu9ZNjL68A3uPnMHFuYfCXfpDx1CEYuOla5+jd0/zmuduzFg4MISLd20j5PoH8hv4E1Glt2MIoxPTKbmnpcblnW4N43cVLqKyJ1avNDAt8NQyJo/vFrrMYkwoBPHSW7LnWF8XQ+vROK7OLSFZYOjh4egB62VTF8E+B2EGHuHCXuHlVL8PXyij+CbbH06+KqWbDZUInq94ruGts5iz6eaZ6RmfkieupmPa+PFNnGzbqHm2w2Cj+CA/x6lljB1u09QhsT55ON6wEz1jwc779SWiygDuut4rzmRXJ3FEsGvbufvO14f824oWUaOxGcsgzUbacPxafriXrmFA1xA3tGNw8kHBopVfRtSrFQ9bKKMhqBu3vYXuj87j6txD7/kzKm5EGIjaOYwF9bHm3/NxtAjPbPjjOJLmd8pn8tawy5Qoyz6mnaJvaGLdmbSdPdFhzM2clAcohLyaz6iv24zBWXnmgZJ1f3/eGZYYWc/NLa+n72Iu3pu/3Lre7U9Ev0GfYIPtp+84P++FfP26/jzbrXPqZf+2IkU0uXADZw+1SAJaX9eIwduFNZpQxkvvjaJDHMkUKqnUKDfsRPfI954Gx2aPN2ZfOPX1O3Bm3p6XdF0RxCj5022M/Pd269l5DlJJDTwSk+webe9FfDrjoc/HJWbaGHExmhk9UYuiIoqug0XK9RRRC2VRjqQGoxMOm/Ov9F+znyvqNVfpeGm3Zg6dES8NYHXQsoOnrDDYemjMfcqW4mHaDjDl47F6ZWtcp3ThnAYB1WTt6oRuMHAtRhzDxs64Ow/1QTX8t8Q434ElRRQpogFXJMmYilBIHpj0XQxtxyexUmC8UCry42voaxK6vdJzGnH0a2tCu3RfCf9I3r+N0TN/QeeubZIXpvJwrbxqrNNmgCm/2GkehVYaWj7eh1Qn0nNmvXneeeSu5i+VGFNE86oP4e7OSwLmHmuKvnEWC4UKaRg9UY0pjXXOVz/7KzrVZZ0epouoo+7yAFP+o/jZLK78iItpoX/NdnS+eXuT9AIoWETNgaXsg3lQDAIU0cIphltEHRpMWkg+PZLT/X7l+LR2EESHKZQxUV1mxfOpZYx0bLJijY5zSjM3qvM/hQGm5NRg/vNJU4u4kBOfdn/hVbyIMiZq1USll8GBJQtNIEfSG9FBRLOZUwdg8liRAw+j89nnlO3A3HzZ20YfLyaPWSJaF4GXOXfySiRzFFud1qRZASZyeHITfao37LH3UPEiytF5qyZwipPFIgxHeYuoMeFcWbPrOiob5nmiy+K+oabA6S3z/HKvJaJePFEjKWWlV3oKkzLotO7tC1jRPxYwFjqIXrAhnsYy2i9vYSEhTIhKJZH45SkWbg1LS1QrXkTpiQq1w2ayvVNYjZPtBXYlOCxEROF1w2LXFUtx3NJMKi9BUe2TVMrScOSifvpSahHD4oott5Ui2SeqXuc+HDz0iiXGXqYgKQsCXOPRSpev4kU0y7I6DqR2l+/AEgA51h5Dz7huAFZZ9tnQh+tOglsBeCs2JiqxvX0azUI30s4TrZi4pyKixgh8ei7ktXlkHTxjRxxjFyelK+20NFPilVPplRimhwEqeWmqSxghmbtCjCKqWiTYv/2KKFKLOCXumOZxA5J86mywhPRPr2wRTT5dExNx9xh1iaLLLk7BrUrSGMVGRNWpTHZ/p1cB5fNGVweYhJeQp4qteqLitmdG0Z4ZXfh/4vS7e3I3/a2LgCKqsX9Ap32LKIDkzKC0B256K7z7wlZ4F9c2SM/WX0NoXfZwCAhHXo8NhYj630/U8qRekXZyUqbsZIUiBOvjdWaSYqJWubIVL1sG6zsv69HtHicPMGXSU19Cdjemzz3C2NvCzACbfDnlOfudMe/z73etGRUPb+qX4ro8Iz0Bfz7TaLX5ru0v3H+5wKpXWRulua8tOFkw97S1xZjHpsx1jTg2revy2yYe2pOhEFHpLejSUGTDigaPoe3jWXnVkjJqaKw7N1YeBR73dKwO1uh828fTWLl/A/EP3kFL9rdqMmU29oN882h6yaNjck5fKgNMBlundfI5SRmDK16mNxn7EFz5XNp0QrKjOAtjalCIzYr29XbsvuAgpxQ1dcJXW/MycJl6isn+30pzgiVbG+3b+HmQG9UhoEblCYWIFu6JxrB1x1vo/uQSdL+1VMm/sSS1bqWbXxyxUEZVC1wnb/wo2WnjB85etjb2Nbe/G/02s65dGVjKNix6opKZS/1HaT1RK/e2P1RnbJzzCX+ozqLEo/ISKImIlrcIfBoJVCOBUHii1Qi26GWiiBYdKRMkgWIQoIgWg2I50ng8gf1CvLhnnL93VA7sfAYJuBGgiLoRCs33q5g9ubYbv/NPgYQmw8wICdQEAYpoTZiZhSQBEigVAYpoqcgyXRIggZogQBGtCTOzkCRAAqUiQBEtFVmmSwIkUBMEKKI1YWYWkgRIoFQEKKKlIst0SYAEaoIARbQmzMxCkgAJlIoARbRUZJkuCZBATRCgiNaEmVlIEiCBUhGgiJaKLNMlARKoCQIU0ZowMwtJAiRQKgIU0VKRZbokQAI1QYAiWhNmZiFJgARKRYAiWiqyTJcESKAmCFBEa8LMLCQJkECpCFBES0WW6ZIACdQEAYpoTZiZhSQBEigVAYpoqcgyXRIggZogQBGtCTOzkCRAAqUiQBEtFVmmSwIkUBMEKKI1YWYWkgRIoFQEKKKlIst0SYAEaoIARbQmzMxCkgAJlIoARbRUZJkuCZBATRCgiNaEmVlIEiCBUhGgiJaKLNMlARKoCQIU0ZowMwtJAiRQKgIU0VKRZbokQAI1QYAiWhNmZiFJgARKRYAiWiqyTJcESKAmCFBEa8LMLCQJkECpCFBES0WW6ZIACdQEAYpoTZiZhSQBEigVAYpoqcgyXRIggZogQBGtCTOzkCRAAqUiQBEtFVmmSwIkUBMEKKI1YWYWkgRIoFQEKKKlIst0SYAEaoIARbQmzMxCkgAJlIoARbRUZJkuCZBATRCgiNaEmVlIEiCBUhGgiJaKLNMlARKoCQIU0ZowMwtJAiRQKgIU0VKRZbokQAI1QYAiWhNmZiFJgARKRYAiWiqyTJcESKAmCFBEa8LMLCQJkECpCFBES0W2FOkmlzHz2V/Rues1bIxEUF9n/Y++vAPN21/F3neP4fTlu0ikSpEBphk4geRTLHw7hdEzf0Hnrm3YN/LAX5Z+WcTFkwfR2rQF0Ux9im7agdYDQ7h4N+Ev7Rq5O9wimlrGrS8+Rfee17B1vSkYMWxsakfnifOYWX6xZqbVmzjR9BKim7tw/kHmXMaAKxP9aI5EEG3pxvnvK7dSrFxeK4conE7HXWNPaqQKV3cxk4lF3Lr0OYZ630HryzHpxWnYf7cPEXWvUzG0ffgNKrfVlKduhFNEU08xd647LX5OQlFfF0PbiUnMxQ9kK9emD7+xyL34Dic2RbPfGdc3dw7hqim+1pWhPkrODGKr4HU6M4kguu0QLlVYGUNtgCAyl1rGyN5NQt01nQj5s1ARTUwNeKxTMV9CHQS6cj8zfCKa+BGnOja6Vh6dkKzrvyYwvIfhlgabtNbEd6kiuryrGHt7g1CGRvRcvotkReRdMAUP8yOwPIoODy/OgkT0ySSORATnItqOY5Pz2TqVXJhC/06xDTZi8PZ/8st/DV0dLhE13r4dytt3Qzt6R6axkEhmzZLu4ox+hI5Nud0bWUQBPL6JoY6t2XiPJL4b2jEQ9vjhi2/QJzSmdb1Xshx4UM0EVjF9fFe63ka3tqPz6BmMXrmFhdvDaBXqQyEiOjvwqvRSPjZtE/p5chN9vxGEtmMES9WM20fZQiWi8//TLhg3gugfTmMuIcc4pbKmHmGie7t0T46IZm5I3L6Ag00vSdeagmp0f0MbL1VFVPK0JRr8oxYILMkeat4iuip7oQ1/HIflnsgAE5d7BedjMwZn6Y3KhNb+Co+IPhzDm8Ibtr6pH9edBNQsjVEphPt0Ipq+PB1r/TNasoNUYnwphubDZ63BKjP9cn8+W0T8UItQecU8uhwb3bLpnz3lOHn/BuIfvCONytavb0TzrgMYGJnBkq5liak/vImBNrHbJ+RvXR+uC9cm7oxjqKs1M6sghq1vHkV8mr6NgMjboU8RfT6hCKNTN/3Xm+gTuv0NfIHb2ig0Ijr/6e8ELzGft54cM5QGlmyLDCC1jMnjuzVCFXC8VGkkprfs9dPxJWLwWLqmFz7hZVQf2YKOE5NwjBtPDQo2EwTUSMcU0dQiLmhfCjFsf28CKyWO7y794z3Ni1PJs1h+2+MYWo5cdGaiq3PFOq/Uj3w90dmBRstm697D147sk5g4LITM2obZpbexY0hE9BFGOtZbxn31FBZsMqs7lZg6mW4k6VFpZYqT7p70eSdB2dCOwckH2WC7YzrF/LKEnmhicsDDjAdZWKLbHHoELp7o1/P/xEExrmYrTBHs+9Kb91wY5ns49ard4KJcTq8vKWOGR6DdWp8iOv2+ENLy0M6k680XY2GGqNq7wiGiAcf9Qh0vLRabW0PKlJZM+GIhYb0ojIncUyO5seOdp7Dg6LGstY8H5/ZZL8K6GKLCgoDotgMYuvzDmtf5+Jo0aOGp9+CjCdITteBJouhhsEi6niJqgRSOKKImDMe5qYbgxDH3i8Mgl5lOsT+LIaK/focTkkfYiJ5xB+8vtYyx/5YH7F4/fce1ZLKIZjy9jEefc/O9UexdbyyCGPAW+85JoEZPFNMTpYgWpRJRRFWMhpfUJEztkLqgjTj6tc10EDWNYv5dBBGVBxMi2H3uvnsOVeFt6MZXz5xfIrKIBhxbdi9hZV5BEQ2d3Siipkmq1hNVBgc8iKGJ5PnlXql7fmzaeYqLJKLs+pkYi/tJES0uzyKkRhEFUN0x0Xs41WwNrKzr1s8LzKlPyqoZt5HgsIooY6KWZaUYJweWLDA+jsIholAaetdYeTY98DA674NtcW7125037hfm+rlOgRJzrczBrUwR5ei8aFJOcRJpFOc4JCIKzB4X5q/V78MXK87xN1/FD/M8UbVgfkUUPqaP3RzCRiEm7LYzFD1R1Xgl+JJ7xt8AAA27SURBVNtnd16Oj7vMx+Zke08GDI2I4s4wWoQG29A97t0bNUaTjQndkS3o+rvD/oquK5biuFVK8fZkEuUi3yIKyAsZYugacxiZNx+v7mNQvxvnXXaGCquImkWqik+fIgp12adDO5OXfcbgFhOvCr4FFCI8IopVTL+/QxjIiOCVP3pYHaJOx9EMaIQ67ulkuCKIKNRdeyI7cMxplkHqKSYVWzitsTazTxE1SZTw06+IApD3qGiEpw1Idg7ntQCmhARCl3SIRBSAunOM4Zmmd3G6irmfhEnhAJKJZcxdPIVOdVMR1dguuzgFsiopn2pQDBEF8CC+T1nmGkPr0ThmvEy2N0b0PexjQBHNx7AFXlsEEcWqskNTeis8a3Vecn4c70ntqhHHbvy7wAxX/23hElGD95PvcELayzCP5XmNh3BJWvZZefuJJu+MeloqabdMMdo+gBmHcMT8uQOKkHpgu2Ffzq8FpJuFn+WpxgR8jxulVH8T1JSwxHy9b8ocwSv917yH1jTFqebT4RNRg3bqEa6ePJjHOm9jY4h47rZ5djvbHw5h3FOoYZI3J8SI7UTT7pxb3MoprCGnp2Fq5lXxiOR73cU5r1kC5jNr6bMMfN33UjB+HmSav9flUu/CKaJmplOPMHflcwy9ux/Nwg9pGQ02/cNse3owNDKDhWfmDbmflfYbS6X0REU6Kz+M47Txuz0i18iWzFZ4VzHn4NGm0ymxpyTmtSaPy8VX80N1e4+c4Q/Veax44RZRj4XgZSRAAiQQFAGKaFDk+VwSIIGqIEARrQozshAkQAJBEaCIBkWezyUBEqgKAhTRqjAjC0ECJBAUAYpoUOT5XBIggaogQBGtCjOyECRAAkERoIgGRZ7PJQESqAoCFNGqMCMLQQIkEBQBimhQ5PlcEiCBqiBAEa0KM7IQJEACQRGgiAZFns8lARKoCgIU0aowIwtBAiQQFAGKaFDk+VwSIIGqIEARrQozshAkQAJBEaCIBkWezyUBEqgKAhTRqjAjC0ECJBAUAYpoUOT5XBIggaogQBGtCjOyECRAAkERoIgGRZ7PJQESqAoCFNGqMCMLQQIkEBQBimhQ5PlcEiCBqiBAEa0KM7IQJEACQRGgiAZFns8lARKoCgIU0aowIwtBAiQQFAGKaFDk+VwSIIGqIEARrQozshAkQAJBEaCIBkWezyUBEqgKAhTRqjAjC0ECJBAUAYpoUOT5XBIggaogQBGtCjOyECRAAkERoIgGRZ7PJQESqAoCFNGqMCMLQQIkEBQBimhQ5PlcEiCBqiBAEa0KM7IQJEACQRGgiAZFns8lARKoCgIU0aowIwtBAiQQFAGKaFDk+VwSIIGqIEARrQozshAkQAJBEaCIBkWezyUBEqgKAhTRqjAjC0ECJBAUAYpoUOT5XBIggaogQBGtCjOyECRAAkERoIgGRZ7PJQESqAoCFNGqMCMLQQIkEBQBimhQ5PlcEiCBqiBAEa0KM7IQJEACQRGgiAZFns8lARKoCgIU0aowIwtBAiQQFAGKaFDk+VwSIIGqIEARrQozshAkQAJBEaCIBkWezyUBEqgKAhTRsJvx3jgONr2E+g3t+Hj2Sdhzy/xVKIHkTz9i5tLnGHp3P5q39OO6z3Ik7oxjqOv3aN4UQ31dBPV1MWxsakfnx5ew8MsLn6mH6/YQiOgjTB/fjWgatAHb+X900w60HhhEfHoJyZQ7zJWJfjRHIoi2dOP89wn3G0J2xXT/FovJGyNYCVn+mJ0KJJBKYmnuBkbPfIDuPa9hY0Rpc+v6ChfR1CNM/Ol15/YcbcdgFTkEwYvoi2/Q5yKcWmHd0I7Br3/W1+IX3+HEpqglQnUxNHcO4epy5bwJp99/ycp/xwiW9KXlNyTgSiAxNZB2KrRtymiLBYvoKqbf32HVV6d2Hd2N8w8qpx06gQ1eRJGfJ5pr/Bh2jzzQlPEehlsabIwaQ9uJSSx58GQ1CZftNEW0bKhr4kFSz0YncgWKaOJyr+SBRlv7cXXx+RrXVBIL/xpAq+j1Ng3g2wpog24VIwQiamXxwbl9luDV78Z5G48xmVjEzLk+tK4XuyCNODatiRc+vomhjq2ScbNCvKEdA5fvIhFiQ1JErfrBoyIQuDeKTiNOGdmC5j09GPrsEmbmljDWbcYuC/REf/0OJ34j9Pqa+nE9ketpGp7wVkG89Q5QEcpapiQqTkSzXJavoFs0WkM3vrIxmnl94vaFtQEawYCmmEa3HQptvJQialqQn6UkINWzAjzR5xOiFxpDz1f/1mR3FROHN1vO0pYTFe+NVq6IAkjODEpvtVc+/EZjuMzp1FPMnfszWiQv1vRoY2g+fBYzNt6vc6JF/vbJd3rP2eYFYL4IjM/o5j9oRvCTWIh3a2NhkjeQWk57+ntfXovFRjftzBlRTd4ZtX8h5fQenJ+7rv+aJ3grP4zjtDFq3LTF6lEYntSuA+j95BLmVnI9Hk8J86IsAX8imsREtyKM2ZRtDqYGLTvWxXBs+j82F1XOqYoWUUB5qxne6DMPDSq1jEntjIBg46VSSMNFNEUBNY/XvX3BZgR/GSPt6623v5KuKaKJmdNKmMR8wURQv2Ef/paZ3aDNY46IOj/XTUSdeg9medc+jRdgHHPlnDqTWsbY4TZBDARWCl85rzbXbdiJnjFdXL88YuJLRJUB3HW9V5wzvTqJIwKjtnP3na8P+bcVLqIApLdaBD3jum6EjSWWrmGgbaO9uBgj/5MPPE2jskm58FNBeKLnvsf0gIdpZpmuVzk80QfxA/kL1IZ95RvxvTOMFkEIXIXS7drYCXxbeK3xfac/EZVn2Gw/fcc5P8qMHLeXqXNiwX9b+SL6eAL7hQpayFvNyeMJOl4qVe5iTXFSKnE0Igwq1MXQejSOmftro6rzZ/dZYlbfhUuKtyd5pTmeqFLBlefqGs+DuPDMjG2j7QO4OPfQeqklH2Hu4ke5nrNmQEPJif8/6YlaDBW7mj0b6wLlSLleVw+Uu0L7Z+WLaLEMko6X6uKGAXQXM1WmHCLq3CVexXT/bxGNbEHX33O7nEUX0YcT2C9Og6mL4JW+Sf0Miic30ScOMBrXu8XGQ9scg8uYVM/yHVhS2iBFNDg7Iq8GaeZTMaDvt9rja+hrEqZqCF5ufV0jjn6tmUpl5qfIn1LlLpUn6mN2Ql4282Cr+U9/J4dXOobd5/Pei6NDtFP9PnzBwaa8aqJUzyiiebGjJ2riqmFP1NVzMBnZfBZXRB9hpEMcANuMwVlvI7ezxxsl8e0aK+/LzgZNRZ2iiBZuLooogFqPiYZGRBVP1c9gje8eiVubYkzUIqTYjQNLFpqyH+Xl1Zi5Wx6VunJ5CYKH0XnzMUF9Sh5CibrzeTFTQORlM6Wx5Qid8n2oRZSj81ZN4BQni0XQR3k1yExmn1/uFbpxmzF420P3L8TzRFUb1JSIwnleaT6imiPQKli/f9MTFQjaTLZ3WkotTUvkZHsBpP/DvEU0tYhT4gYjbkvIXFcsxXErZAMStSWiwOyAENus34kz8x5eiv6rXs2nINWzfAeWAOQs+xzXxaTVBTJ9uO4kuBVgmcqNiRr7FnZvF7zQGHbbTMExbRDmuKeZR7tPqXI3uOzzaIQnjM1WIjtwyGkFjNJt9tOd99wTWLmN+KEWa85pXQS23uKSHJ6pb+zGV//nYRWaHTye80xAqmcFiChUh0YzX1fdgOT14bue8xjWCytPRJNPsTA1krN2O/rGiP1UGJddnAJZlZRHbXg4ekB+UZyexdIzIYFnT7Fw658Y6mqVBKre8MqFy6TDIooo5uPSyp3oG2cxZ+Yv+RRLc8YO50reMtORbEUUSE91kzbpjuxIr9+f+ylhTbY3CpR8isQvi7h15R84fexP2Lv91bUNhvkrAJK5vfzhW0Rt9rJIb4WXWbQBYyu8i2sbpGfDMobQelmm7aUAAV4TAhH1u59oBNE/nMac7Q5Olb+fKFZzJ5NnK6E4N1I5bui9gmSmYq1Mncxd2aNcb5/m2iKDBVMUbStqHhvx2j7T7hmrmPWyDNU2vbW16TqBti1CDZ0MT11w2L6ywuwRvIgqXpF9Y7bZtCHdgGJo+3hav5pFGTU0fufF2KgibHFP1zpj/M6SsipHx8nYyenol99LTCQvw0F4bNN0W8ppZD61jJG9mwSPOdde6eWz3/0v3rN7vuYZK5OFib/xUzCXqmTXdNe6kecFpa8LTzFprHCzs7N5zvh5kBu6mGmeBQrB5cGLaL47269vzGsLtEr/jaVsHUk9wq3Rj9C56zVsFbbyi768A61dR3H6yxnMrWR2Ec/etHZQWu/DetjSv06hc9e2bAMyfg9r75Ez6TXv6atsX5h2nqiVptENXLqW+QE1cSs8o0Ea2+FtfzVd/v6PzuPi9R/kUIeQDA/XCJSrLtj+UN22t9D9CX+ojnWRBEiABEhAIBACT1TIDQ9JgARIoMIIUEQrzGDMLgmQQLgIUETDZQ/mhgRIoMIIUEQrzGDMLgmQQLgIUETDZQ/mhgRIoMIIUEQrzGDMLgmQQLgIUETDZQ/mhgRIoMIIUEQrzGDMLgmQQLgIUETDZQ/mhgRIoMIIUEQrzGDMLgmQQLgIUETDZQ/mhgRIoMIIUEQrzGDMLgmQQLgIUETDZQ/mhgRIoMIIUEQrzGDMLgmQQLgIUETDZQ/mhgRIoMIIUEQrzGDMLgmQQLgI/H+yMsljzvPMdwAAAABJRU5ErkJggg==)"
   ]
  },
  {
   "cell_type": "code",
   "execution_count": 253,
   "id": "e6d41fe9",
   "metadata": {},
   "outputs": [],
   "source": [
    "true = 10 #correct"
   ]
  },
  {
   "cell_type": "code",
   "execution_count": 254,
   "id": "ef4af427",
   "metadata": {},
   "outputs": [
    {
     "name": "stdout",
     "output_type": "stream",
     "text": [
      "<class 'list'>\n",
      "<class 'int'>\n",
      "<class 'tuple'>\n",
      "<class 'set'>\n"
     ]
    }
   ],
   "source": [
    "#A\n",
    "print(type([10]))\n",
    "#B\n",
    "print(type(10))\n",
    "#C\n",
    "print(type((10,14)))\n",
    "#D\n",
    "print(type({10})) #"
   ]
  },
  {
   "cell_type": "code",
   "execution_count": 255,
   "id": "efc988b5",
   "metadata": {},
   "outputs": [],
   "source": [
    "x = 1000"
   ]
  },
  {
   "cell_type": "code",
   "execution_count": 256,
   "id": "e69f886f",
   "metadata": {},
   "outputs": [
    {
     "name": "stdout",
     "output_type": "stream",
     "text": [
      "What do u want to assign for x :233\n",
      "233\n"
     ]
    }
   ],
   "source": [
    "# How to get the input\n",
    "# input(\"Hint\")\n",
    "x = input(\"What do u want to assign for x :\")\n",
    "print(x)"
   ]
  },
  {
   "cell_type": "code",
   "execution_count": 257,
   "id": "d8964f6c",
   "metadata": {},
   "outputs": [
    {
     "data": {
      "text/plain": [
       "str"
      ]
     },
     "execution_count": 257,
     "metadata": {},
     "output_type": "execute_result"
    }
   ],
   "source": [
    "type(x)"
   ]
  },
  {
   "cell_type": "code",
   "execution_count": 258,
   "id": "3f55e142",
   "metadata": {},
   "outputs": [
    {
     "name": "stdout",
     "output_type": "stream",
     "text": [
      "enter num 1 :10\n",
      "enter num 2 :15\n",
      "data type of num1 & num2 is: <class 'str'> <class 'str'>\n",
      "1015\n",
      "data type of output is : <class 'str'>\n"
     ]
    }
   ],
   "source": [
    "num1 = input(\"enter num 1 :\")\n",
    "num2 = input(\"enter num 2 :\")\n",
    "print(\"data type of num1 & num2 is:\",type(num1),type(num2))\n",
    "add = num1+num2\n",
    "print(add)\n",
    "print(\"data type of output is :\",type(add))"
   ]
  },
  {
   "cell_type": "code",
   "execution_count": 259,
   "id": "f385dcb9",
   "metadata": {},
   "outputs": [
    {
     "name": "stdout",
     "output_type": "stream",
     "text": [
      "enter num 1 :10\n",
      "enter num 2 :15\n",
      "data type of num1 & num2 is: <class 'int'> <class 'str'>\n",
      "25\n",
      "data type of output is : <class 'int'>\n"
     ]
    }
   ],
   "source": [
    "num1 = int(input(\"enter num 1 :\"))\n",
    "num2 = input(\"enter num 2 :\")\n",
    "print(\"data type of num1 & num2 is:\",type(num1),type(num2))  \n",
    "add = num1+int(num2)\n",
    "print(add)\n",
    "print(\"data type of output is :\",type(add))"
   ]
  },
  {
   "cell_type": "code",
   "execution_count": 260,
   "id": "b61a9168",
   "metadata": {},
   "outputs": [],
   "source": [
    "#build a calculator\n",
    "# gets two numbers\n",
    "# addition, multiplication, subtraction and division"
   ]
  },
  {
   "cell_type": "code",
   "execution_count": 263,
   "id": "dd0003b6",
   "metadata": {},
   "outputs": [
    {
     "name": "stdout",
     "output_type": "stream",
     "text": [
      "Enter the First Number : 10\n",
      "Enter the Second Number : 15\n",
      "The Addition of 10 and 15 is 25\n",
      "The Multiplication of 10 and 15 is 150\n",
      "The Substraction of 10 and 15 is -5\n",
      "The Division of 10 and 15 is 0.6666666666666666\n"
     ]
    }
   ],
   "source": [
    "num1 = int(input(\"Enter the First Number : \"))\n",
    "num2 = int(input(\"Enter the Second Number : \"))\n",
    "\n",
    "print(\"The Addition of {0} and {1} is {2}\".format(num1,num2,num1+num2))\n",
    "print(\"The Multiplication of {0} and {1} is {2}\".format(num1,num2,num1*num2))\n",
    "print(\"The Substraction of {0} and {1} is {2}\".format(num1,num2,num1-num2))\n",
    "print(\"The Division of {0} and {1} is {2}\".format(num1,num2,num1/num2))"
   ]
  },
  {
   "cell_type": "code",
   "execution_count": 264,
   "id": "6bf7ba0a",
   "metadata": {},
   "outputs": [],
   "source": [
    "#Swap values without using third variable\n",
    "a = 10\n",
    "b = 50\n",
    "a,b = b,a"
   ]
  },
  {
   "cell_type": "code",
   "execution_count": 266,
   "id": "0b49d731",
   "metadata": {},
   "outputs": [
    {
     "name": "stdout",
     "output_type": "stream",
     "text": [
      "20 35\n"
     ]
    }
   ],
   "source": [
    "a = 35\n",
    "b = 20\n",
    "a = a + b #55\n",
    "b = a - b # 35\n",
    "a = a - b\n",
    "\n",
    "print(a,b)"
   ]
  },
  {
   "cell_type": "code",
   "execution_count": 270,
   "id": "ca2b3cd5",
   "metadata": {},
   "outputs": [
    {
     "name": "stdout",
     "output_type": "stream",
     "text": [
      "10 50\n",
      "50 10\n"
     ]
    }
   ],
   "source": [
    "a = 10 \n",
    "b = 50\n",
    "print(a,b)\n",
    "\n",
    "a = a^b # output 56\n",
    "b = b^a # output 10\n",
    "a = a^b #output 50\n",
    "print(a,b)"
   ]
  },
  {
   "cell_type": "markdown",
   "id": "10694654",
   "metadata": {},
   "source": [
    "<h2> Collection Objects"
   ]
  },
  {
   "cell_type": "code",
   "execution_count": 271,
   "id": "2ea0a178",
   "metadata": {},
   "outputs": [],
   "source": [
    "# Collection Literal --> List, Tuple, Dictionary, Set"
   ]
  },
  {
   "cell_type": "code",
   "execution_count": 272,
   "id": "fb15731e",
   "metadata": {},
   "outputs": [
    {
     "name": "stdout",
     "output_type": "stream",
     "text": [
      "['James', 34, 700, \"Bond's\"]\n",
      "['James', 34, 700, \"Bond's\", 'love', 53, 35, 'hate']\n"
     ]
    }
   ],
   "source": [
    "#List []\n",
    "#---> Different data type, +  Mutable \n",
    "    #  + Square bracket[] + sep by Comma(,)\n",
    "list_2 = ['James', 34, 700, \"Bond's\"]\n",
    "list_1 = ['love', 53, 35, 'hate']\n",
    "print(list_2)\n",
    "print(list_2+list_1) \n",
    "#Can "
   ]
  },
  {
   "cell_type": "code",
   "execution_count": 275,
   "id": "5a1ae90e",
   "metadata": {},
   "outputs": [
    {
     "ename": "TypeError",
     "evalue": "unsupported operand type(s) for /: 'list' and 'list'",
     "output_type": "error",
     "traceback": [
      "\u001b[1;31m---------------------------------------------------------------------------\u001b[0m",
      "\u001b[1;31mTypeError\u001b[0m                                 Traceback (most recent call last)",
      "\u001b[1;32m<ipython-input-275-800873fdec5d>\u001b[0m in \u001b[0;36m<module>\u001b[1;34m\u001b[0m\n\u001b[1;32m----> 1\u001b[1;33m \u001b[0mprint\u001b[0m\u001b[1;33m(\u001b[0m\u001b[0mlist_2\u001b[0m\u001b[1;33m/\u001b[0m\u001b[0mlist_1\u001b[0m\u001b[1;33m)\u001b[0m\u001b[1;33m\u001b[0m\u001b[1;33m\u001b[0m\u001b[0m\n\u001b[0m",
      "\u001b[1;31mTypeError\u001b[0m: unsupported operand type(s) for /: 'list' and 'list'"
     ]
    }
   ],
   "source": [
    "print(list_2/list_1)"
   ]
  },
  {
   "cell_type": "code",
   "execution_count": 280,
   "id": "4f52116c",
   "metadata": {},
   "outputs": [
    {
     "ename": "TypeError",
     "evalue": "can't multiply sequence by non-int of type 'list'",
     "output_type": "error",
     "traceback": [
      "\u001b[1;31m---------------------------------------------------------------------------\u001b[0m",
      "\u001b[1;31mTypeError\u001b[0m                                 Traceback (most recent call last)",
      "\u001b[1;32m<ipython-input-280-43718650fb8b>\u001b[0m in \u001b[0;36m<module>\u001b[1;34m\u001b[0m\n\u001b[0;32m      1\u001b[0m \u001b[0ml1\u001b[0m \u001b[1;33m=\u001b[0m \u001b[1;33m[\u001b[0m\u001b[1;36m2\u001b[0m\u001b[1;33m,\u001b[0m\u001b[1;36m3\u001b[0m\u001b[1;33m,\u001b[0m\u001b[1;36m4\u001b[0m\u001b[1;33m]\u001b[0m\u001b[1;33m\u001b[0m\u001b[1;33m\u001b[0m\u001b[0m\n\u001b[0;32m      2\u001b[0m \u001b[0ml2\u001b[0m \u001b[1;33m=\u001b[0m \u001b[1;33m[\u001b[0m\u001b[1;36m7\u001b[0m\u001b[1;33m,\u001b[0m\u001b[1;36m8\u001b[0m\u001b[1;33m,\u001b[0m\u001b[1;36m9\u001b[0m\u001b[1;33m]\u001b[0m\u001b[1;33m\u001b[0m\u001b[1;33m\u001b[0m\u001b[0m\n\u001b[1;32m----> 3\u001b[1;33m \u001b[0ml2\u001b[0m\u001b[1;33m*\u001b[0m\u001b[0ml1\u001b[0m\u001b[1;33m\u001b[0m\u001b[1;33m\u001b[0m\u001b[0m\n\u001b[0m",
      "\u001b[1;31mTypeError\u001b[0m: can't multiply sequence by non-int of type 'list'"
     ]
    }
   ],
   "source": [
    "l1 = [2,3,4]\n",
    "l2 = [7,8,9]\n",
    "l2*l1"
   ]
  },
  {
   "cell_type": "code",
   "execution_count": 281,
   "id": "cdd7cf14",
   "metadata": {},
   "outputs": [
    {
     "name": "stdout",
     "output_type": "stream",
     "text": [
      "(10, 20, 'Dave', [7, 8, 9], [1, 2, 3])\n"
     ]
    }
   ],
   "source": [
    "#Tuple()\n",
    "#Immutable + Different Data Type + sep by comma(,)\n",
    "#+ enclosed by parenthesis ()\n",
    "\n",
    "tup = (10, 20, \"Dave\", l2, [1,2,3])\n",
    "print(tup)"
   ]
  },
  {
   "cell_type": "code",
   "execution_count": 283,
   "id": "3d7d1ae2",
   "metadata": {},
   "outputs": [
    {
     "name": "stdout",
     "output_type": "stream",
     "text": [
      "{'name': 'Himanshu', 'age': 29, 'Service Allocated': 'Indian Police Service'}\n"
     ]
    }
   ],
   "source": [
    "#Dictionary{key:Value,}\n",
    "#enclosed by Curly-braces{} and each pair is sep by comma(,)\n",
    "dict_1 ={'name':'Himanshu', \"age\" : 29, 'Service Allocated' : \"Indian Police Service\"}\n",
    "print(dict_1)"
   ]
  },
  {
   "cell_type": "code",
   "execution_count": 285,
   "id": "2717b163",
   "metadata": {},
   "outputs": [
    {
     "name": "stdout",
     "output_type": "stream",
     "text": [
      "{'apple', 'Paisa hi paisa hoga', 'book', 'Grapes'}\n"
     ]
    }
   ],
   "source": [
    "#SET {values}\n",
    "#Unordered + sep by Comma(,)\n",
    "set_1 = {'apple', 'book', 'Grapes', 'Paisa hi paisa hoga'}\n",
    "print(set_1)"
   ]
  },
  {
   "cell_type": "code",
   "execution_count": 290,
   "id": "e1936a9f",
   "metadata": {},
   "outputs": [
    {
     "data": {
      "text/plain": [
       "{'a', 'b', 'c', 'f', 'g'}"
      ]
     },
     "execution_count": 290,
     "metadata": {},
     "output_type": "execute_result"
    }
   ],
   "source": [
    "set_2 = {'g','a', 'b','c','f'}\n",
    "set_2"
   ]
  },
  {
   "cell_type": "code",
   "execution_count": 291,
   "id": "4f7ea608",
   "metadata": {},
   "outputs": [],
   "source": [
    "#Broadcasting\n",
    "# list\n",
    "# tuple\n",
    "# set\n",
    "# dict"
   ]
  },
  {
   "cell_type": "code",
   "execution_count": 292,
   "id": "2274bcb8",
   "metadata": {},
   "outputs": [
    {
     "data": {
      "text/plain": [
       "['H', 'e', 'l', 'l', 'o']"
      ]
     },
     "execution_count": 292,
     "metadata": {},
     "output_type": "execute_result"
    }
   ],
   "source": [
    "list(\"Hello\")"
   ]
  },
  {
   "cell_type": "code",
   "execution_count": 293,
   "id": "dede5531",
   "metadata": {},
   "outputs": [
    {
     "data": {
      "text/plain": [
       "{'H', 'e', 'l', 'o'}"
      ]
     },
     "execution_count": 293,
     "metadata": {},
     "output_type": "execute_result"
    }
   ],
   "source": [
    "set(\"Hello\") # Non Repitative Values"
   ]
  },
  {
   "cell_type": "code",
   "execution_count": 295,
   "id": "f2ecb9df",
   "metadata": {},
   "outputs": [
    {
     "data": {
      "text/plain": [
       "list"
      ]
     },
     "execution_count": 295,
     "metadata": {},
     "output_type": "execute_result"
    }
   ],
   "source": [
    "list_1 = [1,2,3,4]\n",
    "type(list_1)"
   ]
  },
  {
   "cell_type": "code",
   "execution_count": 297,
   "id": "8bfdc98e",
   "metadata": {},
   "outputs": [
    {
     "data": {
      "text/plain": [
       "((1, 2, 3, 4), tuple)"
      ]
     },
     "execution_count": 297,
     "metadata": {},
     "output_type": "execute_result"
    }
   ],
   "source": [
    "tuple(list_1) ,type(tuple(list_1))"
   ]
  },
  {
   "cell_type": "code",
   "execution_count": 300,
   "id": "00b6ef63",
   "metadata": {},
   "outputs": [],
   "source": [
    "blank_list = []\n",
    "blank_tuple = ()\n",
    "blank_set = {}\n",
    "blank_dict = dict()"
   ]
  },
  {
   "cell_type": "code",
   "execution_count": 301,
   "id": "ac71b500",
   "metadata": {},
   "outputs": [
    {
     "name": "stdout",
     "output_type": "stream",
     "text": [
      "<class 'dict'>\n"
     ]
    }
   ],
   "source": [
    "print(type(blank_dict))"
   ]
  },
  {
   "cell_type": "markdown",
   "id": "b63008f9",
   "metadata": {},
   "source": [
    "##Data Types in Python"
   ]
  },
  {
   "cell_type": "markdown",
   "id": "d6300c16",
   "metadata": {},
   "source": [
    "### Strings"
   ]
  },
  {
   "cell_type": "markdown",
   "id": "fa30c330",
   "metadata": {},
   "source": [
    "Besides numbers, Python can also manipulate strings. Strings can enclosed in single quotes (`'...'`) or double quotes (`\"...\"`) with the same result. Use `\\` to escape quotes, that is, to use a quote within the string itself:"
   ]
  },
  {
   "cell_type": "code",
   "execution_count": 305,
   "id": "4e23247e",
   "metadata": {},
   "outputs": [
    {
     "data": {
      "text/plain": [
       "'spam egg'"
      ]
     },
     "execution_count": 305,
     "metadata": {},
     "output_type": "execute_result"
    }
   ],
   "source": [
    "'spam egg' #Single Quotes."
   ]
  },
  {
   "cell_type": "code",
   "execution_count": 306,
   "id": "c5479983",
   "metadata": {},
   "outputs": [
    {
     "data": {
      "text/plain": [
       "\"Doesn't\""
      ]
     },
     "execution_count": 306,
     "metadata": {},
     "output_type": "execute_result"
    }
   ],
   "source": [
    "'Doesn\\'t' # Use \\' to escape the single quote..."
   ]
  },
  {
   "cell_type": "code",
   "execution_count": 307,
   "id": "e07e738e",
   "metadata": {},
   "outputs": [
    {
     "data": {
      "text/plain": [
       "\"Doesn't \""
      ]
     },
     "execution_count": 307,
     "metadata": {},
     "output_type": "execute_result"
    }
   ],
   "source": [
    "\"Doesn't \" # ...or use double quotes instead."
   ]
  },
  {
   "cell_type": "code",
   "execution_count": 308,
   "id": "97698983",
   "metadata": {},
   "outputs": [
    {
     "data": {
      "text/plain": [
       "'\"Yes\",he said'"
      ]
     },
     "execution_count": 308,
     "metadata": {},
     "output_type": "execute_result"
    }
   ],
   "source": [
    "'\"Yes\",he said'"
   ]
  },
  {
   "cell_type": "code",
   "execution_count": 309,
   "id": "8aeb899d",
   "metadata": {},
   "outputs": [
    {
     "data": {
      "text/plain": [
       "'\"Yes\",He Said'"
      ]
     },
     "execution_count": 309,
     "metadata": {},
     "output_type": "execute_result"
    }
   ],
   "source": [
    "\"\\\"Yes\\\",He Said\""
   ]
  },
  {
   "cell_type": "code",
   "execution_count": 310,
   "id": "d43d0857",
   "metadata": {},
   "outputs": [
    {
     "data": {
      "text/plain": [
       "'\"Isn\\'t,\" she said.'"
      ]
     },
     "execution_count": 310,
     "metadata": {},
     "output_type": "execute_result"
    }
   ],
   "source": [
    "'\"Isn\\'t,\" she said.'"
   ]
  },
  {
   "cell_type": "markdown",
   "id": "26621fa3",
   "metadata": {},
   "source": [
    "In the interactive interpreter and Jupyter notebooks, the output string is enclosed in quotes and special characters are escaped with backslashes. Although this output sometimes looks different from the input (the enclosing quotes could change), the two strings are equivalent. The string is enclosed in double quotes if the string contains a single quote and no double quotes, otherwise its enclosed in single quotes. The [`print()`](https://docs.python.org/3.6/library/functions.html#print) function produces a more readable output by omitting the enclosing quotes and by printing escaped and special characters:"
   ]
  },
  {
   "cell_type": "code",
   "execution_count": 311,
   "id": "4d0a6e1d",
   "metadata": {},
   "outputs": [
    {
     "data": {
      "text/plain": [
       "'\"Isn\\'t\", she said.'"
      ]
     },
     "execution_count": 311,
     "metadata": {},
     "output_type": "execute_result"
    }
   ],
   "source": [
    "'\"Isn\\'t\", she said.'"
   ]
  },
  {
   "cell_type": "code",
   "execution_count": 312,
   "id": "c788e13c",
   "metadata": {},
   "outputs": [
    {
     "name": "stdout",
     "output_type": "stream",
     "text": [
      "\"Isn't,\" she said\n"
     ]
    }
   ],
   "source": [
    "print('\"Isn\\'t,\" she said')"
   ]
  },
  {
   "cell_type": "code",
   "execution_count": 317,
   "id": "928b9249",
   "metadata": {},
   "outputs": [
    {
     "data": {
      "text/plain": [
       "'First line. \\nSecond Line'"
      ]
     },
     "execution_count": 317,
     "metadata": {},
     "output_type": "execute_result"
    }
   ],
   "source": [
    "s = 'First line. \\nSecond Line' #\\n means next lines\n",
    "s #Without print(, \\n is included in the output)"
   ]
  },
  {
   "cell_type": "code",
   "execution_count": 318,
   "id": "16dd72e4",
   "metadata": {},
   "outputs": [
    {
     "name": "stdout",
     "output_type": "stream",
     "text": [
      "First line. \n",
      "Second Line\n"
     ]
    }
   ],
   "source": [
    "print(s) #With print(), \\n produces a new line."
   ]
  },
  {
   "cell_type": "markdown",
   "id": "a32c4ea9",
   "metadata": {},
   "source": [
    "If you don't want escaped characters (prefaced by `\\`) to be interpreted as special characters, use *raw strings* by adding an `r` before the first quote:"
   ]
  },
  {
   "cell_type": "code",
   "execution_count": 320,
   "id": "3fbb9a6b",
   "metadata": {},
   "outputs": [
    {
     "name": "stdout",
     "output_type": "stream",
     "text": [
      "C:\\some\n",
      "ame\n"
     ]
    }
   ],
   "source": [
    "print('C:\\some\\name') #here \\n means new line"
   ]
  },
  {
   "cell_type": "code",
   "execution_count": 322,
   "id": "4147796c",
   "metadata": {},
   "outputs": [
    {
     "name": "stdout",
     "output_type": "stream",
     "text": [
      "C:\\some\\name\n"
     ]
    }
   ],
   "source": [
    "print('C:\\some\\\\name') #use \\ to escape or use r'' --> Raw string"
   ]
  },
  {
   "cell_type": "code",
   "execution_count": 323,
   "id": "4255fd3f",
   "metadata": {},
   "outputs": [
    {
     "name": "stdout",
     "output_type": "stream",
     "text": [
      "C:\\some\\name\n"
     ]
    }
   ],
   "source": [
    "print(r'C:\\some\\name')"
   ]
  },
  {
   "cell_type": "markdown",
   "id": "d66e726f",
   "metadata": {},
   "source": [
    "String literals can span multiple lines and are delineated by triple-quotes: `\"\"\"...\"\"\"` or `'''...'''`. End of lines are automatically included in the string, but it's possible to prevent this by adding a `\\` at the end of the line. For example, without a `\\`, the following example includes an extra line at the beginning of the output:"
   ]
  },
  {
   "cell_type": "code",
   "execution_count": 324,
   "id": "488899d2",
   "metadata": {},
   "outputs": [
    {
     "name": "stdout",
     "output_type": "stream",
     "text": [
      "\n",
      "Usage: thingy [OPTIONS]\n",
      "     -h                        Display this usage message\n",
      "     -H hostname               Hostname to connect to\n",
      "\n"
     ]
    }
   ],
   "source": [
    "print(\"\"\"\n",
    "Usage: thingy [OPTIONS]\n",
    "     -h                        Display this usage message\n",
    "     -H hostname               Hostname to connect to\n",
    "\"\"\")"
   ]
  },
  {
   "cell_type": "markdown",
   "id": "49aa9336",
   "metadata": {},
   "source": [
    "Adding a `\\` removes that extra line:"
   ]
  },
  {
   "cell_type": "code",
   "execution_count": 326,
   "id": "51d064f2",
   "metadata": {},
   "outputs": [
    {
     "name": "stdout",
     "output_type": "stream",
     "text": [
      "Usage: thingy [OPTIONS]\n",
      "     -h                        Display this usage message\n",
      "     -H hostname               Hostname to connect to\n",
      "\n"
     ]
    }
   ],
   "source": [
    "print(\"\"\"\\\n",
    "Usage: thingy [OPTIONS]\n",
    "     -h                        Display this usage message\n",
    "     -H hostname               Hostname to connect to\n",
    "\"\"\")"
   ]
  },
  {
   "cell_type": "markdown",
   "id": "68afad6b",
   "metadata": {},
   "source": [
    "Because Python doesn't provide a means for creating multi-line comments, developers often just use triple quotes for this purpose. In a Jupyter notebook, however, such quotes define a string literal which appears as the output of a code cell:"
   ]
  },
  {
   "cell_type": "code",
   "execution_count": 327,
   "id": "56267383",
   "metadata": {},
   "outputs": [
    {
     "data": {
      "text/plain": [
       "\"\\nEverything between the first three quotes, including new lines,\\nis part of the multi-line comment. Technically, the Python interpreter\\nsimply sees the comment as a string, and because it's not otherwise\\nused in code, the string is ignored. Convenient, eh?\\n\""
      ]
     },
     "execution_count": 327,
     "metadata": {},
     "output_type": "execute_result"
    }
   ],
   "source": [
    "\"\"\"\n",
    "Everything between the first three quotes, including new lines,\n",
    "is part of the multi-line comment. Technically, the Python interpreter\n",
    "simply sees the comment as a string, and because it's not otherwise\n",
    "used in code, the string is ignored. Convenient, eh?\n",
    "\"\"\""
   ]
  },
  {
   "cell_type": "markdown",
   "id": "97ab5dea",
   "metadata": {},
   "source": [
    "For this reason, it's best in notebooks to use the `#` comment character at the beginning of each line, or better still, just use a Markdown cell!"
   ]
  },
  {
   "cell_type": "markdown",
   "id": "aea96a76",
   "metadata": {},
   "source": [
    "Strings can be *concatenated* (glued together) with the `+` operator, and repeated with `*`:"
   ]
  },
  {
   "cell_type": "code",
   "execution_count": 329,
   "id": "6704c2cb",
   "metadata": {},
   "outputs": [
    {
     "data": {
      "text/plain": [
       "'OmOmOmium'"
      ]
     },
     "execution_count": 329,
     "metadata": {},
     "output_type": "execute_result"
    }
   ],
   "source": [
    "#3 times 'un', followed by 'ium'\n",
    "3 * \"Om\" + 'ium'"
   ]
  },
  {
   "cell_type": "code",
   "execution_count": 330,
   "id": "3acfde0b",
   "metadata": {},
   "outputs": [
    {
     "name": "stdout",
     "output_type": "stream",
     "text": [
      " hello'world\n"
     ]
    }
   ],
   "source": [
    "print(\" \" + \"hello\" + \"'\" + 'world')"
   ]
  },
  {
   "cell_type": "markdown",
   "id": "70e0c1fc",
   "metadata": {},
   "source": [
    "Two or more *string literals* (that is, the values enclosed in quotes) placed next to each other are automatically concatenated:"
   ]
  },
  {
   "cell_type": "code",
   "execution_count": 333,
   "id": "7e201854",
   "metadata": {},
   "outputs": [
    {
     "data": {
      "text/plain": [
       "'pythoum'"
      ]
     },
     "execution_count": 333,
     "metadata": {},
     "output_type": "execute_result"
    }
   ],
   "source": [
    "'py'             'thoum'"
   ]
  },
  {
   "cell_type": "markdown",
   "id": "8ae41cfc",
   "metadata": {},
   "source": [
    "Automatic concatenation works only with two literals; it does not work with variables or expressions, so the following cell produces an error:"
   ]
  },
  {
   "cell_type": "code",
   "execution_count": 334,
   "id": "139b34b0",
   "metadata": {},
   "outputs": [
    {
     "ename": "SyntaxError",
     "evalue": "invalid syntax (<ipython-input-334-00ad70cd97bc>, line 2)",
     "output_type": "error",
     "traceback": [
      "\u001b[1;36m  File \u001b[1;32m\"<ipython-input-334-00ad70cd97bc>\"\u001b[1;36m, line \u001b[1;32m2\u001b[0m\n\u001b[1;33m    prefix 'thon'  # Can't concatenate a variable and a string literal.\u001b[0m\n\u001b[1;37m           ^\u001b[0m\n\u001b[1;31mSyntaxError\u001b[0m\u001b[1;31m:\u001b[0m invalid syntax\n"
     ]
    }
   ],
   "source": [
    "prefix = 'Py'\n",
    "prefix 'thon'  # Can't concatenate a variable and a string literal."
   ]
  },
  {
   "cell_type": "code",
   "execution_count": 335,
   "id": "ae983b50",
   "metadata": {},
   "outputs": [
    {
     "ename": "SyntaxError",
     "evalue": "invalid syntax (<ipython-input-335-12eded0bbdd5>, line 1)",
     "output_type": "error",
     "traceback": [
      "\u001b[1;36m  File \u001b[1;32m\"<ipython-input-335-12eded0bbdd5>\"\u001b[1;36m, line \u001b[1;32m1\u001b[0m\n\u001b[1;33m    The following cell likewise produces an error:\u001b[0m\n\u001b[1;37m        ^\u001b[0m\n\u001b[1;31mSyntaxError\u001b[0m\u001b[1;31m:\u001b[0m invalid syntax\n"
     ]
    }
   ],
   "source": [
    "The following cell likewise produces an error:"
   ]
  },
  {
   "cell_type": "code",
   "execution_count": 338,
   "id": "a3c1666f",
   "metadata": {},
   "outputs": [
    {
     "ename": "SyntaxError",
     "evalue": "invalid syntax (<ipython-input-338-5d15379be30b>, line 1)",
     "output_type": "error",
     "traceback": [
      "\u001b[1;36m  File \u001b[1;32m\"<ipython-input-338-5d15379be30b>\"\u001b[1;36m, line \u001b[1;32m1\u001b[0m\n\u001b[1;33m    ('un'*3) 'pi'\u001b[0m\n\u001b[1;37m             ^\u001b[0m\n\u001b[1;31mSyntaxError\u001b[0m\u001b[1;31m:\u001b[0m invalid syntax\n"
     ]
    }
   ],
   "source": [
    "('un'*3) 'pi'"
   ]
  },
  {
   "cell_type": "code",
   "execution_count": 339,
   "id": "23d6c9ab",
   "metadata": {},
   "outputs": [
    {
     "data": {
      "text/plain": [
       "'hihihilook'"
      ]
     },
     "execution_count": 339,
     "metadata": {},
     "output_type": "execute_result"
    }
   ],
   "source": [
    "('hi'*3)  +'look'"
   ]
  },
  {
   "cell_type": "code",
   "execution_count": 340,
   "id": "b2ce3fcd",
   "metadata": {},
   "outputs": [
    {
     "data": {
      "text/plain": [
       "'python'"
      ]
     },
     "execution_count": 340,
     "metadata": {},
     "output_type": "execute_result"
    }
   ],
   "source": [
    "pre = 'py'\n",
    "pre + 'thon'"
   ]
  },
  {
   "cell_type": "markdown",
   "id": "a54f4013",
   "metadata": {},
   "source": [
    "Automatic concatenation is particularly useful when you want to break up long strings:"
   ]
  },
  {
   "cell_type": "code",
   "execution_count": 343,
   "id": "1e262e62",
   "metadata": {},
   "outputs": [
    {
     "data": {
      "text/plain": [
       "'Hello, my name is himanshu How are you doing'"
      ]
     },
     "execution_count": 343,
     "metadata": {},
     "output_type": "execute_result"
    }
   ],
   "source": [
    "text = ('Hello, my name is himanshu'\n",
    "    ' How are you doing')\n",
    "text"
   ]
  },
  {
   "cell_type": "markdown",
   "id": "383b1bda",
   "metadata": {},
   "source": [
    "Strings can be *indexed* (subscripted), with the first character having index 0. There is no separate character type; a character is simply a string of size one:"
   ]
  },
  {
   "cell_type": "code",
   "execution_count": 344,
   "id": "e7ab981d",
   "metadata": {},
   "outputs": [
    {
     "data": {
      "text/plain": [
       "'l'"
      ]
     },
     "execution_count": 344,
     "metadata": {},
     "output_type": "execute_result"
    }
   ],
   "source": [
    "x = \"hello world\"\n",
    "x[2]"
   ]
  },
  {
   "cell_type": "code",
   "execution_count": 345,
   "id": "c9d37cd4",
   "metadata": {},
   "outputs": [
    {
     "data": {
      "text/plain": [
       "' '"
      ]
     },
     "execution_count": 345,
     "metadata": {},
     "output_type": "execute_result"
    }
   ],
   "source": [
    "x[5]"
   ]
  },
  {
   "cell_type": "code",
   "execution_count": 346,
   "id": "2141bd8c",
   "metadata": {},
   "outputs": [
    {
     "data": {
      "text/plain": [
       "'wo'"
      ]
     },
     "execution_count": 346,
     "metadata": {},
     "output_type": "execute_result"
    }
   ],
   "source": [
    "x[6:8] # end position is exclusive, start is inclusive"
   ]
  },
  {
   "cell_type": "code",
   "execution_count": 347,
   "id": "afd96fcd",
   "metadata": {},
   "outputs": [
    {
     "data": {
      "text/plain": [
       "'hello world'"
      ]
     },
     "execution_count": 347,
     "metadata": {},
     "output_type": "execute_result"
    }
   ],
   "source": [
    "x"
   ]
  },
  {
   "cell_type": "code",
   "execution_count": 350,
   "id": "ebf83e6a",
   "metadata": {},
   "outputs": [
    {
     "data": {
      "text/plain": [
       "'hello'"
      ]
     },
     "execution_count": 350,
     "metadata": {},
     "output_type": "execute_result"
    }
   ],
   "source": [
    "x[:5] #start from index zero to 4 , end was exlcuded"
   ]
  },
  {
   "cell_type": "code",
   "execution_count": 351,
   "id": "bc42f1e8",
   "metadata": {},
   "outputs": [
    {
     "data": {
      "text/plain": [
       "'d'"
      ]
     },
     "execution_count": 351,
     "metadata": {},
     "output_type": "execute_result"
    }
   ],
   "source": [
    "x[-1]"
   ]
  },
  {
   "cell_type": "code",
   "execution_count": 364,
   "id": "b18ab658",
   "metadata": {},
   "outputs": [
    {
     "data": {
      "text/plain": [
       "'dlrow olleh'"
      ]
     },
     "execution_count": 364,
     "metadata": {},
     "output_type": "execute_result"
    }
   ],
   "source": [
    "x[-1:-15:-1] #Reserve the string"
   ]
  },
  {
   "cell_type": "code",
   "execution_count": 366,
   "id": "3fee8600",
   "metadata": {},
   "outputs": [
    {
     "data": {
      "text/plain": [
       "'dlrow olleh'"
      ]
     },
     "execution_count": 366,
     "metadata": {},
     "output_type": "execute_result"
    }
   ],
   "source": [
    "x[::-1]"
   ]
  },
  {
   "cell_type": "code",
   "execution_count": 367,
   "id": "f4dfd358",
   "metadata": {},
   "outputs": [
    {
     "data": {
      "text/plain": [
       "'P'"
      ]
     },
     "execution_count": 367,
     "metadata": {},
     "output_type": "execute_result"
    }
   ],
   "source": [
    "word = 'Python'\n",
    "word[0]  # Character in position 0."
   ]
  },
  {
   "cell_type": "code",
   "execution_count": 368,
   "id": "2f89f516",
   "metadata": {},
   "outputs": [
    {
     "data": {
      "text/plain": [
       "'n'"
      ]
     },
     "execution_count": 368,
     "metadata": {},
     "output_type": "execute_result"
    }
   ],
   "source": [
    "word[5]  # Character in position 5."
   ]
  },
  {
   "cell_type": "markdown",
   "id": "f06c4447",
   "metadata": {},
   "source": [
    "Indices may also be negative numbers, which means to start counting from the end of the string. Note that because -0 is the same as 0, negative indices start from -1:"
   ]
  },
  {
   "cell_type": "code",
   "execution_count": 369,
   "id": "803761dc",
   "metadata": {},
   "outputs": [
    {
     "data": {
      "text/plain": [
       "'n'"
      ]
     },
     "execution_count": 369,
     "metadata": {},
     "output_type": "execute_result"
    }
   ],
   "source": [
    "word[-1] #Last Character"
   ]
  },
  {
   "cell_type": "code",
   "execution_count": 370,
   "id": "37f4fa8c",
   "metadata": {},
   "outputs": [
    {
     "data": {
      "text/plain": [
       "'o'"
      ]
     },
     "execution_count": 370,
     "metadata": {},
     "output_type": "execute_result"
    }
   ],
   "source": [
    "word[-2] #Second last Character"
   ]
  },
  {
   "cell_type": "code",
   "execution_count": 371,
   "id": "25f7d7e9",
   "metadata": {},
   "outputs": [
    {
     "data": {
      "text/plain": [
       "'P'"
      ]
     },
     "execution_count": 371,
     "metadata": {},
     "output_type": "execute_result"
    }
   ],
   "source": [
    "word[-6]"
   ]
  },
  {
   "cell_type": "markdown",
   "id": "32ef492d",
   "metadata": {},
   "source": [
    "In addition to indexing, which extracts individual characters, Python also supports *slicing*, which extracts a substring. To slide, you indicate a *range* in the format `start:end`, where the start position is included but the end position is excluded:"
   ]
  },
  {
   "cell_type": "code",
   "execution_count": 372,
   "id": "c4475cfa",
   "metadata": {},
   "outputs": [
    {
     "data": {
      "text/plain": [
       "'Py'"
      ]
     },
     "execution_count": 372,
     "metadata": {},
     "output_type": "execute_result"
    }
   ],
   "source": [
    "word[0:2]  # Characters from position 0 (included) to 2 (excluded)."
   ]
  },
  {
   "cell_type": "code",
   "execution_count": 373,
   "id": "a21c2153",
   "metadata": {},
   "outputs": [
    {
     "data": {
      "text/plain": [
       "'tho'"
      ]
     },
     "execution_count": 373,
     "metadata": {},
     "output_type": "execute_result"
    }
   ],
   "source": [
    "word[2:5]  # Characters from position 2 (included) to 5 (excluded)."
   ]
  },
  {
   "cell_type": "code",
   "execution_count": 374,
   "id": "6111a19d",
   "metadata": {},
   "outputs": [
    {
     "data": {
      "text/plain": [
       "'Py'"
      ]
     },
     "execution_count": 374,
     "metadata": {},
     "output_type": "execute_result"
    }
   ],
   "source": [
    "word[:2]   # Character from the beginning to position 2 (excluded)."
   ]
  },
  {
   "cell_type": "code",
   "execution_count": 375,
   "id": "293c9e17",
   "metadata": {},
   "outputs": [
    {
     "data": {
      "text/plain": [
       "'on'"
      ]
     },
     "execution_count": 375,
     "metadata": {},
     "output_type": "execute_result"
    }
   ],
   "source": [
    "word[4:]  # Characters from position 4 (included) to the end."
   ]
  },
  {
   "cell_type": "code",
   "execution_count": 376,
   "id": "08b73d65",
   "metadata": {},
   "outputs": [
    {
     "data": {
      "text/plain": [
       "'on'"
      ]
     },
     "execution_count": 376,
     "metadata": {},
     "output_type": "execute_result"
    }
   ],
   "source": [
    "word[-2:] # Characters from the second-last (included) to the end."
   ]
  },
  {
   "cell_type": "markdown",
   "id": "da5296ad",
   "metadata": {},
   "source": [
    "This characteristic means that `s[:i] + s[i:]` is always equal to `s`:"
   ]
  },
  {
   "cell_type": "code",
   "execution_count": 377,
   "id": "3769791a",
   "metadata": {},
   "outputs": [
    {
     "data": {
      "text/plain": [
       "'Python'"
      ]
     },
     "execution_count": 377,
     "metadata": {},
     "output_type": "execute_result"
    }
   ],
   "source": [
    "word[:3] + word[3:]"
   ]
  },
  {
   "cell_type": "code",
   "execution_count": 378,
   "id": "876dbcd0",
   "metadata": {},
   "outputs": [
    {
     "data": {
      "text/plain": [
       "'Python'"
      ]
     },
     "execution_count": 378,
     "metadata": {},
     "output_type": "execute_result"
    }
   ],
   "source": [
    "word[:4] + word[4:]"
   ]
  },
  {
   "cell_type": "markdown",
   "id": "71671b59",
   "metadata": {},
   "source": [
    "One way to remember how slices work is to think of the indices as pointing between characters, with the left edge of the first character numbered 0. Then the right edge of the last character of a string of *n* characters has index *n*. For example:"
   ]
  },
  {
   "cell_type": "markdown",
   "id": "45599e68",
   "metadata": {},
   "source": [
    "The first row of numbers gives the position of the indices 0...6 in the string; the second row gives the corresponding negative indices. The slice from *i* to *j* consists of all characters between the edges labeled *i* and *j*, respectively.\n",
    "\n",
    "For non-negative indices, the length of a slice is the difference of the indices, if both are within bounds. For example, the length of `word[1:3]` is 2.\n",
    "\n",
    "Attempting to use an index that is too large results in an error:"
   ]
  },
  {
   "cell_type": "code",
   "execution_count": 380,
   "id": "0d711b12",
   "metadata": {},
   "outputs": [
    {
     "data": {
      "text/plain": [
       "'Python'"
      ]
     },
     "execution_count": 380,
     "metadata": {},
     "output_type": "execute_result"
    }
   ],
   "source": [
    "word"
   ]
  },
  {
   "cell_type": "code",
   "execution_count": 382,
   "id": "c9520f13",
   "metadata": {},
   "outputs": [
    {
     "ename": "IndexError",
     "evalue": "string index out of range",
     "output_type": "error",
     "traceback": [
      "\u001b[1;31m---------------------------------------------------------------------------\u001b[0m",
      "\u001b[1;31mIndexError\u001b[0m                                Traceback (most recent call last)",
      "\u001b[1;32m<ipython-input-382-48266f556461>\u001b[0m in \u001b[0;36m<module>\u001b[1;34m\u001b[0m\n\u001b[1;32m----> 1\u001b[1;33m \u001b[0mword\u001b[0m\u001b[1;33m[\u001b[0m\u001b[1;36m42\u001b[0m\u001b[1;33m]\u001b[0m \u001b[1;31m# the word has only 6 character\u001b[0m\u001b[1;33m\u001b[0m\u001b[1;33m\u001b[0m\u001b[0m\n\u001b[0m",
      "\u001b[1;31mIndexError\u001b[0m: string index out of range"
     ]
    }
   ],
   "source": [
    "word[42] # the word has only 6 character"
   ]
  },
  {
   "cell_type": "markdown",
   "id": "35f48fd3",
   "metadata": {},
   "source": [
    "However, when used in a range, an index that's too large defaults to the size of the string and does not give an error. This characteristic is useful when you always want to slice at a particular index regardless of the length of a string:"
   ]
  },
  {
   "cell_type": "code",
   "execution_count": 383,
   "id": "948862aa",
   "metadata": {},
   "outputs": [
    {
     "data": {
      "text/plain": [
       "'on'"
      ]
     },
     "execution_count": 383,
     "metadata": {},
     "output_type": "execute_result"
    }
   ],
   "source": [
    "word[4:42]"
   ]
  },
  {
   "cell_type": "code",
   "execution_count": 384,
   "id": "c256324e",
   "metadata": {},
   "outputs": [
    {
     "data": {
      "text/plain": [
       "''"
      ]
     },
     "execution_count": 384,
     "metadata": {},
     "output_type": "execute_result"
    }
   ],
   "source": [
    "word[42:]"
   ]
  },
  {
   "cell_type": "markdown",
   "id": "1592b948",
   "metadata": {},
   "source": [
    "Python strings are [immutable](https://docs.python.org/3.5/glossary.html#term-immutable), which means they cannot be changed. Therefore, assigning a value to an indexed position in a string results in an error:"
   ]
  },
  {
   "cell_type": "code",
   "execution_count": 385,
   "id": "f41b368a",
   "metadata": {},
   "outputs": [
    {
     "data": {
      "text/plain": [
       "'t'"
      ]
     },
     "execution_count": 385,
     "metadata": {},
     "output_type": "execute_result"
    }
   ],
   "source": [
    "word[2]"
   ]
  },
  {
   "cell_type": "code",
   "execution_count": 387,
   "id": "83aaee32",
   "metadata": {},
   "outputs": [
    {
     "ename": "TypeError",
     "evalue": "'str' object does not support item assignment",
     "output_type": "error",
     "traceback": [
      "\u001b[1;31m---------------------------------------------------------------------------\u001b[0m",
      "\u001b[1;31mTypeError\u001b[0m                                 Traceback (most recent call last)",
      "\u001b[1;32m<ipython-input-387-dabd1af716bb>\u001b[0m in \u001b[0;36m<module>\u001b[1;34m\u001b[0m\n\u001b[1;32m----> 1\u001b[1;33m \u001b[0mword\u001b[0m\u001b[1;33m[\u001b[0m\u001b[1;36m0\u001b[0m\u001b[1;33m]\u001b[0m \u001b[1;33m=\u001b[0m \u001b[1;34m't'\u001b[0m\u001b[1;33m\u001b[0m\u001b[1;33m\u001b[0m\u001b[0m\n\u001b[0m",
      "\u001b[1;31mTypeError\u001b[0m: 'str' object does not support item assignment"
     ]
    }
   ],
   "source": [
    "word[0] = 't'"
   ]
  },
  {
   "cell_type": "code",
   "execution_count": 388,
   "id": "4749dcdc",
   "metadata": {},
   "outputs": [
    {
     "ename": "TypeError",
     "evalue": "'str' object does not support item assignment",
     "output_type": "error",
     "traceback": [
      "\u001b[1;31m---------------------------------------------------------------------------\u001b[0m",
      "\u001b[1;31mTypeError\u001b[0m                                 Traceback (most recent call last)",
      "\u001b[1;32m<ipython-input-388-c26a993afd5f>\u001b[0m in \u001b[0;36m<module>\u001b[1;34m\u001b[0m\n\u001b[1;32m----> 1\u001b[1;33m \u001b[0mword\u001b[0m\u001b[1;33m[\u001b[0m\u001b[1;36m2\u001b[0m\u001b[1;33m:\u001b[0m\u001b[1;33m]\u001b[0m \u001b[1;33m=\u001b[0m\u001b[1;34m\"helllp\"\u001b[0m\u001b[1;33m\u001b[0m\u001b[1;33m\u001b[0m\u001b[0m\n\u001b[0m",
      "\u001b[1;31mTypeError\u001b[0m: 'str' object does not support item assignment"
     ]
    }
   ],
   "source": [
    "word[2:] =\"helllp\""
   ]
  },
  {
   "cell_type": "markdown",
   "id": "751eac21",
   "metadata": {},
   "source": [
    "A slice it itself a value that you can concatenate with other values using `+`:"
   ]
  },
  {
   "cell_type": "code",
   "execution_count": 389,
   "id": "1d47cc90",
   "metadata": {},
   "outputs": [
    {
     "data": {
      "text/plain": [
       "'jython'"
      ]
     },
     "execution_count": 389,
     "metadata": {},
     "output_type": "execute_result"
    }
   ],
   "source": [
    "\"j\" + word[1:]"
   ]
  },
  {
   "cell_type": "code",
   "execution_count": 390,
   "id": "b373a142",
   "metadata": {},
   "outputs": [
    {
     "data": {
      "text/plain": [
       "'PyPy'"
      ]
     },
     "execution_count": 390,
     "metadata": {},
     "output_type": "execute_result"
    }
   ],
   "source": [
    "word[:2] + 'Py'"
   ]
  },
  {
   "cell_type": "markdown",
   "id": "d825966a",
   "metadata": {},
   "source": [
    "A slice, however, is not a string literal and cannot be used with automatic concatenation. The following code produces an error:"
   ]
  },
  {
   "cell_type": "code",
   "execution_count": 391,
   "id": "3155294a",
   "metadata": {},
   "outputs": [
    {
     "ename": "SyntaxError",
     "evalue": "invalid syntax (<ipython-input-391-44d5822b4886>, line 1)",
     "output_type": "error",
     "traceback": [
      "\u001b[1;36m  File \u001b[1;32m\"<ipython-input-391-44d5822b4886>\"\u001b[1;36m, line \u001b[1;32m1\u001b[0m\n\u001b[1;33m    word[:2] 'Py' #Slice is not a literal; produces an error\u001b[0m\n\u001b[1;37m             ^\u001b[0m\n\u001b[1;31mSyntaxError\u001b[0m\u001b[1;31m:\u001b[0m invalid syntax\n"
     ]
    }
   ],
   "source": [
    "word[:2] 'Py' #Slice is not a literal; produces an error"
   ]
  },
  {
   "cell_type": "markdown",
   "id": "84051b7b",
   "metadata": {},
   "source": [
    "The built-in function [`len()`](https://docs.python.org/3.5/library/functions.html#len) returns the length of a string:"
   ]
  },
  {
   "cell_type": "code",
   "execution_count": 392,
   "id": "3dd4231b",
   "metadata": {},
   "outputs": [
    {
     "data": {
      "text/plain": [
       "37"
      ]
     },
     "execution_count": 392,
     "metadata": {},
     "output_type": "execute_result"
    }
   ],
   "source": [
    "s = ' supercalifragilisticexpialidocious  '\n",
    "len(s)"
   ]
  },
  {
   "cell_type": "code",
   "execution_count": 393,
   "id": "30374d72",
   "metadata": {},
   "outputs": [
    {
     "data": {
      "text/plain": [
       "('ABC', 'abc', 'ABC', 'ABC  ')"
      ]
     },
     "execution_count": 393,
     "metadata": {},
     "output_type": "execute_result"
    }
   ],
   "source": [
    "\"abc\".upper(), \"ABC\".lower(), \"   ABC   \".strip(), \"  ABC  \".lstrip()"
   ]
  },
  {
   "cell_type": "code",
   "execution_count": 395,
   "id": "59b5eb08",
   "metadata": {},
   "outputs": [
    {
     "data": {
      "text/plain": [
       "('   ABC', <function str.rsplit(sep=None, maxsplit=-1)>)"
      ]
     },
     "execution_count": 395,
     "metadata": {},
     "output_type": "execute_result"
    }
   ],
   "source": [
    "\"   ABC   \".rstrip(), \"   ABC   \".rsplit"
   ]
  },
  {
   "cell_type": "markdown",
   "id": "bc2e40d2",
   "metadata": {},
   "source": [
    "### Lists"
   ]
  },
  {
   "cell_type": "markdown",
   "id": "12760ffe",
   "metadata": {},
   "source": [
    "Python knows a number of _compound_ data types, which are used to group together other values. The most versatile is the [*list*](https://docs.python.org/3.5/library/stdtypes.html#typesseq-list), which can be written as a sequence of comma-separated values (items) between square brackets. Lists might contain items of different types, but usually the items all have the same type."
   ]
  },
  {
   "cell_type": "code",
   "execution_count": 396,
   "id": "b8355378",
   "metadata": {},
   "outputs": [
    {
     "data": {
      "text/plain": [
       "[1, 2, 3, 4, 5, 6]"
      ]
     },
     "execution_count": 396,
     "metadata": {},
     "output_type": "execute_result"
    }
   ],
   "source": [
    "squares = [1, 2, 3, 4, 5, 6]\n",
    "squares"
   ]
  },
  {
   "cell_type": "markdown",
   "id": "fe4e600b",
   "metadata": {},
   "source": [
    "Like strings (and all other built-in [sequence](https://docs.python.org/3.5/glossary.html#term-sequence) types), lists can be indexed and sliced:"
   ]
  },
  {
   "cell_type": "code",
   "execution_count": 398,
   "id": "b0a81a56",
   "metadata": {},
   "outputs": [
    {
     "data": {
      "text/plain": [
       "1"
      ]
     },
     "execution_count": 398,
     "metadata": {},
     "output_type": "execute_result"
    }
   ],
   "source": [
    "squares[0]  # Indexing returns the item."
   ]
  },
  {
   "cell_type": "code",
   "execution_count": 399,
   "id": "07d56df3",
   "metadata": {},
   "outputs": [
    {
     "data": {
      "text/plain": [
       "6"
      ]
     },
     "execution_count": 399,
     "metadata": {},
     "output_type": "execute_result"
    }
   ],
   "source": [
    "squares[-1]"
   ]
  },
  {
   "cell_type": "code",
   "execution_count": 401,
   "id": "ee9eb2ac",
   "metadata": {},
   "outputs": [
    {
     "data": {
      "text/plain": [
       "[4, 5, 6]"
      ]
     },
     "execution_count": 401,
     "metadata": {},
     "output_type": "execute_result"
    }
   ],
   "source": [
    "squares[-3:] # Slicing returns a new list."
   ]
  },
  {
   "cell_type": "code",
   "execution_count": 402,
   "id": "beb4af83",
   "metadata": {},
   "outputs": [
    {
     "data": {
      "text/plain": [
       "[1, 2, 3, 4, 5, 6]"
      ]
     },
     "execution_count": 402,
     "metadata": {},
     "output_type": "execute_result"
    }
   ],
   "source": [
    "squares[:]"
   ]
  },
  {
   "cell_type": "markdown",
   "id": "c7fe2b48",
   "metadata": {},
   "source": [
    "Unlike strings, which are [immutable](https://docs.python.org/3.5/glossary.html#term-immutable), lists are a [mutable](https://docs.python.org/3.5/glossary.html#term-mutable) type, which means you can change any value in the list:"
   ]
  },
  {
   "cell_type": "code",
   "execution_count": 406,
   "id": "9d239b84",
   "metadata": {},
   "outputs": [
    {
     "data": {
      "text/plain": [
       "64"
      ]
     },
     "execution_count": 406,
     "metadata": {},
     "output_type": "execute_result"
    }
   ],
   "source": [
    "cubes = [1,8,27,65,125] #Something's wrong here....\n",
    "4**3  # the cube of 4 is 64, not 65!"
   ]
  },
  {
   "cell_type": "code",
   "execution_count": 407,
   "id": "c96a56bf",
   "metadata": {},
   "outputs": [],
   "source": [
    "cubes[3] = 64"
   ]
  },
  {
   "cell_type": "code",
   "execution_count": 408,
   "id": "2049496c",
   "metadata": {},
   "outputs": [
    {
     "data": {
      "text/plain": [
       "[1, 8, 27, 64, 125]"
      ]
     },
     "execution_count": 408,
     "metadata": {},
     "output_type": "execute_result"
    }
   ],
   "source": [
    "cubes"
   ]
  },
  {
   "cell_type": "markdown",
   "id": "b2b8158f",
   "metadata": {},
   "source": [
    "Use the list's `append()` method to add new items to the end of the list:"
   ]
  },
  {
   "cell_type": "code",
   "execution_count": 409,
   "id": "d0085f13",
   "metadata": {},
   "outputs": [
    {
     "data": {
      "text/plain": [
       "[1, 8, 27, 64, 125]"
      ]
     },
     "execution_count": 409,
     "metadata": {},
     "output_type": "execute_result"
    }
   ],
   "source": [
    "cubes"
   ]
  },
  {
   "cell_type": "code",
   "execution_count": 410,
   "id": "b43e082a",
   "metadata": {},
   "outputs": [
    {
     "data": {
      "text/plain": [
       "[1, 8, 27, 64, 125, 'append me!', 216, 343]"
      ]
     },
     "execution_count": 410,
     "metadata": {},
     "output_type": "execute_result"
    }
   ],
   "source": [
    "# Append\n",
    "cubes.append('append me!')\n",
    "cubes.append(216)  # Add the cube of 6 ...\n",
    "cubes.append(7 ** 3)  # and the cube of 7.\n",
    "cubes"
   ]
  },
  {
   "cell_type": "code",
   "execution_count": 411,
   "id": "788c8018",
   "metadata": {},
   "outputs": [
    {
     "data": {
      "text/plain": [
       "27"
      ]
     },
     "execution_count": 411,
     "metadata": {},
     "output_type": "execute_result"
    }
   ],
   "source": [
    "#pop off the 2 indexed item\n",
    "cubes.pop(2)"
   ]
  },
  {
   "cell_type": "code",
   "execution_count": 412,
   "id": "ae1ce8dd",
   "metadata": {},
   "outputs": [
    {
     "data": {
      "text/plain": [
       "[1, 8, 64, 125, 'append me!', 216, 343]"
      ]
     },
     "execution_count": 412,
     "metadata": {},
     "output_type": "execute_result"
    }
   ],
   "source": [
    "cubes"
   ]
  },
  {
   "cell_type": "code",
   "execution_count": 413,
   "id": "cd25ca15",
   "metadata": {},
   "outputs": [
    {
     "data": {
      "text/plain": [
       "343"
      ]
     },
     "execution_count": 413,
     "metadata": {},
     "output_type": "execute_result"
    }
   ],
   "source": [
    "cubes.pop()"
   ]
  },
  {
   "cell_type": "code",
   "execution_count": 414,
   "id": "ba04ffe1",
   "metadata": {},
   "outputs": [
    {
     "data": {
      "text/plain": [
       "[1, 8, 64, 125, 'append me!', 216]"
      ]
     },
     "execution_count": 414,
     "metadata": {},
     "output_type": "execute_result"
    }
   ],
   "source": [
    "cubes"
   ]
  },
  {
   "cell_type": "code",
   "execution_count": 415,
   "id": "aa6a6838",
   "metadata": {},
   "outputs": [],
   "source": [
    "# Assign the popped element, remember default popped index is -1\n",
    "popped_item = cubes.pop()"
   ]
  },
  {
   "cell_type": "code",
   "execution_count": 416,
   "id": "e452fb20",
   "metadata": {},
   "outputs": [
    {
     "data": {
      "text/plain": [
       "216"
      ]
     },
     "execution_count": 416,
     "metadata": {},
     "output_type": "execute_result"
    }
   ],
   "source": [
    "popped_item"
   ]
  },
  {
   "cell_type": "code",
   "execution_count": 417,
   "id": "9653ef81",
   "metadata": {},
   "outputs": [
    {
     "ename": "IndexError",
     "evalue": "list index out of range",
     "output_type": "error",
     "traceback": [
      "\u001b[1;31m---------------------------------------------------------------------------\u001b[0m",
      "\u001b[1;31mIndexError\u001b[0m                                Traceback (most recent call last)",
      "\u001b[1;32m<ipython-input-417-825f37f32b9f>\u001b[0m in \u001b[0;36m<module>\u001b[1;34m\u001b[0m\n\u001b[1;32m----> 1\u001b[1;33m \u001b[0mcubes\u001b[0m\u001b[1;33m[\u001b[0m\u001b[1;36m100\u001b[0m\u001b[1;33m]\u001b[0m \u001b[1;31m# it will throw an error because the index 100 is out of the range\u001b[0m\u001b[1;33m\u001b[0m\u001b[1;33m\u001b[0m\u001b[0m\n\u001b[0m",
      "\u001b[1;31mIndexError\u001b[0m: list index out of range"
     ]
    }
   ],
   "source": [
    "cubes[100] # it will throw an error because the index 100 is out of the range"
   ]
  },
  {
   "cell_type": "markdown",
   "id": "19b5a6c9",
   "metadata": {},
   "source": [
    "You can even assign to slices, which can change the size of the list or clear it entirely:"
   ]
  },
  {
   "cell_type": "code",
   "execution_count": 421,
   "id": "4bb910ed",
   "metadata": {},
   "outputs": [
    {
     "data": {
      "text/plain": [
       "['a', 'b', 'c', 'd', 'e', 'f', 'g']"
      ]
     },
     "execution_count": 421,
     "metadata": {},
     "output_type": "execute_result"
    }
   ],
   "source": [
    "letters = [\"a\", 'b', 'c', 'd', 'e', 'f', 'g']\n",
    "letters"
   ]
  },
  {
   "cell_type": "code",
   "execution_count": 422,
   "id": "34720f81",
   "metadata": {},
   "outputs": [
    {
     "data": {
      "text/plain": [
       "['a', 'b', 'C', 'D', 'E', 'f', 'g']"
      ]
     },
     "execution_count": 422,
     "metadata": {},
     "output_type": "execute_result"
    }
   ],
   "source": [
    "#Replace some values\n",
    "letters[2:5] = ['C','D','E']\n",
    "letters"
   ]
  },
  {
   "cell_type": "code",
   "execution_count": 424,
   "id": "68a7c280",
   "metadata": {},
   "outputs": [
    {
     "data": {
      "text/plain": [
       "['a', 'b', 'f', 'g']"
      ]
     },
     "execution_count": 424,
     "metadata": {},
     "output_type": "execute_result"
    }
   ],
   "source": [
    "#Now remove\n",
    "letters[2:5] = []\n",
    "letters"
   ]
  },
  {
   "cell_type": "code",
   "execution_count": 425,
   "id": "a1b4fa98",
   "metadata": {},
   "outputs": [
    {
     "data": {
      "text/plain": [
       "[]"
      ]
     },
     "execution_count": 425,
     "metadata": {},
     "output_type": "execute_result"
    }
   ],
   "source": [
    "# Clear the list by replacing all the elements with an empty list.\n",
    "\n",
    "letters[:] = []\n",
    "letters"
   ]
  },
  {
   "cell_type": "markdown",
   "id": "a3138612",
   "metadata": {},
   "source": [
    "The built-in [`len()`](https://docs.python.org/3.5/library/functions.html#len) function also applies to lists:"
   ]
  },
  {
   "cell_type": "code",
   "execution_count": 426,
   "id": "99e664d2",
   "metadata": {},
   "outputs": [
    {
     "data": {
      "text/plain": [
       "7"
      ]
     },
     "execution_count": 426,
     "metadata": {},
     "output_type": "execute_result"
    }
   ],
   "source": [
    "letters = [\"a\", 'b', 'c', 'd', 'e', 'f', 'g']\n",
    "len(letters)"
   ]
  },
  {
   "cell_type": "markdown",
   "id": "45afc4fc",
   "metadata": {},
   "source": [
    "You can nest lists, which means to create lists that contain other lists. For example:"
   ]
  },
  {
   "cell_type": "code",
   "execution_count": null,
   "id": "1281c13b",
   "metadata": {},
   "outputs": [],
   "source": [
    "a = ['a','b','c']\n",
    "n = [1,2,3]\n",
    "x = [a, n]\n",
    "x"
   ]
  },
  {
   "cell_type": "code",
   "execution_count": 428,
   "id": "e5fa3e0e",
   "metadata": {},
   "outputs": [
    {
     "data": {
      "text/plain": [
       "['a', 'b', 'c']"
      ]
     },
     "execution_count": 428,
     "metadata": {},
     "output_type": "execute_result"
    }
   ],
   "source": [
    "x[0]"
   ]
  },
  {
   "cell_type": "code",
   "execution_count": 429,
   "id": "c56c1b2f",
   "metadata": {},
   "outputs": [
    {
     "data": {
      "text/plain": [
       "[1, 2, 3]"
      ]
     },
     "execution_count": 429,
     "metadata": {},
     "output_type": "execute_result"
    }
   ],
   "source": [
    "x[1]"
   ]
  },
  {
   "cell_type": "code",
   "execution_count": 430,
   "id": "d76c4f9f",
   "metadata": {},
   "outputs": [
    {
     "data": {
      "text/plain": [
       "'c'"
      ]
     },
     "execution_count": 430,
     "metadata": {},
     "output_type": "execute_result"
    }
   ],
   "source": [
    "x[0][2]"
   ]
  },
  {
   "cell_type": "markdown",
   "id": "ddbb6a94",
   "metadata": {},
   "source": [
    "## Basic List Methods\n",
    "\n",
    "If you are familiar with another programming language, you might start to draw parallels between arrays in another language and lists in Python. Lists in Python however, tend to be more flexible than arrays in other languages for a two good reasons: they have no fixed size (meaning we don't have to specify how big a list will be), and they have no fixed type constraint (like we've seen above).\n",
    "\n",
    "Let's go ahead and explore some more special methods for lists:"
   ]
  },
  {
   "cell_type": "markdown",
   "id": "47b03f7d",
   "metadata": {},
   "source": [
    "It should also be noted that lists indexing will return an error if there is no element at that index. For example:"
   ]
  },
  {
   "cell_type": "markdown",
   "id": "1bc0bbba",
   "metadata": {},
   "source": [
    "We can use the **sort** method and the **reverse** methods to also effect your lists:"
   ]
  },
  {
   "cell_type": "code",
   "execution_count": 431,
   "id": "3f3ad8e3",
   "metadata": {},
   "outputs": [],
   "source": [
    "a = ['a', 'b', 'c']"
   ]
  },
  {
   "cell_type": "code",
   "execution_count": 432,
   "id": "5cf90127",
   "metadata": {},
   "outputs": [],
   "source": [
    "a.append([\"value1_a\",\"value2_a\",['value1','value2']])"
   ]
  },
  {
   "cell_type": "code",
   "execution_count": 435,
   "id": "7e4883f7",
   "metadata": {},
   "outputs": [
    {
     "data": {
      "text/plain": [
       "4"
      ]
     },
     "execution_count": 435,
     "metadata": {},
     "output_type": "execute_result"
    }
   ],
   "source": [
    "len(a)"
   ]
  },
  {
   "cell_type": "code",
   "execution_count": 436,
   "id": "8d1c8430",
   "metadata": {},
   "outputs": [
    {
     "data": {
      "text/plain": [
       "['a', 'b', 'c', ['value1_a', 'value2_a', ['value1', 'value2']]]"
      ]
     },
     "execution_count": 436,
     "metadata": {},
     "output_type": "execute_result"
    }
   ],
   "source": [
    "a"
   ]
  },
  {
   "cell_type": "code",
   "execution_count": 437,
   "id": "3bd639d8",
   "metadata": {},
   "outputs": [
    {
     "data": {
      "text/plain": [
       "'value2'"
      ]
     },
     "execution_count": 437,
     "metadata": {},
     "output_type": "execute_result"
    }
   ],
   "source": [
    "a[-1][-1][-1]"
   ]
  },
  {
   "cell_type": "code",
   "execution_count": 439,
   "id": "f5e0bf5f",
   "metadata": {},
   "outputs": [],
   "source": [
    "a[-1][-1][1] = 99"
   ]
  },
  {
   "cell_type": "code",
   "execution_count": 440,
   "id": "f5bb3d42",
   "metadata": {},
   "outputs": [
    {
     "data": {
      "text/plain": [
       "['a', 'b', 'c', ['value1_a', 'value2_a', ['value1', 99]]]"
      ]
     },
     "execution_count": 440,
     "metadata": {},
     "output_type": "execute_result"
    }
   ],
   "source": [
    "a"
   ]
  },
  {
   "cell_type": "code",
   "execution_count": 442,
   "id": "9b8e09ac",
   "metadata": {},
   "outputs": [
    {
     "data": {
      "text/plain": [
       "'value1_a'"
      ]
     },
     "execution_count": 442,
     "metadata": {},
     "output_type": "execute_result"
    }
   ],
   "source": [
    "a[3][0]"
   ]
  },
  {
   "cell_type": "code",
   "execution_count": 443,
   "id": "962dc117",
   "metadata": {},
   "outputs": [],
   "source": [
    "# list []\n",
    "# indexing []\n",
    "# tuple ()\n",
    "# sets {}\n",
    "# dict {}"
   ]
  },
  {
   "cell_type": "code",
   "execution_count": 444,
   "id": "130bb636",
   "metadata": {},
   "outputs": [],
   "source": [
    "new_list = ['a','e','x','b','c']"
   ]
  },
  {
   "cell_type": "code",
   "execution_count": 445,
   "id": "a51c94c0",
   "metadata": {},
   "outputs": [
    {
     "data": {
      "text/plain": [
       "['a', 'e', 'x', 'b', 'c']"
      ]
     },
     "execution_count": 445,
     "metadata": {},
     "output_type": "execute_result"
    }
   ],
   "source": [
    "#Show\n",
    "new_list"
   ]
  },
  {
   "cell_type": "code",
   "execution_count": 446,
   "id": "229bdc45",
   "metadata": {},
   "outputs": [],
   "source": [
    "# Use reverse to reverse order (this is permanent!)\n",
    "new_list.reverse()"
   ]
  },
  {
   "cell_type": "code",
   "execution_count": 447,
   "id": "ef394677",
   "metadata": {},
   "outputs": [
    {
     "data": {
      "text/plain": [
       "['c', 'b', 'x', 'e', 'a']"
      ]
     },
     "execution_count": 447,
     "metadata": {},
     "output_type": "execute_result"
    }
   ],
   "source": [
    "new_list"
   ]
  },
  {
   "cell_type": "code",
   "execution_count": 448,
   "id": "27a30627",
   "metadata": {},
   "outputs": [],
   "source": [
    "new_list.reverse()"
   ]
  },
  {
   "cell_type": "code",
   "execution_count": 449,
   "id": "b5c816de",
   "metadata": {},
   "outputs": [
    {
     "data": {
      "text/plain": [
       "['a', 'e', 'x', 'b', 'c']"
      ]
     },
     "execution_count": 449,
     "metadata": {},
     "output_type": "execute_result"
    }
   ],
   "source": [
    "new_list"
   ]
  },
  {
   "cell_type": "code",
   "execution_count": 450,
   "id": "9549ebb4",
   "metadata": {},
   "outputs": [],
   "source": [
    "# Use sort to sort the list (in this case alphabetical order, but for numbers it will go ascending)\n",
    "new_list.sort()"
   ]
  },
  {
   "cell_type": "code",
   "execution_count": 451,
   "id": "e2ecc0e1",
   "metadata": {},
   "outputs": [],
   "source": [
    "new_list.sort()"
   ]
  },
  {
   "cell_type": "code",
   "execution_count": 452,
   "id": "535347e3",
   "metadata": {},
   "outputs": [
    {
     "data": {
      "text/plain": [
       "['a', 'b', 'c', 'e', 'x']"
      ]
     },
     "execution_count": 452,
     "metadata": {},
     "output_type": "execute_result"
    }
   ],
   "source": [
    "new_list"
   ]
  },
  {
   "cell_type": "code",
   "execution_count": 453,
   "id": "2dce99a1",
   "metadata": {},
   "outputs": [
    {
     "ename": "TypeError",
     "evalue": "'<' not supported between instances of 'list' and 'str'",
     "output_type": "error",
     "traceback": [
      "\u001b[1;31m---------------------------------------------------------------------------\u001b[0m",
      "\u001b[1;31mTypeError\u001b[0m                                 Traceback (most recent call last)",
      "\u001b[1;32m<ipython-input-453-2ed0d7de6146>\u001b[0m in \u001b[0;36m<module>\u001b[1;34m\u001b[0m\n\u001b[1;32m----> 1\u001b[1;33m \u001b[0ma\u001b[0m\u001b[1;33m.\u001b[0m\u001b[0msort\u001b[0m\u001b[1;33m(\u001b[0m\u001b[1;33m)\u001b[0m\u001b[1;33m\u001b[0m\u001b[1;33m\u001b[0m\u001b[0m\n\u001b[0m",
      "\u001b[1;31mTypeError\u001b[0m: '<' not supported between instances of 'list' and 'str'"
     ]
    }
   ],
   "source": [
    "a.sort()"
   ]
  },
  {
   "cell_type": "markdown",
   "id": "1ab9d3e4",
   "metadata": {},
   "source": [
    "## Nesting Lists\n",
    "A great feature of of Python data structures is that they support *nesting*. This means we can have data structures within data structures. For example: A list inside a list.\n",
    "\n",
    "Let's see how this works!"
   ]
  },
  {
   "cell_type": "code",
   "execution_count": 454,
   "id": "ae45a9f6",
   "metadata": {},
   "outputs": [],
   "source": [
    "# Let's make three lists\n",
    "lst_1=[1,2,3]\n",
    "lst_2=[4,5,6]\n",
    "lst_3=[7,8,9]\n",
    "\n",
    "# Make a list of lists to form a matrix\n",
    "matrix = [lst_1,lst_2,lst_3]"
   ]
  },
  {
   "cell_type": "code",
   "execution_count": 455,
   "id": "fc2018c8",
   "metadata": {},
   "outputs": [
    {
     "data": {
      "text/plain": [
       "[[1, 2, 3], [4, 5, 6], [7, 8, 9]]"
      ]
     },
     "execution_count": 455,
     "metadata": {},
     "output_type": "execute_result"
    }
   ],
   "source": [
    "#show\n",
    "matrix"
   ]
  },
  {
   "cell_type": "markdown",
   "id": "8a560ece",
   "metadata": {},
   "source": [
    "We can again use indexing to grab elements, but now there are two levels for the index. The items in the matrix object, and then the items inside that list!"
   ]
  },
  {
   "cell_type": "code",
   "execution_count": 456,
   "id": "b63f0f66",
   "metadata": {},
   "outputs": [
    {
     "data": {
      "text/plain": [
       "list"
      ]
     },
     "execution_count": 456,
     "metadata": {},
     "output_type": "execute_result"
    }
   ],
   "source": [
    "type(matrix)"
   ]
  },
  {
   "cell_type": "code",
   "execution_count": 457,
   "id": "30e04d07",
   "metadata": {},
   "outputs": [
    {
     "data": {
      "text/plain": [
       "1"
      ]
     },
     "execution_count": 457,
     "metadata": {},
     "output_type": "execute_result"
    }
   ],
   "source": [
    "# Grab first item of the first item in the matrix object\n",
    "matrix[0][0]"
   ]
  },
  {
   "cell_type": "code",
   "execution_count": 458,
   "id": "155684b3",
   "metadata": {},
   "outputs": [],
   "source": [
    "new_list.sort(reverse=True)"
   ]
  },
  {
   "cell_type": "code",
   "execution_count": 459,
   "id": "d9119bc1",
   "metadata": {},
   "outputs": [
    {
     "data": {
      "text/plain": [
       "['x', 'e', 'c', 'b', 'a']"
      ]
     },
     "execution_count": 459,
     "metadata": {},
     "output_type": "execute_result"
    }
   ],
   "source": [
    "new_list"
   ]
  },
  {
   "cell_type": "markdown",
   "id": "9947c74e",
   "metadata": {},
   "source": [
    "### Dictionaries\n",
    "\n",
    "We've been learning about *sequences* in Python but now we're going to switch gears and learn about *mappings* in Python. If you're familiar with other languages you can think of these Dictionaries as hash tables. \n",
    "\n",
    "This section will serve as a brief introduction to dictionaries and consist of:\n",
    "\n",
    "    1.) Constructing a Dictionary\n",
    "    2.) Accessing objects from a dictionary\n",
    "    3.) Nesting Dictionaries\n",
    "    4.) Basic Dictionary Methods\n",
    "\n",
    "So what are mappings? Mappings are a collection of objects that are stored by a *key*, unlike a sequence that stored objects by their relative position. This is an important distinction, since mappings won't retain order since they have objects defined by a key.\n",
    "\n",
    "A Python dictionary consists of a key and then an associated value. That value can be almost any Python object.\n",
    "\n",
    "\n",
    "## Constructing a Dictionary\n",
    "Let's see how we can construct dictionaries to get a better understanding of how they work!"
   ]
  },
  {
   "cell_type": "code",
   "execution_count": 462,
   "id": "5ddc8295",
   "metadata": {},
   "outputs": [],
   "source": [
    "#make a dictionary with {} and : to signify a key and value\n",
    "my_dict = {'key1' : \"Value1\", \"key2\" : \"Value2\"}"
   ]
  },
  {
   "cell_type": "code",
   "execution_count": 463,
   "id": "dd5d8979",
   "metadata": {},
   "outputs": [
    {
     "data": {
      "text/plain": [
       "'Value2'"
      ]
     },
     "execution_count": 463,
     "metadata": {},
     "output_type": "execute_result"
    }
   ],
   "source": [
    "#Call Values by their keys\n",
    "my_dict['key2']"
   ]
  },
  {
   "cell_type": "markdown",
   "id": "aea77be5",
   "metadata": {},
   "source": [
    "Its important to note that dictionaries are very flexible in the data types they can hold. For example:"
   ]
  },
  {
   "cell_type": "code",
   "execution_count": 464,
   "id": "f0db9f19",
   "metadata": {},
   "outputs": [],
   "source": [
    "my_dict = {'key1':123,'key2':[12,23,33],'key3':['item0','item1','item2']}"
   ]
  },
  {
   "cell_type": "code",
   "execution_count": 465,
   "id": "3ce5d9b2",
   "metadata": {},
   "outputs": [
    {
     "data": {
      "text/plain": [
       "369"
      ]
     },
     "execution_count": 465,
     "metadata": {},
     "output_type": "execute_result"
    }
   ],
   "source": [
    "my_dict['key1']*3"
   ]
  },
  {
   "cell_type": "code",
   "execution_count": 466,
   "id": "290c77b6",
   "metadata": {},
   "outputs": [
    {
     "data": {
      "text/plain": [
       "['item0', 'item1', 'item2']"
      ]
     },
     "execution_count": 466,
     "metadata": {},
     "output_type": "execute_result"
    }
   ],
   "source": [
    "# let's call items from the dictionary\n",
    "my_dict['key3']"
   ]
  },
  {
   "cell_type": "code",
   "execution_count": 467,
   "id": "4c43245f",
   "metadata": {},
   "outputs": [
    {
     "data": {
      "text/plain": [
       "['item0', 'item1']"
      ]
     },
     "execution_count": 467,
     "metadata": {},
     "output_type": "execute_result"
    }
   ],
   "source": [
    "#can call index on that value\n",
    "my_dict['key3'][0:2]"
   ]
  },
  {
   "cell_type": "code",
   "execution_count": 468,
   "id": "22077ef6",
   "metadata": {},
   "outputs": [
    {
     "data": {
      "text/plain": [
       "'ITEM0'"
      ]
     },
     "execution_count": 468,
     "metadata": {},
     "output_type": "execute_result"
    }
   ],
   "source": [
    "#Can then even call methods on that value\n",
    "my_dict['key3'][0].upper()"
   ]
  },
  {
   "cell_type": "markdown",
   "id": "46b819c6",
   "metadata": {},
   "source": [
    "We can affect the values of a key as well. For instance:"
   ]
  },
  {
   "cell_type": "code",
   "execution_count": 469,
   "id": "ac81d2ea",
   "metadata": {},
   "outputs": [
    {
     "data": {
      "text/plain": [
       "123"
      ]
     },
     "execution_count": 469,
     "metadata": {},
     "output_type": "execute_result"
    }
   ],
   "source": [
    "my_dict['key1']"
   ]
  },
  {
   "cell_type": "code",
   "execution_count": 470,
   "id": "9d56d042",
   "metadata": {},
   "outputs": [],
   "source": [
    "my_dict['key1'] = my_dict['key1'] - 101"
   ]
  },
  {
   "cell_type": "code",
   "execution_count": 471,
   "id": "19564753",
   "metadata": {},
   "outputs": [
    {
     "data": {
      "text/plain": [
       "22"
      ]
     },
     "execution_count": 471,
     "metadata": {},
     "output_type": "execute_result"
    }
   ],
   "source": [
    "my_dict['key1']"
   ]
  },
  {
   "cell_type": "markdown",
   "id": "4f1d11c3",
   "metadata": {},
   "source": [
    "A quick note, Python has a built-in method of doing a self subtraction or addition (or multiplication or division). We could have also used += or -= for the above statement. For example:"
   ]
  },
  {
   "cell_type": "code",
   "execution_count": 472,
   "id": "5b0a7498",
   "metadata": {},
   "outputs": [
    {
     "data": {
      "text/plain": [
       "-101"
      ]
     },
     "execution_count": 472,
     "metadata": {},
     "output_type": "execute_result"
    }
   ],
   "source": [
    "# Set the object equal to itself minus 123 \n",
    "my_dict['key1'] -=123\n",
    "my_dict['key1']"
   ]
  },
  {
   "cell_type": "markdown",
   "id": "2856cd65",
   "metadata": {},
   "source": [
    "We can also create keys by assignment. For instance if we started off with an empty dictionary, we could continually add to it:"
   ]
  },
  {
   "cell_type": "code",
   "execution_count": 473,
   "id": "641f3d3e",
   "metadata": {},
   "outputs": [],
   "source": [
    "#Create a new dictionary\n",
    "d ={}"
   ]
  },
  {
   "cell_type": "code",
   "execution_count": 474,
   "id": "219fdff0",
   "metadata": {},
   "outputs": [
    {
     "data": {
      "text/plain": [
       "dict"
      ]
     },
     "execution_count": 474,
     "metadata": {},
     "output_type": "execute_result"
    }
   ],
   "source": [
    "type(d)"
   ]
  },
  {
   "cell_type": "code",
   "execution_count": 475,
   "id": "8c1c00fa",
   "metadata": {},
   "outputs": [],
   "source": [
    "#Create a new key through assignment\n",
    "d['Animal'] =\"Dog\""
   ]
  },
  {
   "cell_type": "code",
   "execution_count": 476,
   "id": "69fd6c5a",
   "metadata": {},
   "outputs": [
    {
     "data": {
      "text/plain": [
       "{'Animal': 'Dog'}"
      ]
     },
     "execution_count": 476,
     "metadata": {},
     "output_type": "execute_result"
    }
   ],
   "source": [
    "d"
   ]
  },
  {
   "cell_type": "code",
   "execution_count": 480,
   "id": "5804fe5c",
   "metadata": {},
   "outputs": [],
   "source": [
    "d[\"Animal\"] = 'Cat' #It replace the old value associated with the Key"
   ]
  },
  {
   "cell_type": "code",
   "execution_count": 481,
   "id": "779b560b",
   "metadata": {},
   "outputs": [
    {
     "data": {
      "text/plain": [
       "'Cat'"
      ]
     },
     "execution_count": 481,
     "metadata": {},
     "output_type": "execute_result"
    }
   ],
   "source": [
    "d[\"Animal\"]"
   ]
  },
  {
   "cell_type": "code",
   "execution_count": 482,
   "id": "5888440f",
   "metadata": {},
   "outputs": [
    {
     "data": {
      "text/plain": [
       "{'Animal': 'Cat'}"
      ]
     },
     "execution_count": 482,
     "metadata": {},
     "output_type": "execute_result"
    }
   ],
   "source": [
    "d"
   ]
  },
  {
   "cell_type": "code",
   "execution_count": 483,
   "id": "90dff555",
   "metadata": {},
   "outputs": [],
   "source": [
    "# Can do this with any object\n",
    "d['answer'] = 42"
   ]
  },
  {
   "cell_type": "code",
   "execution_count": 484,
   "id": "5cf8a68a",
   "metadata": {},
   "outputs": [
    {
     "data": {
      "text/plain": [
       "{'Animal': 'Cat', 'answer': 42}"
      ]
     },
     "execution_count": 484,
     "metadata": {},
     "output_type": "execute_result"
    }
   ],
   "source": [
    "#Show\n",
    "d"
   ]
  },
  {
   "cell_type": "markdown",
   "id": "2513b0e8",
   "metadata": {},
   "source": [
    "### Nesting with Dictionaries\n",
    "\n",
    "Hopefully you're starting to see how powerful Python is with its flexibility of nesting objects and calling methods on them. Let's see a dictionary nested inside a dictionary:"
   ]
  },
  {
   "cell_type": "code",
   "execution_count": 485,
   "id": "d63cefe6",
   "metadata": {},
   "outputs": [],
   "source": [
    "# Dictionary nested inside a dictionary nested inside a dictionary\n",
    "d = {'key1' : {'nestkey1':{'subnestedkey1' : \"Value\"}}}"
   ]
  },
  {
   "cell_type": "markdown",
   "id": "1bb8cfa9",
   "metadata": {},
   "source": [
    "Wow! That's a quite the inception of dictionaries! Let's see how we can grab that value:"
   ]
  },
  {
   "cell_type": "markdown",
   "id": "8588d813",
   "metadata": {},
   "source": [
    "### A few Dictionary Methods\n",
    "\n",
    "There are a few methods we can call on a dictionary. Let's get a quick introduction to a few of them:"
   ]
  },
  {
   "cell_type": "code",
   "execution_count": 487,
   "id": "cf05e225",
   "metadata": {},
   "outputs": [],
   "source": [
    "#Creating a new dictionary \n",
    "d = {'k1' :\"v1\", 'k2' : 'v2', 'k3' :'v3'}"
   ]
  },
  {
   "cell_type": "code",
   "execution_count": 488,
   "id": "a89f4614",
   "metadata": {},
   "outputs": [
    {
     "data": {
      "text/plain": [
       "dict_keys(['k1', 'k2', 'k3'])"
      ]
     },
     "execution_count": 488,
     "metadata": {},
     "output_type": "execute_result"
    }
   ],
   "source": [
    "#Method to return a list of all keys\n",
    "d.keys()"
   ]
  },
  {
   "cell_type": "code",
   "execution_count": 490,
   "id": "127a5ef5",
   "metadata": {},
   "outputs": [
    {
     "data": {
      "text/plain": [
       "dict_keys(['k1', 'k2', 'k3'])"
      ]
     },
     "execution_count": 490,
     "metadata": {},
     "output_type": "execute_result"
    }
   ],
   "source": [
    "d.keys()"
   ]
  },
  {
   "cell_type": "code",
   "execution_count": 491,
   "id": "b9c17173",
   "metadata": {},
   "outputs": [
    {
     "data": {
      "text/plain": [
       "dict_values(['v1', 'v2', 'v3'])"
      ]
     },
     "execution_count": 491,
     "metadata": {},
     "output_type": "execute_result"
    }
   ],
   "source": [
    "#Methods to grab all values\n",
    "d.values()"
   ]
  },
  {
   "cell_type": "code",
   "execution_count": 492,
   "id": "ee1fbbf5",
   "metadata": {},
   "outputs": [
    {
     "data": {
      "text/plain": [
       "dict_items([('k1', 'v1'), ('k2', 'v2'), ('k3', 'v3')])"
      ]
     },
     "execution_count": 492,
     "metadata": {},
     "output_type": "execute_result"
    }
   ],
   "source": [
    "# Method to return tuples of all items  (we'll learn about tuples soon)\n",
    "d.items()"
   ]
  },
  {
   "cell_type": "markdown",
   "id": "803b2592",
   "metadata": {},
   "source": [
    "Hopefully you now have a good basic understanding how to construct dictionaries. There's a lot more to go into here, but we will revisit dictionaries at later time. After this section all you need to know is how to create a dictionary and how to retrieve values from it."
   ]
  },
  {
   "cell_type": "markdown",
   "id": "33bda531",
   "metadata": {},
   "source": [
    "##Popular Question Answered on Quora\n",
    "<span class='quora-content-embed' data-name='How-should-I-start-learning-Python-1/answer/Neha-Ahuja-178'>Read <a class='quora-content-link' data-width='560' data-height='260' href='https://www.quora.com/How-should-I-start-learning-Python-1/answer/Neha-Ahuja-178' data-type='answer' data-id='122319626' data-key='f8a735498f074d34d32023d61c740361' load-full-answer='False' data-embed='dmvmtdw'><a href='https://www.quora.com/Neha-Ahuja-178'>Neha Ahuja</a>&#039;s <a href='/How-should-I-start-learning-Python-1?top_ans=122319626'>answer</a> to <a href='/How-should-I-start-learning-Python-1' ref='canonical'><span class=\"rendered_qtext\">How should I start learning Python?</span></a></a> on <a href='https://www.quora.com'>Quora</a><script type=\"text/javascript\" src=\"https://www.quora.com/widgets/content\"></script></span>\n",
    "\n",
    "<span class='quora-content-embed' data-name='What-is-the-use-of-learning-the-Python-language/answers/170367059'>Read <a class='quora-content-link' data-width='560' data-height='260' href='https://www.quora.com/What-is-the-use-of-learning-the-Python-language/answers/170367059' data-type='answer' data-id='170367059' data-key='064f54675b4d9e2f23ae166cd062388f' load-full-answer='False' data-embed='dmvmtdw'><a href='https://www.quora.com/Mohammad-Waseem-95'>Mohammad Waseem</a>&#039;s <a href='/What-is-the-use-of-learning-the-Python-language?top_ans=170367059'>answer</a> to <a href='/What-is-the-use-of-learning-the-Python-language' ref='canonical'><span class=\"rendered_qtext\">What is the use of learning the Python language?</span></a></a> on <a href='https://www.quora.com'>Quora</a><script type=\"text/javascript\" src=\"https://www.quora.com/widgets/content\"></script></span>\n",
    "\n",
    "<span class='quora-content-embed' data-name='Why-would-you-recommend-learning-Python-What-makes-it-useful/answer/Janarthanan-Soundararajan'>Read <a class='quora-content-link' data-width='560' data-height='260' href='https://www.quora.com/Why-would-you-recommend-learning-Python-What-makes-it-useful/answer/Janarthanan-Soundararajan' data-type='answer' data-id='25331268' data-key='5b02e3049ad8b5590dd59bbc845224e4' load-full-answer='False' data-embed='dmvmtdw'><a href='https://www.quora.com/Janarthanan-Soundararajan'>Janarthanan Soundararajan</a>&#039;s <a href='/Why-would-you-recommend-learning-Python-What-makes-it-useful?top_ans=25331268'>answer</a> to <a href='/Why-would-you-recommend-learning-Python-What-makes-it-useful' ref='canonical'><span class=\"rendered_qtext\">Why would you recommend learning Python? What makes it useful?</span></a></a> on <a href='https://www.quora.com'>Quora</a><script type=\"text/javascript\" src=\"https://www.quora.com/widgets/content\"></script></span>"
   ]
  },
  {
   "cell_type": "code",
   "execution_count": 493,
   "id": "ed90a0bf",
   "metadata": {},
   "outputs": [],
   "source": [
    "##Building a Basic Calculator"
   ]
  },
  {
   "cell_type": "code",
   "execution_count": 495,
   "id": "441ab446",
   "metadata": {},
   "outputs": [
    {
     "name": "stdout",
     "output_type": "stream",
     "text": [
      "Enter first number 10\n",
      "Enter second number20\n",
      "The Addition of 10 and 20 is 30\n",
      "The Substraction of 10 and 20 is -10\n",
      "The Multiplication of 10 and 20 is 200\n",
      "The Division of 10 and 20 is 0.5\n"
     ]
    }
   ],
   "source": [
    "num1 = int(input(\"Enter first number \"))\n",
    "num2 = int(input(\"Enter second number\"))\n",
    "\n",
    "add = num1+num2\n",
    "sub = num1 - num2\n",
    "mul = num1*num2\n",
    "div = num1/num2\n",
    "\n",
    "print('The Addition of {0} and {1} is {2}'.format(num1,num2,add))\n",
    "print('The Substraction of {0} and {1} is {2}'.format(num1,num2,sub))\n",
    "print('The Multiplication of {0} and {1} is {2}'.format(num1,num2,mul))\n",
    "print('The Division of {0} and {1} is {2}'.format(num1,num2,div))"
   ]
  },
  {
   "cell_type": "markdown",
   "id": "06177a76",
   "metadata": {},
   "source": [
    "##In Class Practise Question 1"
   ]
  },
  {
   "cell_type": "code",
   "execution_count": 496,
   "id": "ca001e7b",
   "metadata": {},
   "outputs": [
    {
     "name": "stdout",
     "output_type": "stream",
     "text": [
      "Enter the Number10\n",
      "1 X 10 = 10\n",
      "2 X 10 = 20\n",
      "3 X 10 = 30\n",
      "4 X 10 = 40\n",
      "5 X 10 = 50\n",
      "6 X 10 = 60\n",
      "7 X 10 = 70\n",
      "8 X 10 = 80\n",
      "9 X 10 = 90\n",
      "10 X 10 = 100\n"
     ]
    }
   ],
   "source": [
    "#multiplication Table\n",
    "num = int(input(\"Enter the Number\"))\n",
    "for i in range(1,11):\n",
    "    print(i,\"X\",num,\"=\",i*num)"
   ]
  },
  {
   "cell_type": "code",
   "execution_count": 497,
   "id": "ede28534",
   "metadata": {},
   "outputs": [
    {
     "name": "stdout",
     "output_type": "stream",
     "text": [
      "4 1\n"
     ]
    }
   ],
   "source": [
    "#Swapping using 3 variable\n",
    "a = 1\n",
    "b = 4\n",
    "temp = a\n",
    "a =b\n",
    "b= temp\n",
    "print(a,b)"
   ]
  },
  {
   "cell_type": "code",
   "execution_count": 498,
   "id": "3c76a25d",
   "metadata": {},
   "outputs": [
    {
     "name": "stdout",
     "output_type": "stream",
     "text": [
      "10 20\n",
      "20 10\n"
     ]
    }
   ],
   "source": [
    "#Swapping using Multiplication\n",
    "a = 10\n",
    "b = 20\n",
    "print(a,b)\n",
    "a = a+b\n",
    "b = a-b\n",
    "a = a-b\n",
    "print(a,b)"
   ]
  },
  {
   "cell_type": "code",
   "execution_count": 499,
   "id": "60dbbf89",
   "metadata": {},
   "outputs": [
    {
     "name": "stdout",
     "output_type": "stream",
     "text": [
      "10 20\n",
      "30 10\n"
     ]
    }
   ],
   "source": [
    "# Swapping using Using XOR\n",
    "a = 10\n",
    "b = 20\n",
    "print(a,b)\n",
    "a = a^b\n",
    "b = b^a\n",
    "# a = a^b\n",
    "print(a,b)"
   ]
  },
  {
   "cell_type": "code",
   "execution_count": null,
   "id": "d449c60f",
   "metadata": {},
   "outputs": [],
   "source": []
  }
 ],
 "metadata": {
  "kernelspec": {
   "display_name": "Python 3",
   "language": "python",
   "name": "python3"
  },
  "language_info": {
   "codemirror_mode": {
    "name": "ipython",
    "version": 3
   },
   "file_extension": ".py",
   "mimetype": "text/x-python",
   "name": "python",
   "nbconvert_exporter": "python",
   "pygments_lexer": "ipython3",
   "version": "3.8.8"
  }
 },
 "nbformat": 4,
 "nbformat_minor": 5
}
