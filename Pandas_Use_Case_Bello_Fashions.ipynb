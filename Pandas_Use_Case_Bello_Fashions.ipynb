{
  "nbformat": 4,
  "nbformat_minor": 0,
  "metadata": {
    "kernelspec": {
      "display_name": "Python 3",
      "language": "python",
      "name": "python3"
    },
    "language_info": {
      "codemirror_mode": {
        "name": "ipython",
        "version": 3
      },
      "file_extension": ".py",
      "mimetype": "text/x-python",
      "name": "python",
      "nbconvert_exporter": "python",
      "pygments_lexer": "ipython3",
      "version": "3.8.1"
    },
    "colab": {
      "name": "Pandas Use Case Bello Fashions.ipynb",
      "provenance": [],
      "collapsed_sections": [],
      "include_colab_link": true
    }
  },
  "cells": [
    {
      "cell_type": "markdown",
      "metadata": {
        "id": "view-in-github",
        "colab_type": "text"
      },
      "source": [
        "<a href=\"https://colab.research.google.com/github/himanshushakyawar/Python_AI_ML_NIT/blob/main/Pandas_Use_Case_Bello_Fashions.ipynb\" target=\"_parent\"><img src=\"https://colab.research.google.com/assets/colab-badge.svg\" alt=\"Open In Colab\"/></a>"
      ]
    },
    {
      "cell_type": "markdown",
      "metadata": {
        "id": "usDkwSglYuHM"
      },
      "source": [
        "## <u>Python for AI-ML</u>\n",
        "\n",
        "# Module 4 - Data Preprocessing"
      ]
    },
    {
      "cell_type": "markdown",
      "metadata": {
        "id": "WMLesW9FYuHP"
      },
      "source": [
        "# Use Case-1: Bello Fashions\n",
        "\n",
        "\n",
        "### Problem Statement\n",
        "The data analysis team has been given a task to analyze the monthly sales by the manager."
      ]
    },
    {
      "cell_type": "markdown",
      "metadata": {
        "id": "EEMHM2uFYuHP"
      },
      "source": [
        "### Import Basic Libraries"
      ]
    },
    {
      "cell_type": "code",
      "metadata": {
        "colab": {
          "base_uri": "https://localhost:8080/"
        },
        "id": "EAQRX9AVkNeX",
        "outputId": "bbf6328d-daa3-405d-dff9-3801dd1badaa"
      },
      "source": [
        "!pip install pandas_profiling==3.1.0"
      ],
      "execution_count": null,
      "outputs": [
        {
          "output_type": "stream",
          "name": "stdout",
          "text": [
            "Collecting pandas_profiling==3.1.0\n",
            "  Downloading pandas_profiling-3.1.0-py2.py3-none-any.whl (261 kB)\n",
            "\u001b[?25l\r\u001b[K     |█▎                              | 10 kB 24.3 MB/s eta 0:00:01\r\u001b[K     |██▌                             | 20 kB 26.4 MB/s eta 0:00:01\r\u001b[K     |███▊                            | 30 kB 27.8 MB/s eta 0:00:01\r\u001b[K     |█████                           | 40 kB 29.3 MB/s eta 0:00:01\r\u001b[K     |██████▎                         | 51 kB 31.9 MB/s eta 0:00:01\r\u001b[K     |███████▌                        | 61 kB 34.3 MB/s eta 0:00:01\r\u001b[K     |████████▉                       | 71 kB 32.6 MB/s eta 0:00:01\r\u001b[K     |██████████                      | 81 kB 33.9 MB/s eta 0:00:01\r\u001b[K     |███████████▎                    | 92 kB 29.6 MB/s eta 0:00:01\r\u001b[K     |████████████▌                   | 102 kB 31.2 MB/s eta 0:00:01\r\u001b[K     |█████████████▉                  | 112 kB 31.2 MB/s eta 0:00:01\r\u001b[K     |███████████████                 | 122 kB 31.2 MB/s eta 0:00:01\r\u001b[K     |████████████████▎               | 133 kB 31.2 MB/s eta 0:00:01\r\u001b[K     |█████████████████▋              | 143 kB 31.2 MB/s eta 0:00:01\r\u001b[K     |██████████████████▉             | 153 kB 31.2 MB/s eta 0:00:01\r\u001b[K     |████████████████████            | 163 kB 31.2 MB/s eta 0:00:01\r\u001b[K     |█████████████████████▎          | 174 kB 31.2 MB/s eta 0:00:01\r\u001b[K     |██████████████████████▋         | 184 kB 31.2 MB/s eta 0:00:01\r\u001b[K     |███████████████████████▉        | 194 kB 31.2 MB/s eta 0:00:01\r\u001b[K     |█████████████████████████       | 204 kB 31.2 MB/s eta 0:00:01\r\u001b[K     |██████████████████████████▍     | 215 kB 31.2 MB/s eta 0:00:01\r\u001b[K     |███████████████████████████▋    | 225 kB 31.2 MB/s eta 0:00:01\r\u001b[K     |████████████████████████████▉   | 235 kB 31.2 MB/s eta 0:00:01\r\u001b[K     |██████████████████████████████  | 245 kB 31.2 MB/s eta 0:00:01\r\u001b[K     |███████████████████████████████▍| 256 kB 31.2 MB/s eta 0:00:01\r\u001b[K     |████████████████████████████████| 261 kB 31.2 MB/s \n",
            "\u001b[?25hRequirement already satisfied: pandas!=1.0.0,!=1.0.1,!=1.0.2,!=1.1.0,>=0.25.3 in /usr/local/lib/python3.7/dist-packages (from pandas_profiling==3.1.0) (1.1.5)\n",
            "Requirement already satisfied: matplotlib>=3.2.0 in /usr/local/lib/python3.7/dist-packages (from pandas_profiling==3.1.0) (3.2.2)\n",
            "Collecting htmlmin>=0.1.12\n",
            "  Downloading htmlmin-0.1.12.tar.gz (19 kB)\n",
            "Requirement already satisfied: scipy>=1.4.1 in /usr/local/lib/python3.7/dist-packages (from pandas_profiling==3.1.0) (1.4.1)\n",
            "Collecting phik>=0.11.1\n",
            "  Downloading phik-0.12.0-cp37-cp37m-manylinux2010_x86_64.whl (675 kB)\n",
            "\u001b[K     |████████████████████████████████| 675 kB 40.0 MB/s \n",
            "\u001b[?25hCollecting joblib~=1.0.1\n",
            "  Downloading joblib-1.0.1-py3-none-any.whl (303 kB)\n",
            "\u001b[K     |████████████████████████████████| 303 kB 58.5 MB/s \n",
            "\u001b[?25hRequirement already satisfied: missingno>=0.4.2 in /usr/local/lib/python3.7/dist-packages (from pandas_profiling==3.1.0) (0.5.0)\n",
            "Collecting PyYAML>=5.0.0\n",
            "  Downloading PyYAML-6.0-cp37-cp37m-manylinux_2_5_x86_64.manylinux1_x86_64.manylinux_2_12_x86_64.manylinux2010_x86_64.whl (596 kB)\n",
            "\u001b[K     |████████████████████████████████| 596 kB 46.6 MB/s \n",
            "\u001b[?25hRequirement already satisfied: tqdm>=4.48.2 in /usr/local/lib/python3.7/dist-packages (from pandas_profiling==3.1.0) (4.62.3)\n",
            "Collecting tangled-up-in-unicode==0.1.0\n",
            "  Downloading tangled_up_in_unicode-0.1.0-py3-none-any.whl (3.1 MB)\n",
            "\u001b[K     |████████████████████████████████| 3.1 MB 54.6 MB/s \n",
            "\u001b[?25hCollecting pydantic>=1.8.1\n",
            "  Downloading pydantic-1.8.2-cp37-cp37m-manylinux2014_x86_64.whl (10.1 MB)\n",
            "\u001b[K     |████████████████████████████████| 10.1 MB 40.3 MB/s \n",
            "\u001b[?25hCollecting visions[type_image_path]==0.7.4\n",
            "  Downloading visions-0.7.4-py3-none-any.whl (102 kB)\n",
            "\u001b[K     |████████████████████████████████| 102 kB 12.0 MB/s \n",
            "\u001b[?25hRequirement already satisfied: numpy>=1.16.0 in /usr/local/lib/python3.7/dist-packages (from pandas_profiling==3.1.0) (1.19.5)\n",
            "Collecting requests>=2.24.0\n",
            "  Downloading requests-2.26.0-py2.py3-none-any.whl (62 kB)\n",
            "\u001b[K     |████████████████████████████████| 62 kB 871 kB/s \n",
            "\u001b[?25hRequirement already satisfied: markupsafe~=2.0.1 in /usr/local/lib/python3.7/dist-packages (from pandas_profiling==3.1.0) (2.0.1)\n",
            "Requirement already satisfied: jinja2>=2.11.1 in /usr/local/lib/python3.7/dist-packages (from pandas_profiling==3.1.0) (2.11.3)\n",
            "Requirement already satisfied: seaborn>=0.10.1 in /usr/local/lib/python3.7/dist-packages (from pandas_profiling==3.1.0) (0.11.2)\n",
            "Collecting multimethod>=1.4\n",
            "  Downloading multimethod-1.6-py3-none-any.whl (9.4 kB)\n",
            "Requirement already satisfied: attrs>=19.3.0 in /usr/local/lib/python3.7/dist-packages (from visions[type_image_path]==0.7.4->pandas_profiling==3.1.0) (21.2.0)\n",
            "Requirement already satisfied: networkx>=2.4 in /usr/local/lib/python3.7/dist-packages (from visions[type_image_path]==0.7.4->pandas_profiling==3.1.0) (2.6.3)\n",
            "Requirement already satisfied: Pillow in /usr/local/lib/python3.7/dist-packages (from visions[type_image_path]==0.7.4->pandas_profiling==3.1.0) (7.1.2)\n",
            "Collecting imagehash\n",
            "  Downloading ImageHash-4.2.1.tar.gz (812 kB)\n",
            "\u001b[K     |████████████████████████████████| 812 kB 52.3 MB/s \n",
            "\u001b[?25hRequirement already satisfied: python-dateutil>=2.1 in /usr/local/lib/python3.7/dist-packages (from matplotlib>=3.2.0->pandas_profiling==3.1.0) (2.8.2)\n",
            "Requirement already satisfied: pyparsing!=2.0.4,!=2.1.2,!=2.1.6,>=2.0.1 in /usr/local/lib/python3.7/dist-packages (from matplotlib>=3.2.0->pandas_profiling==3.1.0) (2.4.7)\n",
            "Requirement already satisfied: kiwisolver>=1.0.1 in /usr/local/lib/python3.7/dist-packages (from matplotlib>=3.2.0->pandas_profiling==3.1.0) (1.3.2)\n",
            "Requirement already satisfied: cycler>=0.10 in /usr/local/lib/python3.7/dist-packages (from matplotlib>=3.2.0->pandas_profiling==3.1.0) (0.11.0)\n",
            "Requirement already satisfied: pytz>=2017.2 in /usr/local/lib/python3.7/dist-packages (from pandas!=1.0.0,!=1.0.1,!=1.0.2,!=1.1.0,>=0.25.3->pandas_profiling==3.1.0) (2018.9)\n",
            "Collecting scipy>=1.4.1\n",
            "  Downloading scipy-1.7.2-cp37-cp37m-manylinux_2_12_x86_64.manylinux2010_x86_64.whl (38.2 MB)\n",
            "\u001b[K     |████████████████████████████████| 38.2 MB 25 kB/s \n",
            "\u001b[?25hRequirement already satisfied: typing-extensions>=3.7.4.3 in /usr/local/lib/python3.7/dist-packages (from pydantic>=1.8.1->pandas_profiling==3.1.0) (3.10.0.2)\n",
            "Requirement already satisfied: six>=1.5 in /usr/local/lib/python3.7/dist-packages (from python-dateutil>=2.1->matplotlib>=3.2.0->pandas_profiling==3.1.0) (1.15.0)\n",
            "Requirement already satisfied: charset-normalizer~=2.0.0 in /usr/local/lib/python3.7/dist-packages (from requests>=2.24.0->pandas_profiling==3.1.0) (2.0.7)\n",
            "Requirement already satisfied: certifi>=2017.4.17 in /usr/local/lib/python3.7/dist-packages (from requests>=2.24.0->pandas_profiling==3.1.0) (2021.10.8)\n",
            "Requirement already satisfied: urllib3<1.27,>=1.21.1 in /usr/local/lib/python3.7/dist-packages (from requests>=2.24.0->pandas_profiling==3.1.0) (1.24.3)\n",
            "Requirement already satisfied: idna<4,>=2.5 in /usr/local/lib/python3.7/dist-packages (from requests>=2.24.0->pandas_profiling==3.1.0) (2.10)\n",
            "Requirement already satisfied: PyWavelets in /usr/local/lib/python3.7/dist-packages (from imagehash->visions[type_image_path]==0.7.4->pandas_profiling==3.1.0) (1.2.0)\n",
            "Building wheels for collected packages: htmlmin, imagehash\n",
            "  Building wheel for htmlmin (setup.py) ... \u001b[?25l\u001b[?25hdone\n",
            "  Created wheel for htmlmin: filename=htmlmin-0.1.12-py3-none-any.whl size=27098 sha256=c9de90c640f197fba678a07ec06d7c9a2ed6bba1adf354dd5f49cb2fae778fc2\n",
            "  Stored in directory: /root/.cache/pip/wheels/70/e1/52/5b14d250ba868768823940c3229e9950d201a26d0bd3ee8655\n",
            "  Building wheel for imagehash (setup.py) ... \u001b[?25l\u001b[?25hdone\n",
            "  Created wheel for imagehash: filename=ImageHash-4.2.1-py2.py3-none-any.whl size=295207 sha256=399483d06be178f50a1239bb78c92d86946e37e6aed38b12f4872fd9995005b1\n",
            "  Stored in directory: /root/.cache/pip/wheels/4c/d5/59/5e3e297533ddb09407769762985d134135064c6831e29a914e\n",
            "Successfully built htmlmin imagehash\n",
            "Installing collected packages: tangled-up-in-unicode, scipy, multimethod, visions, joblib, imagehash, requests, PyYAML, pydantic, phik, htmlmin, pandas-profiling\n",
            "  Attempting uninstall: scipy\n",
            "    Found existing installation: scipy 1.4.1\n",
            "    Uninstalling scipy-1.4.1:\n",
            "      Successfully uninstalled scipy-1.4.1\n",
            "  Attempting uninstall: joblib\n",
            "    Found existing installation: joblib 1.1.0\n",
            "    Uninstalling joblib-1.1.0:\n",
            "      Successfully uninstalled joblib-1.1.0\n",
            "  Attempting uninstall: requests\n",
            "    Found existing installation: requests 2.23.0\n",
            "    Uninstalling requests-2.23.0:\n",
            "      Successfully uninstalled requests-2.23.0\n",
            "  Attempting uninstall: PyYAML\n",
            "    Found existing installation: PyYAML 3.13\n",
            "    Uninstalling PyYAML-3.13:\n",
            "      Successfully uninstalled PyYAML-3.13\n",
            "  Attempting uninstall: pandas-profiling\n",
            "    Found existing installation: pandas-profiling 1.4.1\n",
            "    Uninstalling pandas-profiling-1.4.1:\n",
            "      Successfully uninstalled pandas-profiling-1.4.1\n",
            "\u001b[31mERROR: pip's dependency resolver does not currently take into account all the packages that are installed. This behaviour is the source of the following dependency conflicts.\n",
            "google-colab 1.0.0 requires requests~=2.23.0, but you have requests 2.26.0 which is incompatible.\n",
            "datascience 0.10.6 requires folium==0.2.1, but you have folium 0.8.3 which is incompatible.\n",
            "albumentations 0.1.12 requires imgaug<0.2.7,>=0.2.5, but you have imgaug 0.2.9 which is incompatible.\u001b[0m\n",
            "Successfully installed PyYAML-6.0 htmlmin-0.1.12 imagehash-4.2.1 joblib-1.0.1 multimethod-1.6 pandas-profiling-3.1.0 phik-0.12.0 pydantic-1.8.2 requests-2.26.0 scipy-1.7.2 tangled-up-in-unicode-0.1.0 visions-0.7.4\n"
          ]
        }
      ]
    },
    {
      "cell_type": "code",
      "metadata": {
        "id": "WN86PT4RYuHQ"
      },
      "source": [
        "import pandas as pd\n",
        "import numpy as np"
      ],
      "execution_count": null,
      "outputs": []
    },
    {
      "cell_type": "code",
      "metadata": {
        "id": "jo8jSei7ZILR",
        "colab": {
          "base_uri": "https://localhost:8080/"
        },
        "outputId": "468ef55e-40ab-493e-c675-db94ee6d06ae"
      },
      "source": [
        "#Downloading and unzip the data\n",
        "!wget https://www.dropbox.com/s/c2927nzgomsn23f/Pandas%20Data%20preprocessing.zip\n",
        "!unzip \"Pandas Data preprocessing.zip\"\n",
        "!rm \"Pandas Data preprocessing.zip\""
      ],
      "execution_count": null,
      "outputs": [
        {
          "metadata": {
            "tags": null
          },
          "name": "stdout",
          "output_type": "stream",
          "text": [
            "--2021-11-13 15:54:55--  https://www.dropbox.com/s/c2927nzgomsn23f/Pandas%20Data%20preprocessing.zip\n",
            "Resolving www.dropbox.com (www.dropbox.com)... 162.125.6.18, 2620:100:6019:18::a27d:412\n",
            "Connecting to www.dropbox.com (www.dropbox.com)|162.125.6.18|:443... connected.\n",
            "HTTP request sent, awaiting response... 301 Moved Permanently\n",
            "Location: /s/raw/c2927nzgomsn23f/Pandas%20Data%20preprocessing.zip [following]\n",
            "--2021-11-13 15:54:55--  https://www.dropbox.com/s/raw/c2927nzgomsn23f/Pandas%20Data%20preprocessing.zip\n",
            "Reusing existing connection to www.dropbox.com:443.\n",
            "HTTP request sent, awaiting response... 302 Found\n",
            "Location: https://uc4ef5876c919962a1aa8052da61.dl.dropboxusercontent.com/cd/0/inline/BZ53otXy1E_pNUE9zHgVTJPsrOiJIQTlW1j1H8NPn_Aq2XqannbYepldZCthiQjab5ADaLcuq8D40H5jYfzXrYdcklWJj8PtXY8kfP8tI9ZAOicQWuQ_9A4ahBcKoOPtautyyDO3boK0USOOBVXBI1ID/file# [following]\n",
            "--2021-11-13 15:54:55--  https://uc4ef5876c919962a1aa8052da61.dl.dropboxusercontent.com/cd/0/inline/BZ53otXy1E_pNUE9zHgVTJPsrOiJIQTlW1j1H8NPn_Aq2XqannbYepldZCthiQjab5ADaLcuq8D40H5jYfzXrYdcklWJj8PtXY8kfP8tI9ZAOicQWuQ_9A4ahBcKoOPtautyyDO3boK0USOOBVXBI1ID/file\n",
            "Resolving uc4ef5876c919962a1aa8052da61.dl.dropboxusercontent.com (uc4ef5876c919962a1aa8052da61.dl.dropboxusercontent.com)... 162.125.4.15, 2620:100:6019:15::a27d:40f\n",
            "Connecting to uc4ef5876c919962a1aa8052da61.dl.dropboxusercontent.com (uc4ef5876c919962a1aa8052da61.dl.dropboxusercontent.com)|162.125.4.15|:443... connected.\n",
            "HTTP request sent, awaiting response... 302 Found\n",
            "Location: /cd/0/inline2/BZ78j1WQJ-R5bRkCMnSj8qShnvwsk5PaVYYx-F1tYRx4-djBQfNsOBQAQtXOkn2hilsH8cD54AUCooG4mg-jC1jADTQ1PcBhBhYpgAUSqSZppOyG25sYEEqAWOcaNvGkxcjm2etMsT5yCcFU2Zr1xyZSqugccvoNec6jUIlvbOupBhb5k_xKcd-0tMGfEzWy2fLI4tY0BhOX7HcW7OEJJJxt8ZvicjkLL8CSVM1k6NCfUtjTouZVXbNc7F-6nOi5_UlI-R0hl7Jg3FSEl4yolEC447Xiv4S2xqSEoqbMXxVnOncJn7skqI1fZdH2s3Zpb89euoFpI_UCkRMyz8k2wlfZ_yY4DxEMK81Zy0xL8tF5xFqHVTW_55iaXidTp2si8Gc/file [following]\n",
            "--2021-11-13 15:54:55--  https://uc4ef5876c919962a1aa8052da61.dl.dropboxusercontent.com/cd/0/inline2/BZ78j1WQJ-R5bRkCMnSj8qShnvwsk5PaVYYx-F1tYRx4-djBQfNsOBQAQtXOkn2hilsH8cD54AUCooG4mg-jC1jADTQ1PcBhBhYpgAUSqSZppOyG25sYEEqAWOcaNvGkxcjm2etMsT5yCcFU2Zr1xyZSqugccvoNec6jUIlvbOupBhb5k_xKcd-0tMGfEzWy2fLI4tY0BhOX7HcW7OEJJJxt8ZvicjkLL8CSVM1k6NCfUtjTouZVXbNc7F-6nOi5_UlI-R0hl7Jg3FSEl4yolEC447Xiv4S2xqSEoqbMXxVnOncJn7skqI1fZdH2s3Zpb89euoFpI_UCkRMyz8k2wlfZ_yY4DxEMK81Zy0xL8tF5xFqHVTW_55iaXidTp2si8Gc/file\n",
            "Reusing existing connection to uc4ef5876c919962a1aa8052da61.dl.dropboxusercontent.com:443.\n",
            "HTTP request sent, awaiting response... 200 OK\n",
            "Length: 9768 (9.5K) [application/zip]\n",
            "Saving to: ‘Pandas Data preprocessing.zip’\n",
            "\n",
            "Pandas Data preproc 100%[===================>]   9.54K  --.-KB/s    in 0s      \n",
            "\n",
            "2021-11-13 15:54:56 (243 MB/s) - ‘Pandas Data preprocessing.zip’ saved [9768/9768]\n",
            "\n",
            "Archive:  Pandas Data preprocessing.zip\n",
            "replace autodata.csv? [y]es, [n]o, [A]ll, [N]one, [r]ename: "
          ]
        }
      ]
    },
    {
      "cell_type": "markdown",
      "metadata": {
        "id": "Fl9fJZ9tYuHS"
      },
      "source": [
        "### Reading Data from Multiple Sources"
      ]
    },
    {
      "cell_type": "markdown",
      "metadata": {
        "id": "6QNRuiMEYuHS"
      },
      "source": [
        "Richard reads data from multiple sources using pandas and merges into a single flat file(CSV). Later, he shares this file to Robin to perform the Data Analyst."
      ]
    },
    {
      "cell_type": "code",
      "metadata": {
        "id": "hxrtCikeYuHT"
      },
      "source": [
        "from sqlalchemy import create_engine"
      ],
      "execution_count": null,
      "outputs": []
    },
    {
      "cell_type": "code",
      "metadata": {
        "id": "iniOMia6Bs7F"
      },
      "source": [
        "os.mkdir(\"testdir\")"
      ],
      "execution_count": null,
      "outputs": []
    },
    {
      "cell_type": "code",
      "metadata": {
        "colab": {
          "base_uri": "https://localhost:8080/",
          "height": 35
        },
        "id": "RxWza5cEB4XY",
        "outputId": "22bca2d0-77a9-4a8c-ec75-f3d7ad40ec56"
      },
      "source": [
        "shutil.copy(\"/content/autodata.csv\",\"/content/testdir/auto_new.csv\")"
      ],
      "execution_count": null,
      "outputs": [
        {
          "output_type": "execute_result",
          "data": {
            "application/vnd.google.colaboratory.intrinsic+json": {
              "type": "string"
            },
            "text/plain": [
              "'/content/testdir/auto_new.csv'"
            ]
          },
          "metadata": {},
          "execution_count": 54
        }
      ]
    },
    {
      "cell_type": "code",
      "metadata": {
        "id": "uXQjYBMEdml7"
      },
      "source": [
        "# import shutil\n",
        "# import os\n",
        "# os.mkdir(\"DB Folder\")\n",
        "# shutil.move(\"/content/db_bello_customers.db\", \"/content/DB Folder/db_bello_customers.db\")\n",
        "# engine=create_engine('sqlite:////content/DB Folder/db_bello_customers.db',future=True)"
      ],
      "execution_count": null,
      "outputs": []
    },
    {
      "cell_type": "code",
      "metadata": {
        "id": "YXMfSgB7YuHT"
      },
      "source": [
        "engine=create_engine('sqlite:///db_bello_customers.db',future=True)"
      ],
      "execution_count": null,
      "outputs": []
    },
    {
      "cell_type": "code",
      "metadata": {
        "id": "T-eqYgnNbHun",
        "colab": {
          "base_uri": "https://localhost:8080/"
        },
        "outputId": "f7404829-a271-4831-9417-04275dcffc89"
      },
      "source": [
        "type(engine)"
      ],
      "execution_count": null,
      "outputs": [
        {
          "output_type": "execute_result",
          "data": {
            "text/plain": [
              "sqlalchemy.future.engine.Engine"
            ]
          },
          "metadata": {},
          "execution_count": 6
        }
      ]
    },
    {
      "cell_type": "code",
      "metadata": {
        "id": "yea44NrIbRbI",
        "colab": {
          "base_uri": "https://localhost:8080/"
        },
        "outputId": "94edeeb0-8f02-4351-a133-5cfb26526684"
      },
      "source": [
        "connect = engine.connect() # connects database\n",
        "type(connect) # creates a database file"
      ],
      "execution_count": null,
      "outputs": [
        {
          "output_type": "execute_result",
          "data": {
            "text/plain": [
              "sqlalchemy.future.engine.Connection"
            ]
          },
          "metadata": {},
          "execution_count": 58
        }
      ]
    },
    {
      "cell_type": "code",
      "metadata": {
        "id": "FvyIDb0dYuHU"
      },
      "source": [
        "on_premise_db=pd.read_sql_table('Payments',connect)"
      ],
      "execution_count": null,
      "outputs": []
    },
    {
      "cell_type": "code",
      "metadata": {
        "id": "FlpFGCfRhwk5",
        "colab": {
          "base_uri": "https://localhost:8080/"
        },
        "outputId": "21514e49-f993-41f1-977d-2f961b6a147f"
      },
      "source": [
        "type(on_premise_db)"
      ],
      "execution_count": null,
      "outputs": [
        {
          "output_type": "execute_result",
          "data": {
            "text/plain": [
              "pandas.core.frame.DataFrame"
            ]
          },
          "metadata": {},
          "execution_count": 9
        }
      ]
    },
    {
      "cell_type": "code",
      "metadata": {
        "id": "YrkUfErvhyfI",
        "colab": {
          "base_uri": "https://localhost:8080/",
          "height": 203
        },
        "outputId": "deb5c392-97cf-4739-bb04-55316e32fee3"
      },
      "source": [
        "on_premise_db.head()"
      ],
      "execution_count": null,
      "outputs": [
        {
          "output_type": "execute_result",
          "data": {
            "text/html": [
              "<div>\n",
              "<style scoped>\n",
              "    .dataframe tbody tr th:only-of-type {\n",
              "        vertical-align: middle;\n",
              "    }\n",
              "\n",
              "    .dataframe tbody tr th {\n",
              "        vertical-align: top;\n",
              "    }\n",
              "\n",
              "    .dataframe thead th {\n",
              "        text-align: right;\n",
              "    }\n",
              "</style>\n",
              "<table border=\"1\" class=\"dataframe\">\n",
              "  <thead>\n",
              "    <tr style=\"text-align: right;\">\n",
              "      <th></th>\n",
              "      <th>Date</th>\n",
              "      <th>CustomerID</th>\n",
              "      <th>PaymentMode</th>\n",
              "      <th>ShippingMode</th>\n",
              "      <th>Gender</th>\n",
              "      <th>ShippingTime</th>\n",
              "    </tr>\n",
              "  </thead>\n",
              "  <tbody>\n",
              "    <tr>\n",
              "      <th>0</th>\n",
              "      <td>16/08/20</td>\n",
              "      <td>10471</td>\n",
              "      <td>Creditcard</td>\n",
              "      <td>Economy</td>\n",
              "      <td>Female</td>\n",
              "      <td>17.0</td>\n",
              "    </tr>\n",
              "    <tr>\n",
              "      <th>1</th>\n",
              "      <td>2/8/2020 0:00</td>\n",
              "      <td>10472</td>\n",
              "      <td>Ewallet</td>\n",
              "      <td>Mail</td>\n",
              "      <td>Unspecified</td>\n",
              "      <td>12.0</td>\n",
              "    </tr>\n",
              "    <tr>\n",
              "      <th>2</th>\n",
              "      <td>8/8/2020 0:00</td>\n",
              "      <td>10473</td>\n",
              "      <td>Prepaid Card</td>\n",
              "      <td>Mail</td>\n",
              "      <td>None</td>\n",
              "      <td>10.0</td>\n",
              "    </tr>\n",
              "    <tr>\n",
              "      <th>3</th>\n",
              "      <td>None</td>\n",
              "      <td>10474</td>\n",
              "      <td>Directdeposit</td>\n",
              "      <td>Normal</td>\n",
              "      <td>Female</td>\n",
              "      <td>2133.0</td>\n",
              "    </tr>\n",
              "    <tr>\n",
              "      <th>4</th>\n",
              "      <td>24/08/20</td>\n",
              "      <td>10475</td>\n",
              "      <td>None</td>\n",
              "      <td>Economy</td>\n",
              "      <td>Male</td>\n",
              "      <td>2133.0</td>\n",
              "    </tr>\n",
              "  </tbody>\n",
              "</table>\n",
              "</div>"
            ],
            "text/plain": [
              "            Date  CustomerID  ...       Gender ShippingTime\n",
              "0       16/08/20       10471  ...       Female         17.0\n",
              "1  2/8/2020 0:00       10472  ...  Unspecified         12.0\n",
              "2  8/8/2020 0:00       10473  ...         None         10.0\n",
              "3           None       10474  ...       Female       2133.0\n",
              "4       24/08/20       10475  ...         Male       2133.0\n",
              "\n",
              "[5 rows x 6 columns]"
            ]
          },
          "metadata": {},
          "execution_count": 10
        }
      ]
    },
    {
      "cell_type": "code",
      "metadata": {
        "id": "DfY4m4r0YuHV"
      },
      "source": [
        "#read from csv file\n",
        "cld_data=pd.read_csv('https://raw.githubusercontent.com/SameerJain901/datasets/master/cld_bello_customers.csv')"
      ],
      "execution_count": null,
      "outputs": []
    },
    {
      "cell_type": "code",
      "metadata": {
        "colab": {
          "base_uri": "https://localhost:8080/",
          "height": 417
        },
        "id": "feImDkPX51HS",
        "outputId": "c0515f03-d362-4055-daef-b23d3a96dd5c"
      },
      "source": [
        "pd.read_csv(r\"https://raw.githubusercontent.com/agconti/kaggle-titanic/master/data/train.csv\")"
      ],
      "execution_count": null,
      "outputs": [
        {
          "output_type": "execute_result",
          "data": {
            "text/html": [
              "<div>\n",
              "<style scoped>\n",
              "    .dataframe tbody tr th:only-of-type {\n",
              "        vertical-align: middle;\n",
              "    }\n",
              "\n",
              "    .dataframe tbody tr th {\n",
              "        vertical-align: top;\n",
              "    }\n",
              "\n",
              "    .dataframe thead th {\n",
              "        text-align: right;\n",
              "    }\n",
              "</style>\n",
              "<table border=\"1\" class=\"dataframe\">\n",
              "  <thead>\n",
              "    <tr style=\"text-align: right;\">\n",
              "      <th></th>\n",
              "      <th>PassengerId</th>\n",
              "      <th>Survived</th>\n",
              "      <th>Pclass</th>\n",
              "      <th>Name</th>\n",
              "      <th>Sex</th>\n",
              "      <th>Age</th>\n",
              "      <th>SibSp</th>\n",
              "      <th>Parch</th>\n",
              "      <th>Ticket</th>\n",
              "      <th>Fare</th>\n",
              "      <th>Cabin</th>\n",
              "      <th>Embarked</th>\n",
              "    </tr>\n",
              "  </thead>\n",
              "  <tbody>\n",
              "    <tr>\n",
              "      <th>0</th>\n",
              "      <td>1</td>\n",
              "      <td>0</td>\n",
              "      <td>3</td>\n",
              "      <td>Braund, Mr. Owen Harris</td>\n",
              "      <td>male</td>\n",
              "      <td>22.0</td>\n",
              "      <td>1</td>\n",
              "      <td>0</td>\n",
              "      <td>A/5 21171</td>\n",
              "      <td>7.2500</td>\n",
              "      <td>NaN</td>\n",
              "      <td>S</td>\n",
              "    </tr>\n",
              "    <tr>\n",
              "      <th>1</th>\n",
              "      <td>2</td>\n",
              "      <td>1</td>\n",
              "      <td>1</td>\n",
              "      <td>Cumings, Mrs. John Bradley (Florence Briggs Th...</td>\n",
              "      <td>female</td>\n",
              "      <td>38.0</td>\n",
              "      <td>1</td>\n",
              "      <td>0</td>\n",
              "      <td>PC 17599</td>\n",
              "      <td>71.2833</td>\n",
              "      <td>C85</td>\n",
              "      <td>C</td>\n",
              "    </tr>\n",
              "    <tr>\n",
              "      <th>2</th>\n",
              "      <td>3</td>\n",
              "      <td>1</td>\n",
              "      <td>3</td>\n",
              "      <td>Heikkinen, Miss. Laina</td>\n",
              "      <td>female</td>\n",
              "      <td>26.0</td>\n",
              "      <td>0</td>\n",
              "      <td>0</td>\n",
              "      <td>STON/O2. 3101282</td>\n",
              "      <td>7.9250</td>\n",
              "      <td>NaN</td>\n",
              "      <td>S</td>\n",
              "    </tr>\n",
              "    <tr>\n",
              "      <th>3</th>\n",
              "      <td>4</td>\n",
              "      <td>1</td>\n",
              "      <td>1</td>\n",
              "      <td>Futrelle, Mrs. Jacques Heath (Lily May Peel)</td>\n",
              "      <td>female</td>\n",
              "      <td>35.0</td>\n",
              "      <td>1</td>\n",
              "      <td>0</td>\n",
              "      <td>113803</td>\n",
              "      <td>53.1000</td>\n",
              "      <td>C123</td>\n",
              "      <td>S</td>\n",
              "    </tr>\n",
              "    <tr>\n",
              "      <th>4</th>\n",
              "      <td>5</td>\n",
              "      <td>0</td>\n",
              "      <td>3</td>\n",
              "      <td>Allen, Mr. William Henry</td>\n",
              "      <td>male</td>\n",
              "      <td>35.0</td>\n",
              "      <td>0</td>\n",
              "      <td>0</td>\n",
              "      <td>373450</td>\n",
              "      <td>8.0500</td>\n",
              "      <td>NaN</td>\n",
              "      <td>S</td>\n",
              "    </tr>\n",
              "    <tr>\n",
              "      <th>...</th>\n",
              "      <td>...</td>\n",
              "      <td>...</td>\n",
              "      <td>...</td>\n",
              "      <td>...</td>\n",
              "      <td>...</td>\n",
              "      <td>...</td>\n",
              "      <td>...</td>\n",
              "      <td>...</td>\n",
              "      <td>...</td>\n",
              "      <td>...</td>\n",
              "      <td>...</td>\n",
              "      <td>...</td>\n",
              "    </tr>\n",
              "    <tr>\n",
              "      <th>886</th>\n",
              "      <td>887</td>\n",
              "      <td>0</td>\n",
              "      <td>2</td>\n",
              "      <td>Montvila, Rev. Juozas</td>\n",
              "      <td>male</td>\n",
              "      <td>27.0</td>\n",
              "      <td>0</td>\n",
              "      <td>0</td>\n",
              "      <td>211536</td>\n",
              "      <td>13.0000</td>\n",
              "      <td>NaN</td>\n",
              "      <td>S</td>\n",
              "    </tr>\n",
              "    <tr>\n",
              "      <th>887</th>\n",
              "      <td>888</td>\n",
              "      <td>1</td>\n",
              "      <td>1</td>\n",
              "      <td>Graham, Miss. Margaret Edith</td>\n",
              "      <td>female</td>\n",
              "      <td>19.0</td>\n",
              "      <td>0</td>\n",
              "      <td>0</td>\n",
              "      <td>112053</td>\n",
              "      <td>30.0000</td>\n",
              "      <td>B42</td>\n",
              "      <td>S</td>\n",
              "    </tr>\n",
              "    <tr>\n",
              "      <th>888</th>\n",
              "      <td>889</td>\n",
              "      <td>0</td>\n",
              "      <td>3</td>\n",
              "      <td>Johnston, Miss. Catherine Helen \"Carrie\"</td>\n",
              "      <td>female</td>\n",
              "      <td>NaN</td>\n",
              "      <td>1</td>\n",
              "      <td>2</td>\n",
              "      <td>W./C. 6607</td>\n",
              "      <td>23.4500</td>\n",
              "      <td>NaN</td>\n",
              "      <td>S</td>\n",
              "    </tr>\n",
              "    <tr>\n",
              "      <th>889</th>\n",
              "      <td>890</td>\n",
              "      <td>1</td>\n",
              "      <td>1</td>\n",
              "      <td>Behr, Mr. Karl Howell</td>\n",
              "      <td>male</td>\n",
              "      <td>26.0</td>\n",
              "      <td>0</td>\n",
              "      <td>0</td>\n",
              "      <td>111369</td>\n",
              "      <td>30.0000</td>\n",
              "      <td>C148</td>\n",
              "      <td>C</td>\n",
              "    </tr>\n",
              "    <tr>\n",
              "      <th>890</th>\n",
              "      <td>891</td>\n",
              "      <td>0</td>\n",
              "      <td>3</td>\n",
              "      <td>Dooley, Mr. Patrick</td>\n",
              "      <td>male</td>\n",
              "      <td>32.0</td>\n",
              "      <td>0</td>\n",
              "      <td>0</td>\n",
              "      <td>370376</td>\n",
              "      <td>7.7500</td>\n",
              "      <td>NaN</td>\n",
              "      <td>Q</td>\n",
              "    </tr>\n",
              "  </tbody>\n",
              "</table>\n",
              "<p>891 rows × 12 columns</p>\n",
              "</div>"
            ],
            "text/plain": [
              "     PassengerId  Survived  Pclass  ...     Fare Cabin  Embarked\n",
              "0              1         0       3  ...   7.2500   NaN         S\n",
              "1              2         1       1  ...  71.2833   C85         C\n",
              "2              3         1       3  ...   7.9250   NaN         S\n",
              "3              4         1       1  ...  53.1000  C123         S\n",
              "4              5         0       3  ...   8.0500   NaN         S\n",
              "..           ...       ...     ...  ...      ...   ...       ...\n",
              "886          887         0       2  ...  13.0000   NaN         S\n",
              "887          888         1       1  ...  30.0000   B42         S\n",
              "888          889         0       3  ...  23.4500   NaN         S\n",
              "889          890         1       1  ...  30.0000  C148         C\n",
              "890          891         0       3  ...   7.7500   NaN         Q\n",
              "\n",
              "[891 rows x 12 columns]"
            ]
          },
          "metadata": {},
          "execution_count": 11
        }
      ]
    },
    {
      "cell_type": "code",
      "metadata": {
        "id": "otF_GFi9YuHV"
      },
      "source": [
        "lcl_data=pd.read_excel('/content/lcl_bello_sales.xlsx')"
      ],
      "execution_count": null,
      "outputs": []
    },
    {
      "cell_type": "code",
      "metadata": {
        "id": "Z-HXhtSkYuHW",
        "colab": {
          "base_uri": "https://localhost:8080/",
          "height": 203
        },
        "outputId": "8216440c-eb05-4168-c047-4b357dad498a"
      },
      "source": [
        "on_premise_db.head()"
      ],
      "execution_count": null,
      "outputs": [
        {
          "output_type": "execute_result",
          "data": {
            "text/html": [
              "<div>\n",
              "<style scoped>\n",
              "    .dataframe tbody tr th:only-of-type {\n",
              "        vertical-align: middle;\n",
              "    }\n",
              "\n",
              "    .dataframe tbody tr th {\n",
              "        vertical-align: top;\n",
              "    }\n",
              "\n",
              "    .dataframe thead th {\n",
              "        text-align: right;\n",
              "    }\n",
              "</style>\n",
              "<table border=\"1\" class=\"dataframe\">\n",
              "  <thead>\n",
              "    <tr style=\"text-align: right;\">\n",
              "      <th></th>\n",
              "      <th>Date</th>\n",
              "      <th>CustomerID</th>\n",
              "      <th>PaymentMode</th>\n",
              "      <th>ShippingMode</th>\n",
              "      <th>Gender</th>\n",
              "      <th>ShippingTime</th>\n",
              "    </tr>\n",
              "  </thead>\n",
              "  <tbody>\n",
              "    <tr>\n",
              "      <th>0</th>\n",
              "      <td>16/08/20</td>\n",
              "      <td>10471</td>\n",
              "      <td>Creditcard</td>\n",
              "      <td>Economy</td>\n",
              "      <td>Female</td>\n",
              "      <td>17.0</td>\n",
              "    </tr>\n",
              "    <tr>\n",
              "      <th>1</th>\n",
              "      <td>2/8/2020 0:00</td>\n",
              "      <td>10472</td>\n",
              "      <td>Ewallet</td>\n",
              "      <td>Mail</td>\n",
              "      <td>Unspecified</td>\n",
              "      <td>12.0</td>\n",
              "    </tr>\n",
              "    <tr>\n",
              "      <th>2</th>\n",
              "      <td>8/8/2020 0:00</td>\n",
              "      <td>10473</td>\n",
              "      <td>Prepaid Card</td>\n",
              "      <td>Mail</td>\n",
              "      <td>None</td>\n",
              "      <td>10.0</td>\n",
              "    </tr>\n",
              "    <tr>\n",
              "      <th>3</th>\n",
              "      <td>None</td>\n",
              "      <td>10474</td>\n",
              "      <td>Directdeposit</td>\n",
              "      <td>Normal</td>\n",
              "      <td>Female</td>\n",
              "      <td>2133.0</td>\n",
              "    </tr>\n",
              "    <tr>\n",
              "      <th>4</th>\n",
              "      <td>24/08/20</td>\n",
              "      <td>10475</td>\n",
              "      <td>None</td>\n",
              "      <td>Economy</td>\n",
              "      <td>Male</td>\n",
              "      <td>2133.0</td>\n",
              "    </tr>\n",
              "  </tbody>\n",
              "</table>\n",
              "</div>"
            ],
            "text/plain": [
              "            Date  CustomerID  ...       Gender ShippingTime\n",
              "0       16/08/20       10471  ...       Female         17.0\n",
              "1  2/8/2020 0:00       10472  ...  Unspecified         12.0\n",
              "2  8/8/2020 0:00       10473  ...         None         10.0\n",
              "3           None       10474  ...       Female       2133.0\n",
              "4       24/08/20       10475  ...         Male       2133.0\n",
              "\n",
              "[5 rows x 6 columns]"
            ]
          },
          "metadata": {},
          "execution_count": 14
        }
      ]
    },
    {
      "cell_type": "code",
      "metadata": {
        "id": "QbI_O-pOYuHa",
        "colab": {
          "base_uri": "https://localhost:8080/",
          "height": 203
        },
        "outputId": "a767492c-5b1f-4d38-d7ed-6535d076c4d7"
      },
      "source": [
        "lcl_data.head()"
      ],
      "execution_count": null,
      "outputs": [
        {
          "output_type": "execute_result",
          "data": {
            "text/html": [
              "<div>\n",
              "<style scoped>\n",
              "    .dataframe tbody tr th:only-of-type {\n",
              "        vertical-align: middle;\n",
              "    }\n",
              "\n",
              "    .dataframe tbody tr th {\n",
              "        vertical-align: top;\n",
              "    }\n",
              "\n",
              "    .dataframe thead th {\n",
              "        text-align: right;\n",
              "    }\n",
              "</style>\n",
              "<table border=\"1\" class=\"dataframe\">\n",
              "  <thead>\n",
              "    <tr style=\"text-align: right;\">\n",
              "      <th></th>\n",
              "      <th>CustomerID</th>\n",
              "      <th>Price</th>\n",
              "    </tr>\n",
              "  </thead>\n",
              "  <tbody>\n",
              "    <tr>\n",
              "      <th>0</th>\n",
              "      <td>10471</td>\n",
              "      <td>₹ 675036.2138626401</td>\n",
              "    </tr>\n",
              "    <tr>\n",
              "      <th>1</th>\n",
              "      <td>10472</td>\n",
              "      <td>€ 2,315.53</td>\n",
              "    </tr>\n",
              "    <tr>\n",
              "      <th>2</th>\n",
              "      <td>10473</td>\n",
              "      <td>₹ 611426.29122378</td>\n",
              "    </tr>\n",
              "    <tr>\n",
              "      <th>3</th>\n",
              "      <td>10474</td>\n",
              "      <td>₹ 210869.48083470002</td>\n",
              "    </tr>\n",
              "    <tr>\n",
              "      <th>4</th>\n",
              "      <td>10475</td>\n",
              "      <td>₹ 679422.2811434</td>\n",
              "    </tr>\n",
              "  </tbody>\n",
              "</table>\n",
              "</div>"
            ],
            "text/plain": [
              "   CustomerID                 Price\n",
              "0       10471   ₹ 675036.2138626401\n",
              "1       10472            € 2,315.53\n",
              "2       10473     ₹ 611426.29122378\n",
              "3       10474  ₹ 210869.48083470002\n",
              "4       10475      ₹ 679422.2811434"
            ]
          },
          "metadata": {},
          "execution_count": 15
        }
      ]
    },
    {
      "cell_type": "code",
      "metadata": {
        "id": "pa6GRXukYuHa",
        "colab": {
          "base_uri": "https://localhost:8080/",
          "height": 203
        },
        "outputId": "c8575fa6-e4fa-4426-877b-176f29dfa23d"
      },
      "source": [
        "cld_data.head()"
      ],
      "execution_count": null,
      "outputs": [
        {
          "output_type": "execute_result",
          "data": {
            "text/html": [
              "<div>\n",
              "<style scoped>\n",
              "    .dataframe tbody tr th:only-of-type {\n",
              "        vertical-align: middle;\n",
              "    }\n",
              "\n",
              "    .dataframe tbody tr th {\n",
              "        vertical-align: top;\n",
              "    }\n",
              "\n",
              "    .dataframe thead th {\n",
              "        text-align: right;\n",
              "    }\n",
              "</style>\n",
              "<table border=\"1\" class=\"dataframe\">\n",
              "  <thead>\n",
              "    <tr style=\"text-align: right;\">\n",
              "      <th></th>\n",
              "      <th>CustomerID</th>\n",
              "      <th>ProductType</th>\n",
              "      <th>Rating</th>\n",
              "      <th>Total_Ratings</th>\n",
              "      <th>PaymentMode</th>\n",
              "    </tr>\n",
              "  </thead>\n",
              "  <tbody>\n",
              "    <tr>\n",
              "      <th>0</th>\n",
              "      <td>10471</td>\n",
              "      <td>coates</td>\n",
              "      <td>1 start</td>\n",
              "      <td>8736</td>\n",
              "      <td>Creditcard</td>\n",
              "    </tr>\n",
              "    <tr>\n",
              "      <th>1</th>\n",
              "      <td>10472</td>\n",
              "      <td>dresses</td>\n",
              "      <td>2 star</td>\n",
              "      <td>8547</td>\n",
              "      <td>Ewallet</td>\n",
              "    </tr>\n",
              "    <tr>\n",
              "      <th>2</th>\n",
              "      <td>10473</td>\n",
              "      <td>NaN</td>\n",
              "      <td>2 star</td>\n",
              "      <td>9833</td>\n",
              "      <td>Prepaid Card</td>\n",
              "    </tr>\n",
              "    <tr>\n",
              "      <th>3</th>\n",
              "      <td>10474</td>\n",
              "      <td>dresses</td>\n",
              "      <td>2star</td>\n",
              "      <td>7591</td>\n",
              "      <td>Directdeposit</td>\n",
              "    </tr>\n",
              "    <tr>\n",
              "      <th>4</th>\n",
              "      <td>10475</td>\n",
              "      <td>pantas</td>\n",
              "      <td>1 start</td>\n",
              "      <td>5131</td>\n",
              "      <td>NaN</td>\n",
              "    </tr>\n",
              "  </tbody>\n",
              "</table>\n",
              "</div>"
            ],
            "text/plain": [
              "   CustomerID ProductType   Rating  Total_Ratings    PaymentMode\n",
              "0       10471      coates  1 start           8736     Creditcard\n",
              "1       10472    dresses    2 star           8547        Ewallet\n",
              "2       10473         NaN   2 star           9833   Prepaid Card\n",
              "3       10474    dresses     2star           7591  Directdeposit\n",
              "4       10475      pantas  1 start           5131            NaN"
            ]
          },
          "metadata": {},
          "execution_count": 16
        }
      ]
    },
    {
      "cell_type": "code",
      "metadata": {
        "id": "4BRn8_xUYuHb",
        "colab": {
          "base_uri": "https://localhost:8080/"
        },
        "outputId": "814188fd-c094-4d4e-8b41-284ccc375664"
      },
      "source": [
        "# Checking shape of all the DataFrames\n",
        "lcl_data.shape,cld_data.shape,on_premise_db.shape"
      ],
      "execution_count": null,
      "outputs": [
        {
          "output_type": "execute_result",
          "data": {
            "text/plain": [
              "((100, 2), (100, 5), (100, 6))"
            ]
          },
          "metadata": {},
          "execution_count": 17
        }
      ]
    },
    {
      "cell_type": "code",
      "metadata": {
        "id": "9VXdR02uYuHh"
      },
      "source": [
        "# Remove the columns CustomerID from other two DataFrames as they are present in cld_data\n",
        "lcl_data.drop('CustomerID',axis=1,inplace=True)\n",
        "on_premise_db.drop('CustomerID',axis=1,inplace=True)"
      ],
      "execution_count": null,
      "outputs": []
    },
    {
      "cell_type": "markdown",
      "metadata": {
        "id": "tfsc6z1hYuHw"
      },
      "source": [
        "Now, we have to merge them into one single file so that Robin can analyze the data."
      ]
    },
    {
      "cell_type": "code",
      "metadata": {
        "id": "CcTsqaaBYuHw"
      },
      "source": [
        "data=pd.concat([cld_data,on_premise_db,lcl_data],axis=1)"
      ],
      "execution_count": null,
      "outputs": []
    },
    {
      "cell_type": "code",
      "metadata": {
        "id": "tTSTQ3jEYuHx",
        "colab": {
          "base_uri": "https://localhost:8080/"
        },
        "outputId": "91726838-c1cc-4ea1-bc21-3fffd268b394"
      },
      "source": [
        "data.shape"
      ],
      "execution_count": null,
      "outputs": [
        {
          "output_type": "execute_result",
          "data": {
            "text/plain": [
              "(100, 11)"
            ]
          },
          "metadata": {},
          "execution_count": 20
        }
      ]
    },
    {
      "cell_type": "code",
      "metadata": {
        "id": "UMF_wOqKYuHy",
        "colab": {
          "base_uri": "https://localhost:8080/",
          "height": 203
        },
        "outputId": "2362b295-2407-4e97-f24a-35b126ce78af"
      },
      "source": [
        "data.head()"
      ],
      "execution_count": null,
      "outputs": [
        {
          "output_type": "execute_result",
          "data": {
            "text/html": [
              "<div>\n",
              "<style scoped>\n",
              "    .dataframe tbody tr th:only-of-type {\n",
              "        vertical-align: middle;\n",
              "    }\n",
              "\n",
              "    .dataframe tbody tr th {\n",
              "        vertical-align: top;\n",
              "    }\n",
              "\n",
              "    .dataframe thead th {\n",
              "        text-align: right;\n",
              "    }\n",
              "</style>\n",
              "<table border=\"1\" class=\"dataframe\">\n",
              "  <thead>\n",
              "    <tr style=\"text-align: right;\">\n",
              "      <th></th>\n",
              "      <th>CustomerID</th>\n",
              "      <th>ProductType</th>\n",
              "      <th>Rating</th>\n",
              "      <th>Total_Ratings</th>\n",
              "      <th>PaymentMode</th>\n",
              "      <th>Date</th>\n",
              "      <th>PaymentMode</th>\n",
              "      <th>ShippingMode</th>\n",
              "      <th>Gender</th>\n",
              "      <th>ShippingTime</th>\n",
              "      <th>Price</th>\n",
              "    </tr>\n",
              "  </thead>\n",
              "  <tbody>\n",
              "    <tr>\n",
              "      <th>0</th>\n",
              "      <td>10471</td>\n",
              "      <td>coates</td>\n",
              "      <td>1 start</td>\n",
              "      <td>8736</td>\n",
              "      <td>Creditcard</td>\n",
              "      <td>16/08/20</td>\n",
              "      <td>Creditcard</td>\n",
              "      <td>Economy</td>\n",
              "      <td>Female</td>\n",
              "      <td>17.0</td>\n",
              "      <td>₹ 675036.2138626401</td>\n",
              "    </tr>\n",
              "    <tr>\n",
              "      <th>1</th>\n",
              "      <td>10472</td>\n",
              "      <td>dresses</td>\n",
              "      <td>2 star</td>\n",
              "      <td>8547</td>\n",
              "      <td>Ewallet</td>\n",
              "      <td>2/8/2020 0:00</td>\n",
              "      <td>Ewallet</td>\n",
              "      <td>Mail</td>\n",
              "      <td>Unspecified</td>\n",
              "      <td>12.0</td>\n",
              "      <td>€ 2,315.53</td>\n",
              "    </tr>\n",
              "    <tr>\n",
              "      <th>2</th>\n",
              "      <td>10473</td>\n",
              "      <td>NaN</td>\n",
              "      <td>2 star</td>\n",
              "      <td>9833</td>\n",
              "      <td>Prepaid Card</td>\n",
              "      <td>8/8/2020 0:00</td>\n",
              "      <td>Prepaid Card</td>\n",
              "      <td>Mail</td>\n",
              "      <td>None</td>\n",
              "      <td>10.0</td>\n",
              "      <td>₹ 611426.29122378</td>\n",
              "    </tr>\n",
              "    <tr>\n",
              "      <th>3</th>\n",
              "      <td>10474</td>\n",
              "      <td>dresses</td>\n",
              "      <td>2star</td>\n",
              "      <td>7591</td>\n",
              "      <td>Directdeposit</td>\n",
              "      <td>None</td>\n",
              "      <td>Directdeposit</td>\n",
              "      <td>Normal</td>\n",
              "      <td>Female</td>\n",
              "      <td>2133.0</td>\n",
              "      <td>₹ 210869.48083470002</td>\n",
              "    </tr>\n",
              "    <tr>\n",
              "      <th>4</th>\n",
              "      <td>10475</td>\n",
              "      <td>pantas</td>\n",
              "      <td>1 start</td>\n",
              "      <td>5131</td>\n",
              "      <td>NaN</td>\n",
              "      <td>24/08/20</td>\n",
              "      <td>None</td>\n",
              "      <td>Economy</td>\n",
              "      <td>Male</td>\n",
              "      <td>2133.0</td>\n",
              "      <td>₹ 679422.2811434</td>\n",
              "    </tr>\n",
              "  </tbody>\n",
              "</table>\n",
              "</div>"
            ],
            "text/plain": [
              "   CustomerID ProductType  ... ShippingTime                 Price\n",
              "0       10471      coates  ...         17.0   ₹ 675036.2138626401\n",
              "1       10472    dresses   ...         12.0            € 2,315.53\n",
              "2       10473         NaN  ...         10.0     ₹ 611426.29122378\n",
              "3       10474    dresses   ...       2133.0  ₹ 210869.48083470002\n",
              "4       10475      pantas  ...       2133.0      ₹ 679422.2811434\n",
              "\n",
              "[5 rows x 11 columns]"
            ]
          },
          "metadata": {},
          "execution_count": 21
        }
      ]
    },
    {
      "cell_type": "code",
      "metadata": {
        "id": "J6iToN51i0HV",
        "colab": {
          "base_uri": "https://localhost:8080/",
          "height": 417
        },
        "outputId": "02c87c13-079e-4288-f0e6-f1fa704cb53f"
      },
      "source": [
        "data.reset_index()"
      ],
      "execution_count": null,
      "outputs": [
        {
          "output_type": "execute_result",
          "data": {
            "text/html": [
              "<div>\n",
              "<style scoped>\n",
              "    .dataframe tbody tr th:only-of-type {\n",
              "        vertical-align: middle;\n",
              "    }\n",
              "\n",
              "    .dataframe tbody tr th {\n",
              "        vertical-align: top;\n",
              "    }\n",
              "\n",
              "    .dataframe thead th {\n",
              "        text-align: right;\n",
              "    }\n",
              "</style>\n",
              "<table border=\"1\" class=\"dataframe\">\n",
              "  <thead>\n",
              "    <tr style=\"text-align: right;\">\n",
              "      <th></th>\n",
              "      <th>index</th>\n",
              "      <th>CustomerID</th>\n",
              "      <th>ProductType</th>\n",
              "      <th>Rating</th>\n",
              "      <th>Total_Ratings</th>\n",
              "      <th>PaymentMode</th>\n",
              "      <th>Date</th>\n",
              "      <th>PaymentMode</th>\n",
              "      <th>ShippingMode</th>\n",
              "      <th>Gender</th>\n",
              "      <th>ShippingTime</th>\n",
              "      <th>Price</th>\n",
              "    </tr>\n",
              "  </thead>\n",
              "  <tbody>\n",
              "    <tr>\n",
              "      <th>0</th>\n",
              "      <td>0</td>\n",
              "      <td>10471</td>\n",
              "      <td>coates</td>\n",
              "      <td>1 start</td>\n",
              "      <td>8736</td>\n",
              "      <td>Creditcard</td>\n",
              "      <td>16/08/20</td>\n",
              "      <td>Creditcard</td>\n",
              "      <td>Economy</td>\n",
              "      <td>Female</td>\n",
              "      <td>17.0</td>\n",
              "      <td>₹ 675036.2138626401</td>\n",
              "    </tr>\n",
              "    <tr>\n",
              "      <th>1</th>\n",
              "      <td>1</td>\n",
              "      <td>10472</td>\n",
              "      <td>dresses</td>\n",
              "      <td>2 star</td>\n",
              "      <td>8547</td>\n",
              "      <td>Ewallet</td>\n",
              "      <td>2/8/2020 0:00</td>\n",
              "      <td>Ewallet</td>\n",
              "      <td>Mail</td>\n",
              "      <td>Unspecified</td>\n",
              "      <td>12.0</td>\n",
              "      <td>€ 2,315.53</td>\n",
              "    </tr>\n",
              "    <tr>\n",
              "      <th>2</th>\n",
              "      <td>2</td>\n",
              "      <td>10473</td>\n",
              "      <td>NaN</td>\n",
              "      <td>2 star</td>\n",
              "      <td>9833</td>\n",
              "      <td>Prepaid Card</td>\n",
              "      <td>8/8/2020 0:00</td>\n",
              "      <td>Prepaid Card</td>\n",
              "      <td>Mail</td>\n",
              "      <td>None</td>\n",
              "      <td>10.0</td>\n",
              "      <td>₹ 611426.29122378</td>\n",
              "    </tr>\n",
              "    <tr>\n",
              "      <th>3</th>\n",
              "      <td>3</td>\n",
              "      <td>10474</td>\n",
              "      <td>dresses</td>\n",
              "      <td>2star</td>\n",
              "      <td>7591</td>\n",
              "      <td>Directdeposit</td>\n",
              "      <td>None</td>\n",
              "      <td>Directdeposit</td>\n",
              "      <td>Normal</td>\n",
              "      <td>Female</td>\n",
              "      <td>2133.0</td>\n",
              "      <td>₹ 210869.48083470002</td>\n",
              "    </tr>\n",
              "    <tr>\n",
              "      <th>4</th>\n",
              "      <td>4</td>\n",
              "      <td>10475</td>\n",
              "      <td>pantas</td>\n",
              "      <td>1 start</td>\n",
              "      <td>5131</td>\n",
              "      <td>NaN</td>\n",
              "      <td>24/08/20</td>\n",
              "      <td>None</td>\n",
              "      <td>Economy</td>\n",
              "      <td>Male</td>\n",
              "      <td>2133.0</td>\n",
              "      <td>₹ 679422.2811434</td>\n",
              "    </tr>\n",
              "    <tr>\n",
              "      <th>...</th>\n",
              "      <td>...</td>\n",
              "      <td>...</td>\n",
              "      <td>...</td>\n",
              "      <td>...</td>\n",
              "      <td>...</td>\n",
              "      <td>...</td>\n",
              "      <td>...</td>\n",
              "      <td>...</td>\n",
              "      <td>...</td>\n",
              "      <td>...</td>\n",
              "      <td>...</td>\n",
              "      <td>...</td>\n",
              "    </tr>\n",
              "    <tr>\n",
              "      <th>95</th>\n",
              "      <td>95</td>\n",
              "      <td>10566</td>\n",
              "      <td>Coats/Jackets</td>\n",
              "      <td>2star</td>\n",
              "      <td>6090</td>\n",
              "      <td>Prepaid Card</td>\n",
              "      <td>4/8/2020 0:00</td>\n",
              "      <td>Prepaid Card</td>\n",
              "      <td>Express</td>\n",
              "      <td>Female</td>\n",
              "      <td>5.0</td>\n",
              "      <td>£ 1148.1217405</td>\n",
              "    </tr>\n",
              "    <tr>\n",
              "      <th>96</th>\n",
              "      <td>96</td>\n",
              "      <td>10567</td>\n",
              "      <td>coates</td>\n",
              "      <td>5 star</td>\n",
              "      <td>9433</td>\n",
              "      <td>Mobile</td>\n",
              "      <td>16/08/20</td>\n",
              "      <td>Mobile</td>\n",
              "      <td>Normal</td>\n",
              "      <td>Unspecified</td>\n",
              "      <td>13.0</td>\n",
              "      <td>₹ 127655.91325387999</td>\n",
              "    </tr>\n",
              "    <tr>\n",
              "      <th>97</th>\n",
              "      <td>97</td>\n",
              "      <td>10568</td>\n",
              "      <td>pantas</td>\n",
              "      <td>3 star</td>\n",
              "      <td>7354</td>\n",
              "      <td>Credit Card</td>\n",
              "      <td>25/08/20</td>\n",
              "      <td>Credit Card</td>\n",
              "      <td>Normal</td>\n",
              "      <td>Female</td>\n",
              "      <td>10.0</td>\n",
              "      <td>₹ 577078.47118378</td>\n",
              "    </tr>\n",
              "    <tr>\n",
              "      <th>98</th>\n",
              "      <td>98</td>\n",
              "      <td>10569</td>\n",
              "      <td>Pants</td>\n",
              "      <td>5 star</td>\n",
              "      <td>5200</td>\n",
              "      <td>Directdeposit</td>\n",
              "      <td>26/08/20</td>\n",
              "      <td>Directdeposit</td>\n",
              "      <td>Economy</td>\n",
              "      <td>Male</td>\n",
              "      <td>-2131.0</td>\n",
              "      <td>£ 4118.0053827500005</td>\n",
              "    </tr>\n",
              "    <tr>\n",
              "      <th>99</th>\n",
              "      <td>99</td>\n",
              "      <td>10570</td>\n",
              "      <td>Jeans</td>\n",
              "      <td>1 start</td>\n",
              "      <td>7807</td>\n",
              "      <td>Credit Card</td>\n",
              "      <td>29/08/20</td>\n",
              "      <td>Credit Card</td>\n",
              "      <td>Mail</td>\n",
              "      <td>Unspecified</td>\n",
              "      <td>6.0</td>\n",
              "      <td>£ 6232.343745500001</td>\n",
              "    </tr>\n",
              "  </tbody>\n",
              "</table>\n",
              "<p>100 rows × 12 columns</p>\n",
              "</div>"
            ],
            "text/plain": [
              "    index  CustomerID  ... ShippingTime                 Price\n",
              "0       0       10471  ...         17.0   ₹ 675036.2138626401\n",
              "1       1       10472  ...         12.0            € 2,315.53\n",
              "2       2       10473  ...         10.0     ₹ 611426.29122378\n",
              "3       3       10474  ...       2133.0  ₹ 210869.48083470002\n",
              "4       4       10475  ...       2133.0      ₹ 679422.2811434\n",
              "..    ...         ...  ...          ...                   ...\n",
              "95     95       10566  ...          5.0        £ 1148.1217405\n",
              "96     96       10567  ...         13.0  ₹ 127655.91325387999\n",
              "97     97       10568  ...         10.0     ₹ 577078.47118378\n",
              "98     98       10569  ...      -2131.0  £ 4118.0053827500005\n",
              "99     99       10570  ...          6.0   £ 6232.343745500001\n",
              "\n",
              "[100 rows x 12 columns]"
            ]
          },
          "metadata": {},
          "execution_count": 22
        }
      ]
    },
    {
      "cell_type": "code",
      "metadata": {
        "id": "rfjCoTFTYuHz"
      },
      "source": [
        "data.reset_index(inplace=True)"
      ],
      "execution_count": null,
      "outputs": []
    },
    {
      "cell_type": "code",
      "metadata": {
        "id": "4IY7t2wRtMCv",
        "colab": {
          "base_uri": "https://localhost:8080/",
          "height": 203
        },
        "outputId": "1f8e79d6-fc4c-4703-e09c-df58326cd845"
      },
      "source": [
        "data.head()"
      ],
      "execution_count": null,
      "outputs": [
        {
          "output_type": "execute_result",
          "data": {
            "text/html": [
              "<div>\n",
              "<style scoped>\n",
              "    .dataframe tbody tr th:only-of-type {\n",
              "        vertical-align: middle;\n",
              "    }\n",
              "\n",
              "    .dataframe tbody tr th {\n",
              "        vertical-align: top;\n",
              "    }\n",
              "\n",
              "    .dataframe thead th {\n",
              "        text-align: right;\n",
              "    }\n",
              "</style>\n",
              "<table border=\"1\" class=\"dataframe\">\n",
              "  <thead>\n",
              "    <tr style=\"text-align: right;\">\n",
              "      <th></th>\n",
              "      <th>index</th>\n",
              "      <th>CustomerID</th>\n",
              "      <th>ProductType</th>\n",
              "      <th>Rating</th>\n",
              "      <th>Total_Ratings</th>\n",
              "      <th>PaymentMode</th>\n",
              "      <th>Date</th>\n",
              "      <th>PaymentMode</th>\n",
              "      <th>ShippingMode</th>\n",
              "      <th>Gender</th>\n",
              "      <th>ShippingTime</th>\n",
              "      <th>Price</th>\n",
              "    </tr>\n",
              "  </thead>\n",
              "  <tbody>\n",
              "    <tr>\n",
              "      <th>0</th>\n",
              "      <td>0</td>\n",
              "      <td>10471</td>\n",
              "      <td>coates</td>\n",
              "      <td>1 start</td>\n",
              "      <td>8736</td>\n",
              "      <td>Creditcard</td>\n",
              "      <td>16/08/20</td>\n",
              "      <td>Creditcard</td>\n",
              "      <td>Economy</td>\n",
              "      <td>Female</td>\n",
              "      <td>17.0</td>\n",
              "      <td>₹ 675036.2138626401</td>\n",
              "    </tr>\n",
              "    <tr>\n",
              "      <th>1</th>\n",
              "      <td>1</td>\n",
              "      <td>10472</td>\n",
              "      <td>dresses</td>\n",
              "      <td>2 star</td>\n",
              "      <td>8547</td>\n",
              "      <td>Ewallet</td>\n",
              "      <td>2/8/2020 0:00</td>\n",
              "      <td>Ewallet</td>\n",
              "      <td>Mail</td>\n",
              "      <td>Unspecified</td>\n",
              "      <td>12.0</td>\n",
              "      <td>€ 2,315.53</td>\n",
              "    </tr>\n",
              "    <tr>\n",
              "      <th>2</th>\n",
              "      <td>2</td>\n",
              "      <td>10473</td>\n",
              "      <td>NaN</td>\n",
              "      <td>2 star</td>\n",
              "      <td>9833</td>\n",
              "      <td>Prepaid Card</td>\n",
              "      <td>8/8/2020 0:00</td>\n",
              "      <td>Prepaid Card</td>\n",
              "      <td>Mail</td>\n",
              "      <td>None</td>\n",
              "      <td>10.0</td>\n",
              "      <td>₹ 611426.29122378</td>\n",
              "    </tr>\n",
              "    <tr>\n",
              "      <th>3</th>\n",
              "      <td>3</td>\n",
              "      <td>10474</td>\n",
              "      <td>dresses</td>\n",
              "      <td>2star</td>\n",
              "      <td>7591</td>\n",
              "      <td>Directdeposit</td>\n",
              "      <td>None</td>\n",
              "      <td>Directdeposit</td>\n",
              "      <td>Normal</td>\n",
              "      <td>Female</td>\n",
              "      <td>2133.0</td>\n",
              "      <td>₹ 210869.48083470002</td>\n",
              "    </tr>\n",
              "    <tr>\n",
              "      <th>4</th>\n",
              "      <td>4</td>\n",
              "      <td>10475</td>\n",
              "      <td>pantas</td>\n",
              "      <td>1 start</td>\n",
              "      <td>5131</td>\n",
              "      <td>NaN</td>\n",
              "      <td>24/08/20</td>\n",
              "      <td>None</td>\n",
              "      <td>Economy</td>\n",
              "      <td>Male</td>\n",
              "      <td>2133.0</td>\n",
              "      <td>₹ 679422.2811434</td>\n",
              "    </tr>\n",
              "  </tbody>\n",
              "</table>\n",
              "</div>"
            ],
            "text/plain": [
              "   index  CustomerID  ... ShippingTime                 Price\n",
              "0      0       10471  ...         17.0   ₹ 675036.2138626401\n",
              "1      1       10472  ...         12.0            € 2,315.53\n",
              "2      2       10473  ...         10.0     ₹ 611426.29122378\n",
              "3      3       10474  ...       2133.0  ₹ 210869.48083470002\n",
              "4      4       10475  ...       2133.0      ₹ 679422.2811434\n",
              "\n",
              "[5 rows x 12 columns]"
            ]
          },
          "metadata": {},
          "execution_count": 24
        }
      ]
    },
    {
      "cell_type": "code",
      "metadata": {
        "colab": {
          "base_uri": "https://localhost:8080/"
        },
        "id": "bgzBQ14g7bqU",
        "outputId": "c4de8360-7b4c-40ea-dbb0-e1ab91a92eaa"
      },
      "source": [
        "series = pd.Series(np.arange(6),index=list(\"abcdef\"),name = \"Series_1\")\n",
        "series"
      ],
      "execution_count": null,
      "outputs": [
        {
          "output_type": "execute_result",
          "data": {
            "text/plain": [
              "a    0\n",
              "b    1\n",
              "c    2\n",
              "d    3\n",
              "e    4\n",
              "f    5\n",
              "Name: Series_1, dtype: int64"
            ]
          },
          "metadata": {},
          "execution_count": 26
        }
      ]
    },
    {
      "cell_type": "code",
      "metadata": {
        "colab": {
          "base_uri": "https://localhost:8080/",
          "height": 234
        },
        "id": "YZ5AxLYt7npE",
        "outputId": "2a8d4830-fe5d-417b-cabe-b6f52342f436"
      },
      "source": [
        "series.reset_index()"
      ],
      "execution_count": null,
      "outputs": [
        {
          "output_type": "execute_result",
          "data": {
            "text/html": [
              "<div>\n",
              "<style scoped>\n",
              "    .dataframe tbody tr th:only-of-type {\n",
              "        vertical-align: middle;\n",
              "    }\n",
              "\n",
              "    .dataframe tbody tr th {\n",
              "        vertical-align: top;\n",
              "    }\n",
              "\n",
              "    .dataframe thead th {\n",
              "        text-align: right;\n",
              "    }\n",
              "</style>\n",
              "<table border=\"1\" class=\"dataframe\">\n",
              "  <thead>\n",
              "    <tr style=\"text-align: right;\">\n",
              "      <th></th>\n",
              "      <th>index</th>\n",
              "      <th>Series_1</th>\n",
              "    </tr>\n",
              "  </thead>\n",
              "  <tbody>\n",
              "    <tr>\n",
              "      <th>0</th>\n",
              "      <td>a</td>\n",
              "      <td>0</td>\n",
              "    </tr>\n",
              "    <tr>\n",
              "      <th>1</th>\n",
              "      <td>b</td>\n",
              "      <td>1</td>\n",
              "    </tr>\n",
              "    <tr>\n",
              "      <th>2</th>\n",
              "      <td>c</td>\n",
              "      <td>2</td>\n",
              "    </tr>\n",
              "    <tr>\n",
              "      <th>3</th>\n",
              "      <td>d</td>\n",
              "      <td>3</td>\n",
              "    </tr>\n",
              "    <tr>\n",
              "      <th>4</th>\n",
              "      <td>e</td>\n",
              "      <td>4</td>\n",
              "    </tr>\n",
              "    <tr>\n",
              "      <th>5</th>\n",
              "      <td>f</td>\n",
              "      <td>5</td>\n",
              "    </tr>\n",
              "  </tbody>\n",
              "</table>\n",
              "</div>"
            ],
            "text/plain": [
              "  index  Series_1\n",
              "0     a         0\n",
              "1     b         1\n",
              "2     c         2\n",
              "3     d         3\n",
              "4     e         4\n",
              "5     f         5"
            ]
          },
          "metadata": {},
          "execution_count": 27
        }
      ]
    },
    {
      "cell_type": "code",
      "metadata": {
        "colab": {
          "base_uri": "https://localhost:8080/"
        },
        "id": "l8TvSczc70bY",
        "outputId": "e4c17008-3101-4451-d4b7-f02b49e25a32"
      },
      "source": [
        "type(series.reset_index())"
      ],
      "execution_count": null,
      "outputs": [
        {
          "output_type": "execute_result",
          "data": {
            "text/plain": [
              "pandas.core.frame.DataFrame"
            ]
          },
          "metadata": {},
          "execution_count": 28
        }
      ]
    },
    {
      "cell_type": "code",
      "metadata": {
        "colab": {
          "base_uri": "https://localhost:8080/",
          "height": 203
        },
        "id": "hFFsJv9m735U",
        "outputId": "16b588ea-f3fa-495d-fa2d-136543253cb0"
      },
      "source": [
        "data.head()"
      ],
      "execution_count": null,
      "outputs": [
        {
          "output_type": "execute_result",
          "data": {
            "text/html": [
              "<div>\n",
              "<style scoped>\n",
              "    .dataframe tbody tr th:only-of-type {\n",
              "        vertical-align: middle;\n",
              "    }\n",
              "\n",
              "    .dataframe tbody tr th {\n",
              "        vertical-align: top;\n",
              "    }\n",
              "\n",
              "    .dataframe thead th {\n",
              "        text-align: right;\n",
              "    }\n",
              "</style>\n",
              "<table border=\"1\" class=\"dataframe\">\n",
              "  <thead>\n",
              "    <tr style=\"text-align: right;\">\n",
              "      <th></th>\n",
              "      <th>index</th>\n",
              "      <th>CustomerID</th>\n",
              "      <th>ProductType</th>\n",
              "      <th>Rating</th>\n",
              "      <th>Total_Ratings</th>\n",
              "      <th>PaymentMode</th>\n",
              "      <th>Date</th>\n",
              "      <th>PaymentMode</th>\n",
              "      <th>ShippingMode</th>\n",
              "      <th>Gender</th>\n",
              "      <th>ShippingTime</th>\n",
              "      <th>Price</th>\n",
              "    </tr>\n",
              "  </thead>\n",
              "  <tbody>\n",
              "    <tr>\n",
              "      <th>0</th>\n",
              "      <td>0</td>\n",
              "      <td>10471</td>\n",
              "      <td>coates</td>\n",
              "      <td>1 start</td>\n",
              "      <td>8736</td>\n",
              "      <td>Creditcard</td>\n",
              "      <td>16/08/20</td>\n",
              "      <td>Creditcard</td>\n",
              "      <td>Economy</td>\n",
              "      <td>Female</td>\n",
              "      <td>17.0</td>\n",
              "      <td>₹ 675036.2138626401</td>\n",
              "    </tr>\n",
              "    <tr>\n",
              "      <th>1</th>\n",
              "      <td>1</td>\n",
              "      <td>10472</td>\n",
              "      <td>dresses</td>\n",
              "      <td>2 star</td>\n",
              "      <td>8547</td>\n",
              "      <td>Ewallet</td>\n",
              "      <td>2/8/2020 0:00</td>\n",
              "      <td>Ewallet</td>\n",
              "      <td>Mail</td>\n",
              "      <td>Unspecified</td>\n",
              "      <td>12.0</td>\n",
              "      <td>€ 2,315.53</td>\n",
              "    </tr>\n",
              "    <tr>\n",
              "      <th>2</th>\n",
              "      <td>2</td>\n",
              "      <td>10473</td>\n",
              "      <td>NaN</td>\n",
              "      <td>2 star</td>\n",
              "      <td>9833</td>\n",
              "      <td>Prepaid Card</td>\n",
              "      <td>8/8/2020 0:00</td>\n",
              "      <td>Prepaid Card</td>\n",
              "      <td>Mail</td>\n",
              "      <td>None</td>\n",
              "      <td>10.0</td>\n",
              "      <td>₹ 611426.29122378</td>\n",
              "    </tr>\n",
              "    <tr>\n",
              "      <th>3</th>\n",
              "      <td>3</td>\n",
              "      <td>10474</td>\n",
              "      <td>dresses</td>\n",
              "      <td>2star</td>\n",
              "      <td>7591</td>\n",
              "      <td>Directdeposit</td>\n",
              "      <td>None</td>\n",
              "      <td>Directdeposit</td>\n",
              "      <td>Normal</td>\n",
              "      <td>Female</td>\n",
              "      <td>2133.0</td>\n",
              "      <td>₹ 210869.48083470002</td>\n",
              "    </tr>\n",
              "    <tr>\n",
              "      <th>4</th>\n",
              "      <td>4</td>\n",
              "      <td>10475</td>\n",
              "      <td>pantas</td>\n",
              "      <td>1 start</td>\n",
              "      <td>5131</td>\n",
              "      <td>NaN</td>\n",
              "      <td>24/08/20</td>\n",
              "      <td>None</td>\n",
              "      <td>Economy</td>\n",
              "      <td>Male</td>\n",
              "      <td>2133.0</td>\n",
              "      <td>₹ 679422.2811434</td>\n",
              "    </tr>\n",
              "  </tbody>\n",
              "</table>\n",
              "</div>"
            ],
            "text/plain": [
              "   index  CustomerID  ... ShippingTime                 Price\n",
              "0      0       10471  ...         17.0   ₹ 675036.2138626401\n",
              "1      1       10472  ...         12.0            € 2,315.53\n",
              "2      2       10473  ...         10.0     ₹ 611426.29122378\n",
              "3      3       10474  ...       2133.0  ₹ 210869.48083470002\n",
              "4      4       10475  ...       2133.0      ₹ 679422.2811434\n",
              "\n",
              "[5 rows x 12 columns]"
            ]
          },
          "metadata": {},
          "execution_count": 29
        }
      ]
    },
    {
      "cell_type": "code",
      "metadata": {
        "id": "zj0Et4L_YuH0"
      },
      "source": [
        "# Arrange the columns\n",
        "data=data[['Date','CustomerID','ProductType','Rating','Total_Ratings','Gender',\n",
        "                                'PaymentMode','ShippingMode','ShippingTime','Price']]"
      ],
      "execution_count": null,
      "outputs": []
    },
    {
      "cell_type": "code",
      "metadata": {
        "id": "M9rCiJQwYuH0",
        "colab": {
          "base_uri": "https://localhost:8080/",
          "height": 203
        },
        "outputId": "400a03d8-7c7c-49f0-a7df-4f100b068b22"
      },
      "source": [
        "data.head()"
      ],
      "execution_count": null,
      "outputs": [
        {
          "output_type": "execute_result",
          "data": {
            "text/html": [
              "<div>\n",
              "<style scoped>\n",
              "    .dataframe tbody tr th:only-of-type {\n",
              "        vertical-align: middle;\n",
              "    }\n",
              "\n",
              "    .dataframe tbody tr th {\n",
              "        vertical-align: top;\n",
              "    }\n",
              "\n",
              "    .dataframe thead th {\n",
              "        text-align: right;\n",
              "    }\n",
              "</style>\n",
              "<table border=\"1\" class=\"dataframe\">\n",
              "  <thead>\n",
              "    <tr style=\"text-align: right;\">\n",
              "      <th></th>\n",
              "      <th>Date</th>\n",
              "      <th>CustomerID</th>\n",
              "      <th>ProductType</th>\n",
              "      <th>Rating</th>\n",
              "      <th>Total_Ratings</th>\n",
              "      <th>Gender</th>\n",
              "      <th>PaymentMode</th>\n",
              "      <th>PaymentMode</th>\n",
              "      <th>ShippingMode</th>\n",
              "      <th>ShippingTime</th>\n",
              "      <th>Price</th>\n",
              "    </tr>\n",
              "  </thead>\n",
              "  <tbody>\n",
              "    <tr>\n",
              "      <th>0</th>\n",
              "      <td>16/08/20</td>\n",
              "      <td>10471</td>\n",
              "      <td>coates</td>\n",
              "      <td>1 start</td>\n",
              "      <td>8736</td>\n",
              "      <td>Female</td>\n",
              "      <td>Creditcard</td>\n",
              "      <td>Creditcard</td>\n",
              "      <td>Economy</td>\n",
              "      <td>17.0</td>\n",
              "      <td>₹ 675036.2138626401</td>\n",
              "    </tr>\n",
              "    <tr>\n",
              "      <th>1</th>\n",
              "      <td>2/8/2020 0:00</td>\n",
              "      <td>10472</td>\n",
              "      <td>dresses</td>\n",
              "      <td>2 star</td>\n",
              "      <td>8547</td>\n",
              "      <td>Unspecified</td>\n",
              "      <td>Ewallet</td>\n",
              "      <td>Ewallet</td>\n",
              "      <td>Mail</td>\n",
              "      <td>12.0</td>\n",
              "      <td>€ 2,315.53</td>\n",
              "    </tr>\n",
              "    <tr>\n",
              "      <th>2</th>\n",
              "      <td>8/8/2020 0:00</td>\n",
              "      <td>10473</td>\n",
              "      <td>NaN</td>\n",
              "      <td>2 star</td>\n",
              "      <td>9833</td>\n",
              "      <td>None</td>\n",
              "      <td>Prepaid Card</td>\n",
              "      <td>Prepaid Card</td>\n",
              "      <td>Mail</td>\n",
              "      <td>10.0</td>\n",
              "      <td>₹ 611426.29122378</td>\n",
              "    </tr>\n",
              "    <tr>\n",
              "      <th>3</th>\n",
              "      <td>None</td>\n",
              "      <td>10474</td>\n",
              "      <td>dresses</td>\n",
              "      <td>2star</td>\n",
              "      <td>7591</td>\n",
              "      <td>Female</td>\n",
              "      <td>Directdeposit</td>\n",
              "      <td>Directdeposit</td>\n",
              "      <td>Normal</td>\n",
              "      <td>2133.0</td>\n",
              "      <td>₹ 210869.48083470002</td>\n",
              "    </tr>\n",
              "    <tr>\n",
              "      <th>4</th>\n",
              "      <td>24/08/20</td>\n",
              "      <td>10475</td>\n",
              "      <td>pantas</td>\n",
              "      <td>1 start</td>\n",
              "      <td>5131</td>\n",
              "      <td>Male</td>\n",
              "      <td>NaN</td>\n",
              "      <td>None</td>\n",
              "      <td>Economy</td>\n",
              "      <td>2133.0</td>\n",
              "      <td>₹ 679422.2811434</td>\n",
              "    </tr>\n",
              "  </tbody>\n",
              "</table>\n",
              "</div>"
            ],
            "text/plain": [
              "            Date  CustomerID  ... ShippingTime                 Price\n",
              "0       16/08/20       10471  ...         17.0   ₹ 675036.2138626401\n",
              "1  2/8/2020 0:00       10472  ...         12.0            € 2,315.53\n",
              "2  8/8/2020 0:00       10473  ...         10.0     ₹ 611426.29122378\n",
              "3           None       10474  ...       2133.0  ₹ 210869.48083470002\n",
              "4       24/08/20       10475  ...       2133.0      ₹ 679422.2811434\n",
              "\n",
              "[5 rows x 11 columns]"
            ]
          },
          "metadata": {},
          "execution_count": 31
        }
      ]
    },
    {
      "cell_type": "markdown",
      "metadata": {
        "id": "S5SkS0MCYuH0"
      },
      "source": [
        "#### Data dictionary for the data"
      ]
    },
    {
      "cell_type": "markdown",
      "metadata": {
        "id": "ZgbUbGMMYuH1"
      },
      "source": [
        "![image.png](attachment:image.png)"
      ]
    },
    {
      "cell_type": "code",
      "metadata": {
        "id": "XP5R4P-RYuH2"
      },
      "source": [
        "# Saving the data\n",
        "data.to_csv('Bello_Customers.csv',index=False)"
      ],
      "execution_count": null,
      "outputs": []
    },
    {
      "cell_type": "markdown",
      "metadata": {
        "id": "vG7mabawYuH2"
      },
      "source": [
        "### Duplicate Entries"
      ]
    },
    {
      "cell_type": "code",
      "metadata": {
        "id": "6BbtGI3DYuH2"
      },
      "source": [
        "uncleaned=pd.read_csv('Bello_Customers.csv')"
      ],
      "execution_count": null,
      "outputs": []
    },
    {
      "cell_type": "code",
      "metadata": {
        "id": "EBe-JgvMYuH2"
      },
      "source": [
        "data=uncleaned.copy()"
      ],
      "execution_count": null,
      "outputs": []
    },
    {
      "cell_type": "code",
      "metadata": {
        "id": "wfYsjgl2YuH3",
        "colab": {
          "base_uri": "https://localhost:8080/"
        },
        "outputId": "174138d4-89a0-4528-afbc-780a3cf304b5"
      },
      "source": [
        "# Returns boolean series denoting duplicate rows\n",
        "data.duplicated()"
      ],
      "execution_count": null,
      "outputs": [
        {
          "output_type": "execute_result",
          "data": {
            "text/plain": [
              "0     False\n",
              "1     False\n",
              "2     False\n",
              "3     False\n",
              "4     False\n",
              "      ...  \n",
              "95    False\n",
              "96    False\n",
              "97    False\n",
              "98    False\n",
              "99    False\n",
              "Length: 100, dtype: bool"
            ]
          },
          "metadata": {},
          "execution_count": 35
        }
      ]
    },
    {
      "cell_type": "code",
      "metadata": {
        "id": "eNA1ML4k6L4n",
        "colab": {
          "base_uri": "https://localhost:8080/"
        },
        "outputId": "3625ea05-2e0b-4c0d-fad9-5d76b3cb8fc7"
      },
      "source": [
        "data.duplicated().any()"
      ],
      "execution_count": null,
      "outputs": [
        {
          "output_type": "execute_result",
          "data": {
            "text/plain": [
              "True"
            ]
          },
          "metadata": {},
          "execution_count": 36
        }
      ]
    },
    {
      "cell_type": "code",
      "metadata": {
        "id": "YI9eA_zRYuH3",
        "colab": {
          "base_uri": "https://localhost:8080/",
          "height": 110
        },
        "outputId": "b7fb835d-fc96-4b33-bde7-1a8249831b0b"
      },
      "source": [
        "# Let's see which rows are duplicates\n",
        "data[data.duplicated()]"
      ],
      "execution_count": null,
      "outputs": [
        {
          "output_type": "execute_result",
          "data": {
            "text/html": [
              "<div>\n",
              "<style scoped>\n",
              "    .dataframe tbody tr th:only-of-type {\n",
              "        vertical-align: middle;\n",
              "    }\n",
              "\n",
              "    .dataframe tbody tr th {\n",
              "        vertical-align: top;\n",
              "    }\n",
              "\n",
              "    .dataframe thead th {\n",
              "        text-align: right;\n",
              "    }\n",
              "</style>\n",
              "<table border=\"1\" class=\"dataframe\">\n",
              "  <thead>\n",
              "    <tr style=\"text-align: right;\">\n",
              "      <th></th>\n",
              "      <th>Date</th>\n",
              "      <th>CustomerID</th>\n",
              "      <th>ProductType</th>\n",
              "      <th>Rating</th>\n",
              "      <th>Total_Ratings</th>\n",
              "      <th>Gender</th>\n",
              "      <th>PaymentMode</th>\n",
              "      <th>PaymentMode.1</th>\n",
              "      <th>ShippingMode</th>\n",
              "      <th>ShippingTime</th>\n",
              "      <th>Price</th>\n",
              "    </tr>\n",
              "  </thead>\n",
              "  <tbody>\n",
              "    <tr>\n",
              "      <th>88</th>\n",
              "      <td>31/08/20</td>\n",
              "      <td>10558</td>\n",
              "      <td>coates</td>\n",
              "      <td>5 star</td>\n",
              "      <td>7007</td>\n",
              "      <td>Unspecified</td>\n",
              "      <td>Credit Card</td>\n",
              "      <td>Credit Card</td>\n",
              "      <td>Normal</td>\n",
              "      <td>11.0</td>\n",
              "      <td>₹ 234895.78095268</td>\n",
              "    </tr>\n",
              "    <tr>\n",
              "      <th>89</th>\n",
              "      <td>31/08/20</td>\n",
              "      <td>10558</td>\n",
              "      <td>coates</td>\n",
              "      <td>5 star</td>\n",
              "      <td>7007</td>\n",
              "      <td>Unspecified</td>\n",
              "      <td>Credit Card</td>\n",
              "      <td>Credit Card</td>\n",
              "      <td>Normal</td>\n",
              "      <td>11.0</td>\n",
              "      <td>₹ 234895.78095268</td>\n",
              "    </tr>\n",
              "  </tbody>\n",
              "</table>\n",
              "</div>"
            ],
            "text/plain": [
              "        Date  CustomerID  ... ShippingTime              Price\n",
              "88  31/08/20       10558  ...         11.0  ₹ 234895.78095268\n",
              "89  31/08/20       10558  ...         11.0  ₹ 234895.78095268\n",
              "\n",
              "[2 rows x 11 columns]"
            ]
          },
          "metadata": {},
          "execution_count": 37
        }
      ]
    },
    {
      "cell_type": "code",
      "metadata": {
        "colab": {
          "base_uri": "https://localhost:8080/",
          "height": 142
        },
        "id": "CWWIul319Jxj",
        "outputId": "233f6ef5-9f60-49f3-9b6f-6fe202269871"
      },
      "source": [
        "data[data[\"CustomerID\"] == 10558]"
      ],
      "execution_count": null,
      "outputs": [
        {
          "output_type": "execute_result",
          "data": {
            "text/html": [
              "<div>\n",
              "<style scoped>\n",
              "    .dataframe tbody tr th:only-of-type {\n",
              "        vertical-align: middle;\n",
              "    }\n",
              "\n",
              "    .dataframe tbody tr th {\n",
              "        vertical-align: top;\n",
              "    }\n",
              "\n",
              "    .dataframe thead th {\n",
              "        text-align: right;\n",
              "    }\n",
              "</style>\n",
              "<table border=\"1\" class=\"dataframe\">\n",
              "  <thead>\n",
              "    <tr style=\"text-align: right;\">\n",
              "      <th></th>\n",
              "      <th>Date</th>\n",
              "      <th>CustomerID</th>\n",
              "      <th>ProductType</th>\n",
              "      <th>Rating</th>\n",
              "      <th>Total_Ratings</th>\n",
              "      <th>Gender</th>\n",
              "      <th>PaymentMode</th>\n",
              "      <th>PaymentMode.1</th>\n",
              "      <th>ShippingMode</th>\n",
              "      <th>ShippingTime</th>\n",
              "      <th>Price</th>\n",
              "    </tr>\n",
              "  </thead>\n",
              "  <tbody>\n",
              "    <tr>\n",
              "      <th>87</th>\n",
              "      <td>31/08/20</td>\n",
              "      <td>10558</td>\n",
              "      <td>coates</td>\n",
              "      <td>5 star</td>\n",
              "      <td>7007</td>\n",
              "      <td>Unspecified</td>\n",
              "      <td>Credit Card</td>\n",
              "      <td>Credit Card</td>\n",
              "      <td>Normal</td>\n",
              "      <td>11.0</td>\n",
              "      <td>₹ 234895.78095268</td>\n",
              "    </tr>\n",
              "    <tr>\n",
              "      <th>88</th>\n",
              "      <td>31/08/20</td>\n",
              "      <td>10558</td>\n",
              "      <td>coates</td>\n",
              "      <td>5 star</td>\n",
              "      <td>7007</td>\n",
              "      <td>Unspecified</td>\n",
              "      <td>Credit Card</td>\n",
              "      <td>Credit Card</td>\n",
              "      <td>Normal</td>\n",
              "      <td>11.0</td>\n",
              "      <td>₹ 234895.78095268</td>\n",
              "    </tr>\n",
              "    <tr>\n",
              "      <th>89</th>\n",
              "      <td>31/08/20</td>\n",
              "      <td>10558</td>\n",
              "      <td>coates</td>\n",
              "      <td>5 star</td>\n",
              "      <td>7007</td>\n",
              "      <td>Unspecified</td>\n",
              "      <td>Credit Card</td>\n",
              "      <td>Credit Card</td>\n",
              "      <td>Normal</td>\n",
              "      <td>11.0</td>\n",
              "      <td>₹ 234895.78095268</td>\n",
              "    </tr>\n",
              "  </tbody>\n",
              "</table>\n",
              "</div>"
            ],
            "text/plain": [
              "        Date  CustomerID  ... ShippingTime              Price\n",
              "87  31/08/20       10558  ...         11.0  ₹ 234895.78095268\n",
              "88  31/08/20       10558  ...         11.0  ₹ 234895.78095268\n",
              "89  31/08/20       10558  ...         11.0  ₹ 234895.78095268\n",
              "\n",
              "[3 rows x 11 columns]"
            ]
          },
          "metadata": {},
          "execution_count": 38
        }
      ]
    },
    {
      "cell_type": "code",
      "metadata": {
        "id": "yQeidkHlYuH4",
        "colab": {
          "base_uri": "https://localhost:8080/"
        },
        "outputId": "76a7885e-9275-49a4-d577-cc64caa2bf93"
      },
      "source": [
        "# original entry\n",
        "data.iloc[87,:]"
      ],
      "execution_count": null,
      "outputs": [
        {
          "output_type": "execute_result",
          "data": {
            "text/plain": [
              "Date                      31/08/20\n",
              "CustomerID                   10558\n",
              "ProductType                 coates\n",
              "Rating                      5 star\n",
              "Total_Ratings                 7007\n",
              "Gender                 Unspecified\n",
              "PaymentMode            Credit Card\n",
              "PaymentMode.1          Credit Card\n",
              "ShippingMode                Normal\n",
              "ShippingTime                    11\n",
              "Price            ₹ 234895.78095268\n",
              "Name: 87, dtype: object"
            ]
          },
          "metadata": {},
          "execution_count": 39
        }
      ]
    },
    {
      "cell_type": "code",
      "metadata": {
        "id": "cn95iRERkvox",
        "colab": {
          "base_uri": "https://localhost:8080/"
        },
        "outputId": "b3c0598e-9b7f-4ec4-dd8e-9158e102b584"
      },
      "source": [
        "data.info()"
      ],
      "execution_count": null,
      "outputs": [
        {
          "output_type": "stream",
          "name": "stdout",
          "text": [
            "<class 'pandas.core.frame.DataFrame'>\n",
            "RangeIndex: 100 entries, 0 to 99\n",
            "Data columns (total 11 columns):\n",
            " #   Column         Non-Null Count  Dtype  \n",
            "---  ------         --------------  -----  \n",
            " 0   Date           99 non-null     object \n",
            " 1   CustomerID     100 non-null    int64  \n",
            " 2   ProductType    96 non-null     object \n",
            " 3   Rating         94 non-null     object \n",
            " 4   Total_Ratings  100 non-null    int64  \n",
            " 5   Gender         95 non-null     object \n",
            " 6   PaymentMode    94 non-null     object \n",
            " 7   PaymentMode.1  94 non-null     object \n",
            " 8   ShippingMode   97 non-null     object \n",
            " 9   ShippingTime   99 non-null     float64\n",
            " 10  Price          99 non-null     object \n",
            "dtypes: float64(1), int64(2), object(8)\n",
            "memory usage: 8.7+ KB\n"
          ]
        }
      ]
    },
    {
      "cell_type": "code",
      "metadata": {
        "colab": {
          "base_uri": "https://localhost:8080/",
          "height": 417
        },
        "id": "pkxnI03c9ump",
        "outputId": "248ca816-b134-4ea3-bd14-cf1628125dff"
      },
      "source": [
        "data[[\"CustomerID\",\"Gender\"]]"
      ],
      "execution_count": null,
      "outputs": [
        {
          "output_type": "execute_result",
          "data": {
            "text/html": [
              "<div>\n",
              "<style scoped>\n",
              "    .dataframe tbody tr th:only-of-type {\n",
              "        vertical-align: middle;\n",
              "    }\n",
              "\n",
              "    .dataframe tbody tr th {\n",
              "        vertical-align: top;\n",
              "    }\n",
              "\n",
              "    .dataframe thead th {\n",
              "        text-align: right;\n",
              "    }\n",
              "</style>\n",
              "<table border=\"1\" class=\"dataframe\">\n",
              "  <thead>\n",
              "    <tr style=\"text-align: right;\">\n",
              "      <th></th>\n",
              "      <th>CustomerID</th>\n",
              "      <th>Gender</th>\n",
              "    </tr>\n",
              "  </thead>\n",
              "  <tbody>\n",
              "    <tr>\n",
              "      <th>0</th>\n",
              "      <td>10471</td>\n",
              "      <td>Female</td>\n",
              "    </tr>\n",
              "    <tr>\n",
              "      <th>1</th>\n",
              "      <td>10472</td>\n",
              "      <td>Unspecified</td>\n",
              "    </tr>\n",
              "    <tr>\n",
              "      <th>2</th>\n",
              "      <td>10473</td>\n",
              "      <td>NaN</td>\n",
              "    </tr>\n",
              "    <tr>\n",
              "      <th>3</th>\n",
              "      <td>10474</td>\n",
              "      <td>Female</td>\n",
              "    </tr>\n",
              "    <tr>\n",
              "      <th>4</th>\n",
              "      <td>10475</td>\n",
              "      <td>Male</td>\n",
              "    </tr>\n",
              "    <tr>\n",
              "      <th>...</th>\n",
              "      <td>...</td>\n",
              "      <td>...</td>\n",
              "    </tr>\n",
              "    <tr>\n",
              "      <th>95</th>\n",
              "      <td>10566</td>\n",
              "      <td>Female</td>\n",
              "    </tr>\n",
              "    <tr>\n",
              "      <th>96</th>\n",
              "      <td>10567</td>\n",
              "      <td>Unspecified</td>\n",
              "    </tr>\n",
              "    <tr>\n",
              "      <th>97</th>\n",
              "      <td>10568</td>\n",
              "      <td>Female</td>\n",
              "    </tr>\n",
              "    <tr>\n",
              "      <th>98</th>\n",
              "      <td>10569</td>\n",
              "      <td>Male</td>\n",
              "    </tr>\n",
              "    <tr>\n",
              "      <th>99</th>\n",
              "      <td>10570</td>\n",
              "      <td>Unspecified</td>\n",
              "    </tr>\n",
              "  </tbody>\n",
              "</table>\n",
              "<p>100 rows × 2 columns</p>\n",
              "</div>"
            ],
            "text/plain": [
              "    CustomerID       Gender\n",
              "0        10471       Female\n",
              "1        10472  Unspecified\n",
              "2        10473          NaN\n",
              "3        10474       Female\n",
              "4        10475         Male\n",
              "..         ...          ...\n",
              "95       10566       Female\n",
              "96       10567  Unspecified\n",
              "97       10568       Female\n",
              "98       10569         Male\n",
              "99       10570  Unspecified\n",
              "\n",
              "[100 rows x 2 columns]"
            ]
          },
          "metadata": {},
          "execution_count": 43
        }
      ]
    },
    {
      "cell_type": "code",
      "metadata": {
        "colab": {
          "base_uri": "https://localhost:8080/",
          "height": 142
        },
        "id": "I5t3ZHoN96yy",
        "outputId": "90ac7ad7-7845-45cb-8b2c-388a269d5d03"
      },
      "source": [
        "data[data.CustomerID == 10558]"
      ],
      "execution_count": null,
      "outputs": [
        {
          "output_type": "execute_result",
          "data": {
            "text/html": [
              "<div>\n",
              "<style scoped>\n",
              "    .dataframe tbody tr th:only-of-type {\n",
              "        vertical-align: middle;\n",
              "    }\n",
              "\n",
              "    .dataframe tbody tr th {\n",
              "        vertical-align: top;\n",
              "    }\n",
              "\n",
              "    .dataframe thead th {\n",
              "        text-align: right;\n",
              "    }\n",
              "</style>\n",
              "<table border=\"1\" class=\"dataframe\">\n",
              "  <thead>\n",
              "    <tr style=\"text-align: right;\">\n",
              "      <th></th>\n",
              "      <th>Date</th>\n",
              "      <th>CustomerID</th>\n",
              "      <th>ProductType</th>\n",
              "      <th>Rating</th>\n",
              "      <th>Total_Ratings</th>\n",
              "      <th>Gender</th>\n",
              "      <th>PaymentMode</th>\n",
              "      <th>PaymentMode.1</th>\n",
              "      <th>ShippingMode</th>\n",
              "      <th>ShippingTime</th>\n",
              "      <th>Price</th>\n",
              "    </tr>\n",
              "  </thead>\n",
              "  <tbody>\n",
              "    <tr>\n",
              "      <th>87</th>\n",
              "      <td>31/08/20</td>\n",
              "      <td>10558</td>\n",
              "      <td>coates</td>\n",
              "      <td>5 star</td>\n",
              "      <td>7007</td>\n",
              "      <td>Unspecified</td>\n",
              "      <td>Credit Card</td>\n",
              "      <td>Credit Card</td>\n",
              "      <td>Normal</td>\n",
              "      <td>11.0</td>\n",
              "      <td>₹ 234895.78095268</td>\n",
              "    </tr>\n",
              "    <tr>\n",
              "      <th>88</th>\n",
              "      <td>31/08/20</td>\n",
              "      <td>10558</td>\n",
              "      <td>coates</td>\n",
              "      <td>5 star</td>\n",
              "      <td>7007</td>\n",
              "      <td>Unspecified</td>\n",
              "      <td>Credit Card</td>\n",
              "      <td>Credit Card</td>\n",
              "      <td>Normal</td>\n",
              "      <td>11.0</td>\n",
              "      <td>₹ 234895.78095268</td>\n",
              "    </tr>\n",
              "    <tr>\n",
              "      <th>89</th>\n",
              "      <td>31/08/20</td>\n",
              "      <td>10558</td>\n",
              "      <td>coates</td>\n",
              "      <td>5 star</td>\n",
              "      <td>7007</td>\n",
              "      <td>Unspecified</td>\n",
              "      <td>Credit Card</td>\n",
              "      <td>Credit Card</td>\n",
              "      <td>Normal</td>\n",
              "      <td>11.0</td>\n",
              "      <td>₹ 234895.78095268</td>\n",
              "    </tr>\n",
              "  </tbody>\n",
              "</table>\n",
              "</div>"
            ],
            "text/plain": [
              "        Date  CustomerID  ... ShippingTime              Price\n",
              "87  31/08/20       10558  ...         11.0  ₹ 234895.78095268\n",
              "88  31/08/20       10558  ...         11.0  ₹ 234895.78095268\n",
              "89  31/08/20       10558  ...         11.0  ₹ 234895.78095268\n",
              "\n",
              "[3 rows x 11 columns]"
            ]
          },
          "metadata": {},
          "execution_count": 46
        }
      ]
    },
    {
      "cell_type": "code",
      "metadata": {
        "id": "bsKP3H-MYuH5",
        "colab": {
          "base_uri": "https://localhost:8080/",
          "height": 417
        },
        "outputId": "4c08c14b-bc61-4450-9049-6d278411f2d1"
      },
      "source": [
        "# Dropping duplicate entries where inplace attribute ensures that the change is updated in the DataFrame \n",
        "data.drop_duplicates()"
      ],
      "execution_count": null,
      "outputs": [
        {
          "output_type": "execute_result",
          "data": {
            "text/html": [
              "<div>\n",
              "<style scoped>\n",
              "    .dataframe tbody tr th:only-of-type {\n",
              "        vertical-align: middle;\n",
              "    }\n",
              "\n",
              "    .dataframe tbody tr th {\n",
              "        vertical-align: top;\n",
              "    }\n",
              "\n",
              "    .dataframe thead th {\n",
              "        text-align: right;\n",
              "    }\n",
              "</style>\n",
              "<table border=\"1\" class=\"dataframe\">\n",
              "  <thead>\n",
              "    <tr style=\"text-align: right;\">\n",
              "      <th></th>\n",
              "      <th>Date</th>\n",
              "      <th>CustomerID</th>\n",
              "      <th>ProductType</th>\n",
              "      <th>Rating</th>\n",
              "      <th>Total_Ratings</th>\n",
              "      <th>Gender</th>\n",
              "      <th>PaymentMode</th>\n",
              "      <th>PaymentMode.1</th>\n",
              "      <th>ShippingMode</th>\n",
              "      <th>ShippingTime</th>\n",
              "      <th>Price</th>\n",
              "    </tr>\n",
              "  </thead>\n",
              "  <tbody>\n",
              "    <tr>\n",
              "      <th>0</th>\n",
              "      <td>16/08/20</td>\n",
              "      <td>10471</td>\n",
              "      <td>coates</td>\n",
              "      <td>1 start</td>\n",
              "      <td>8736</td>\n",
              "      <td>Female</td>\n",
              "      <td>Creditcard</td>\n",
              "      <td>Creditcard</td>\n",
              "      <td>Economy</td>\n",
              "      <td>17.0</td>\n",
              "      <td>₹ 675036.2138626401</td>\n",
              "    </tr>\n",
              "    <tr>\n",
              "      <th>1</th>\n",
              "      <td>2/8/2020 0:00</td>\n",
              "      <td>10472</td>\n",
              "      <td>dresses</td>\n",
              "      <td>2 star</td>\n",
              "      <td>8547</td>\n",
              "      <td>Unspecified</td>\n",
              "      <td>Ewallet</td>\n",
              "      <td>Ewallet</td>\n",
              "      <td>Mail</td>\n",
              "      <td>12.0</td>\n",
              "      <td>€ 2,315.53</td>\n",
              "    </tr>\n",
              "    <tr>\n",
              "      <th>2</th>\n",
              "      <td>8/8/2020 0:00</td>\n",
              "      <td>10473</td>\n",
              "      <td>NaN</td>\n",
              "      <td>2 star</td>\n",
              "      <td>9833</td>\n",
              "      <td>NaN</td>\n",
              "      <td>Prepaid Card</td>\n",
              "      <td>Prepaid Card</td>\n",
              "      <td>Mail</td>\n",
              "      <td>10.0</td>\n",
              "      <td>₹ 611426.29122378</td>\n",
              "    </tr>\n",
              "    <tr>\n",
              "      <th>3</th>\n",
              "      <td>NaN</td>\n",
              "      <td>10474</td>\n",
              "      <td>dresses</td>\n",
              "      <td>2star</td>\n",
              "      <td>7591</td>\n",
              "      <td>Female</td>\n",
              "      <td>Directdeposit</td>\n",
              "      <td>Directdeposit</td>\n",
              "      <td>Normal</td>\n",
              "      <td>2133.0</td>\n",
              "      <td>₹ 210869.48083470002</td>\n",
              "    </tr>\n",
              "    <tr>\n",
              "      <th>4</th>\n",
              "      <td>24/08/20</td>\n",
              "      <td>10475</td>\n",
              "      <td>pantas</td>\n",
              "      <td>1 start</td>\n",
              "      <td>5131</td>\n",
              "      <td>Male</td>\n",
              "      <td>NaN</td>\n",
              "      <td>NaN</td>\n",
              "      <td>Economy</td>\n",
              "      <td>2133.0</td>\n",
              "      <td>₹ 679422.2811434</td>\n",
              "    </tr>\n",
              "    <tr>\n",
              "      <th>...</th>\n",
              "      <td>...</td>\n",
              "      <td>...</td>\n",
              "      <td>...</td>\n",
              "      <td>...</td>\n",
              "      <td>...</td>\n",
              "      <td>...</td>\n",
              "      <td>...</td>\n",
              "      <td>...</td>\n",
              "      <td>...</td>\n",
              "      <td>...</td>\n",
              "      <td>...</td>\n",
              "    </tr>\n",
              "    <tr>\n",
              "      <th>95</th>\n",
              "      <td>4/8/2020 0:00</td>\n",
              "      <td>10566</td>\n",
              "      <td>Coats/Jackets</td>\n",
              "      <td>2star</td>\n",
              "      <td>6090</td>\n",
              "      <td>Female</td>\n",
              "      <td>Prepaid Card</td>\n",
              "      <td>Prepaid Card</td>\n",
              "      <td>Express</td>\n",
              "      <td>5.0</td>\n",
              "      <td>£ 1148.1217405</td>\n",
              "    </tr>\n",
              "    <tr>\n",
              "      <th>96</th>\n",
              "      <td>16/08/20</td>\n",
              "      <td>10567</td>\n",
              "      <td>coates</td>\n",
              "      <td>5 star</td>\n",
              "      <td>9433</td>\n",
              "      <td>Unspecified</td>\n",
              "      <td>Mobile</td>\n",
              "      <td>Mobile</td>\n",
              "      <td>Normal</td>\n",
              "      <td>13.0</td>\n",
              "      <td>₹ 127655.91325387999</td>\n",
              "    </tr>\n",
              "    <tr>\n",
              "      <th>97</th>\n",
              "      <td>25/08/20</td>\n",
              "      <td>10568</td>\n",
              "      <td>pantas</td>\n",
              "      <td>3 star</td>\n",
              "      <td>7354</td>\n",
              "      <td>Female</td>\n",
              "      <td>Credit Card</td>\n",
              "      <td>Credit Card</td>\n",
              "      <td>Normal</td>\n",
              "      <td>10.0</td>\n",
              "      <td>₹ 577078.47118378</td>\n",
              "    </tr>\n",
              "    <tr>\n",
              "      <th>98</th>\n",
              "      <td>26/08/20</td>\n",
              "      <td>10569</td>\n",
              "      <td>Pants</td>\n",
              "      <td>5 star</td>\n",
              "      <td>5200</td>\n",
              "      <td>Male</td>\n",
              "      <td>Directdeposit</td>\n",
              "      <td>Directdeposit</td>\n",
              "      <td>Economy</td>\n",
              "      <td>-2131.0</td>\n",
              "      <td>£ 4118.0053827500005</td>\n",
              "    </tr>\n",
              "    <tr>\n",
              "      <th>99</th>\n",
              "      <td>29/08/20</td>\n",
              "      <td>10570</td>\n",
              "      <td>Jeans</td>\n",
              "      <td>1 start</td>\n",
              "      <td>7807</td>\n",
              "      <td>Unspecified</td>\n",
              "      <td>Credit Card</td>\n",
              "      <td>Credit Card</td>\n",
              "      <td>Mail</td>\n",
              "      <td>6.0</td>\n",
              "      <td>£ 6232.343745500001</td>\n",
              "    </tr>\n",
              "  </tbody>\n",
              "</table>\n",
              "<p>98 rows × 11 columns</p>\n",
              "</div>"
            ],
            "text/plain": [
              "             Date  CustomerID  ... ShippingTime                 Price\n",
              "0        16/08/20       10471  ...         17.0   ₹ 675036.2138626401\n",
              "1   2/8/2020 0:00       10472  ...         12.0            € 2,315.53\n",
              "2   8/8/2020 0:00       10473  ...         10.0     ₹ 611426.29122378\n",
              "3             NaN       10474  ...       2133.0  ₹ 210869.48083470002\n",
              "4        24/08/20       10475  ...       2133.0      ₹ 679422.2811434\n",
              "..            ...         ...  ...          ...                   ...\n",
              "95  4/8/2020 0:00       10566  ...          5.0        £ 1148.1217405\n",
              "96       16/08/20       10567  ...         13.0  ₹ 127655.91325387999\n",
              "97       25/08/20       10568  ...         10.0     ₹ 577078.47118378\n",
              "98       26/08/20       10569  ...      -2131.0  £ 4118.0053827500005\n",
              "99       29/08/20       10570  ...          6.0   £ 6232.343745500001\n",
              "\n",
              "[98 rows x 11 columns]"
            ]
          },
          "metadata": {},
          "execution_count": 47
        }
      ]
    },
    {
      "cell_type": "code",
      "metadata": {
        "colab": {
          "base_uri": "https://localhost:8080/",
          "height": 203
        },
        "id": "qf6xZtpm-kao",
        "outputId": "bf8535c9-2ab6-4f30-efad-2091130f4ee8"
      },
      "source": [
        "# Dropping duplicate entries where inplace attribute ensures that the change is updated in the DataFrame \n",
        "data.drop_duplicates().iloc[87:92,:]"
      ],
      "execution_count": null,
      "outputs": [
        {
          "output_type": "execute_result",
          "data": {
            "text/html": [
              "<div>\n",
              "<style scoped>\n",
              "    .dataframe tbody tr th:only-of-type {\n",
              "        vertical-align: middle;\n",
              "    }\n",
              "\n",
              "    .dataframe tbody tr th {\n",
              "        vertical-align: top;\n",
              "    }\n",
              "\n",
              "    .dataframe thead th {\n",
              "        text-align: right;\n",
              "    }\n",
              "</style>\n",
              "<table border=\"1\" class=\"dataframe\">\n",
              "  <thead>\n",
              "    <tr style=\"text-align: right;\">\n",
              "      <th></th>\n",
              "      <th>Date</th>\n",
              "      <th>CustomerID</th>\n",
              "      <th>ProductType</th>\n",
              "      <th>Rating</th>\n",
              "      <th>Total_Ratings</th>\n",
              "      <th>Gender</th>\n",
              "      <th>PaymentMode</th>\n",
              "      <th>PaymentMode.1</th>\n",
              "      <th>ShippingMode</th>\n",
              "      <th>ShippingTime</th>\n",
              "      <th>Price</th>\n",
              "    </tr>\n",
              "  </thead>\n",
              "  <tbody>\n",
              "    <tr>\n",
              "      <th>87</th>\n",
              "      <td>31/08/20</td>\n",
              "      <td>10558</td>\n",
              "      <td>coates</td>\n",
              "      <td>5 star</td>\n",
              "      <td>7007</td>\n",
              "      <td>Unspecified</td>\n",
              "      <td>Credit Card</td>\n",
              "      <td>Credit Card</td>\n",
              "      <td>Normal</td>\n",
              "      <td>11.0</td>\n",
              "      <td>₹ 234895.78095268</td>\n",
              "    </tr>\n",
              "    <tr>\n",
              "      <th>90</th>\n",
              "      <td>23/08/20</td>\n",
              "      <td>10561</td>\n",
              "      <td>dresses</td>\n",
              "      <td>1 start</td>\n",
              "      <td>7607</td>\n",
              "      <td>Male</td>\n",
              "      <td>Directdeposit</td>\n",
              "      <td>Directdeposit</td>\n",
              "      <td>Mail</td>\n",
              "      <td>18.0</td>\n",
              "      <td>$7,891.05</td>\n",
              "    </tr>\n",
              "    <tr>\n",
              "      <th>91</th>\n",
              "      <td>3/8/2020 0:00</td>\n",
              "      <td>10562</td>\n",
              "      <td>coates</td>\n",
              "      <td>2star</td>\n",
              "      <td>5858</td>\n",
              "      <td>Male</td>\n",
              "      <td>Creditcard</td>\n",
              "      <td>Creditcard</td>\n",
              "      <td>Express</td>\n",
              "      <td>8.0</td>\n",
              "      <td>£ 4114.86427075</td>\n",
              "    </tr>\n",
              "    <tr>\n",
              "      <th>92</th>\n",
              "      <td>8/8/2020 0:00</td>\n",
              "      <td>10563</td>\n",
              "      <td>Shirts/Tops</td>\n",
              "      <td>3 star</td>\n",
              "      <td>7066</td>\n",
              "      <td>Male</td>\n",
              "      <td>Credit Card</td>\n",
              "      <td>Credit Card</td>\n",
              "      <td>Mail</td>\n",
              "      <td>9.0</td>\n",
              "      <td>₹ 617567.83078528</td>\n",
              "    </tr>\n",
              "    <tr>\n",
              "      <th>93</th>\n",
              "      <td>18/08/20</td>\n",
              "      <td>10564</td>\n",
              "      <td>Dresses</td>\n",
              "      <td>2star</td>\n",
              "      <td>9142</td>\n",
              "      <td>Female</td>\n",
              "      <td>Creditcard</td>\n",
              "      <td>Creditcard</td>\n",
              "      <td>Normal</td>\n",
              "      <td>5.0</td>\n",
              "      <td>₹ 325580.74608394003</td>\n",
              "    </tr>\n",
              "  </tbody>\n",
              "</table>\n",
              "</div>"
            ],
            "text/plain": [
              "             Date  CustomerID  ... ShippingTime                 Price\n",
              "87       31/08/20       10558  ...         11.0     ₹ 234895.78095268\n",
              "90       23/08/20       10561  ...         18.0            $7,891.05 \n",
              "91  3/8/2020 0:00       10562  ...          8.0       £ 4114.86427075\n",
              "92  8/8/2020 0:00       10563  ...          9.0     ₹ 617567.83078528\n",
              "93       18/08/20       10564  ...          5.0  ₹ 325580.74608394003\n",
              "\n",
              "[5 rows x 11 columns]"
            ]
          },
          "metadata": {},
          "execution_count": 48
        }
      ]
    },
    {
      "cell_type": "code",
      "metadata": {
        "id": "Eq7Q3w_b_wk6"
      },
      "source": [
        "data.drop_duplicates(inplace=True)"
      ],
      "execution_count": null,
      "outputs": []
    },
    {
      "cell_type": "code",
      "metadata": {
        "id": "PP-64O6YYuH5",
        "colab": {
          "base_uri": "https://localhost:8080/"
        },
        "outputId": "0b2298b0-f769-4e72-bfa6-8c66b5208da1"
      },
      "source": [
        "# What would be the total ratings if duplicates entries were there?\n",
        "uncleaned.Total_Ratings.sum()"
      ],
      "execution_count": null,
      "outputs": [
        {
          "output_type": "execute_result",
          "data": {
            "text/plain": [
              "756115"
            ]
          },
          "metadata": {},
          "execution_count": 50
        }
      ]
    },
    {
      "cell_type": "code",
      "metadata": {
        "id": "DW1f0lyDYuH6",
        "colab": {
          "base_uri": "https://localhost:8080/"
        },
        "outputId": "e69221a1-b3d8-4d0c-a900-537f205cd8b9"
      },
      "source": [
        "# Price after removing duplicate entries\n",
        "data.Total_Ratings.sum()"
      ],
      "execution_count": null,
      "outputs": [
        {
          "output_type": "execute_result",
          "data": {
            "text/plain": [
              "742101"
            ]
          },
          "metadata": {},
          "execution_count": 51
        }
      ]
    },
    {
      "cell_type": "code",
      "metadata": {
        "id": "cd3aDR_wYuH7",
        "colab": {
          "base_uri": "https://localhost:8080/"
        },
        "outputId": "29ceab5d-3138-4a8e-fb1f-799bea094a3c"
      },
      "source": [
        "# Difference between the ratings\n",
        "uncleaned.Total_Ratings.sum()-data.Total_Ratings.sum()"
      ],
      "execution_count": null,
      "outputs": [
        {
          "output_type": "execute_result",
          "data": {
            "text/plain": [
              "14014"
            ]
          },
          "metadata": {},
          "execution_count": 52
        }
      ]
    },
    {
      "cell_type": "markdown",
      "metadata": {
        "id": "JuIsm844YuH7"
      },
      "source": [
        "Even the change after dropping duplicates seems very little, it generates inconsistent results and would have been harmful to the industry in the long run."
      ]
    },
    {
      "cell_type": "markdown",
      "metadata": {
        "id": "qPkFdORUYuH8"
      },
      "source": [
        "### Shipping Time"
      ]
    },
    {
      "cell_type": "markdown",
      "metadata": {
        "id": "GYzSLR-M7GeG"
      },
      "source": [
        "https://students.flinders.edu.au/content/dam/student/slc/box-and-whisker-plots.pdf"
      ]
    },
    {
      "cell_type": "code",
      "metadata": {
        "id": "J0XWT9c0YuH9",
        "colab": {
          "base_uri": "https://localhost:8080/",
          "height": 339
        },
        "outputId": "e899f07d-84e5-41c3-e413-48a8e203c502"
      },
      "source": [
        "# As discussed, we know that we can remove outliers using boxplot and IQR\n",
        "data.boxplot()"
      ],
      "execution_count": null,
      "outputs": [
        {
          "output_type": "stream",
          "name": "stderr",
          "text": [
            "/usr/local/lib/python3.7/dist-packages/numpy/core/_asarray.py:83: VisibleDeprecationWarning: Creating an ndarray from ragged nested sequences (which is a list-or-tuple of lists-or-tuples-or ndarrays with different lengths or shapes) is deprecated. If you meant to do this, you must specify 'dtype=object' when creating the ndarray\n",
            "  return array(a, dtype, copy=False, order=order)\n"
          ]
        },
        {
          "output_type": "execute_result",
          "data": {
            "text/plain": [
              "<matplotlib.axes._subplots.AxesSubplot at 0x7f28885c0f90>"
            ]
          },
          "metadata": {},
          "execution_count": 59
        },
        {
          "output_type": "display_data",
          "data": {
            "image/png": "[encoded data removed]",
            "text/plain": [
              "<Figure size 432x288 with 1 Axes>"
            ]
          },
          "metadata": {
            "needs_background": "light"
          }
        }
      ]
    },
    {
      "cell_type": "markdown",
      "metadata": {
        "id": "UnbpPrlhYuH9"
      },
      "source": [
        "As you can see there are 5 extreme entries in the data that should be removed. Shipping time cannot be negative as well."
      ]
    },
    {
      "cell_type": "code",
      "metadata": {
        "colab": {
          "base_uri": "https://localhost:8080/",
          "height": 352
        },
        "id": "GPHmnjR4Nc6G",
        "outputId": "62db896f-2e02-4af5-e664-e924ff48aa09"
      },
      "source": [
        "import seaborn as sns\n",
        "sns.boxplot(data[\"ShippingTime\"])"
      ],
      "execution_count": null,
      "outputs": [
        {
          "output_type": "stream",
          "name": "stderr",
          "text": [
            "/usr/local/lib/python3.7/dist-packages/seaborn/_decorators.py:43: FutureWarning: Pass the following variable as a keyword arg: x. From version 0.12, the only valid positional argument will be `data`, and passing other arguments without an explicit keyword will result in an error or misinterpretation.\n",
            "  FutureWarning\n"
          ]
        },
        {
          "output_type": "execute_result",
          "data": {
            "text/plain": [
              "<matplotlib.axes._subplots.AxesSubplot at 0x7f287765ac90>"
            ]
          },
          "metadata": {},
          "execution_count": 62
        },
        {
          "output_type": "display_data",
          "data": {
            "image/png": "[encoded data removed]",
            "text/plain": [
              "<Figure size 432x288 with 1 Axes>"
            ]
          },
          "metadata": {
            "needs_background": "light"
          }
        }
      ]
    },
    {
      "cell_type": "code",
      "metadata": {
        "id": "IohhsWuqYuH-"
      },
      "source": [
        "# Pandas allows you to get quantiles using quantile function\n",
        "Q1 = data['ShippingTime'].quantile(0.25)\n",
        "Q3 = data['ShippingTime'].quantile(0.75)\n",
        "IQR = Q3 - Q1"
      ],
      "execution_count": null,
      "outputs": []
    },
    {
      "cell_type": "code",
      "metadata": {
        "id": "wLQcS4ryYuH_",
        "colab": {
          "base_uri": "https://localhost:8080/"
        },
        "outputId": "ab673940-34cc-4a2c-bafd-6441bd2b4650"
      },
      "source": [
        "print('The IQR value is',IQR)"
      ],
      "execution_count": null,
      "outputs": [
        {
          "output_type": "stream",
          "name": "stdout",
          "text": [
            "The IQR value is 9.0\n"
          ]
        }
      ]
    },
    {
      "cell_type": "code",
      "metadata": {
        "id": "6UwI3shlN3t4"
      },
      "source": [
        "Q2 = data[\"ShippingTime\"].median()"
      ],
      "execution_count": null,
      "outputs": []
    },
    {
      "cell_type": "code",
      "metadata": {
        "colab": {
          "base_uri": "https://localhost:8080/"
        },
        "id": "2Ld4r2HfN8IA",
        "outputId": "66a155a3-ee5e-4968-dd68-fc8e784f84a7"
      },
      "source": [
        "Q2"
      ],
      "execution_count": null,
      "outputs": [
        {
          "output_type": "execute_result",
          "data": {
            "text/plain": [
              "13.0"
            ]
          },
          "metadata": {},
          "execution_count": 66
        }
      ]
    },
    {
      "cell_type": "code",
      "metadata": {
        "id": "GNP_sd9oHaWA",
        "colab": {
          "base_uri": "https://localhost:8080/",
          "height": 203
        },
        "outputId": "fc5851f9-ee32-4688-968f-8e006aefccdd"
      },
      "source": [
        "data.head()"
      ],
      "execution_count": null,
      "outputs": [
        {
          "output_type": "execute_result",
          "data": {
            "text/html": [
              "<div>\n",
              "<style scoped>\n",
              "    .dataframe tbody tr th:only-of-type {\n",
              "        vertical-align: middle;\n",
              "    }\n",
              "\n",
              "    .dataframe tbody tr th {\n",
              "        vertical-align: top;\n",
              "    }\n",
              "\n",
              "    .dataframe thead th {\n",
              "        text-align: right;\n",
              "    }\n",
              "</style>\n",
              "<table border=\"1\" class=\"dataframe\">\n",
              "  <thead>\n",
              "    <tr style=\"text-align: right;\">\n",
              "      <th></th>\n",
              "      <th>Date</th>\n",
              "      <th>CustomerID</th>\n",
              "      <th>ProductType</th>\n",
              "      <th>Rating</th>\n",
              "      <th>Total_Ratings</th>\n",
              "      <th>Gender</th>\n",
              "      <th>PaymentMode</th>\n",
              "      <th>PaymentMode.1</th>\n",
              "      <th>ShippingMode</th>\n",
              "      <th>ShippingTime</th>\n",
              "      <th>Price</th>\n",
              "    </tr>\n",
              "  </thead>\n",
              "  <tbody>\n",
              "    <tr>\n",
              "      <th>0</th>\n",
              "      <td>16/08/20</td>\n",
              "      <td>10471</td>\n",
              "      <td>coates</td>\n",
              "      <td>1 start</td>\n",
              "      <td>8736</td>\n",
              "      <td>Female</td>\n",
              "      <td>Creditcard</td>\n",
              "      <td>Creditcard</td>\n",
              "      <td>Economy</td>\n",
              "      <td>17.0</td>\n",
              "      <td>₹ 675036.2138626401</td>\n",
              "    </tr>\n",
              "    <tr>\n",
              "      <th>1</th>\n",
              "      <td>2/8/2020 0:00</td>\n",
              "      <td>10472</td>\n",
              "      <td>dresses</td>\n",
              "      <td>2 star</td>\n",
              "      <td>8547</td>\n",
              "      <td>Unspecified</td>\n",
              "      <td>Ewallet</td>\n",
              "      <td>Ewallet</td>\n",
              "      <td>Mail</td>\n",
              "      <td>12.0</td>\n",
              "      <td>€ 2,315.53</td>\n",
              "    </tr>\n",
              "    <tr>\n",
              "      <th>2</th>\n",
              "      <td>8/8/2020 0:00</td>\n",
              "      <td>10473</td>\n",
              "      <td>NaN</td>\n",
              "      <td>2 star</td>\n",
              "      <td>9833</td>\n",
              "      <td>NaN</td>\n",
              "      <td>Prepaid Card</td>\n",
              "      <td>Prepaid Card</td>\n",
              "      <td>Mail</td>\n",
              "      <td>10.0</td>\n",
              "      <td>₹ 611426.29122378</td>\n",
              "    </tr>\n",
              "    <tr>\n",
              "      <th>3</th>\n",
              "      <td>NaN</td>\n",
              "      <td>10474</td>\n",
              "      <td>dresses</td>\n",
              "      <td>2star</td>\n",
              "      <td>7591</td>\n",
              "      <td>Female</td>\n",
              "      <td>Directdeposit</td>\n",
              "      <td>Directdeposit</td>\n",
              "      <td>Normal</td>\n",
              "      <td>2133.0</td>\n",
              "      <td>₹ 210869.48083470002</td>\n",
              "    </tr>\n",
              "    <tr>\n",
              "      <th>4</th>\n",
              "      <td>24/08/20</td>\n",
              "      <td>10475</td>\n",
              "      <td>pantas</td>\n",
              "      <td>1 start</td>\n",
              "      <td>5131</td>\n",
              "      <td>Male</td>\n",
              "      <td>NaN</td>\n",
              "      <td>NaN</td>\n",
              "      <td>Economy</td>\n",
              "      <td>2133.0</td>\n",
              "      <td>₹ 679422.2811434</td>\n",
              "    </tr>\n",
              "  </tbody>\n",
              "</table>\n",
              "</div>"
            ],
            "text/plain": [
              "            Date  CustomerID  ... ShippingTime                 Price\n",
              "0       16/08/20       10471  ...         17.0   ₹ 675036.2138626401\n",
              "1  2/8/2020 0:00       10472  ...         12.0            € 2,315.53\n",
              "2  8/8/2020 0:00       10473  ...         10.0     ₹ 611426.29122378\n",
              "3            NaN       10474  ...       2133.0  ₹ 210869.48083470002\n",
              "4       24/08/20       10475  ...       2133.0      ₹ 679422.2811434\n",
              "\n",
              "[5 rows x 11 columns]"
            ]
          },
          "metadata": {},
          "execution_count": 67
        }
      ]
    },
    {
      "cell_type": "code",
      "metadata": {
        "colab": {
          "base_uri": "https://localhost:8080/"
        },
        "id": "IDwmFF6xOizX",
        "outputId": "f9b5c4ad-1e53-4f77-d568-464d6c67d1a3"
      },
      "source": [
        "data[\"ShippingMode\"] == \"Normal\""
      ],
      "execution_count": null,
      "outputs": [
        {
          "output_type": "execute_result",
          "data": {
            "text/plain": [
              "0     False\n",
              "1     False\n",
              "2     False\n",
              "3      True\n",
              "4     False\n",
              "      ...  \n",
              "95    False\n",
              "96     True\n",
              "97     True\n",
              "98    False\n",
              "99    False\n",
              "Name: ShippingMode, Length: 98, dtype: bool"
            ]
          },
          "metadata": {},
          "execution_count": 68
        }
      ]
    },
    {
      "cell_type": "code",
      "metadata": {
        "colab": {
          "base_uri": "https://localhost:8080/"
        },
        "id": "ujpEfWr_OkJG",
        "outputId": "d746beeb-7f2c-4be0-962b-f7c75ee7d8e5"
      },
      "source": [
        "data[\"CustomerID\"] == 10471"
      ],
      "execution_count": null,
      "outputs": [
        {
          "output_type": "execute_result",
          "data": {
            "text/plain": [
              "0      True\n",
              "1     False\n",
              "2     False\n",
              "3     False\n",
              "4     False\n",
              "      ...  \n",
              "95    False\n",
              "96    False\n",
              "97    False\n",
              "98    False\n",
              "99    False\n",
              "Name: CustomerID, Length: 98, dtype: bool"
            ]
          },
          "metadata": {},
          "execution_count": 69
        }
      ]
    },
    {
      "cell_type": "code",
      "metadata": {
        "id": "3bfF-vFFH9Ti",
        "colab": {
          "base_uri": "https://localhost:8080/"
        },
        "outputId": "dd96a9a6-c866-40f1-d6c3-a9437e4347c2"
      },
      "source": [
        "(data[\"CustomerID\"] == 10471) | (data[\"ShippingMode\"] == \"Normal\")"
      ],
      "execution_count": null,
      "outputs": [
        {
          "output_type": "execute_result",
          "data": {
            "text/plain": [
              "0      True\n",
              "1     False\n",
              "2     False\n",
              "3      True\n",
              "4     False\n",
              "      ...  \n",
              "95    False\n",
              "96     True\n",
              "97     True\n",
              "98    False\n",
              "99    False\n",
              "Length: 98, dtype: bool"
            ]
          },
          "metadata": {},
          "execution_count": 70
        }
      ]
    },
    {
      "cell_type": "code",
      "metadata": {
        "id": "jGidpcheH9NX",
        "colab": {
          "base_uri": "https://localhost:8080/",
          "height": 850
        },
        "outputId": "ea8b688e-7401-4d5d-fdb9-1241ab391def"
      },
      "source": [
        "data[(data[\"CustomerID\"] == 10471) | (data[\"ShippingMode\"] == \"Normal\")]"
      ],
      "execution_count": null,
      "outputs": [
        {
          "output_type": "execute_result",
          "data": {
            "text/html": [
              "<div>\n",
              "<style scoped>\n",
              "    .dataframe tbody tr th:only-of-type {\n",
              "        vertical-align: middle;\n",
              "    }\n",
              "\n",
              "    .dataframe tbody tr th {\n",
              "        vertical-align: top;\n",
              "    }\n",
              "\n",
              "    .dataframe thead th {\n",
              "        text-align: right;\n",
              "    }\n",
              "</style>\n",
              "<table border=\"1\" class=\"dataframe\">\n",
              "  <thead>\n",
              "    <tr style=\"text-align: right;\">\n",
              "      <th></th>\n",
              "      <th>Date</th>\n",
              "      <th>CustomerID</th>\n",
              "      <th>ProductType</th>\n",
              "      <th>Rating</th>\n",
              "      <th>Total_Ratings</th>\n",
              "      <th>Gender</th>\n",
              "      <th>PaymentMode</th>\n",
              "      <th>PaymentMode.1</th>\n",
              "      <th>ShippingMode</th>\n",
              "      <th>ShippingTime</th>\n",
              "      <th>Price</th>\n",
              "    </tr>\n",
              "  </thead>\n",
              "  <tbody>\n",
              "    <tr>\n",
              "      <th>0</th>\n",
              "      <td>16/08/20</td>\n",
              "      <td>10471</td>\n",
              "      <td>coates</td>\n",
              "      <td>1 start</td>\n",
              "      <td>8736</td>\n",
              "      <td>Female</td>\n",
              "      <td>Creditcard</td>\n",
              "      <td>Creditcard</td>\n",
              "      <td>Economy</td>\n",
              "      <td>17.0</td>\n",
              "      <td>₹ 675036.2138626401</td>\n",
              "    </tr>\n",
              "    <tr>\n",
              "      <th>3</th>\n",
              "      <td>NaN</td>\n",
              "      <td>10474</td>\n",
              "      <td>dresses</td>\n",
              "      <td>2star</td>\n",
              "      <td>7591</td>\n",
              "      <td>Female</td>\n",
              "      <td>Directdeposit</td>\n",
              "      <td>Directdeposit</td>\n",
              "      <td>Normal</td>\n",
              "      <td>2133.0</td>\n",
              "      <td>₹ 210869.48083470002</td>\n",
              "    </tr>\n",
              "    <tr>\n",
              "      <th>22</th>\n",
              "      <td>4/8/2020 0:00</td>\n",
              "      <td>10493</td>\n",
              "      <td>Pants</td>\n",
              "      <td>4 star</td>\n",
              "      <td>6943</td>\n",
              "      <td>Unspecified</td>\n",
              "      <td>Ewallet</td>\n",
              "      <td>Ewallet</td>\n",
              "      <td>Normal</td>\n",
              "      <td>17.0</td>\n",
              "      <td>₹ 634808.1963701401</td>\n",
              "    </tr>\n",
              "    <tr>\n",
              "      <th>30</th>\n",
              "      <td>31/08/20</td>\n",
              "      <td>10501</td>\n",
              "      <td>pantas</td>\n",
              "      <td>4 star</td>\n",
              "      <td>6569</td>\n",
              "      <td>NaN</td>\n",
              "      <td>Creditcard</td>\n",
              "      <td>Creditcard</td>\n",
              "      <td>Normal</td>\n",
              "      <td>9.0</td>\n",
              "      <td>₹ 581033.69733056</td>\n",
              "    </tr>\n",
              "    <tr>\n",
              "      <th>31</th>\n",
              "      <td>30/08/20</td>\n",
              "      <td>10502</td>\n",
              "      <td>NaN</td>\n",
              "      <td>3 star</td>\n",
              "      <td>8823</td>\n",
              "      <td>Female</td>\n",
              "      <td>Ewallet</td>\n",
              "      <td>Ewallet</td>\n",
              "      <td>Normal</td>\n",
              "      <td>16.0</td>\n",
              "      <td>€ 5,242.22</td>\n",
              "    </tr>\n",
              "    <tr>\n",
              "      <th>33</th>\n",
              "      <td>24/08/20</td>\n",
              "      <td>10504</td>\n",
              "      <td>NaN</td>\n",
              "      <td>1 start</td>\n",
              "      <td>5037</td>\n",
              "      <td>Female</td>\n",
              "      <td>Ewallet</td>\n",
              "      <td>Ewallet</td>\n",
              "      <td>Normal</td>\n",
              "      <td>14.0</td>\n",
              "      <td>€ 5,546.63</td>\n",
              "    </tr>\n",
              "    <tr>\n",
              "      <th>45</th>\n",
              "      <td>25/08/20</td>\n",
              "      <td>10516</td>\n",
              "      <td>Jeans</td>\n",
              "      <td>3 star</td>\n",
              "      <td>7033</td>\n",
              "      <td>Male</td>\n",
              "      <td>NaN</td>\n",
              "      <td>NaN</td>\n",
              "      <td>Normal</td>\n",
              "      <td>14.0</td>\n",
              "      <td>₹ 167727.12548098</td>\n",
              "    </tr>\n",
              "    <tr>\n",
              "      <th>46</th>\n",
              "      <td>29/08/20</td>\n",
              "      <td>10517</td>\n",
              "      <td>Hats</td>\n",
              "      <td>5 star</td>\n",
              "      <td>7532</td>\n",
              "      <td>Female</td>\n",
              "      <td>Credit Card</td>\n",
              "      <td>Credit Card</td>\n",
              "      <td>Normal</td>\n",
              "      <td>7.0</td>\n",
              "      <td>$3,124.78</td>\n",
              "    </tr>\n",
              "    <tr>\n",
              "      <th>47</th>\n",
              "      <td>21/08/20</td>\n",
              "      <td>10518</td>\n",
              "      <td>Jeans</td>\n",
              "      <td>2star</td>\n",
              "      <td>7285</td>\n",
              "      <td>Female</td>\n",
              "      <td>Creditcard</td>\n",
              "      <td>Creditcard</td>\n",
              "      <td>Normal</td>\n",
              "      <td>14.0</td>\n",
              "      <td>€ 2,773.90</td>\n",
              "    </tr>\n",
              "    <tr>\n",
              "      <th>48</th>\n",
              "      <td>20/08/20</td>\n",
              "      <td>10519</td>\n",
              "      <td>Jeans</td>\n",
              "      <td>2star</td>\n",
              "      <td>7678</td>\n",
              "      <td>Unspecified</td>\n",
              "      <td>Ewallet</td>\n",
              "      <td>Ewallet</td>\n",
              "      <td>Normal</td>\n",
              "      <td>18.0</td>\n",
              "      <td>₹ 159529.19686752</td>\n",
              "    </tr>\n",
              "    <tr>\n",
              "      <th>49</th>\n",
              "      <td>6/8/2020 0:00</td>\n",
              "      <td>10520</td>\n",
              "      <td>Hats</td>\n",
              "      <td>4 star</td>\n",
              "      <td>5620</td>\n",
              "      <td>Unspecified</td>\n",
              "      <td>Ewallet</td>\n",
              "      <td>Ewallet</td>\n",
              "      <td>Normal</td>\n",
              "      <td>7.0</td>\n",
              "      <td>$1,012.61</td>\n",
              "    </tr>\n",
              "    <tr>\n",
              "      <th>50</th>\n",
              "      <td>4/8/2020 0:00</td>\n",
              "      <td>10521</td>\n",
              "      <td>Shirts/Tops</td>\n",
              "      <td>4 star</td>\n",
              "      <td>7082</td>\n",
              "      <td>Unspecified</td>\n",
              "      <td>Directdeposit</td>\n",
              "      <td>Directdeposit</td>\n",
              "      <td>Normal</td>\n",
              "      <td>10.0</td>\n",
              "      <td>₹ 325505.3302182</td>\n",
              "    </tr>\n",
              "    <tr>\n",
              "      <th>53</th>\n",
              "      <td>26/08/20</td>\n",
              "      <td>10524</td>\n",
              "      <td>Dresses</td>\n",
              "      <td>3 star</td>\n",
              "      <td>6654</td>\n",
              "      <td>Male</td>\n",
              "      <td>Direct Deposit</td>\n",
              "      <td>Direct Deposit</td>\n",
              "      <td>Normal</td>\n",
              "      <td>5.0</td>\n",
              "      <td>₹ 442385.73497213994</td>\n",
              "    </tr>\n",
              "    <tr>\n",
              "      <th>55</th>\n",
              "      <td>5/8/2020 0:00</td>\n",
              "      <td>10526</td>\n",
              "      <td>Jeans</td>\n",
              "      <td>2 star</td>\n",
              "      <td>9482</td>\n",
              "      <td>Unspecified</td>\n",
              "      <td>Direct Deposit</td>\n",
              "      <td>Direct Deposit</td>\n",
              "      <td>Normal</td>\n",
              "      <td>10.0</td>\n",
              "      <td>₹ 321706.90933682</td>\n",
              "    </tr>\n",
              "    <tr>\n",
              "      <th>60</th>\n",
              "      <td>30/08/20</td>\n",
              "      <td>10531</td>\n",
              "      <td>Pants</td>\n",
              "      <td>1 start</td>\n",
              "      <td>8535</td>\n",
              "      <td>Unspecified</td>\n",
              "      <td>Direct Deposit</td>\n",
              "      <td>Direct Deposit</td>\n",
              "      <td>Normal</td>\n",
              "      <td>18.0</td>\n",
              "      <td>€ 5,597.06</td>\n",
              "    </tr>\n",
              "    <tr>\n",
              "      <th>62</th>\n",
              "      <td>4/8/2020 0:00</td>\n",
              "      <td>10533</td>\n",
              "      <td>coates</td>\n",
              "      <td>5 star</td>\n",
              "      <td>8349</td>\n",
              "      <td>Unspecified</td>\n",
              "      <td>Prepaid Card</td>\n",
              "      <td>Prepaid Card</td>\n",
              "      <td>Normal</td>\n",
              "      <td>10.0</td>\n",
              "      <td>£ 6329.0235485</td>\n",
              "    </tr>\n",
              "    <tr>\n",
              "      <th>63</th>\n",
              "      <td>1/8/2020 0:00</td>\n",
              "      <td>10534</td>\n",
              "      <td>Shirts/Tops</td>\n",
              "      <td>4 star</td>\n",
              "      <td>8046</td>\n",
              "      <td>Male</td>\n",
              "      <td>Creditcard</td>\n",
              "      <td>Creditcard</td>\n",
              "      <td>Normal</td>\n",
              "      <td>9.0</td>\n",
              "      <td>₹ 443946.32070874</td>\n",
              "    </tr>\n",
              "    <tr>\n",
              "      <th>66</th>\n",
              "      <td>18/08/20</td>\n",
              "      <td>10537</td>\n",
              "      <td>Coats/Jackets</td>\n",
              "      <td>2star</td>\n",
              "      <td>9832</td>\n",
              "      <td>Male</td>\n",
              "      <td>Cash</td>\n",
              "      <td>Cash</td>\n",
              "      <td>Normal</td>\n",
              "      <td>6.0</td>\n",
              "      <td>$5,836.06</td>\n",
              "    </tr>\n",
              "    <tr>\n",
              "      <th>68</th>\n",
              "      <td>2/8/2020 0:00</td>\n",
              "      <td>10539</td>\n",
              "      <td>pantas</td>\n",
              "      <td>4 star</td>\n",
              "      <td>7374</td>\n",
              "      <td>Female</td>\n",
              "      <td>Credit Card</td>\n",
              "      <td>Credit Card</td>\n",
              "      <td>Normal</td>\n",
              "      <td>12.0</td>\n",
              "      <td>$1,842.56</td>\n",
              "    </tr>\n",
              "    <tr>\n",
              "      <th>79</th>\n",
              "      <td>18/08/20</td>\n",
              "      <td>10550</td>\n",
              "      <td>Dresses</td>\n",
              "      <td>5 star</td>\n",
              "      <td>9365</td>\n",
              "      <td>Unspecified</td>\n",
              "      <td>Credit Card</td>\n",
              "      <td>Credit Card</td>\n",
              "      <td>Normal</td>\n",
              "      <td>13.0</td>\n",
              "      <td>$2,904.03</td>\n",
              "    </tr>\n",
              "    <tr>\n",
              "      <th>80</th>\n",
              "      <td>21/08/20</td>\n",
              "      <td>10551</td>\n",
              "      <td>Hats</td>\n",
              "      <td>2star</td>\n",
              "      <td>8734</td>\n",
              "      <td>Male</td>\n",
              "      <td>Directdeposit</td>\n",
              "      <td>Directdeposit</td>\n",
              "      <td>Normal</td>\n",
              "      <td>16.0</td>\n",
              "      <td>£ 5817.31677175</td>\n",
              "    </tr>\n",
              "    <tr>\n",
              "      <th>85</th>\n",
              "      <td>8/8/2020 0:00</td>\n",
              "      <td>10556</td>\n",
              "      <td>dresses</td>\n",
              "      <td>1 start</td>\n",
              "      <td>7502</td>\n",
              "      <td>Male</td>\n",
              "      <td>Prepaid Card</td>\n",
              "      <td>Prepaid Card</td>\n",
              "      <td>Normal</td>\n",
              "      <td>14.0</td>\n",
              "      <td>$9,962.44</td>\n",
              "    </tr>\n",
              "    <tr>\n",
              "      <th>87</th>\n",
              "      <td>31/08/20</td>\n",
              "      <td>10558</td>\n",
              "      <td>coates</td>\n",
              "      <td>5 star</td>\n",
              "      <td>7007</td>\n",
              "      <td>Unspecified</td>\n",
              "      <td>Credit Card</td>\n",
              "      <td>Credit Card</td>\n",
              "      <td>Normal</td>\n",
              "      <td>11.0</td>\n",
              "      <td>₹ 234895.78095268</td>\n",
              "    </tr>\n",
              "    <tr>\n",
              "      <th>93</th>\n",
              "      <td>18/08/20</td>\n",
              "      <td>10564</td>\n",
              "      <td>Dresses</td>\n",
              "      <td>2star</td>\n",
              "      <td>9142</td>\n",
              "      <td>Female</td>\n",
              "      <td>Creditcard</td>\n",
              "      <td>Creditcard</td>\n",
              "      <td>Normal</td>\n",
              "      <td>5.0</td>\n",
              "      <td>₹ 325580.74608394003</td>\n",
              "    </tr>\n",
              "    <tr>\n",
              "      <th>96</th>\n",
              "      <td>16/08/20</td>\n",
              "      <td>10567</td>\n",
              "      <td>coates</td>\n",
              "      <td>5 star</td>\n",
              "      <td>9433</td>\n",
              "      <td>Unspecified</td>\n",
              "      <td>Mobile</td>\n",
              "      <td>Mobile</td>\n",
              "      <td>Normal</td>\n",
              "      <td>13.0</td>\n",
              "      <td>₹ 127655.91325387999</td>\n",
              "    </tr>\n",
              "    <tr>\n",
              "      <th>97</th>\n",
              "      <td>25/08/20</td>\n",
              "      <td>10568</td>\n",
              "      <td>pantas</td>\n",
              "      <td>3 star</td>\n",
              "      <td>7354</td>\n",
              "      <td>Female</td>\n",
              "      <td>Credit Card</td>\n",
              "      <td>Credit Card</td>\n",
              "      <td>Normal</td>\n",
              "      <td>10.0</td>\n",
              "      <td>₹ 577078.47118378</td>\n",
              "    </tr>\n",
              "  </tbody>\n",
              "</table>\n",
              "</div>"
            ],
            "text/plain": [
              "             Date  CustomerID  ... ShippingTime                 Price\n",
              "0        16/08/20       10471  ...         17.0   ₹ 675036.2138626401\n",
              "3             NaN       10474  ...       2133.0  ₹ 210869.48083470002\n",
              "22  4/8/2020 0:00       10493  ...         17.0   ₹ 634808.1963701401\n",
              "30       31/08/20       10501  ...          9.0     ₹ 581033.69733056\n",
              "31       30/08/20       10502  ...         16.0            € 5,242.22\n",
              "33       24/08/20       10504  ...         14.0            € 5,546.63\n",
              "45       25/08/20       10516  ...         14.0     ₹ 167727.12548098\n",
              "46       29/08/20       10517  ...          7.0            $3,124.78 \n",
              "47       21/08/20       10518  ...         14.0            € 2,773.90\n",
              "48       20/08/20       10519  ...         18.0     ₹ 159529.19686752\n",
              "49  6/8/2020 0:00       10520  ...          7.0            $1,012.61 \n",
              "50  4/8/2020 0:00       10521  ...         10.0      ₹ 325505.3302182\n",
              "53       26/08/20       10524  ...          5.0  ₹ 442385.73497213994\n",
              "55  5/8/2020 0:00       10526  ...         10.0     ₹ 321706.90933682\n",
              "60       30/08/20       10531  ...         18.0            € 5,597.06\n",
              "62  4/8/2020 0:00       10533  ...         10.0        £ 6329.0235485\n",
              "63  1/8/2020 0:00       10534  ...          9.0     ₹ 443946.32070874\n",
              "66       18/08/20       10537  ...          6.0            $5,836.06 \n",
              "68  2/8/2020 0:00       10539  ...         12.0            $1,842.56 \n",
              "79       18/08/20       10550  ...         13.0            $2,904.03 \n",
              "80       21/08/20       10551  ...         16.0       £ 5817.31677175\n",
              "85  8/8/2020 0:00       10556  ...         14.0            $9,962.44 \n",
              "87       31/08/20       10558  ...         11.0     ₹ 234895.78095268\n",
              "93       18/08/20       10564  ...          5.0  ₹ 325580.74608394003\n",
              "96       16/08/20       10567  ...         13.0  ₹ 127655.91325387999\n",
              "97       25/08/20       10568  ...         10.0     ₹ 577078.47118378\n",
              "\n",
              "[26 rows x 11 columns]"
            ]
          },
          "metadata": {},
          "execution_count": 71
        }
      ]
    },
    {
      "cell_type": "code",
      "metadata": {
        "id": "9lFYoeE7YuIA"
      },
      "source": [
        "# Let's see which entries are outliers\n",
        "outliers=data[(data.ShippingTime < (Q1 - 1.5 * IQR)) |(data.ShippingTime > (Q3 + 1.5 * IQR))]"
      ],
      "execution_count": null,
      "outputs": []
    },
    {
      "cell_type": "code",
      "metadata": {
        "id": "Qx0zAyrnYuIA",
        "colab": {
          "base_uri": "https://localhost:8080/",
          "height": 265
        },
        "outputId": "ffc8e6a5-a742-40b3-9d49-0313b1d29843"
      },
      "source": [
        "outliers"
      ],
      "execution_count": null,
      "outputs": [
        {
          "output_type": "execute_result",
          "data": {
            "text/html": [
              "<div>\n",
              "<style scoped>\n",
              "    .dataframe tbody tr th:only-of-type {\n",
              "        vertical-align: middle;\n",
              "    }\n",
              "\n",
              "    .dataframe tbody tr th {\n",
              "        vertical-align: top;\n",
              "    }\n",
              "\n",
              "    .dataframe thead th {\n",
              "        text-align: right;\n",
              "    }\n",
              "</style>\n",
              "<table border=\"1\" class=\"dataframe\">\n",
              "  <thead>\n",
              "    <tr style=\"text-align: right;\">\n",
              "      <th></th>\n",
              "      <th>Date</th>\n",
              "      <th>CustomerID</th>\n",
              "      <th>ProductType</th>\n",
              "      <th>Rating</th>\n",
              "      <th>Total_Ratings</th>\n",
              "      <th>Gender</th>\n",
              "      <th>PaymentMode</th>\n",
              "      <th>PaymentMode.1</th>\n",
              "      <th>ShippingMode</th>\n",
              "      <th>ShippingTime</th>\n",
              "      <th>Price</th>\n",
              "    </tr>\n",
              "  </thead>\n",
              "  <tbody>\n",
              "    <tr>\n",
              "      <th>3</th>\n",
              "      <td>NaN</td>\n",
              "      <td>10474</td>\n",
              "      <td>dresses</td>\n",
              "      <td>2star</td>\n",
              "      <td>7591</td>\n",
              "      <td>Female</td>\n",
              "      <td>Directdeposit</td>\n",
              "      <td>Directdeposit</td>\n",
              "      <td>Normal</td>\n",
              "      <td>2133.0</td>\n",
              "      <td>₹ 210869.48083470002</td>\n",
              "    </tr>\n",
              "    <tr>\n",
              "      <th>4</th>\n",
              "      <td>24/08/20</td>\n",
              "      <td>10475</td>\n",
              "      <td>pantas</td>\n",
              "      <td>1 start</td>\n",
              "      <td>5131</td>\n",
              "      <td>Male</td>\n",
              "      <td>NaN</td>\n",
              "      <td>NaN</td>\n",
              "      <td>Economy</td>\n",
              "      <td>2133.0</td>\n",
              "      <td>₹ 679422.2811434</td>\n",
              "    </tr>\n",
              "    <tr>\n",
              "      <th>27</th>\n",
              "      <td>19/08/20</td>\n",
              "      <td>10498</td>\n",
              "      <td>Coats/Jackets</td>\n",
              "      <td>3 star</td>\n",
              "      <td>9297</td>\n",
              "      <td>Unspecified</td>\n",
              "      <td>Direct Deposit</td>\n",
              "      <td>Direct Deposit</td>\n",
              "      <td>Express</td>\n",
              "      <td>213.0</td>\n",
              "      <td>₹ 635118.07344224</td>\n",
              "    </tr>\n",
              "    <tr>\n",
              "      <th>43</th>\n",
              "      <td>14/08/20</td>\n",
              "      <td>10514</td>\n",
              "      <td>dresses</td>\n",
              "      <td>5 star</td>\n",
              "      <td>5567</td>\n",
              "      <td>Unspecified</td>\n",
              "      <td>Credit Card</td>\n",
              "      <td>Credit Card</td>\n",
              "      <td>Express</td>\n",
              "      <td>1321.0</td>\n",
              "      <td>€ 7,261.79</td>\n",
              "    </tr>\n",
              "    <tr>\n",
              "      <th>59</th>\n",
              "      <td>17/08/20</td>\n",
              "      <td>10530</td>\n",
              "      <td>Cardigan</td>\n",
              "      <td>4 star</td>\n",
              "      <td>6930</td>\n",
              "      <td>Female</td>\n",
              "      <td>Cash</td>\n",
              "      <td>Cash</td>\n",
              "      <td>Economy</td>\n",
              "      <td>3113.0</td>\n",
              "      <td>$8,670.69</td>\n",
              "    </tr>\n",
              "    <tr>\n",
              "      <th>71</th>\n",
              "      <td>20/08/20</td>\n",
              "      <td>10542</td>\n",
              "      <td>Hats</td>\n",
              "      <td>2star</td>\n",
              "      <td>9157</td>\n",
              "      <td>Male</td>\n",
              "      <td>Cash</td>\n",
              "      <td>Cash</td>\n",
              "      <td>Mail</td>\n",
              "      <td>3132.0</td>\n",
              "      <td>₹ 708227.40839738</td>\n",
              "    </tr>\n",
              "    <tr>\n",
              "      <th>98</th>\n",
              "      <td>26/08/20</td>\n",
              "      <td>10569</td>\n",
              "      <td>Pants</td>\n",
              "      <td>5 star</td>\n",
              "      <td>5200</td>\n",
              "      <td>Male</td>\n",
              "      <td>Directdeposit</td>\n",
              "      <td>Directdeposit</td>\n",
              "      <td>Economy</td>\n",
              "      <td>-2131.0</td>\n",
              "      <td>£ 4118.0053827500005</td>\n",
              "    </tr>\n",
              "  </tbody>\n",
              "</table>\n",
              "</div>"
            ],
            "text/plain": [
              "        Date  CustomerID  ... ShippingTime                 Price\n",
              "3        NaN       10474  ...       2133.0  ₹ 210869.48083470002\n",
              "4   24/08/20       10475  ...       2133.0      ₹ 679422.2811434\n",
              "27  19/08/20       10498  ...        213.0     ₹ 635118.07344224\n",
              "43  14/08/20       10514  ...       1321.0            € 7,261.79\n",
              "59  17/08/20       10530  ...       3113.0            $8,670.69 \n",
              "71  20/08/20       10542  ...       3132.0     ₹ 708227.40839738\n",
              "98  26/08/20       10569  ...      -2131.0  £ 4118.0053827500005\n",
              "\n",
              "[7 rows x 11 columns]"
            ]
          },
          "metadata": {},
          "execution_count": 73
        }
      ]
    },
    {
      "cell_type": "code",
      "metadata": {
        "id": "9arQ8LgzYuIB"
      },
      "source": [
        "# Dropping these entries\n",
        "data.drop([3,4,27,43,59,71,98],axis=0,inplace=True)"
      ],
      "execution_count": null,
      "outputs": []
    },
    {
      "cell_type": "code",
      "metadata": {
        "colab": {
          "base_uri": "https://localhost:8080/"
        },
        "id": "m4ItLUwFPSgE",
        "outputId": "89a2b4b4-3df8-45ee-8547-dc32f888f4fb"
      },
      "source": [
        "list(outliers.index)"
      ],
      "execution_count": null,
      "outputs": [
        {
          "output_type": "execute_result",
          "data": {
            "text/plain": [
              "[3, 4, 27, 43, 59, 71, 98]"
            ]
          },
          "metadata": {},
          "execution_count": 75
        }
      ]
    },
    {
      "cell_type": "code",
      "metadata": {
        "id": "16IecUAz7V1r"
      },
      "source": [
        "# Alternatively\n",
        "#data.drop(list(outliers.index),axis=0,inplace=True)"
      ],
      "execution_count": null,
      "outputs": []
    },
    {
      "cell_type": "code",
      "metadata": {
        "id": "CpRGJgFDYuIC",
        "colab": {
          "base_uri": "https://localhost:8080/",
          "height": 282
        },
        "outputId": "16ae07a9-b703-4bfc-9e4d-c2b3d33c3f7b"
      },
      "source": [
        "# No outliers present in the data\n",
        "data.boxplot(column='ShippingTime') # You can also specify the names of columns you want to plot for."
      ],
      "execution_count": null,
      "outputs": [
        {
          "output_type": "execute_result",
          "data": {
            "text/plain": [
              "<matplotlib.axes._subplots.AxesSubplot at 0x7f287750b210>"
            ]
          },
          "metadata": {},
          "execution_count": 78
        },
        {
          "output_type": "display_data",
          "data": {
            "image/png": "[encoded data removed]",
            "text/plain": [
              "<Figure size 432x288 with 1 Axes>"
            ]
          },
          "metadata": {
            "needs_background": "light"
          }
        }
      ]
    },
    {
      "cell_type": "code",
      "metadata": {
        "colab": {
          "base_uri": "https://localhost:8080/",
          "height": 49
        },
        "id": "RN3nhQDjPiXd",
        "outputId": "8440b85f-29ed-4723-f558-84cfad168845"
      },
      "source": [
        "# Let's see which entries are outliers\n",
        "outliers=data[(data.ShippingTime < (Q1 - 1.5 * IQR)) |(data.ShippingTime > (Q3 + 1.5 * IQR))]\n",
        "outliers"
      ],
      "execution_count": null,
      "outputs": [
        {
          "output_type": "execute_result",
          "data": {
            "text/html": [
              "<div>\n",
              "<style scoped>\n",
              "    .dataframe tbody tr th:only-of-type {\n",
              "        vertical-align: middle;\n",
              "    }\n",
              "\n",
              "    .dataframe tbody tr th {\n",
              "        vertical-align: top;\n",
              "    }\n",
              "\n",
              "    .dataframe thead th {\n",
              "        text-align: right;\n",
              "    }\n",
              "</style>\n",
              "<table border=\"1\" class=\"dataframe\">\n",
              "  <thead>\n",
              "    <tr style=\"text-align: right;\">\n",
              "      <th></th>\n",
              "      <th>Date</th>\n",
              "      <th>CustomerID</th>\n",
              "      <th>ProductType</th>\n",
              "      <th>Rating</th>\n",
              "      <th>Total_Ratings</th>\n",
              "      <th>Gender</th>\n",
              "      <th>PaymentMode</th>\n",
              "      <th>PaymentMode.1</th>\n",
              "      <th>ShippingMode</th>\n",
              "      <th>ShippingTime</th>\n",
              "      <th>Price</th>\n",
              "    </tr>\n",
              "  </thead>\n",
              "  <tbody>\n",
              "  </tbody>\n",
              "</table>\n",
              "</div>"
            ],
            "text/plain": [
              "Empty DataFrame\n",
              "Columns: [Date, CustomerID, ProductType, Rating, Total_Ratings, Gender, PaymentMode, PaymentMode.1, ShippingMode, ShippingTime, Price]\n",
              "Index: []"
            ]
          },
          "metadata": {},
          "execution_count": 79
        }
      ]
    },
    {
      "cell_type": "code",
      "metadata": {
        "id": "zcjK7MGZYuIC",
        "colab": {
          "base_uri": "https://localhost:8080/"
        },
        "outputId": "b35090cb-024e-41c4-b68e-3d085b9d2633"
      },
      "source": [
        "# Let's check the total shipping time before and after remvoging outliers\n",
        "print('Before: ', round(uncleaned.ShippingTime.mean(),3))\n",
        "print('After: ',round(data.ShippingTime.mean(),3))\n",
        "print('Difference: ',round(uncleaned.ShippingTime.mean()-data.ShippingTime.mean(),3))"
      ],
      "execution_count": null,
      "outputs": [
        {
          "output_type": "stream",
          "name": "stdout",
          "text": [
            "Before:  112.02\n",
            "After:  12.822\n",
            "Difference:  99.198\n"
          ]
        }
      ]
    },
    {
      "cell_type": "markdown",
      "metadata": {
        "id": "9MFysXOaYuIE"
      },
      "source": [
        "That is really extreme change in values. This would have caused serious harm to the company."
      ]
    },
    {
      "cell_type": "code",
      "metadata": {
        "id": "KFIK0VH9LjFu"
      },
      "source": [
        "data.head()"
      ],
      "execution_count": null,
      "outputs": []
    },
    {
      "cell_type": "code",
      "metadata": {
        "id": "zkcOdW38Lkz9",
        "colab": {
          "base_uri": "https://localhost:8080/",
          "height": 295
        },
        "outputId": "38b1f57a-ae83-4fa4-e7cd-babc5deca1b7"
      },
      "source": [
        "# &\n",
        "data[(data[\"Gender\"] == \"Female\") & (data[\"ShippingMode\"] == \"Mail\")]"
      ],
      "execution_count": null,
      "outputs": [
        {
          "output_type": "execute_result",
          "data": {
            "text/html": [
              "<div>\n",
              "<style scoped>\n",
              "    .dataframe tbody tr th:only-of-type {\n",
              "        vertical-align: middle;\n",
              "    }\n",
              "\n",
              "    .dataframe tbody tr th {\n",
              "        vertical-align: top;\n",
              "    }\n",
              "\n",
              "    .dataframe thead th {\n",
              "        text-align: right;\n",
              "    }\n",
              "</style>\n",
              "<table border=\"1\" class=\"dataframe\">\n",
              "  <thead>\n",
              "    <tr style=\"text-align: right;\">\n",
              "      <th></th>\n",
              "      <th>Date</th>\n",
              "      <th>CustomerID</th>\n",
              "      <th>ProductType</th>\n",
              "      <th>Rating</th>\n",
              "      <th>Total_Ratings</th>\n",
              "      <th>Gender</th>\n",
              "      <th>PaymentMode</th>\n",
              "      <th>PaymentMode.1</th>\n",
              "      <th>ShippingMode</th>\n",
              "      <th>ShippingTime</th>\n",
              "      <th>Price</th>\n",
              "    </tr>\n",
              "  </thead>\n",
              "  <tbody>\n",
              "    <tr>\n",
              "      <th>5</th>\n",
              "      <td>28/08/20</td>\n",
              "      <td>10476</td>\n",
              "      <td>Coats/Jackets</td>\n",
              "      <td>2 star</td>\n",
              "      <td>5347</td>\n",
              "      <td>Female</td>\n",
              "      <td>Direct Deposit</td>\n",
              "      <td>Direct Deposit</td>\n",
              "      <td>Mail</td>\n",
              "      <td>20.0</td>\n",
              "      <td>NaN</td>\n",
              "    </tr>\n",
              "    <tr>\n",
              "      <th>11</th>\n",
              "      <td>18/08/20</td>\n",
              "      <td>10482</td>\n",
              "      <td>pantas</td>\n",
              "      <td>5 star</td>\n",
              "      <td>7816</td>\n",
              "      <td>Female</td>\n",
              "      <td>Mobile Payment</td>\n",
              "      <td>Mobile Payment</td>\n",
              "      <td>Mail</td>\n",
              "      <td>10.0</td>\n",
              "      <td>€ 6,580.20</td>\n",
              "    </tr>\n",
              "    <tr>\n",
              "      <th>14</th>\n",
              "      <td>20/08/20</td>\n",
              "      <td>10485</td>\n",
              "      <td>dresses</td>\n",
              "      <td>1 start</td>\n",
              "      <td>9030</td>\n",
              "      <td>Female</td>\n",
              "      <td>Mobile</td>\n",
              "      <td>Mobile</td>\n",
              "      <td>Mail</td>\n",
              "      <td>7.0</td>\n",
              "      <td>$9,743.11</td>\n",
              "    </tr>\n",
              "    <tr>\n",
              "      <th>17</th>\n",
              "      <td>17/08/20</td>\n",
              "      <td>10488</td>\n",
              "      <td>Dresses</td>\n",
              "      <td>5 star</td>\n",
              "      <td>7659</td>\n",
              "      <td>Female</td>\n",
              "      <td>Ewallet</td>\n",
              "      <td>Ewallet</td>\n",
              "      <td>Mail</td>\n",
              "      <td>10.0</td>\n",
              "      <td>$1,991.18</td>\n",
              "    </tr>\n",
              "    <tr>\n",
              "      <th>39</th>\n",
              "      <td>16/08/20</td>\n",
              "      <td>10510</td>\n",
              "      <td>dresses</td>\n",
              "      <td>1 start</td>\n",
              "      <td>7287</td>\n",
              "      <td>Female</td>\n",
              "      <td>Prepaid Card</td>\n",
              "      <td>Prepaid Card</td>\n",
              "      <td>Mail</td>\n",
              "      <td>20.0</td>\n",
              "      <td>₹ 217387.35303316</td>\n",
              "    </tr>\n",
              "    <tr>\n",
              "      <th>51</th>\n",
              "      <td>12/8/2020 0:00</td>\n",
              "      <td>10522</td>\n",
              "      <td>coates</td>\n",
              "      <td>1 start</td>\n",
              "      <td>9686</td>\n",
              "      <td>Female</td>\n",
              "      <td>Credit Card</td>\n",
              "      <td>Credit Card</td>\n",
              "      <td>Mail</td>\n",
              "      <td>9.0</td>\n",
              "      <td>$1,813.71</td>\n",
              "    </tr>\n",
              "    <tr>\n",
              "      <th>72</th>\n",
              "      <td>30/08/20</td>\n",
              "      <td>10543</td>\n",
              "      <td>Coats/Jackets</td>\n",
              "      <td>4 star</td>\n",
              "      <td>7100</td>\n",
              "      <td>Female</td>\n",
              "      <td>Mobile</td>\n",
              "      <td>Mobile</td>\n",
              "      <td>Mail</td>\n",
              "      <td>19.0</td>\n",
              "      <td>$6,425.44</td>\n",
              "    </tr>\n",
              "    <tr>\n",
              "      <th>84</th>\n",
              "      <td>23/08/20</td>\n",
              "      <td>10555</td>\n",
              "      <td>coates</td>\n",
              "      <td>1 start</td>\n",
              "      <td>8399</td>\n",
              "      <td>Female</td>\n",
              "      <td>Prepaid Card</td>\n",
              "      <td>Prepaid Card</td>\n",
              "      <td>Mail</td>\n",
              "      <td>14.0</td>\n",
              "      <td>$2,528.42</td>\n",
              "    </tr>\n",
              "  </tbody>\n",
              "</table>\n",
              "</div>"
            ],
            "text/plain": [
              "              Date  CustomerID  ... ShippingTime              Price\n",
              "5         28/08/20       10476  ...         20.0                NaN\n",
              "11        18/08/20       10482  ...         10.0         € 6,580.20\n",
              "14        20/08/20       10485  ...          7.0         $9,743.11 \n",
              "17        17/08/20       10488  ...         10.0         $1,991.18 \n",
              "39        16/08/20       10510  ...         20.0  ₹ 217387.35303316\n",
              "51  12/8/2020 0:00       10522  ...          9.0         $1,813.71 \n",
              "72        30/08/20       10543  ...         19.0         $6,425.44 \n",
              "84        23/08/20       10555  ...         14.0         $2,528.42 \n",
              "\n",
              "[8 rows x 11 columns]"
            ]
          },
          "metadata": {},
          "execution_count": 81
        }
      ]
    },
    {
      "cell_type": "code",
      "metadata": {
        "id": "YoVXPbr8NVhg",
        "colab": {
          "base_uri": "https://localhost:8080/",
          "height": 339
        },
        "outputId": "a2270787-7daf-4f60-eb40-8f68411cfe32"
      },
      "source": [
        "data.boxplot()"
      ],
      "execution_count": null,
      "outputs": [
        {
          "output_type": "stream",
          "name": "stderr",
          "text": [
            "/usr/local/lib/python3.7/dist-packages/numpy/core/_asarray.py:83: VisibleDeprecationWarning: Creating an ndarray from ragged nested sequences (which is a list-or-tuple of lists-or-tuples-or ndarrays with different lengths or shapes) is deprecated. If you meant to do this, you must specify 'dtype=object' when creating the ndarray\n",
            "  return array(a, dtype, copy=False, order=order)\n"
          ]
        },
        {
          "output_type": "execute_result",
          "data": {
            "text/plain": [
              "<matplotlib.axes._subplots.AxesSubplot at 0x7f287748b250>"
            ]
          },
          "metadata": {},
          "execution_count": 82
        },
        {
          "output_type": "display_data",
          "data": {
            "image/png": "[encoded data removed]",
            "text/plain": [
              "<Figure size 432x288 with 1 Axes>"
            ]
          },
          "metadata": {
            "needs_background": "light"
          }
        }
      ]
    },
    {
      "cell_type": "code",
      "metadata": {
        "id": "9ndHdnPCNd7n"
      },
      "source": [
        "data.boxplot(column=\"ShippingTime\")"
      ],
      "execution_count": null,
      "outputs": []
    },
    {
      "cell_type": "markdown",
      "metadata": {
        "id": "IP_138YxYuIE"
      },
      "source": [
        "### Empty Records/Values"
      ]
    },
    {
      "cell_type": "code",
      "metadata": {
        "id": "7ZZmJXXYOYpt",
        "colab": {
          "base_uri": "https://localhost:8080/",
          "height": 203
        },
        "outputId": "0f9ee7e5-001b-4814-8741-b8eca7c6d52b"
      },
      "source": [
        "data.head()"
      ],
      "execution_count": null,
      "outputs": [
        {
          "output_type": "execute_result",
          "data": {
            "text/html": [
              "<div>\n",
              "<style scoped>\n",
              "    .dataframe tbody tr th:only-of-type {\n",
              "        vertical-align: middle;\n",
              "    }\n",
              "\n",
              "    .dataframe tbody tr th {\n",
              "        vertical-align: top;\n",
              "    }\n",
              "\n",
              "    .dataframe thead th {\n",
              "        text-align: right;\n",
              "    }\n",
              "</style>\n",
              "<table border=\"1\" class=\"dataframe\">\n",
              "  <thead>\n",
              "    <tr style=\"text-align: right;\">\n",
              "      <th></th>\n",
              "      <th>Date</th>\n",
              "      <th>CustomerID</th>\n",
              "      <th>ProductType</th>\n",
              "      <th>Rating</th>\n",
              "      <th>Total_Ratings</th>\n",
              "      <th>Gender</th>\n",
              "      <th>PaymentMode</th>\n",
              "      <th>PaymentMode.1</th>\n",
              "      <th>ShippingMode</th>\n",
              "      <th>ShippingTime</th>\n",
              "      <th>Price</th>\n",
              "    </tr>\n",
              "  </thead>\n",
              "  <tbody>\n",
              "    <tr>\n",
              "      <th>0</th>\n",
              "      <td>16/08/20</td>\n",
              "      <td>10471</td>\n",
              "      <td>coates</td>\n",
              "      <td>1 start</td>\n",
              "      <td>8736</td>\n",
              "      <td>Female</td>\n",
              "      <td>Creditcard</td>\n",
              "      <td>Creditcard</td>\n",
              "      <td>Economy</td>\n",
              "      <td>17.0</td>\n",
              "      <td>₹ 675036.2138626401</td>\n",
              "    </tr>\n",
              "    <tr>\n",
              "      <th>1</th>\n",
              "      <td>2/8/2020 0:00</td>\n",
              "      <td>10472</td>\n",
              "      <td>dresses</td>\n",
              "      <td>2 star</td>\n",
              "      <td>8547</td>\n",
              "      <td>Unspecified</td>\n",
              "      <td>Ewallet</td>\n",
              "      <td>Ewallet</td>\n",
              "      <td>Mail</td>\n",
              "      <td>12.0</td>\n",
              "      <td>€ 2,315.53</td>\n",
              "    </tr>\n",
              "    <tr>\n",
              "      <th>2</th>\n",
              "      <td>8/8/2020 0:00</td>\n",
              "      <td>10473</td>\n",
              "      <td>NaN</td>\n",
              "      <td>2 star</td>\n",
              "      <td>9833</td>\n",
              "      <td>NaN</td>\n",
              "      <td>Prepaid Card</td>\n",
              "      <td>Prepaid Card</td>\n",
              "      <td>Mail</td>\n",
              "      <td>10.0</td>\n",
              "      <td>₹ 611426.29122378</td>\n",
              "    </tr>\n",
              "    <tr>\n",
              "      <th>5</th>\n",
              "      <td>28/08/20</td>\n",
              "      <td>10476</td>\n",
              "      <td>Coats/Jackets</td>\n",
              "      <td>2 star</td>\n",
              "      <td>5347</td>\n",
              "      <td>Female</td>\n",
              "      <td>Direct Deposit</td>\n",
              "      <td>Direct Deposit</td>\n",
              "      <td>Mail</td>\n",
              "      <td>20.0</td>\n",
              "      <td>NaN</td>\n",
              "    </tr>\n",
              "    <tr>\n",
              "      <th>6</th>\n",
              "      <td>8/8/2020 0:00</td>\n",
              "      <td>10477</td>\n",
              "      <td>coates</td>\n",
              "      <td>5 star</td>\n",
              "      <td>9406</td>\n",
              "      <td>Unspecified</td>\n",
              "      <td>Direct Deposit</td>\n",
              "      <td>Direct Deposit</td>\n",
              "      <td>Mail</td>\n",
              "      <td>14.0</td>\n",
              "      <td>£ 6610.077565000001</td>\n",
              "    </tr>\n",
              "  </tbody>\n",
              "</table>\n",
              "</div>"
            ],
            "text/plain": [
              "            Date  CustomerID  ... ShippingTime                Price\n",
              "0       16/08/20       10471  ...         17.0  ₹ 675036.2138626401\n",
              "1  2/8/2020 0:00       10472  ...         12.0           € 2,315.53\n",
              "2  8/8/2020 0:00       10473  ...         10.0    ₹ 611426.29122378\n",
              "5       28/08/20       10476  ...         20.0                  NaN\n",
              "6  8/8/2020 0:00       10477  ...         14.0  £ 6610.077565000001\n",
              "\n",
              "[5 rows x 11 columns]"
            ]
          },
          "metadata": {},
          "execution_count": 83
        }
      ]
    },
    {
      "cell_type": "code",
      "metadata": {
        "colab": {
          "base_uri": "https://localhost:8080/",
          "height": 417
        },
        "id": "vwzO_aivRWDc",
        "outputId": "ea32185c-5f75-4169-dc61-acf5684bcf55"
      },
      "source": [
        "data.isnull()"
      ],
      "execution_count": null,
      "outputs": [
        {
          "output_type": "execute_result",
          "data": {
            "text/html": [
              "<div>\n",
              "<style scoped>\n",
              "    .dataframe tbody tr th:only-of-type {\n",
              "        vertical-align: middle;\n",
              "    }\n",
              "\n",
              "    .dataframe tbody tr th {\n",
              "        vertical-align: top;\n",
              "    }\n",
              "\n",
              "    .dataframe thead th {\n",
              "        text-align: right;\n",
              "    }\n",
              "</style>\n",
              "<table border=\"1\" class=\"dataframe\">\n",
              "  <thead>\n",
              "    <tr style=\"text-align: right;\">\n",
              "      <th></th>\n",
              "      <th>Date</th>\n",
              "      <th>CustomerID</th>\n",
              "      <th>ProductType</th>\n",
              "      <th>Rating</th>\n",
              "      <th>Total_Ratings</th>\n",
              "      <th>Gender</th>\n",
              "      <th>PaymentMode</th>\n",
              "      <th>PaymentMode.1</th>\n",
              "      <th>ShippingMode</th>\n",
              "      <th>ShippingTime</th>\n",
              "      <th>Price</th>\n",
              "    </tr>\n",
              "  </thead>\n",
              "  <tbody>\n",
              "    <tr>\n",
              "      <th>0</th>\n",
              "      <td>False</td>\n",
              "      <td>False</td>\n",
              "      <td>False</td>\n",
              "      <td>False</td>\n",
              "      <td>False</td>\n",
              "      <td>False</td>\n",
              "      <td>False</td>\n",
              "      <td>False</td>\n",
              "      <td>False</td>\n",
              "      <td>False</td>\n",
              "      <td>False</td>\n",
              "    </tr>\n",
              "    <tr>\n",
              "      <th>1</th>\n",
              "      <td>False</td>\n",
              "      <td>False</td>\n",
              "      <td>False</td>\n",
              "      <td>False</td>\n",
              "      <td>False</td>\n",
              "      <td>False</td>\n",
              "      <td>False</td>\n",
              "      <td>False</td>\n",
              "      <td>False</td>\n",
              "      <td>False</td>\n",
              "      <td>False</td>\n",
              "    </tr>\n",
              "    <tr>\n",
              "      <th>2</th>\n",
              "      <td>False</td>\n",
              "      <td>False</td>\n",
              "      <td>True</td>\n",
              "      <td>False</td>\n",
              "      <td>False</td>\n",
              "      <td>True</td>\n",
              "      <td>False</td>\n",
              "      <td>False</td>\n",
              "      <td>False</td>\n",
              "      <td>False</td>\n",
              "      <td>False</td>\n",
              "    </tr>\n",
              "    <tr>\n",
              "      <th>5</th>\n",
              "      <td>False</td>\n",
              "      <td>False</td>\n",
              "      <td>False</td>\n",
              "      <td>False</td>\n",
              "      <td>False</td>\n",
              "      <td>False</td>\n",
              "      <td>False</td>\n",
              "      <td>False</td>\n",
              "      <td>False</td>\n",
              "      <td>False</td>\n",
              "      <td>True</td>\n",
              "    </tr>\n",
              "    <tr>\n",
              "      <th>6</th>\n",
              "      <td>False</td>\n",
              "      <td>False</td>\n",
              "      <td>False</td>\n",
              "      <td>False</td>\n",
              "      <td>False</td>\n",
              "      <td>False</td>\n",
              "      <td>False</td>\n",
              "      <td>False</td>\n",
              "      <td>False</td>\n",
              "      <td>False</td>\n",
              "      <td>False</td>\n",
              "    </tr>\n",
              "    <tr>\n",
              "      <th>...</th>\n",
              "      <td>...</td>\n",
              "      <td>...</td>\n",
              "      <td>...</td>\n",
              "      <td>...</td>\n",
              "      <td>...</td>\n",
              "      <td>...</td>\n",
              "      <td>...</td>\n",
              "      <td>...</td>\n",
              "      <td>...</td>\n",
              "      <td>...</td>\n",
              "      <td>...</td>\n",
              "    </tr>\n",
              "    <tr>\n",
              "      <th>94</th>\n",
              "      <td>False</td>\n",
              "      <td>False</td>\n",
              "      <td>False</td>\n",
              "      <td>False</td>\n",
              "      <td>False</td>\n",
              "      <td>False</td>\n",
              "      <td>False</td>\n",
              "      <td>False</td>\n",
              "      <td>False</td>\n",
              "      <td>False</td>\n",
              "      <td>False</td>\n",
              "    </tr>\n",
              "    <tr>\n",
              "      <th>95</th>\n",
              "      <td>False</td>\n",
              "      <td>False</td>\n",
              "      <td>False</td>\n",
              "      <td>False</td>\n",
              "      <td>False</td>\n",
              "      <td>False</td>\n",
              "      <td>False</td>\n",
              "      <td>False</td>\n",
              "      <td>False</td>\n",
              "      <td>False</td>\n",
              "      <td>False</td>\n",
              "    </tr>\n",
              "    <tr>\n",
              "      <th>96</th>\n",
              "      <td>False</td>\n",
              "      <td>False</td>\n",
              "      <td>False</td>\n",
              "      <td>False</td>\n",
              "      <td>False</td>\n",
              "      <td>False</td>\n",
              "      <td>False</td>\n",
              "      <td>False</td>\n",
              "      <td>False</td>\n",
              "      <td>False</td>\n",
              "      <td>False</td>\n",
              "    </tr>\n",
              "    <tr>\n",
              "      <th>97</th>\n",
              "      <td>False</td>\n",
              "      <td>False</td>\n",
              "      <td>False</td>\n",
              "      <td>False</td>\n",
              "      <td>False</td>\n",
              "      <td>False</td>\n",
              "      <td>False</td>\n",
              "      <td>False</td>\n",
              "      <td>False</td>\n",
              "      <td>False</td>\n",
              "      <td>False</td>\n",
              "    </tr>\n",
              "    <tr>\n",
              "      <th>99</th>\n",
              "      <td>False</td>\n",
              "      <td>False</td>\n",
              "      <td>False</td>\n",
              "      <td>False</td>\n",
              "      <td>False</td>\n",
              "      <td>False</td>\n",
              "      <td>False</td>\n",
              "      <td>False</td>\n",
              "      <td>False</td>\n",
              "      <td>False</td>\n",
              "      <td>False</td>\n",
              "    </tr>\n",
              "  </tbody>\n",
              "</table>\n",
              "<p>91 rows × 11 columns</p>\n",
              "</div>"
            ],
            "text/plain": [
              "     Date  CustomerID  ProductType  ...  ShippingMode  ShippingTime  Price\n",
              "0   False       False        False  ...         False         False  False\n",
              "1   False       False        False  ...         False         False  False\n",
              "2   False       False         True  ...         False         False  False\n",
              "5   False       False        False  ...         False         False   True\n",
              "6   False       False        False  ...         False         False  False\n",
              "..    ...         ...          ...  ...           ...           ...    ...\n",
              "94  False       False        False  ...         False         False  False\n",
              "95  False       False        False  ...         False         False  False\n",
              "96  False       False        False  ...         False         False  False\n",
              "97  False       False        False  ...         False         False  False\n",
              "99  False       False        False  ...         False         False  False\n",
              "\n",
              "[91 rows x 11 columns]"
            ]
          },
          "metadata": {},
          "execution_count": 84
        }
      ]
    },
    {
      "cell_type": "code",
      "metadata": {
        "colab": {
          "base_uri": "https://localhost:8080/",
          "height": 203
        },
        "id": "hZV8AlRkRgZZ",
        "outputId": "fdc2d0a3-bcac-4926-a227-5a0af4bebcf2"
      },
      "source": [
        "data.head()"
      ],
      "execution_count": null,
      "outputs": [
        {
          "output_type": "execute_result",
          "data": {
            "text/html": [
              "<div>\n",
              "<style scoped>\n",
              "    .dataframe tbody tr th:only-of-type {\n",
              "        vertical-align: middle;\n",
              "    }\n",
              "\n",
              "    .dataframe tbody tr th {\n",
              "        vertical-align: top;\n",
              "    }\n",
              "\n",
              "    .dataframe thead th {\n",
              "        text-align: right;\n",
              "    }\n",
              "</style>\n",
              "<table border=\"1\" class=\"dataframe\">\n",
              "  <thead>\n",
              "    <tr style=\"text-align: right;\">\n",
              "      <th></th>\n",
              "      <th>Date</th>\n",
              "      <th>CustomerID</th>\n",
              "      <th>ProductType</th>\n",
              "      <th>Rating</th>\n",
              "      <th>Total_Ratings</th>\n",
              "      <th>Gender</th>\n",
              "      <th>PaymentMode</th>\n",
              "      <th>PaymentMode.1</th>\n",
              "      <th>ShippingMode</th>\n",
              "      <th>ShippingTime</th>\n",
              "      <th>Price</th>\n",
              "    </tr>\n",
              "  </thead>\n",
              "  <tbody>\n",
              "    <tr>\n",
              "      <th>0</th>\n",
              "      <td>16/08/20</td>\n",
              "      <td>10471</td>\n",
              "      <td>coates</td>\n",
              "      <td>1 start</td>\n",
              "      <td>8736</td>\n",
              "      <td>Female</td>\n",
              "      <td>Creditcard</td>\n",
              "      <td>Creditcard</td>\n",
              "      <td>Economy</td>\n",
              "      <td>17.0</td>\n",
              "      <td>₹ 675036.2138626401</td>\n",
              "    </tr>\n",
              "    <tr>\n",
              "      <th>1</th>\n",
              "      <td>2/8/2020 0:00</td>\n",
              "      <td>10472</td>\n",
              "      <td>dresses</td>\n",
              "      <td>2 star</td>\n",
              "      <td>8547</td>\n",
              "      <td>Unspecified</td>\n",
              "      <td>Ewallet</td>\n",
              "      <td>Ewallet</td>\n",
              "      <td>Mail</td>\n",
              "      <td>12.0</td>\n",
              "      <td>€ 2,315.53</td>\n",
              "    </tr>\n",
              "    <tr>\n",
              "      <th>2</th>\n",
              "      <td>8/8/2020 0:00</td>\n",
              "      <td>10473</td>\n",
              "      <td>NaN</td>\n",
              "      <td>2 star</td>\n",
              "      <td>9833</td>\n",
              "      <td>NaN</td>\n",
              "      <td>Prepaid Card</td>\n",
              "      <td>Prepaid Card</td>\n",
              "      <td>Mail</td>\n",
              "      <td>10.0</td>\n",
              "      <td>₹ 611426.29122378</td>\n",
              "    </tr>\n",
              "    <tr>\n",
              "      <th>5</th>\n",
              "      <td>28/08/20</td>\n",
              "      <td>10476</td>\n",
              "      <td>Coats/Jackets</td>\n",
              "      <td>2 star</td>\n",
              "      <td>5347</td>\n",
              "      <td>Female</td>\n",
              "      <td>Direct Deposit</td>\n",
              "      <td>Direct Deposit</td>\n",
              "      <td>Mail</td>\n",
              "      <td>20.0</td>\n",
              "      <td>NaN</td>\n",
              "    </tr>\n",
              "    <tr>\n",
              "      <th>6</th>\n",
              "      <td>8/8/2020 0:00</td>\n",
              "      <td>10477</td>\n",
              "      <td>coates</td>\n",
              "      <td>5 star</td>\n",
              "      <td>9406</td>\n",
              "      <td>Unspecified</td>\n",
              "      <td>Direct Deposit</td>\n",
              "      <td>Direct Deposit</td>\n",
              "      <td>Mail</td>\n",
              "      <td>14.0</td>\n",
              "      <td>£ 6610.077565000001</td>\n",
              "    </tr>\n",
              "  </tbody>\n",
              "</table>\n",
              "</div>"
            ],
            "text/plain": [
              "            Date  CustomerID  ... ShippingTime                Price\n",
              "0       16/08/20       10471  ...         17.0  ₹ 675036.2138626401\n",
              "1  2/8/2020 0:00       10472  ...         12.0           € 2,315.53\n",
              "2  8/8/2020 0:00       10473  ...         10.0    ₹ 611426.29122378\n",
              "5       28/08/20       10476  ...         20.0                  NaN\n",
              "6  8/8/2020 0:00       10477  ...         14.0  £ 6610.077565000001\n",
              "\n",
              "[5 rows x 11 columns]"
            ]
          },
          "metadata": {},
          "execution_count": 85
        }
      ]
    },
    {
      "cell_type": "code",
      "metadata": {
        "colab": {
          "base_uri": "https://localhost:8080/",
          "height": 203
        },
        "id": "pVjJqyzuRrDH",
        "outputId": "c772c308-3b85-4586-bd72-1cb8d0ff1de7"
      },
      "source": [
        "data.head()"
      ],
      "execution_count": null,
      "outputs": [
        {
          "output_type": "execute_result",
          "data": {
            "text/html": [
              "<div>\n",
              "<style scoped>\n",
              "    .dataframe tbody tr th:only-of-type {\n",
              "        vertical-align: middle;\n",
              "    }\n",
              "\n",
              "    .dataframe tbody tr th {\n",
              "        vertical-align: top;\n",
              "    }\n",
              "\n",
              "    .dataframe thead th {\n",
              "        text-align: right;\n",
              "    }\n",
              "</style>\n",
              "<table border=\"1\" class=\"dataframe\">\n",
              "  <thead>\n",
              "    <tr style=\"text-align: right;\">\n",
              "      <th></th>\n",
              "      <th>Date</th>\n",
              "      <th>CustomerID</th>\n",
              "      <th>ProductType</th>\n",
              "      <th>Rating</th>\n",
              "      <th>Total_Ratings</th>\n",
              "      <th>Gender</th>\n",
              "      <th>PaymentMode</th>\n",
              "      <th>PaymentMode.1</th>\n",
              "      <th>ShippingMode</th>\n",
              "      <th>ShippingTime</th>\n",
              "      <th>Price</th>\n",
              "    </tr>\n",
              "  </thead>\n",
              "  <tbody>\n",
              "    <tr>\n",
              "      <th>0</th>\n",
              "      <td>16/08/20</td>\n",
              "      <td>10471</td>\n",
              "      <td>coates</td>\n",
              "      <td>1 start</td>\n",
              "      <td>8736</td>\n",
              "      <td>Female</td>\n",
              "      <td>Creditcard</td>\n",
              "      <td>Creditcard</td>\n",
              "      <td>Economy</td>\n",
              "      <td>17.0</td>\n",
              "      <td>₹ 675036.2138626401</td>\n",
              "    </tr>\n",
              "    <tr>\n",
              "      <th>1</th>\n",
              "      <td>2/8/2020 0:00</td>\n",
              "      <td>10472</td>\n",
              "      <td>dresses</td>\n",
              "      <td>2 star</td>\n",
              "      <td>8547</td>\n",
              "      <td>Unspecified</td>\n",
              "      <td>Ewallet</td>\n",
              "      <td>Ewallet</td>\n",
              "      <td>Mail</td>\n",
              "      <td>12.0</td>\n",
              "      <td>€ 2,315.53</td>\n",
              "    </tr>\n",
              "    <tr>\n",
              "      <th>2</th>\n",
              "      <td>8/8/2020 0:00</td>\n",
              "      <td>10473</td>\n",
              "      <td>NaN</td>\n",
              "      <td>2 star</td>\n",
              "      <td>9833</td>\n",
              "      <td>NaN</td>\n",
              "      <td>Prepaid Card</td>\n",
              "      <td>Prepaid Card</td>\n",
              "      <td>Mail</td>\n",
              "      <td>10.0</td>\n",
              "      <td>₹ 611426.29122378</td>\n",
              "    </tr>\n",
              "    <tr>\n",
              "      <th>5</th>\n",
              "      <td>28/08/20</td>\n",
              "      <td>10476</td>\n",
              "      <td>Coats/Jackets</td>\n",
              "      <td>2 star</td>\n",
              "      <td>5347</td>\n",
              "      <td>Female</td>\n",
              "      <td>Direct Deposit</td>\n",
              "      <td>Direct Deposit</td>\n",
              "      <td>Mail</td>\n",
              "      <td>20.0</td>\n",
              "      <td>NaN</td>\n",
              "    </tr>\n",
              "    <tr>\n",
              "      <th>6</th>\n",
              "      <td>8/8/2020 0:00</td>\n",
              "      <td>10477</td>\n",
              "      <td>coates</td>\n",
              "      <td>5 star</td>\n",
              "      <td>9406</td>\n",
              "      <td>Unspecified</td>\n",
              "      <td>Direct Deposit</td>\n",
              "      <td>Direct Deposit</td>\n",
              "      <td>Mail</td>\n",
              "      <td>14.0</td>\n",
              "      <td>£ 6610.077565000001</td>\n",
              "    </tr>\n",
              "  </tbody>\n",
              "</table>\n",
              "</div>"
            ],
            "text/plain": [
              "            Date  CustomerID  ... ShippingTime                Price\n",
              "0       16/08/20       10471  ...         17.0  ₹ 675036.2138626401\n",
              "1  2/8/2020 0:00       10472  ...         12.0           € 2,315.53\n",
              "2  8/8/2020 0:00       10473  ...         10.0    ₹ 611426.29122378\n",
              "5       28/08/20       10476  ...         20.0                  NaN\n",
              "6  8/8/2020 0:00       10477  ...         14.0  £ 6610.077565000001\n",
              "\n",
              "[5 rows x 11 columns]"
            ]
          },
          "metadata": {},
          "execution_count": 86
        }
      ]
    },
    {
      "cell_type": "code",
      "metadata": {
        "colab": {
          "base_uri": "https://localhost:8080/"
        },
        "id": "CMkPHkFpRt8Q",
        "outputId": "fb5ea48e-7e9e-4c8b-ed4a-b312060319bd"
      },
      "source": [
        "data.values"
      ],
      "execution_count": null,
      "outputs": [
        {
          "output_type": "execute_result",
          "data": {
            "text/plain": [
              "array([['16/08/20', 10471, 'coates', ..., 'Economy', 17.0,\n",
              "        '₹ 675036.2138626401'],\n",
              "       ['2/8/2020 0:00', 10472, 'dresses ', ..., 'Mail', 12.0,\n",
              "        '€ 2,315.53'],\n",
              "       ['8/8/2020 0:00', 10473, nan, ..., 'Mail', 10.0,\n",
              "        '₹ 611426.29122378'],\n",
              "       ...,\n",
              "       ['16/08/20', 10567, 'coates', ..., 'Normal', 13.0,\n",
              "        '₹ 127655.91325387999'],\n",
              "       ['25/08/20', 10568, 'pantas', ..., 'Normal', 10.0,\n",
              "        '₹ 577078.47118378'],\n",
              "       ['29/08/20', 10570, 'Jeans', ..., 'Mail', 6.0,\n",
              "        '£ 6232.343745500001']], dtype=object)"
            ]
          },
          "metadata": {},
          "execution_count": 87
        }
      ]
    },
    {
      "cell_type": "code",
      "metadata": {
        "colab": {
          "base_uri": "https://localhost:8080/"
        },
        "id": "T1NHQH0MRzte",
        "outputId": "0de1740c-9868-4df3-bba9-b955e6203b6d"
      },
      "source": [
        "data.isnull().values"
      ],
      "execution_count": null,
      "outputs": [
        {
          "output_type": "execute_result",
          "data": {
            "text/plain": [
              "array([[False, False, False, ..., False, False, False],\n",
              "       [False, False, False, ..., False, False, False],\n",
              "       [False, False,  True, ..., False, False, False],\n",
              "       ...,\n",
              "       [False, False, False, ..., False, False, False],\n",
              "       [False, False, False, ..., False, False, False],\n",
              "       [False, False, False, ..., False, False, False]])"
            ]
          },
          "metadata": {},
          "execution_count": 88
        }
      ]
    },
    {
      "cell_type": "code",
      "metadata": {
        "id": "jXJ-HljyOSwD",
        "colab": {
          "base_uri": "https://localhost:8080/"
        },
        "outputId": "4600400c-c690-417d-aa4f-c94e9a361591"
      },
      "source": [
        "data.isnull().values.any()"
      ],
      "execution_count": null,
      "outputs": [
        {
          "output_type": "execute_result",
          "data": {
            "text/plain": [
              "True"
            ]
          },
          "metadata": {},
          "execution_count": 89
        }
      ]
    },
    {
      "cell_type": "code",
      "metadata": {
        "id": "jiApv8c-YuIE"
      },
      "source": [
        "# Let's see if there are any null values or not\n",
        "data.isnull().values.any()"
      ],
      "execution_count": null,
      "outputs": []
    },
    {
      "cell_type": "code",
      "metadata": {
        "id": "8umweMoh8WqJ",
        "colab": {
          "base_uri": "https://localhost:8080/",
          "height": 417
        },
        "outputId": "529ca63f-9f51-43fa-ac51-0b6eb087eb37"
      },
      "source": [
        "data.sort_values(by=\"ShippingTime\",ascending=False)"
      ],
      "execution_count": null,
      "outputs": [
        {
          "output_type": "execute_result",
          "data": {
            "text/html": [
              "<div>\n",
              "<style scoped>\n",
              "    .dataframe tbody tr th:only-of-type {\n",
              "        vertical-align: middle;\n",
              "    }\n",
              "\n",
              "    .dataframe tbody tr th {\n",
              "        vertical-align: top;\n",
              "    }\n",
              "\n",
              "    .dataframe thead th {\n",
              "        text-align: right;\n",
              "    }\n",
              "</style>\n",
              "<table border=\"1\" class=\"dataframe\">\n",
              "  <thead>\n",
              "    <tr style=\"text-align: right;\">\n",
              "      <th></th>\n",
              "      <th>Date</th>\n",
              "      <th>CustomerID</th>\n",
              "      <th>ProductType</th>\n",
              "      <th>Rating</th>\n",
              "      <th>Total_Ratings</th>\n",
              "      <th>Gender</th>\n",
              "      <th>PaymentMode</th>\n",
              "      <th>PaymentMode.1</th>\n",
              "      <th>ShippingMode</th>\n",
              "      <th>ShippingTime</th>\n",
              "      <th>Price</th>\n",
              "    </tr>\n",
              "  </thead>\n",
              "  <tbody>\n",
              "    <tr>\n",
              "      <th>39</th>\n",
              "      <td>16/08/20</td>\n",
              "      <td>10510</td>\n",
              "      <td>dresses</td>\n",
              "      <td>1 start</td>\n",
              "      <td>7287</td>\n",
              "      <td>Female</td>\n",
              "      <td>Prepaid Card</td>\n",
              "      <td>Prepaid Card</td>\n",
              "      <td>Mail</td>\n",
              "      <td>20.0</td>\n",
              "      <td>₹ 217387.35303316</td>\n",
              "    </tr>\n",
              "    <tr>\n",
              "      <th>20</th>\n",
              "      <td>5/8/2020 0:00</td>\n",
              "      <td>10491</td>\n",
              "      <td>Coats/Jackets</td>\n",
              "      <td>1 start</td>\n",
              "      <td>9714</td>\n",
              "      <td>Female</td>\n",
              "      <td>Prepaid Card</td>\n",
              "      <td>Prepaid Card</td>\n",
              "      <td>Economy</td>\n",
              "      <td>20.0</td>\n",
              "      <td>€ 1,514.11</td>\n",
              "    </tr>\n",
              "    <tr>\n",
              "      <th>41</th>\n",
              "      <td>2/8/2020 0:00</td>\n",
              "      <td>10512</td>\n",
              "      <td>pantas</td>\n",
              "      <td>2star</td>\n",
              "      <td>6416</td>\n",
              "      <td>Male</td>\n",
              "      <td>Creditcard</td>\n",
              "      <td>Creditcard</td>\n",
              "      <td>Economy</td>\n",
              "      <td>20.0</td>\n",
              "      <td>£ 5925.050872750001</td>\n",
              "    </tr>\n",
              "    <tr>\n",
              "      <th>5</th>\n",
              "      <td>28/08/20</td>\n",
              "      <td>10476</td>\n",
              "      <td>Coats/Jackets</td>\n",
              "      <td>2 star</td>\n",
              "      <td>5347</td>\n",
              "      <td>Female</td>\n",
              "      <td>Direct Deposit</td>\n",
              "      <td>Direct Deposit</td>\n",
              "      <td>Mail</td>\n",
              "      <td>20.0</td>\n",
              "      <td>NaN</td>\n",
              "    </tr>\n",
              "    <tr>\n",
              "      <th>25</th>\n",
              "      <td>8/8/2020 0:00</td>\n",
              "      <td>10496</td>\n",
              "      <td>Hats</td>\n",
              "      <td>4 star</td>\n",
              "      <td>6594</td>\n",
              "      <td>Male</td>\n",
              "      <td>Prepaid Card</td>\n",
              "      <td>Prepaid Card</td>\n",
              "      <td>Express</td>\n",
              "      <td>20.0</td>\n",
              "      <td>£ 4564.22450475</td>\n",
              "    </tr>\n",
              "    <tr>\n",
              "      <th>...</th>\n",
              "      <td>...</td>\n",
              "      <td>...</td>\n",
              "      <td>...</td>\n",
              "      <td>...</td>\n",
              "      <td>...</td>\n",
              "      <td>...</td>\n",
              "      <td>...</td>\n",
              "      <td>...</td>\n",
              "      <td>...</td>\n",
              "      <td>...</td>\n",
              "      <td>...</td>\n",
              "    </tr>\n",
              "    <tr>\n",
              "      <th>82</th>\n",
              "      <td>23/08/20</td>\n",
              "      <td>10553</td>\n",
              "      <td>Shirts/Tops</td>\n",
              "      <td>3 star</td>\n",
              "      <td>8175</td>\n",
              "      <td>Unspecified</td>\n",
              "      <td>Credit Card</td>\n",
              "      <td>Credit Card</td>\n",
              "      <td>Express</td>\n",
              "      <td>5.0</td>\n",
              "      <td>₹ 388459.65750934</td>\n",
              "    </tr>\n",
              "    <tr>\n",
              "      <th>93</th>\n",
              "      <td>18/08/20</td>\n",
              "      <td>10564</td>\n",
              "      <td>Dresses</td>\n",
              "      <td>2star</td>\n",
              "      <td>9142</td>\n",
              "      <td>Female</td>\n",
              "      <td>Creditcard</td>\n",
              "      <td>Creditcard</td>\n",
              "      <td>Normal</td>\n",
              "      <td>5.0</td>\n",
              "      <td>₹ 325580.74608394003</td>\n",
              "    </tr>\n",
              "    <tr>\n",
              "      <th>95</th>\n",
              "      <td>4/8/2020 0:00</td>\n",
              "      <td>10566</td>\n",
              "      <td>Coats/Jackets</td>\n",
              "      <td>2star</td>\n",
              "      <td>6090</td>\n",
              "      <td>Female</td>\n",
              "      <td>Prepaid Card</td>\n",
              "      <td>Prepaid Card</td>\n",
              "      <td>Express</td>\n",
              "      <td>5.0</td>\n",
              "      <td>£ 1148.1217405</td>\n",
              "    </tr>\n",
              "    <tr>\n",
              "      <th>53</th>\n",
              "      <td>26/08/20</td>\n",
              "      <td>10524</td>\n",
              "      <td>Dresses</td>\n",
              "      <td>3 star</td>\n",
              "      <td>6654</td>\n",
              "      <td>Male</td>\n",
              "      <td>Direct Deposit</td>\n",
              "      <td>Direct Deposit</td>\n",
              "      <td>Normal</td>\n",
              "      <td>5.0</td>\n",
              "      <td>₹ 442385.73497213994</td>\n",
              "    </tr>\n",
              "    <tr>\n",
              "      <th>8</th>\n",
              "      <td>1/8/2020 0:00</td>\n",
              "      <td>10479</td>\n",
              "      <td>pantas</td>\n",
              "      <td>4 star</td>\n",
              "      <td>9630</td>\n",
              "      <td>Male</td>\n",
              "      <td>Direct Deposit</td>\n",
              "      <td>Direct Deposit</td>\n",
              "      <td>Express</td>\n",
              "      <td>NaN</td>\n",
              "      <td>£ 3010.212198</td>\n",
              "    </tr>\n",
              "  </tbody>\n",
              "</table>\n",
              "<p>91 rows × 11 columns</p>\n",
              "</div>"
            ],
            "text/plain": [
              "             Date  CustomerID  ... ShippingTime                 Price\n",
              "39       16/08/20       10510  ...         20.0     ₹ 217387.35303316\n",
              "20  5/8/2020 0:00       10491  ...         20.0            € 1,514.11\n",
              "41  2/8/2020 0:00       10512  ...         20.0   £ 5925.050872750001\n",
              "5        28/08/20       10476  ...         20.0                   NaN\n",
              "25  8/8/2020 0:00       10496  ...         20.0       £ 4564.22450475\n",
              "..            ...         ...  ...          ...                   ...\n",
              "82       23/08/20       10553  ...          5.0     ₹ 388459.65750934\n",
              "93       18/08/20       10564  ...          5.0  ₹ 325580.74608394003\n",
              "95  4/8/2020 0:00       10566  ...          5.0        £ 1148.1217405\n",
              "53       26/08/20       10524  ...          5.0  ₹ 442385.73497213994\n",
              "8   1/8/2020 0:00       10479  ...          NaN         £ 3010.212198\n",
              "\n",
              "[91 rows x 11 columns]"
            ]
          },
          "metadata": {},
          "execution_count": 90
        }
      ]
    },
    {
      "cell_type": "code",
      "metadata": {
        "id": "b-rwvBN-PxIf",
        "colab": {
          "base_uri": "https://localhost:8080/"
        },
        "outputId": "c329c5f3-4aa5-4c2d-8972-2edf6ac7cbd8"
      },
      "source": [
        "sum(data[\"ShippingTime\"].isnull())"
      ],
      "execution_count": null,
      "outputs": [
        {
          "output_type": "execute_result",
          "data": {
            "text/plain": [
              "1"
            ]
          },
          "metadata": {},
          "execution_count": 91
        }
      ]
    },
    {
      "cell_type": "code",
      "metadata": {
        "colab": {
          "base_uri": "https://localhost:8080/"
        },
        "id": "SCeg_B_PSUOy",
        "outputId": "402de8e2-481f-42fb-b18e-5fe9e104e89d"
      },
      "source": [
        "data.isnull().sum()"
      ],
      "execution_count": null,
      "outputs": [
        {
          "output_type": "execute_result",
          "data": {
            "text/plain": [
              "Date             0\n",
              "CustomerID       0\n",
              "ProductType      4\n",
              "Rating           6\n",
              "Total_Ratings    0\n",
              "Gender           5\n",
              "PaymentMode      5\n",
              "PaymentMode.1    5\n",
              "ShippingMode     3\n",
              "ShippingTime     1\n",
              "Price            1\n",
              "dtype: int64"
            ]
          },
          "metadata": {},
          "execution_count": 93
        }
      ]
    },
    {
      "cell_type": "code",
      "metadata": {
        "colab": {
          "base_uri": "https://localhost:8080/"
        },
        "id": "YEPep6IFSfFQ",
        "outputId": "3ab346d4-1a22-4e8c-dfae-3a462c5381d8"
      },
      "source": [
        "data.isnull().sum().sum()"
      ],
      "execution_count": null,
      "outputs": [
        {
          "output_type": "execute_result",
          "data": {
            "text/plain": [
              "30"
            ]
          },
          "metadata": {},
          "execution_count": 94
        }
      ]
    },
    {
      "cell_type": "code",
      "metadata": {
        "id": "89ZpWxu4UhSe"
      },
      "source": [
        "df = pd.DataFrame({'A': [0, 1, 2, 3, 4],\n",
        "                   'B': [5, 6, 7, 8, 9],\n",
        "                   'C': ['a', 'b', 'c', 'd', 'e']})\n",
        "# df.replace(0, 5)"
      ],
      "execution_count": null,
      "outputs": []
    },
    {
      "cell_type": "code",
      "metadata": {
        "colab": {
          "base_uri": "https://localhost:8080/",
          "height": 203
        },
        "id": "xxrLJOvXUmbt",
        "outputId": "feb3c957-9099-49d0-cdb0-33a596e9ec25"
      },
      "source": [
        "df"
      ],
      "execution_count": null,
      "outputs": [
        {
          "output_type": "execute_result",
          "data": {
            "text/html": [
              "<div>\n",
              "<style scoped>\n",
              "    .dataframe tbody tr th:only-of-type {\n",
              "        vertical-align: middle;\n",
              "    }\n",
              "\n",
              "    .dataframe tbody tr th {\n",
              "        vertical-align: top;\n",
              "    }\n",
              "\n",
              "    .dataframe thead th {\n",
              "        text-align: right;\n",
              "    }\n",
              "</style>\n",
              "<table border=\"1\" class=\"dataframe\">\n",
              "  <thead>\n",
              "    <tr style=\"text-align: right;\">\n",
              "      <th></th>\n",
              "      <th>A</th>\n",
              "      <th>B</th>\n",
              "      <th>C</th>\n",
              "    </tr>\n",
              "  </thead>\n",
              "  <tbody>\n",
              "    <tr>\n",
              "      <th>0</th>\n",
              "      <td>0</td>\n",
              "      <td>5</td>\n",
              "      <td>a</td>\n",
              "    </tr>\n",
              "    <tr>\n",
              "      <th>1</th>\n",
              "      <td>1</td>\n",
              "      <td>6</td>\n",
              "      <td>b</td>\n",
              "    </tr>\n",
              "    <tr>\n",
              "      <th>2</th>\n",
              "      <td>2</td>\n",
              "      <td>7</td>\n",
              "      <td>c</td>\n",
              "    </tr>\n",
              "    <tr>\n",
              "      <th>3</th>\n",
              "      <td>3</td>\n",
              "      <td>8</td>\n",
              "      <td>d</td>\n",
              "    </tr>\n",
              "    <tr>\n",
              "      <th>4</th>\n",
              "      <td>4</td>\n",
              "      <td>9</td>\n",
              "      <td>e</td>\n",
              "    </tr>\n",
              "  </tbody>\n",
              "</table>\n",
              "</div>"
            ],
            "text/plain": [
              "   A  B  C\n",
              "0  0  5  a\n",
              "1  1  6  b\n",
              "2  2  7  c\n",
              "3  3  8  d\n",
              "4  4  9  e"
            ]
          },
          "metadata": {},
          "execution_count": 96
        }
      ]
    },
    {
      "cell_type": "code",
      "metadata": {
        "colab": {
          "base_uri": "https://localhost:8080/",
          "height": 203
        },
        "id": "4IZUMKQ1Ut0D",
        "outputId": "a25a4676-6bb1-4bdb-9656-f7140078f11e"
      },
      "source": [
        "df.replace(0, 5)"
      ],
      "execution_count": null,
      "outputs": [
        {
          "output_type": "execute_result",
          "data": {
            "text/html": [
              "<div>\n",
              "<style scoped>\n",
              "    .dataframe tbody tr th:only-of-type {\n",
              "        vertical-align: middle;\n",
              "    }\n",
              "\n",
              "    .dataframe tbody tr th {\n",
              "        vertical-align: top;\n",
              "    }\n",
              "\n",
              "    .dataframe thead th {\n",
              "        text-align: right;\n",
              "    }\n",
              "</style>\n",
              "<table border=\"1\" class=\"dataframe\">\n",
              "  <thead>\n",
              "    <tr style=\"text-align: right;\">\n",
              "      <th></th>\n",
              "      <th>A</th>\n",
              "      <th>B</th>\n",
              "      <th>C</th>\n",
              "    </tr>\n",
              "  </thead>\n",
              "  <tbody>\n",
              "    <tr>\n",
              "      <th>0</th>\n",
              "      <td>5</td>\n",
              "      <td>5</td>\n",
              "      <td>a</td>\n",
              "    </tr>\n",
              "    <tr>\n",
              "      <th>1</th>\n",
              "      <td>1</td>\n",
              "      <td>6</td>\n",
              "      <td>b</td>\n",
              "    </tr>\n",
              "    <tr>\n",
              "      <th>2</th>\n",
              "      <td>2</td>\n",
              "      <td>7</td>\n",
              "      <td>c</td>\n",
              "    </tr>\n",
              "    <tr>\n",
              "      <th>3</th>\n",
              "      <td>3</td>\n",
              "      <td>8</td>\n",
              "      <td>d</td>\n",
              "    </tr>\n",
              "    <tr>\n",
              "      <th>4</th>\n",
              "      <td>4</td>\n",
              "      <td>9</td>\n",
              "      <td>e</td>\n",
              "    </tr>\n",
              "  </tbody>\n",
              "</table>\n",
              "</div>"
            ],
            "text/plain": [
              "   A  B  C\n",
              "0  5  5  a\n",
              "1  1  6  b\n",
              "2  2  7  c\n",
              "3  3  8  d\n",
              "4  4  9  e"
            ]
          },
          "metadata": {},
          "execution_count": 97
        }
      ]
    },
    {
      "cell_type": "code",
      "metadata": {
        "id": "3UYwNd97Una-"
      },
      "source": [
        "df.replace(\"?\",np.nan)"
      ],
      "execution_count": null,
      "outputs": []
    },
    {
      "cell_type": "code",
      "metadata": {
        "colab": {
          "base_uri": "https://localhost:8080/",
          "height": 172
        },
        "id": "x2NLJy3JU4DK",
        "outputId": "66c5b05d-08fc-4d24-9edf-58022fb053bb"
      },
      "source": [
        "df = pd.DataFrame([[np.nan, 2, np.nan, 0],\n",
        "                   [3, 4, np.nan, 1],\n",
        "                   [np.nan, np.nan, np.nan, 5],\n",
        "                   [np.nan, 3, np.nan, 4]],\n",
        "                  columns=list(\"ABCD\"))\n",
        "df"
      ],
      "execution_count": null,
      "outputs": [
        {
          "output_type": "execute_result",
          "data": {
            "text/html": [
              "<div>\n",
              "<style scoped>\n",
              "    .dataframe tbody tr th:only-of-type {\n",
              "        vertical-align: middle;\n",
              "    }\n",
              "\n",
              "    .dataframe tbody tr th {\n",
              "        vertical-align: top;\n",
              "    }\n",
              "\n",
              "    .dataframe thead th {\n",
              "        text-align: right;\n",
              "    }\n",
              "</style>\n",
              "<table border=\"1\" class=\"dataframe\">\n",
              "  <thead>\n",
              "    <tr style=\"text-align: right;\">\n",
              "      <th></th>\n",
              "      <th>A</th>\n",
              "      <th>B</th>\n",
              "      <th>C</th>\n",
              "      <th>D</th>\n",
              "    </tr>\n",
              "  </thead>\n",
              "  <tbody>\n",
              "    <tr>\n",
              "      <th>0</th>\n",
              "      <td>NaN</td>\n",
              "      <td>2.0</td>\n",
              "      <td>NaN</td>\n",
              "      <td>0</td>\n",
              "    </tr>\n",
              "    <tr>\n",
              "      <th>1</th>\n",
              "      <td>3.0</td>\n",
              "      <td>4.0</td>\n",
              "      <td>NaN</td>\n",
              "      <td>1</td>\n",
              "    </tr>\n",
              "    <tr>\n",
              "      <th>2</th>\n",
              "      <td>NaN</td>\n",
              "      <td>NaN</td>\n",
              "      <td>NaN</td>\n",
              "      <td>5</td>\n",
              "    </tr>\n",
              "    <tr>\n",
              "      <th>3</th>\n",
              "      <td>NaN</td>\n",
              "      <td>3.0</td>\n",
              "      <td>NaN</td>\n",
              "      <td>4</td>\n",
              "    </tr>\n",
              "  </tbody>\n",
              "</table>\n",
              "</div>"
            ],
            "text/plain": [
              "     A    B   C  D\n",
              "0  NaN  2.0 NaN  0\n",
              "1  3.0  4.0 NaN  1\n",
              "2  NaN  NaN NaN  5\n",
              "3  NaN  3.0 NaN  4"
            ]
          },
          "metadata": {},
          "execution_count": 98
        }
      ]
    },
    {
      "cell_type": "code",
      "metadata": {
        "colab": {
          "base_uri": "https://localhost:8080/"
        },
        "id": "WDBd4pu5U5sX",
        "outputId": "fd358b6b-322c-4e3d-8a76-0dcd48fa9a51"
      },
      "source": [
        "m = df[\"B\"].mean()\n",
        "m"
      ],
      "execution_count": null,
      "outputs": [
        {
          "output_type": "execute_result",
          "data": {
            "text/plain": [
              "3.0"
            ]
          },
          "metadata": {},
          "execution_count": 100
        }
      ]
    },
    {
      "cell_type": "code",
      "metadata": {
        "colab": {
          "base_uri": "https://localhost:8080/"
        },
        "id": "wqKmwxwmVINX",
        "outputId": "0ea87030-17ad-4042-82f0-e2739bb76206"
      },
      "source": [
        "df[\"B\"].fillna(m)"
      ],
      "execution_count": null,
      "outputs": [
        {
          "output_type": "execute_result",
          "data": {
            "text/plain": [
              "0    2.0\n",
              "1    4.0\n",
              "2    3.0\n",
              "3    3.0\n",
              "Name: B, dtype: float64"
            ]
          },
          "metadata": {},
          "execution_count": 101
        }
      ]
    },
    {
      "cell_type": "code",
      "metadata": {
        "id": "eDNWplNyU5pL"
      },
      "source": [
        "df[\"B\"] = df[\"B\"].fillna(m)"
      ],
      "execution_count": null,
      "outputs": []
    },
    {
      "cell_type": "code",
      "metadata": {
        "colab": {
          "base_uri": "https://localhost:8080/",
          "height": 172
        },
        "id": "QKurDlsbVSJe",
        "outputId": "00bfe288-07b2-462f-bead-a672b97221b3"
      },
      "source": [
        "df"
      ],
      "execution_count": null,
      "outputs": [
        {
          "output_type": "execute_result",
          "data": {
            "text/html": [
              "<div>\n",
              "<style scoped>\n",
              "    .dataframe tbody tr th:only-of-type {\n",
              "        vertical-align: middle;\n",
              "    }\n",
              "\n",
              "    .dataframe tbody tr th {\n",
              "        vertical-align: top;\n",
              "    }\n",
              "\n",
              "    .dataframe thead th {\n",
              "        text-align: right;\n",
              "    }\n",
              "</style>\n",
              "<table border=\"1\" class=\"dataframe\">\n",
              "  <thead>\n",
              "    <tr style=\"text-align: right;\">\n",
              "      <th></th>\n",
              "      <th>A</th>\n",
              "      <th>B</th>\n",
              "      <th>C</th>\n",
              "      <th>D</th>\n",
              "    </tr>\n",
              "  </thead>\n",
              "  <tbody>\n",
              "    <tr>\n",
              "      <th>0</th>\n",
              "      <td>NaN</td>\n",
              "      <td>2.0</td>\n",
              "      <td>NaN</td>\n",
              "      <td>0</td>\n",
              "    </tr>\n",
              "    <tr>\n",
              "      <th>1</th>\n",
              "      <td>3.0</td>\n",
              "      <td>4.0</td>\n",
              "      <td>NaN</td>\n",
              "      <td>1</td>\n",
              "    </tr>\n",
              "    <tr>\n",
              "      <th>2</th>\n",
              "      <td>NaN</td>\n",
              "      <td>3.0</td>\n",
              "      <td>NaN</td>\n",
              "      <td>5</td>\n",
              "    </tr>\n",
              "    <tr>\n",
              "      <th>3</th>\n",
              "      <td>NaN</td>\n",
              "      <td>3.0</td>\n",
              "      <td>NaN</td>\n",
              "      <td>4</td>\n",
              "    </tr>\n",
              "  </tbody>\n",
              "</table>\n",
              "</div>"
            ],
            "text/plain": [
              "     A    B   C  D\n",
              "0  NaN  2.0 NaN  0\n",
              "1  3.0  4.0 NaN  1\n",
              "2  NaN  3.0 NaN  5\n",
              "3  NaN  3.0 NaN  4"
            ]
          },
          "metadata": {},
          "execution_count": 104
        }
      ]
    },
    {
      "cell_type": "code",
      "metadata": {
        "colab": {
          "base_uri": "https://localhost:8080/"
        },
        "id": "23NqKiWrVyYg",
        "outputId": "c91b939d-fc37-4448-e539-3e73bcf2cedc"
      },
      "source": [
        "df[\"B\"].mode()"
      ],
      "execution_count": null,
      "outputs": [
        {
          "output_type": "execute_result",
          "data": {
            "text/plain": [
              "0    3.0\n",
              "dtype: float64"
            ]
          },
          "metadata": {},
          "execution_count": 105
        }
      ]
    },
    {
      "cell_type": "code",
      "metadata": {
        "id": "aftvuYjxYuIF"
      },
      "source": [
        "# Preparing a function that returns information on missing values\n",
        "def check_miss(data):\n",
        "    '''\n",
        "    Returns a sorted DataFrame that contains information about missing values in each column.\n",
        "    Null Values: Either the column has null values or not.\n",
        "    Count_Nulls: Number of null values\n",
        "    Percentage_Nulls: Percentage of null values\n",
        "    '''\n",
        "    cnull=[sum(data[y].isnull()) for y in data.columns]\n",
        "    miss=pd.DataFrame({'Col_name':data.columns,'Null Values':\n",
        "                        [any(data[x].isnull()) for x in data.columns],\n",
        "                    'Count_Nulls':cnull,\n",
        "                    'Percentage_Nulls':list((np.array(cnull)*100)/data.shape[0]),\n",
        "                    'DataType':list(data[x].dtype for x in data.columns)\n",
        "                      })\n",
        "    return miss.sort_values(by='Count_Nulls',ascending=False)"
      ],
      "execution_count": null,
      "outputs": []
    },
    {
      "cell_type": "code",
      "metadata": {
        "id": "ZGDY5Q8KYuIF"
      },
      "source": [
        "check_miss(data)"
      ],
      "execution_count": null,
      "outputs": []
    },
    {
      "cell_type": "markdown",
      "metadata": {
        "id": "UYuBJy_KYuIG"
      },
      "source": [
        "Almost every column has missing values."
      ]
    },
    {
      "cell_type": "code",
      "metadata": {
        "id": "mY3KfPo_YuIG"
      },
      "source": [
        "# Data with no dates should be deleted \n",
        "# It seams we have already dealt with the data with no dates\n",
        "data[data.Date.isna()]"
      ],
      "execution_count": null,
      "outputs": []
    },
    {
      "cell_type": "markdown",
      "metadata": {
        "id": "KG3piRehYuIH"
      },
      "source": [
        "##### Missingno Library"
      ]
    },
    {
      "cell_type": "code",
      "metadata": {
        "id": "54tOgwiFYuII"
      },
      "source": [
        "# Please wait while the library is installed\n",
        "!pip install missingno --quiet --disable-pip-version-check"
      ],
      "execution_count": null,
      "outputs": []
    },
    {
      "cell_type": "code",
      "metadata": {
        "id": "-PYRCNgQYuII"
      },
      "source": [
        "import missingno as mn"
      ],
      "execution_count": null,
      "outputs": []
    },
    {
      "cell_type": "code",
      "metadata": {
        "id": "nbw33ADaYuII"
      },
      "source": [
        "mn.matrix(data)"
      ],
      "execution_count": null,
      "outputs": []
    },
    {
      "cell_type": "code",
      "metadata": {
        "id": "nHVhwlr095i_"
      },
      "source": [
        "mn.bar(data)"
      ],
      "execution_count": null,
      "outputs": []
    },
    {
      "cell_type": "code",
      "metadata": {
        "id": "0s88091SYuIJ"
      },
      "source": [
        "data.info()"
      ],
      "execution_count": null,
      "outputs": []
    },
    {
      "cell_type": "code",
      "metadata": {
        "id": "Fk3tVqylYuIJ"
      },
      "source": [
        "# First we have to change the DataTypes for all the required columns\n",
        "data.ProductType=data.ProductType.astype('string')\n",
        "data.PaymentMode=data.PaymentMode.astype('string')\n",
        "data.Rating=data.Rating.astype('category')\n",
        "data.Gender=data.Gender.astype('category')\n",
        "data.PaymentMode=data.PaymentMode.astype('category')\n",
        "data.ShippingMode=data.ShippingMode.astype('string')\n",
        "data.Price=data.Price.astype('string')"
      ],
      "execution_count": null,
      "outputs": []
    },
    {
      "cell_type": "code",
      "metadata": {
        "id": "FsjFEfLUS7_I"
      },
      "source": [
        "data[\"ProductType\"].mode()[0]"
      ],
      "execution_count": null,
      "outputs": []
    },
    {
      "cell_type": "code",
      "metadata": {
        "id": "JxlbDO5-TIcR"
      },
      "source": [
        "data.PaymentMode.mode()[0]"
      ],
      "execution_count": null,
      "outputs": []
    },
    {
      "cell_type": "code",
      "metadata": {
        "id": "6pejNg0XYuIJ"
      },
      "source": [
        "# ProductType, and PaymentMode can be filled with mode\n",
        "# While State can be filled with NA, Gender with Unspecified\n",
        "# We can fill Price with mean values as we have made a sale for that day\n",
        "data.ProductType.fillna(data.ProductType.mode()[0],inplace=True)\n",
        "data.PaymentMode.fillna(data.PaymentMode.mode()[0],inplace=True)\n",
        "data.Gender.fillna('Unspecified',inplace=True)\n",
        "data.Rating.fillna(data.Rating.mode()[0],inplace=True)\n",
        "data.ShippingMode.fillna(data.ShippingMode.mode()[0],inplace=True)\n",
        "data.ShippingTime.fillna(data.ShippingTime.mean(),inplace=True)"
      ],
      "execution_count": null,
      "outputs": []
    },
    {
      "cell_type": "code",
      "metadata": {
        "id": "Kl9DaTTLYuIK"
      },
      "source": [
        "# Checking for missing data again\n",
        "check_miss(data)"
      ],
      "execution_count": null,
      "outputs": []
    },
    {
      "cell_type": "code",
      "metadata": {
        "id": "oCrsTVjvYuIK"
      },
      "source": [
        "# What if we used unclean data? How many Product Types would be?\n",
        "print('ProductType Before: ',uncleaned.ProductType.unique())"
      ],
      "execution_count": null,
      "outputs": []
    },
    {
      "cell_type": "code",
      "metadata": {
        "id": "wFMEh0U3YuIL"
      },
      "source": [
        "print('ProductType After: ',data.ProductType.unique())"
      ],
      "execution_count": null,
      "outputs": []
    },
    {
      "cell_type": "markdown",
      "metadata": {
        "id": "c0ymEKcvYuIM"
      },
      "source": [
        "We had an additional product type which is nan(np.nan/null value). This would have created inconsistencies in analysis. We still have to fill empty Price column but it is quite hard due to different currencies."
      ]
    },
    {
      "cell_type": "markdown",
      "metadata": {
        "id": "ScHP5Wg4YuIM"
      },
      "source": [
        "### Manipulating Values"
      ]
    },
    {
      "cell_type": "markdown",
      "metadata": {
        "id": "a2XEjbxOYuIM"
      },
      "source": [
        "There are typos in the ProductType. There can be in other categorical columns as well."
      ]
    },
    {
      "cell_type": "code",
      "metadata": {
        "id": "piRTSymPYuIN"
      },
      "source": [
        "data.head()"
      ],
      "execution_count": null,
      "outputs": []
    },
    {
      "cell_type": "code",
      "metadata": {
        "id": "qLJsgew1YuIN"
      },
      "source": [
        "def find_unique(data,cols):\n",
        "    '''\n",
        "    Returns a DataFrame that contains information about unique values for the column names provided.\n",
        "    data: DataFrame\n",
        "    cols: list of column names\n",
        "    '''\n",
        "    cnull=[sum(data[y].isnull()) for y in data.columns]\n",
        "    uq=pd.DataFrame({'Col_name':cols,\n",
        "                     'Count_':list(len(data[x].unique()) for x in cols),\n",
        "                    'Unique':list(data[x].unique() for x in cols),\n",
        "                      })\n",
        "    return uq"
      ],
      "execution_count": null,
      "outputs": []
    },
    {
      "cell_type": "code",
      "metadata": {
        "id": "qOQOTRIqYuIN"
      },
      "source": [
        "unq=find_unique(data,['ProductType','PaymentMode','Gender','Rating','ShippingMode'])\n",
        "unq"
      ],
      "execution_count": null,
      "outputs": []
    },
    {
      "cell_type": "markdown",
      "metadata": {
        "id": "8kz2D3qUYuIO"
      },
      "source": [
        "Rating, ProductType and PaymentMode has typos."
      ]
    },
    {
      "cell_type": "code",
      "metadata": {
        "id": "3Eqn2orIYuIO"
      },
      "source": [
        "print('ProductType: ',*unq.iloc[0,2],sep=' | ')\n",
        "print('PaymentMode: ',*unq.iloc[1,2],sep=' | ')\n",
        "print('Rating: ',*unq.iloc[3,2],sep=' | ')"
      ],
      "execution_count": null,
      "outputs": []
    },
    {
      "cell_type": "markdown",
      "metadata": {
        "id": "pjrQYavjYuIO"
      },
      "source": [
        "Typing errors: \n",
        "- __coates__ should be _Coats/Jackets_\n",
        "- __dresses__ should be _Dresses_\n",
        "- __pantas__ should be _Pants_\n",
        "- __Creditcard__ should be _Credit Card_\n",
        "- __Directdeposit__ should be _Direct Deposit_\n",
        "- __2star__ should be _2 star_"
      ]
    },
    {
      "cell_type": "code",
      "metadata": {
        "id": "5gad-orwYuIP"
      },
      "source": [
        "# Manipulating the values\n",
        "def change(i):\n",
        "    if i=='coates':\n",
        "        return 'Coats/Jackets'\n",
        "    elif i=='dresses ':\n",
        "        return 'Dresses'\n",
        "    elif i=='pantas':\n",
        "        return 'Pants'\n",
        "    else:\n",
        "        return i\n",
        "def change2(i):\n",
        "    if i=='Creditcard':\n",
        "        return 'Credit Card'\n",
        "    elif i=='Directdeposit':\n",
        "        return 'Direct Deposit'\n",
        "    else:\n",
        "        return i\n",
        "def change_rating(i):\n",
        "    if i=='2star':\n",
        "        return '2 star'\n",
        "    elif i=='1 start':\n",
        "        return '1 star'\n",
        "    else:\n",
        "        return i\n",
        "        \n",
        "data.PaymentMode=data.PaymentMode.apply(change2)\n",
        "data.ProductType=data.ProductType.apply(change)\n",
        "data.Rating=data.Rating.apply(change_rating)"
      ],
      "execution_count": null,
      "outputs": []
    },
    {
      "cell_type": "code",
      "metadata": {
        "id": "gA_iJp95YuIP"
      },
      "source": [
        "find_unique(data,['ProductType','PaymentMode','Gender','Rating','ShippingMode'])"
      ],
      "execution_count": null,
      "outputs": []
    },
    {
      "cell_type": "code",
      "metadata": {
        "id": "B9K1xZRZjjKH"
      },
      "source": [
        "data[\"ProductType\"].unique()"
      ],
      "execution_count": null,
      "outputs": []
    },
    {
      "cell_type": "code",
      "metadata": {
        "id": "wH1FFDwojvQn"
      },
      "source": [
        "data.info()"
      ],
      "execution_count": null,
      "outputs": []
    },
    {
      "cell_type": "code",
      "metadata": {
        "id": "pnVzB8wQYuIQ"
      },
      "source": [
        "# we will have to work with dates as well\n",
        "data.Date=pd.to_datetime(data.Date,dayfirst=True)"
      ],
      "execution_count": null,
      "outputs": []
    },
    {
      "cell_type": "code",
      "metadata": {
        "id": "FQbfYGr5YuIQ"
      },
      "source": [
        "data.head()"
      ],
      "execution_count": null,
      "outputs": []
    },
    {
      "cell_type": "code",
      "metadata": {
        "id": "OY3E61xQj9ol"
      },
      "source": [
        "data.info()"
      ],
      "execution_count": null,
      "outputs": []
    },
    {
      "cell_type": "markdown",
      "metadata": {
        "id": "7KQcC3PAYuIR"
      },
      "source": [
        "### Grouping"
      ]
    },
    {
      "cell_type": "markdown",
      "metadata": {
        "id": "Dsensc2AYuIR"
      },
      "source": [
        "Robin has to calculate average shipping time for each product type. Let's see how can he do this:"
      ]
    },
    {
      "cell_type": "code",
      "metadata": {
        "id": "MCmx8DGJk7Ki"
      },
      "source": [
        "data.groupby(\"ProductType\")[\"ShippingTime\"].mean()"
      ],
      "execution_count": null,
      "outputs": []
    },
    {
      "cell_type": "code",
      "metadata": {
        "id": "LtF_b2mMmViw"
      },
      "source": [
        "#mean,min,max\n",
        "#agg([])"
      ],
      "execution_count": null,
      "outputs": []
    },
    {
      "cell_type": "code",
      "metadata": {
        "id": "8g0cBE2JlNec"
      },
      "source": [
        "g = data.groupby(\"ProductType\")[\"ShippingTime\"]\n",
        "g.max()"
      ],
      "execution_count": null,
      "outputs": []
    },
    {
      "cell_type": "code",
      "metadata": {
        "id": "gOzvCTf5l09z"
      },
      "source": [
        "df = pd.DataFrame({'Animal': ['Falcon', 'Falcon',\n",
        "                              'Parrot', 'Parrot'],\n",
        "                   'Max Speed': [380., 370., 24., 26.]})\n",
        "df"
      ],
      "execution_count": null,
      "outputs": []
    },
    {
      "cell_type": "code",
      "metadata": {
        "id": "vlWCiy48l1t0"
      },
      "source": [
        "type(df.groupby(\"Animal\").mean())"
      ],
      "execution_count": null,
      "outputs": []
    },
    {
      "cell_type": "code",
      "metadata": {
        "id": "37EIpAf8mpPc"
      },
      "source": [
        "df.groupby(\"Animal\").agg([np.mean,max,min])"
      ],
      "execution_count": null,
      "outputs": []
    },
    {
      "cell_type": "code",
      "metadata": {
        "id": "eEilHTCAYuIR"
      },
      "source": [
        "print('Average shipping time for each product type: ')\n",
        "data.groupby('ProductType')[\"ShippingTime\"].agg([np.mean,max,min])"
      ],
      "execution_count": null,
      "outputs": []
    },
    {
      "cell_type": "code",
      "metadata": {
        "id": "1fSwAUKmAkez"
      },
      "source": [
        "print('Average shipping time for each product type: ')\n",
        "data.groupby('ProductType')[\"ShippingTime\"].agg(np.mean)"
      ],
      "execution_count": null,
      "outputs": []
    },
    {
      "cell_type": "code",
      "metadata": {
        "id": "p4jvNmlGYuIR"
      },
      "source": [
        "# checking groups present in the data\n",
        "grouped=data.groupby('Gender')\n",
        "grouped.groups"
      ],
      "execution_count": null,
      "outputs": []
    },
    {
      "cell_type": "code",
      "metadata": {
        "id": "k0KISIDCnJTD"
      },
      "source": [
        "data.head()"
      ],
      "execution_count": null,
      "outputs": []
    },
    {
      "cell_type": "code",
      "metadata": {
        "id": "kjBoLpD3YuIS"
      },
      "source": [
        "# First 5 records in group Male\n",
        "grouped.get_group('Male')[:5]"
      ],
      "execution_count": null,
      "outputs": []
    },
    {
      "cell_type": "code",
      "metadata": {
        "id": "SvZ8zkUsYuIS"
      },
      "source": [
        "print('Average shipping time for each Shipping mode: ')\n",
        "data.groupby('ShippingMode')[\"ShippingTime\"].agg([np.mean,max,min])"
      ],
      "execution_count": null,
      "outputs": []
    },
    {
      "cell_type": "code",
      "metadata": {
        "id": "-nSB4ZwdYuIT"
      },
      "source": [
        "print('Average total ratings for each product type based on Gender: ')\n",
        "new = data.groupby(['ProductType','Gender'])[\"Total_Ratings\"].agg([np.mean,max,min])\n",
        "new"
      ],
      "execution_count": null,
      "outputs": []
    },
    {
      "cell_type": "code",
      "metadata": {
        "id": "MHVASvZNn8do"
      },
      "source": [
        "new.reset_index()"
      ],
      "execution_count": null,
      "outputs": []
    },
    {
      "cell_type": "code",
      "metadata": {
        "id": "CAWg5x8RYuIT"
      },
      "source": [
        "print('Average shipping time for each product type based on Gender: ')\n",
        "data.groupby(['ProductType','Gender'])[\"ShippingTime\"].agg([np.mean,max,min])"
      ],
      "execution_count": null,
      "outputs": []
    },
    {
      "cell_type": "code",
      "metadata": {
        "id": "HJFY8L-3BL2u"
      },
      "source": [
        "data.head()"
      ],
      "execution_count": null,
      "outputs": []
    },
    {
      "cell_type": "markdown",
      "metadata": {
        "id": "FAOzqiXICD8Q"
      },
      "source": [
        "https://pandas.pydata.org/docs/reference/api/pandas.pivot_table.html"
      ]
    },
    {
      "cell_type": "code",
      "metadata": {
        "id": "anP2jQ-fYuIU"
      },
      "source": [
        "# Pandas provide an easy way to calculate the aggregate using pivot_table function\n",
        "print('Average shipping time for products ordered on days for each shipping mode:')\n",
        "pd.pivot_table(data,index='Date',columns='ShippingMode',values='ShippingTime')"
      ],
      "execution_count": null,
      "outputs": []
    },
    {
      "cell_type": "markdown",
      "metadata": {
        "id": "CS7shz41YuIU"
      },
      "source": [
        "### Filtering"
      ]
    },
    {
      "cell_type": "markdown",
      "metadata": {
        "id": "CNZM7WilYuIV"
      },
      "source": [
        "Robin wants entries belonging to state average expense more than 7800. Let's see how to get this:"
      ]
    },
    {
      "cell_type": "code",
      "metadata": {
        "id": "qruM8w-TqPzN"
      },
      "source": [
        "data.groupby(\"ProductType\")[\"Total_Ratings\"].mean()"
      ],
      "execution_count": null,
      "outputs": []
    },
    {
      "cell_type": "code",
      "metadata": {
        "id": "KW7wUtG8YuIV"
      },
      "source": [
        "data.groupby('ProductType').filter(lambda val:val['Total_Ratings'].mean()>7800)"
      ],
      "execution_count": null,
      "outputs": []
    },
    {
      "cell_type": "markdown",
      "metadata": {
        "id": "btTJOrA1YuIV"
      },
      "source": [
        "### Tranforming"
      ]
    },
    {
      "cell_type": "code",
      "metadata": {
        "id": "JjRkf6PPYuIW"
      },
      "source": [
        "from bs4 import BeautifulSoup\n",
        "import requests as rq"
      ],
      "execution_count": null,
      "outputs": []
    },
    {
      "cell_type": "code",
      "metadata": {
        "id": "DaLCALNSYuIW"
      },
      "source": [
        "# Let's check for missing values \n",
        "check_miss(data)"
      ],
      "execution_count": null,
      "outputs": []
    },
    {
      "cell_type": "markdown",
      "metadata": {
        "id": "m5Umldg6YuIW"
      },
      "source": [
        "##### There is still a missing value in Price column"
      ]
    },
    {
      "cell_type": "code",
      "metadata": {
        "id": "SDT-WQk6YuIa"
      },
      "source": [
        "data[data.Price.isna()==True]"
      ],
      "execution_count": null,
      "outputs": []
    },
    {
      "cell_type": "markdown",
      "metadata": {
        "id": "wDu2uuFlYuIb"
      },
      "source": [
        "##### We will convert the value to 0 for now."
      ]
    },
    {
      "cell_type": "code",
      "metadata": {
        "id": "KpY05hxwED6C"
      },
      "source": [
        "# Getting all the exchange rates\n",
        "res=rq.get('https://x-rates.com/table/?from=USD&amount=1')\n",
        "soup=BeautifulSoup(res.content)\n",
        "soup.tbody"
      ],
      "execution_count": null,
      "outputs": []
    },
    {
      "cell_type": "code",
      "metadata": {
        "id": "rr0adT4pYuIb"
      },
      "source": [
        "# Getting all the exchange rates\n",
        "res=rq.get('https://x-rates.com/table/?from=USD&amount=1')\n",
        "soup=BeautifulSoup(res.content)\n",
        "qq=soup.tbody\n",
        "erate=[]\n",
        "for i in qq.find_all('td',class_='rtRates')[1:6:2]:\n",
        "    erate.append(float(i.text))"
      ],
      "execution_count": null,
      "outputs": []
    },
    {
      "cell_type": "code",
      "metadata": {
        "id": "w9ydEiPJvrHA"
      },
      "source": [
        "qq.find_all('td',class_='rtRates')"
      ],
      "execution_count": null,
      "outputs": []
    },
    {
      "cell_type": "code",
      "metadata": {
        "id": "0-JFJ2kgv6sc"
      },
      "source": [
        "qq.find_all('td',class_='rtRates')[1:6:2]"
      ],
      "execution_count": null,
      "outputs": []
    },
    {
      "cell_type": "code",
      "metadata": {
        "id": "wttE1oImEgMr"
      },
      "source": [
        "erate"
      ],
      "execution_count": null,
      "outputs": []
    },
    {
      "cell_type": "code",
      "metadata": {
        "id": "F_FPlZLZYuIc"
      },
      "source": [
        "currency=['$','€','£','₹']"
      ],
      "execution_count": null,
      "outputs": []
    },
    {
      "cell_type": "code",
      "metadata": {
        "id": "nOv8Lmops9c4"
      },
      "source": [
        "\"$\" in \"$21,312,321.13\""
      ],
      "execution_count": null,
      "outputs": []
    },
    {
      "cell_type": "code",
      "metadata": {
        "id": "CZqTk1GxYuId"
      },
      "source": [
        "def currency(i):\n",
        "    if pd.isna(i):\n",
        "        return ''\n",
        "    if '$' in i:\n",
        "        return 'American Dollar'\n",
        "    elif '€' in i:\n",
        "        return 'Euro'\n",
        "    elif '£' in i:\n",
        "        return 'British Pound'\n",
        "    elif '₹' in i:\n",
        "        return 'Indian Rupee'\n",
        "    else:\n",
        "        return ''"
      ],
      "execution_count": null,
      "outputs": []
    },
    {
      "cell_type": "code",
      "metadata": {
        "id": "Z0_yeAHTYuId"
      },
      "source": [
        "PaidCurrency=data[\"Price\"].apply(currency)"
      ],
      "execution_count": null,
      "outputs": []
    },
    {
      "cell_type": "code",
      "metadata": {
        "id": "gGEIhrkHtS75"
      },
      "source": [
        "PaidCurrency"
      ],
      "execution_count": null,
      "outputs": []
    },
    {
      "cell_type": "code",
      "metadata": {
        "id": "jh93ZOdwYuIe"
      },
      "source": [
        "data['PaidCurrency']=PaidCurrency"
      ],
      "execution_count": null,
      "outputs": []
    },
    {
      "cell_type": "code",
      "metadata": {
        "id": "vLgfPHoDYuIe"
      },
      "source": [
        "data['Price_dollar']=data.Price"
      ],
      "execution_count": null,
      "outputs": []
    },
    {
      "cell_type": "code",
      "metadata": {
        "id": "0vxLEF7UE_iw"
      },
      "source": [
        "data"
      ],
      "execution_count": null,
      "outputs": []
    },
    {
      "cell_type": "code",
      "metadata": {
        "id": "fmYOuu5xYuIi"
      },
      "source": [
        "data.Price_dollar=data.Price_dollar.str.replace('$','')\n",
        "data.Price_dollar=data.Price_dollar.str.replace('€','')\n",
        "data.Price_dollar=data.Price_dollar.str.replace('£','')\n",
        "data.Price_dollar=data.Price_dollar.str.replace('₹','')\n",
        "data.Price_dollar=data.Price_dollar.str.replace(',','')"
      ],
      "execution_count": null,
      "outputs": []
    },
    {
      "cell_type": "code",
      "metadata": {
        "id": "RpbtaPwZYuIi"
      },
      "source": [
        "data.Price_dollar.fillna('0',inplace=True)"
      ],
      "execution_count": null,
      "outputs": []
    },
    {
      "cell_type": "code",
      "metadata": {
        "id": "T-pR8mAbYuIi"
      },
      "source": [
        "data.Price_dollar=data.Price_dollar.astype('float')"
      ],
      "execution_count": null,
      "outputs": []
    },
    {
      "cell_type": "code",
      "metadata": {
        "id": "tQI63h4RE4Cw"
      },
      "source": [
        "data.head()"
      ],
      "execution_count": null,
      "outputs": []
    },
    {
      "cell_type": "code",
      "metadata": {
        "id": "2ZJj2SeCYuIj"
      },
      "source": [
        "price_dollar=[]\n",
        "for i in range(100):\n",
        "    try:\n",
        "        if data.PaidCurrency[i]=='Indian Rupee':\n",
        "            price_dollar.append(data.Price_dollar[i]*erate[2])\n",
        "        elif data.PaidCurrency[i]=='British Pound':\n",
        "            price_dollar.append(data.Price_dollar[i]*erate[1])\n",
        "        elif data.PaidCurrency[i]=='Euro':\n",
        "            price_dollar.append(data.Price_dollar[i]*erate[0])\n",
        "        else:\n",
        "            price_dollar.append(data.Price_dollar[i])\n",
        "    except KeyError:\n",
        "        continue"
      ],
      "execution_count": null,
      "outputs": []
    },
    {
      "cell_type": "code",
      "metadata": {
        "id": "Fb09-fodYuIk"
      },
      "source": [
        "data.Price_dollar=price_dollar"
      ],
      "execution_count": null,
      "outputs": []
    },
    {
      "cell_type": "code",
      "metadata": {
        "id": "45_dTAJzYuIk"
      },
      "source": [
        "data.head()"
      ],
      "execution_count": null,
      "outputs": []
    },
    {
      "cell_type": "code",
      "metadata": {
        "id": "8QaQA_PNYuIk"
      },
      "source": [
        "data[['CustomerID','Price','PaidCurrency']].head(9)"
      ],
      "execution_count": null,
      "outputs": []
    },
    {
      "cell_type": "code",
      "metadata": {
        "id": "7ng9-F6IYuIl"
      },
      "source": [
        "# Since we have just transformed the Price ranges we will have to recheck for missing values and outliers again\n",
        "data.boxplot(column='Price_dollar')"
      ],
      "execution_count": null,
      "outputs": []
    },
    {
      "cell_type": "markdown",
      "metadata": {
        "id": "3jUqwtQPYuIl"
      },
      "source": [
        "There are 3 outliers present in the data."
      ]
    },
    {
      "cell_type": "code",
      "metadata": {
        "id": "EL-Vy1ZKYuIl"
      },
      "source": [
        "# Pandas allows you to get quantiles using quantile function\n",
        "Q1 = data['Price_dollar'].quantile(0.25)\n",
        "Q3 = data['Price_dollar'].quantile(0.75)\n",
        "IQR = Q3 - Q1"
      ],
      "execution_count": null,
      "outputs": []
    },
    {
      "cell_type": "code",
      "metadata": {
        "id": "1LAnATFaYuIm"
      },
      "source": [
        "print('The IQR value is',IQR)"
      ],
      "execution_count": null,
      "outputs": []
    },
    {
      "cell_type": "code",
      "metadata": {
        "id": "7GHPUfPcYuIm"
      },
      "source": [
        "# Let's see which entries are outliers\n",
        "outliers=data[(data.Price_dollar < (Q1 - 1.5 * IQR)) |(data.Price_dollar > (Q3 + 1.5 * IQR))]"
      ],
      "execution_count": null,
      "outputs": []
    },
    {
      "cell_type": "code",
      "metadata": {
        "id": "LfYG8t0CYuIm"
      },
      "source": [
        "outliers"
      ],
      "execution_count": null,
      "outputs": []
    },
    {
      "cell_type": "code",
      "metadata": {
        "id": "L8Hrr3UoYuIn"
      },
      "source": [
        "data.drop([9,16,29],axis=0,inplace=True)"
      ],
      "execution_count": null,
      "outputs": []
    },
    {
      "cell_type": "code",
      "metadata": {
        "id": "QC6EV4pPYuIn"
      },
      "source": [
        "# lets try to filter entries with product type average expense is more than 6000\n",
        "data.groupby('ProductType').filter(lambda val:val['Price_dollar'].mean()>6000)"
      ],
      "execution_count": null,
      "outputs": []
    },
    {
      "cell_type": "markdown",
      "metadata": {
        "id": "U_DBFSjtYuIo"
      },
      "source": [
        "### Encoding"
      ]
    },
    {
      "cell_type": "markdown",
      "metadata": {
        "id": "vXhQwIqeYuIo"
      },
      "source": [
        "#### LabelEncoder"
      ]
    },
    {
      "cell_type": "markdown",
      "metadata": {
        "id": "qA8so9f0YuIo"
      },
      "source": [
        "Scikit-learn(__sklearn__) is a famous machine learning library which provides a number of data preprocessing methods and machine learning algorithms. \n"
      ]
    },
    {
      "cell_type": "code",
      "metadata": {
        "id": "3NWpQg-cYuIo"
      },
      "source": [
        "from sklearn.preprocessing import LabelEncoder"
      ],
      "execution_count": null,
      "outputs": []
    },
    {
      "cell_type": "code",
      "metadata": {
        "id": "XirSU0sKYuIp"
      },
      "source": [
        "data[['CustomerID','ProductType','Rating','ShippingMode']].head(9)"
      ],
      "execution_count": null,
      "outputs": []
    },
    {
      "cell_type": "code",
      "metadata": {
        "id": "Bpl3tT57YuIp"
      },
      "source": [
        "encoded_data=data.copy()"
      ],
      "execution_count": null,
      "outputs": []
    },
    {
      "cell_type": "code",
      "metadata": {
        "id": "aOmqPS5rLQI0"
      },
      "source": [
        "le = LabelEncoder()"
      ],
      "execution_count": null,
      "outputs": []
    },
    {
      "cell_type": "code",
      "metadata": {
        "id": "HttTcDUpLQvg"
      },
      "source": [
        "le.fit(encoded_data[\"Rating\"])"
      ],
      "execution_count": null,
      "outputs": []
    },
    {
      "cell_type": "code",
      "metadata": {
        "id": "ivjFIphvLV1_"
      },
      "source": [
        "le.classes_"
      ],
      "execution_count": null,
      "outputs": []
    },
    {
      "cell_type": "code",
      "metadata": {
        "id": "pDHazFpkLm98"
      },
      "source": [
        "encoded_data[\"Rating\"]"
      ],
      "execution_count": null,
      "outputs": []
    },
    {
      "cell_type": "code",
      "metadata": {
        "id": "yLeLriJdLfoL"
      },
      "source": [
        "converted_data = le.transform(encoded_data[\"Rating\"])"
      ],
      "execution_count": null,
      "outputs": []
    },
    {
      "cell_type": "code",
      "metadata": {
        "id": "Xl6pcpOZLq2y"
      },
      "source": [
        "converted_data"
      ],
      "execution_count": null,
      "outputs": []
    },
    {
      "cell_type": "code",
      "metadata": {
        "id": "TV6SZt1HL2tX"
      },
      "source": [
        "le.fit(encoded_data[\"Rating\"]).transform(encoded_data[\"Rating\"])"
      ],
      "execution_count": null,
      "outputs": []
    },
    {
      "cell_type": "code",
      "metadata": {
        "id": "TY_SoYJAMCmP"
      },
      "source": [
        "le.fit_transform(encoded_data[\"Rating\"])"
      ],
      "execution_count": null,
      "outputs": []
    },
    {
      "cell_type": "code",
      "metadata": {
        "id": "1_uRx-RNGBcG"
      },
      "source": [
        "le.classes_"
      ],
      "execution_count": null,
      "outputs": []
    },
    {
      "cell_type": "code",
      "metadata": {
        "id": "_wlladsfGKDw"
      },
      "source": [
        "le.inverse_transform([2])"
      ],
      "execution_count": null,
      "outputs": []
    },
    {
      "cell_type": "code",
      "metadata": {
        "id": "FuTPFRZrMfEB"
      },
      "source": [
        "encoded_data[\"LE\"] = le.fit_transform(encoded_data[\"Rating\"])\n",
        "encoded_data.head()"
      ],
      "execution_count": null,
      "outputs": []
    },
    {
      "cell_type": "markdown",
      "metadata": {
        "id": "larKnJPuYuIq"
      },
      "source": [
        "#### Mapping"
      ]
    },
    {
      "cell_type": "code",
      "metadata": {
        "id": "4yeEyNRyYuIq"
      },
      "source": [
        "encoded_data=data.copy()"
      ],
      "execution_count": null,
      "outputs": []
    },
    {
      "cell_type": "code",
      "metadata": {
        "id": "pAw2LoovYuIq"
      },
      "source": [
        "def map_rating(i):\n",
        "    if i=='1 star':\n",
        "        return 0\n",
        "    elif i=='2 star':\n",
        "        return 1\n",
        "    elif i=='3 star':\n",
        "        return 2\n",
        "    elif i=='4 star':\n",
        "        return 3\n",
        "    elif i=='5 star':\n",
        "        return 4\n",
        "    else:\n",
        "        return -1"
      ],
      "execution_count": null,
      "outputs": []
    },
    {
      "cell_type": "code",
      "metadata": {
        "id": "goLRVvARYuIq"
      },
      "source": [
        "encoded_data[\"Rating\"]=encoded_data[\"Rating\"].map(map_rating)"
      ],
      "execution_count": null,
      "outputs": []
    },
    {
      "cell_type": "code",
      "metadata": {
        "id": "Wj_JwpipYuIr"
      },
      "source": [
        "encoded_data.head()"
      ],
      "execution_count": null,
      "outputs": []
    },
    {
      "cell_type": "markdown",
      "metadata": {
        "id": "yYVknzROYuIr"
      },
      "source": [
        "#### OneHotEncoder"
      ]
    },
    {
      "cell_type": "code",
      "metadata": {
        "id": "KDHzcPmtYuIr"
      },
      "source": [
        "encoded_data=data.copy()"
      ],
      "execution_count": null,
      "outputs": []
    },
    {
      "cell_type": "code",
      "metadata": {
        "id": "LAhghnB9YuIs"
      },
      "source": [
        "encoded_data[['CustomerID','ProductType','Rating','ShippingMode']].head()"
      ],
      "execution_count": null,
      "outputs": []
    },
    {
      "cell_type": "code",
      "metadata": {
        "id": "sTWJlySEYuIs"
      },
      "source": [
        "from sklearn.preprocessing import OneHotEncoder"
      ],
      "execution_count": null,
      "outputs": []
    },
    {
      "cell_type": "code",
      "metadata": {
        "id": "ax-QgvTROvTG"
      },
      "source": [
        "encoded_data[\"Rating\"].values.shape"
      ],
      "execution_count": null,
      "outputs": []
    },
    {
      "cell_type": "code",
      "metadata": {
        "id": "6HaemLBtO4Mh"
      },
      "source": [
        "encoded_data[\"Rating\"].values.reshape(-1,1).shape"
      ],
      "execution_count": null,
      "outputs": []
    },
    {
      "cell_type": "code",
      "metadata": {
        "id": "DHyucsNZOOT9"
      },
      "source": [
        "ohe = OneHotEncoder()\n",
        "out = ohe.fit_transform(encoded_data[\"Rating\"].values.reshape(-1,1)).toarray()\n",
        "df_out = pd.DataFrame(out)\n",
        "df_out.head()"
      ],
      "execution_count": null,
      "outputs": []
    },
    {
      "cell_type": "code",
      "metadata": {
        "id": "jiwsvJ_SSWTz"
      },
      "source": [
        "ohe.categories_"
      ],
      "execution_count": null,
      "outputs": []
    },
    {
      "cell_type": "code",
      "metadata": {
        "id": "zmq7ecWJYuIs"
      },
      "source": [
        "lbe=LabelEncoder()"
      ],
      "execution_count": null,
      "outputs": []
    },
    {
      "cell_type": "code",
      "metadata": {
        "id": "P5KP0xsLYuIt"
      },
      "source": [
        "encoded_data['ProductType_lbl']=lbe.fit_transform(encoded_data.ProductType)"
      ],
      "execution_count": null,
      "outputs": []
    },
    {
      "cell_type": "code",
      "metadata": {
        "id": "5Gpp3FJNYuIt"
      },
      "source": [
        "ohe=OneHotEncoder(handle_unknown='ignore')"
      ],
      "execution_count": null,
      "outputs": []
    },
    {
      "cell_type": "code",
      "metadata": {
        "id": "G7BXdbd1Qw3J"
      },
      "source": [
        "encoded_data.head()"
      ],
      "execution_count": null,
      "outputs": []
    },
    {
      "cell_type": "code",
      "metadata": {
        "id": "TdTkDgZsYuIw"
      },
      "source": [
        "out=pd.DataFrame(ohe.fit_transform(encoded_data[['ProductType_lbl']]).toarray())"
      ],
      "execution_count": null,
      "outputs": []
    },
    {
      "cell_type": "code",
      "metadata": {
        "id": "gNfzQhw_Q-CP"
      },
      "source": [
        "out"
      ],
      "execution_count": null,
      "outputs": []
    },
    {
      "cell_type": "code",
      "metadata": {
        "id": "4TQaogq3R5Gu"
      },
      "source": [
        "lbe.classes_"
      ],
      "execution_count": null,
      "outputs": []
    },
    {
      "cell_type": "code",
      "metadata": {
        "id": "B4FYsB1-R9iX"
      },
      "source": [
        "ohe.categories_"
      ],
      "execution_count": null,
      "outputs": []
    },
    {
      "cell_type": "code",
      "metadata": {
        "id": "DkzveLEDSLtx"
      },
      "source": [
        ""
      ],
      "execution_count": null,
      "outputs": []
    },
    {
      "cell_type": "code",
      "metadata": {
        "id": "p1lGGAxEYuIx"
      },
      "source": [
        "# Merge the dataframe\n",
        "encoded_data = encoded_data.join(out)"
      ],
      "execution_count": null,
      "outputs": []
    },
    {
      "cell_type": "code",
      "metadata": {
        "id": "JoE2_QqcYuIx"
      },
      "source": [
        "encoded_data.drop(['CustomerID','Rating','ShippingMode','Total_Ratings','Gender','PaymentMode',\n",
        "                   'ShippingTime','Price','Price_dollar','PaidCurrency'],axis=1).head()"
      ],
      "execution_count": null,
      "outputs": []
    },
    {
      "cell_type": "code",
      "metadata": {
        "id": "m7nVdwlnS0Z9"
      },
      "source": [
        "import numpy as np\n",
        "x = np.random.random((2,2))\n",
        "x.shape"
      ],
      "execution_count": null,
      "outputs": []
    },
    {
      "cell_type": "code",
      "metadata": {
        "id": "W3KB5uCTS-Nl"
      },
      "source": [
        "x"
      ],
      "execution_count": null,
      "outputs": []
    },
    {
      "cell_type": "code",
      "metadata": {
        "id": "o3J30oRBS-n-"
      },
      "source": [
        "a = x.reshape(1,-1)\n",
        "a.shape"
      ],
      "execution_count": null,
      "outputs": []
    },
    {
      "cell_type": "code",
      "metadata": {
        "id": "d1xbPmvSTP8I"
      },
      "source": [
        "x.shape"
      ],
      "execution_count": null,
      "outputs": []
    },
    {
      "cell_type": "code",
      "metadata": {
        "id": "HF0d1lXYTRDv"
      },
      "source": [
        "b = x.reshape(-1,1)\n",
        "b.shape"
      ],
      "execution_count": null,
      "outputs": []
    },
    {
      "cell_type": "code",
      "metadata": {
        "id": "JvgkLgz4TWYm"
      },
      "source": [
        "b"
      ],
      "execution_count": null,
      "outputs": []
    },
    {
      "cell_type": "code",
      "metadata": {
        "id": "6mox-IE6TZqU"
      },
      "source": [
        "y = np.random.random(5)\n",
        "y.shape"
      ],
      "execution_count": null,
      "outputs": []
    },
    {
      "cell_type": "code",
      "metadata": {
        "id": "FNgLetCXTf7T"
      },
      "source": [
        "y"
      ],
      "execution_count": null,
      "outputs": []
    },
    {
      "cell_type": "code",
      "metadata": {
        "id": "HV9pvWOrTn5W"
      },
      "source": [
        "y.reshape(-1,1)"
      ],
      "execution_count": null,
      "outputs": []
    },
    {
      "cell_type": "code",
      "metadata": {
        "id": "DdZfsvfTTqrw"
      },
      "source": [
        "y.reshape(1,-1)"
      ],
      "execution_count": null,
      "outputs": []
    },
    {
      "cell_type": "markdown",
      "metadata": {
        "id": "-Fz8U_a-YuIy"
      },
      "source": [
        "#### Pandas Dummies"
      ]
    },
    {
      "cell_type": "code",
      "metadata": {
        "id": "EsAe9MSmYuIy"
      },
      "source": [
        "# We can simply do the similar thing using pandas dummies\n",
        "encoded_data=data.copy()"
      ],
      "execution_count": null,
      "outputs": []
    },
    {
      "cell_type": "code",
      "metadata": {
        "id": "tjR-UAlSYuIz"
      },
      "source": [
        "encoded_data=pd.get_dummies(encoded_data,columns=['ProductType'])"
      ],
      "execution_count": null,
      "outputs": []
    },
    {
      "cell_type": "code",
      "metadata": {
        "id": "vI7m0-9fYuIz"
      },
      "source": [
        "encoded_data.drop(['CustomerID','Rating','ShippingMode','Total_Ratings','Gender','PaymentMode',\n",
        "                   'ShippingTime','Price','Price_dollar','PaidCurrency'],axis=1).head()"
      ],
      "execution_count": null,
      "outputs": []
    },
    {
      "cell_type": "markdown",
      "metadata": {
        "id": "a29P83_PYuI0"
      },
      "source": [
        "It is more convenient to use dummies as it reduces a lot of clutter in the code."
      ]
    },
    {
      "cell_type": "markdown",
      "metadata": {
        "id": "nL8e6HC8YuI0"
      },
      "source": [
        "#### LabelBinarizer"
      ]
    },
    {
      "cell_type": "code",
      "metadata": {
        "id": "COwR6cqQYuI0"
      },
      "source": [
        "from sklearn.preprocessing import LabelBinarizer"
      ],
      "execution_count": null,
      "outputs": []
    },
    {
      "cell_type": "code",
      "metadata": {
        "id": "WHUXn7v-YuI0"
      },
      "source": [
        "encoded_data=data.copy()"
      ],
      "execution_count": null,
      "outputs": []
    },
    {
      "cell_type": "code",
      "metadata": {
        "id": "KQwp1IoZYuI1"
      },
      "source": [
        "lbz=LabelBinarizer()"
      ],
      "execution_count": null,
      "outputs": []
    },
    {
      "cell_type": "code",
      "metadata": {
        "id": "z0JjV2rBYuI1"
      },
      "source": [
        "lbz.fit_transform(encoded_data.ProductType)[:5]"
      ],
      "execution_count": null,
      "outputs": []
    },
    {
      "cell_type": "markdown",
      "metadata": {
        "id": "AbwKF1qKYuI1"
      },
      "source": [
        "As you can see LabelBinarizer returns a 2D array just like OneHotEncoder"
      ]
    },
    {
      "cell_type": "markdown",
      "metadata": {
        "id": "Ovx2Ts5-YuI2"
      },
      "source": [
        "#### Target Encoding - LeaveOneOut Encoder"
      ]
    },
    {
      "cell_type": "code",
      "metadata": {
        "id": "R62TawS4YuI2"
      },
      "source": [
        "# Please wait while the library is installed\n",
        "!pip install category-encoders --quiet  --disable-pip-version-check"
      ],
      "execution_count": null,
      "outputs": []
    },
    {
      "cell_type": "code",
      "metadata": {
        "id": "kmEeQLduYuI2"
      },
      "source": [
        "from category_encoders import LeaveOneOutEncoder"
      ],
      "execution_count": null,
      "outputs": []
    },
    {
      "cell_type": "code",
      "metadata": {
        "id": "kIIrL9gcUg5a"
      },
      "source": [
        "data.head()"
      ],
      "execution_count": null,
      "outputs": []
    },
    {
      "cell_type": "code",
      "metadata": {
        "id": "PNU6UNVXYuI2"
      },
      "source": [
        "X=data.drop('Price_dollar',axis=1)\n",
        "y=data.Price_dollar"
      ],
      "execution_count": null,
      "outputs": []
    },
    {
      "cell_type": "code",
      "metadata": {
        "id": "fOYuB7J9YuI3"
      },
      "source": [
        "lo=LeaveOneOutEncoder(cols=['ShippingMode'])"
      ],
      "execution_count": null,
      "outputs": []
    },
    {
      "cell_type": "code",
      "metadata": {
        "id": "2VxsIyX-YuI4"
      },
      "source": [
        "lo.fit(X,y)"
      ],
      "execution_count": null,
      "outputs": []
    },
    {
      "cell_type": "code",
      "metadata": {
        "id": "Js0r1JzbYuI4"
      },
      "source": [
        "data[['CustomerID','ShippingMode']].head(5)"
      ],
      "execution_count": null,
      "outputs": []
    },
    {
      "cell_type": "code",
      "metadata": {
        "id": "-s6wF8vWYuI7"
      },
      "source": [
        "lo.transform(X)[['CustomerID','ShippingMode']].head(5)"
      ],
      "execution_count": null,
      "outputs": []
    },
    {
      "cell_type": "markdown",
      "metadata": {
        "id": "HxFNke9JYuI7"
      },
      "source": [
        "### Scaling"
      ]
    },
    {
      "cell_type": "markdown",
      "metadata": {
        "id": "BSfFp64PYuI8"
      },
      "source": [
        "#### StandardScaler"
      ]
    },
    {
      "cell_type": "code",
      "metadata": {
        "id": "T82f1n56YuI8"
      },
      "source": [
        "data.head()"
      ],
      "execution_count": null,
      "outputs": []
    },
    {
      "cell_type": "code",
      "metadata": {
        "id": "-V_DZTpUYuI9"
      },
      "source": [
        "data[['Total_Ratings','ShippingTime','Price_dollar']].agg([np.mean,max,min])"
      ],
      "execution_count": null,
      "outputs": []
    },
    {
      "cell_type": "code",
      "metadata": {
        "id": "bPqcGzjkYuI9"
      },
      "source": [
        "data[['Total_Ratings','ShippingTime','Price_dollar']].boxplot()"
      ],
      "execution_count": null,
      "outputs": []
    },
    {
      "cell_type": "markdown",
      "metadata": {
        "id": "HjWigWliYuI-"
      },
      "source": [
        "Clearly, there is difference is scales in features."
      ]
    },
    {
      "cell_type": "code",
      "metadata": {
        "id": "SwnKOxYkYuJH"
      },
      "source": [
        "scaled_data=data.copy()"
      ],
      "execution_count": null,
      "outputs": []
    },
    {
      "cell_type": "code",
      "metadata": {
        "id": "02vxErliYuJJ"
      },
      "source": [
        "from sklearn.preprocessing import StandardScaler"
      ],
      "execution_count": null,
      "outputs": []
    },
    {
      "cell_type": "code",
      "metadata": {
        "id": "T63GQxZ0YuJJ"
      },
      "source": [
        "scl_tr=StandardScaler() # scaling total ratings\n",
        "scl_st=StandardScaler() # scaling shipping time\n",
        "scl_pd=StandardScaler() # scaling price in dollars"
      ],
      "execution_count": null,
      "outputs": []
    },
    {
      "cell_type": "code",
      "metadata": {
        "id": "Ug8W1sqZYuJK"
      },
      "source": [
        "scaled_data.Total_Ratings=scl_tr.fit_transform(scaled_data[['Total_Ratings']])\n",
        "scaled_data.ShippingTime=scl_st.fit_transform(scaled_data[['ShippingTime']])\n",
        "scaled_data.Price_dollar=scl_pd.fit_transform(scaled_data[['Price_dollar']])"
      ],
      "execution_count": null,
      "outputs": []
    },
    {
      "cell_type": "code",
      "metadata": {
        "id": "2ZWe57ZqYuJL"
      },
      "source": [
        "scaled_data[['Total_Ratings','ShippingTime','Price_dollar']].boxplot()"
      ],
      "execution_count": null,
      "outputs": []
    },
    {
      "cell_type": "code",
      "metadata": {
        "id": "AgTeLNthg3x3"
      },
      "source": [
        "scaled_data.describe()"
      ],
      "execution_count": null,
      "outputs": []
    },
    {
      "cell_type": "markdown",
      "metadata": {
        "id": "gQSefYXNYuJM"
      },
      "source": [
        "#### MinMaxScaler"
      ]
    },
    {
      "cell_type": "code",
      "metadata": {
        "id": "fYqQaso2YuJM"
      },
      "source": [
        "scaled_data=data.copy()"
      ],
      "execution_count": null,
      "outputs": []
    },
    {
      "cell_type": "code",
      "metadata": {
        "id": "_RJNIIQ-YuJN"
      },
      "source": [
        "from sklearn.preprocessing import MinMaxScaler"
      ],
      "execution_count": null,
      "outputs": []
    },
    {
      "cell_type": "code",
      "metadata": {
        "id": "9UCaCqA2YuJN"
      },
      "source": [
        "mcl_tr=MinMaxScaler() # scaling total ratings\n",
        "mcl_st=MinMaxScaler() # scaling shipping time\n",
        "mcl_pd=MinMaxScaler() # scaling price in dollars"
      ],
      "execution_count": null,
      "outputs": []
    },
    {
      "cell_type": "code",
      "metadata": {
        "id": "uCMNMWfwYuJO"
      },
      "source": [
        "scaled_data.Total_Ratings=mcl_tr.fit_transform(scaled_data[['Total_Ratings']])\n",
        "scaled_data.ShippingTime=mcl_st.fit_transform(scaled_data[['ShippingTime']])\n",
        "scaled_data.Price_dollar=mcl_pd.fit_transform(scaled_data[['Price_dollar']])"
      ],
      "execution_count": null,
      "outputs": []
    },
    {
      "cell_type": "code",
      "metadata": {
        "id": "pz00UHlyYuJO"
      },
      "source": [
        "scaled_data[['Total_Ratings','ShippingTime','Price_dollar']].boxplot()"
      ],
      "execution_count": null,
      "outputs": []
    },
    {
      "cell_type": "code",
      "metadata": {
        "id": "4p-RYOnChLbZ"
      },
      "source": [
        "scaled_data.describe()"
      ],
      "execution_count": null,
      "outputs": []
    },
    {
      "cell_type": "markdown",
      "metadata": {
        "id": "Fx28ZCEYYuJP"
      },
      "source": [
        "MinMaxScaler scales data between 0-1"
      ]
    },
    {
      "cell_type": "markdown",
      "metadata": {
        "id": "zjiKnri3YuJQ"
      },
      "source": [
        "#### Binarizer"
      ]
    },
    {
      "cell_type": "code",
      "metadata": {
        "id": "ZIPb8VYhYuJQ"
      },
      "source": [
        "from sklearn.preprocessing import Binarizer"
      ],
      "execution_count": null,
      "outputs": []
    },
    {
      "cell_type": "code",
      "metadata": {
        "id": "VBS18N8JYuJW"
      },
      "source": [
        "scaled_data=data.copy()"
      ],
      "execution_count": null,
      "outputs": []
    },
    {
      "cell_type": "code",
      "metadata": {
        "id": "Bel4OkThYuJW"
      },
      "source": [
        "bl=Binarizer(5000)"
      ],
      "execution_count": null,
      "outputs": []
    },
    {
      "cell_type": "code",
      "metadata": {
        "id": "BiMgTm-jYuJW"
      },
      "source": [
        "# Let's say we have divide data where purchase were made more than 5000\n",
        "scaled_data['Price_5000']=bl.fit_transform(scaled_data[['Price_dollar']])"
      ],
      "execution_count": null,
      "outputs": []
    },
    {
      "cell_type": "code",
      "metadata": {
        "id": "2NkMQh5gYuJX"
      },
      "source": [
        "scaled_data[['Price_dollar','Price_5000']].head()"
      ],
      "execution_count": null,
      "outputs": []
    },
    {
      "cell_type": "markdown",
      "metadata": {
        "id": "HGZQNB6hYuJX"
      },
      "source": [
        "##### Saving Preprocessed DataFrame"
      ]
    },
    {
      "cell_type": "code",
      "metadata": {
        "id": "basUFSfkYuJX"
      },
      "source": [
        "data.head()"
      ],
      "execution_count": null,
      "outputs": []
    },
    {
      "cell_type": "code",
      "metadata": {
        "id": "fohoFAzRYuJX"
      },
      "source": [
        "data.to_csv('Bello_Fashions_processed.csv',index=False)"
      ],
      "execution_count": null,
      "outputs": []
    },
    {
      "cell_type": "markdown",
      "metadata": {
        "id": "55ljlUUZhrmw"
      },
      "source": [
        "### Pandas Profiling"
      ]
    },
    {
      "cell_type": "markdown",
      "metadata": {
        "id": "5ncDkd19kSyJ"
      },
      "source": [
        "**Pandas Profiling**\n",
        "\n",
        "Official Documentation:\n",
        "\n",
        "https://pandas-profiling.github.io/pandas-profiling/docs/master/rtd/pages/getting_started.html"
      ]
    },
    {
      "cell_type": "code",
      "metadata": {
        "id": "dQjd9yXAhrO-"
      },
      "source": [
        "from pandas_profiling import ProfileReport"
      ],
      "execution_count": null,
      "outputs": []
    },
    {
      "cell_type": "code",
      "metadata": {
        "id": "vrj8Gjlch01o"
      },
      "source": [
        "Profile = ProfileReport(data)\n",
        "Profile.to_notebook_iframe()"
      ],
      "execution_count": null,
      "outputs": []
    },
    {
      "cell_type": "code",
      "metadata": {
        "id": "ig_wYMoMjzJA"
      },
      "source": [
        "Profile.to_file(\"My_report.html\")"
      ],
      "execution_count": null,
      "outputs": []
    },
    {
      "cell_type": "markdown",
      "metadata": {
        "id": "-TU-DnNGkclc"
      },
      "source": [
        "## Modin"
      ]
    },
    {
      "cell_type": "markdown",
      "metadata": {
        "id": "xJ_YYbpCkzEI"
      },
      "source": [
        "Official Documentation:\n",
        "\n",
        "https://modin.readthedocs.io/en/latest/"
      ]
    },
    {
      "cell_type": "code",
      "metadata": {
        "id": "QoYLXH8ik5RI"
      },
      "source": [
        "#!pip install modin[all]"
      ],
      "execution_count": null,
      "outputs": []
    },
    {
      "cell_type": "code",
      "metadata": {
        "id": "oz8mXo3Kkeft"
      },
      "source": [
        "#import modin.pandas as pd"
      ],
      "execution_count": null,
      "outputs": []
    },
    {
      "cell_type": "markdown",
      "metadata": {
        "id": "a70i93MNYuJY"
      },
      "source": [
        "### Advance Manipulation"
      ]
    },
    {
      "cell_type": "markdown",
      "metadata": {
        "id": "i_QKKTGmYuJY"
      },
      "source": [
        "#### Plotting and Styling"
      ]
    },
    {
      "cell_type": "markdown",
      "metadata": {
        "id": "YO7UuS3pYuJY"
      },
      "source": [
        "#### Plotting"
      ]
    },
    {
      "cell_type": "code",
      "metadata": {
        "id": "C-MBvHG6YuJY"
      },
      "source": [
        "data.head()"
      ],
      "execution_count": null,
      "outputs": []
    },
    {
      "cell_type": "code",
      "metadata": {
        "id": "Q2YMkEHvYuJY"
      },
      "source": [
        "def getCount(data,cat):\n",
        "    '''\n",
        "    data: DataFrame\n",
        "    cat: category name  \n",
        "    '''\n",
        "    rre={'Category':[],'Length':[]}\n",
        "    for grp,gata in data.groupby(cat):\n",
        "        rre['Category'].append(grp)\n",
        "        rre['Length'].append(len(gata))\n",
        "    return pd.DataFrame(rre)"
      ],
      "execution_count": null,
      "outputs": []
    },
    {
      "cell_type": "markdown",
      "metadata": {
        "id": "QZtBF--QYuJZ"
      },
      "source": [
        "##### Most Popular Product Type"
      ]
    },
    {
      "cell_type": "code",
      "metadata": {
        "id": "30LcdFubYuJZ"
      },
      "source": [
        "pt_count=getCount(data,'ProductType')\n",
        "pt_count.set_index('Category',inplace=True)"
      ],
      "execution_count": null,
      "outputs": []
    },
    {
      "cell_type": "code",
      "metadata": {
        "id": "2UhZihc7YuJZ"
      },
      "source": [
        "pt_count.plot(kind='bar',title='Product Sales')"
      ],
      "execution_count": null,
      "outputs": []
    },
    {
      "cell_type": "markdown",
      "metadata": {
        "id": "fv_AVAiUYuJZ"
      },
      "source": [
        "##### Most Preferred Payment Mode"
      ]
    },
    {
      "cell_type": "code",
      "metadata": {
        "id": "qwk5FzDaYuJZ"
      },
      "source": [
        "pt_count=getCount(data,'PaymentMode')\n",
        "pt_count.set_index('Category',inplace=True)\n",
        "pt_count.plot(kind='bar',title='Payment Mode')"
      ],
      "execution_count": null,
      "outputs": []
    },
    {
      "cell_type": "markdown",
      "metadata": {
        "id": "om5MIoDvYuJa"
      },
      "source": [
        "##### Most Preferred Shipping Mode"
      ]
    },
    {
      "cell_type": "code",
      "metadata": {
        "id": "ADcLeNTmYuJa"
      },
      "source": [
        "pt_count=getCount(data,'ShippingMode')\n",
        "pt_count.set_index('Category',inplace=True)\n",
        "pt_count.plot(kind='bar',title='Payment Mode')"
      ],
      "execution_count": null,
      "outputs": []
    },
    {
      "cell_type": "markdown",
      "metadata": {
        "id": "rVDPQX9TYuJb"
      },
      "source": [
        "##### Average Price/ShippingTime of products per category"
      ]
    },
    {
      "cell_type": "code",
      "metadata": {
        "id": "vHI3PSEmYuJb"
      },
      "source": [
        "aprice=data.groupby('ProductType')['Price_dollar'].agg(np.mean)"
      ],
      "execution_count": null,
      "outputs": []
    },
    {
      "cell_type": "code",
      "metadata": {
        "id": "xBGKe8RWYuJc"
      },
      "source": [
        "aprice.plot(kind='bar')"
      ],
      "execution_count": null,
      "outputs": []
    },
    {
      "cell_type": "code",
      "metadata": {
        "id": "kIXgIkBqYuJc"
      },
      "source": [
        "aship=data.groupby('ProductType')['ShippingTime'].agg(np.mean)\n",
        "aship.plot(kind='bar')"
      ],
      "execution_count": null,
      "outputs": []
    },
    {
      "cell_type": "markdown",
      "metadata": {
        "id": "CDIc9NAzYuJd"
      },
      "source": [
        "##### Check the distribution of Shipping time"
      ]
    },
    {
      "cell_type": "code",
      "metadata": {
        "id": "vPP0wp5qYuJd"
      },
      "source": [
        "data[['ShippingTime']].plot.hist()"
      ],
      "execution_count": null,
      "outputs": []
    },
    {
      "cell_type": "markdown",
      "metadata": {
        "id": "pHWbrTJdYuJd"
      },
      "source": [
        "##### Pie Chart"
      ]
    },
    {
      "cell_type": "code",
      "metadata": {
        "id": "Ru5C7EoeYuJe"
      },
      "source": [
        "pt_count=getCount(data,'PaymentMode')\n",
        "pt_count.set_index('Category',inplace=True)\n",
        "pt_count.Length.plot.pie(title='Payment Mode')"
      ],
      "execution_count": null,
      "outputs": []
    },
    {
      "cell_type": "markdown",
      "metadata": {
        "id": "MzBjs8e7YuJe"
      },
      "source": [
        "#### Highlighting Price >5000"
      ]
    },
    {
      "cell_type": "code",
      "metadata": {
        "id": "5-Je-u8IYuJe"
      },
      "source": [
        "styled_data=data.head(10).style"
      ],
      "execution_count": null,
      "outputs": []
    },
    {
      "cell_type": "code",
      "metadata": {
        "id": "M46b5NdMYuJe"
      },
      "source": [
        "styled_data=data.drop(['Date','Price'],axis=1).head(10).style\n",
        "def price_range(price):\n",
        "    out=[]\n",
        "    for i in price:\n",
        "        if float(i)>5000:\n",
        "            # if price is greater than 5000 then color is light blue\n",
        "            out.append(\"background-color : #e1eff6\")\n",
        "        else:\n",
        "            # if price is less than 5000 then color is light pink\n",
        "            out.append(\"background-color : #eccbd9\")\n",
        "    return out\n",
        "styled_data.apply(price_range,subset=['Price_dollar'])"
      ],
      "execution_count": null,
      "outputs": []
    },
    {
      "cell_type": "markdown",
      "metadata": {
        "id": "AZSkC6PoYuJf"
      },
      "source": [
        "#### Styling whole table using CSS styles"
      ]
    },
    {
      "cell_type": "code",
      "metadata": {
        "id": "-Q-qC-jNYuJf"
      },
      "source": [
        "styled_data=data.drop(['Date','Price'],axis=1).head(10).style\n",
        "\n",
        "\n",
        "styles = [\n",
        "    dict(selector=\"tr:hover\",props=[(\"background-color\", \"#eccbd9\")]),\n",
        "    dict(selector=\"th:hover\",props=[(\"background-color\", \"#eccbd9\")]),\n",
        "    dict(selector=\"th\", props=[('background-color','#4f6d7a'),\n",
        "                               (\"font-size\", \"12px\"),\n",
        "                               (\"text-align\", \"center\"),\n",
        "                               ('color', '#ffffff'),\n",
        "                              ('border','1px solid #dbe9ee')]),\n",
        "    dict(selector='tbody', props=[('color', '#449dd1'),]),\n",
        "    dict(selector='tr', props=[('background-color','#e1eff6'),\n",
        "                                ('color', '#449dd1'),\n",
        "                                ('font-family','Helvetica')]),\n",
        "    dict(selector='td',props=[('border','1px solid #166088'),\n",
        "                             (\"font-size\", \"10px\")])\n",
        "]\n",
        "\n",
        "styled_data.set_table_styles(styles)"
      ],
      "execution_count": null,
      "outputs": []
    },
    {
      "cell_type": "markdown",
      "metadata": {
        "id": "zLKIhMX7YuJg"
      },
      "source": [
        "#### Magnification"
      ]
    },
    {
      "cell_type": "code",
      "metadata": {
        "id": "gU93ze03YuJg"
      },
      "source": [
        "styled_data=data.drop(['Date','Price'],axis=1).head(10).style\n",
        "\n",
        "def magnify():\n",
        "    return [dict(selector=\"th\",\n",
        "                 props=[(\"font-size\", \"7pt\")]),\n",
        "            dict(selector=\"td\",\n",
        "                 props=[('padding', \"4px 4px\"),]),\n",
        "            dict(selector=\"th:hover\",\n",
        "                 props=[(\"font-size\", \"13pt\")]),\n",
        "            dict(selector=\"tr:hover td:hover\",\n",
        "                 props=[('max-width', '200px'),\n",
        "                        ('font-size', '14pt'),\n",
        "                       ('color', '#4f6d7a')])]\n",
        "\n",
        "\n",
        "\n",
        "\n",
        "styles = [\n",
        "    dict(selector=\"tr:hover\",props=[(\"background-color\", \"#eccbd9\")]),\n",
        "    dict(selector=\"th:hover\",props=[(\"background-color\", \"#eccbd9\")]),\n",
        "    dict(selector=\"th\", props=[('background-color','#4f6d7a'),\n",
        "                               (\"font-size\", \"120%\"),\n",
        "                               (\"text-align\", \"center\"),\n",
        "                               ('color', '#ffffff'),\n",
        "                              ('border','1px solid #dbe9ee')]),\n",
        "    dict(selector='tbody', props=[('color', '#449dd1'),]),\n",
        "    dict(selector='tr', props=[('background-color','#e1eff6'),\n",
        "                                ('color', '#449dd1'),\n",
        "                                ('font-family','Helvetica')]),\n",
        "    dict(selector='td',props=[('border','1px solid #166088'),])]\n",
        "\n",
        "styles.extend(magnify())\n",
        "styled_data.set_table_styles(styles)"
      ],
      "execution_count": null,
      "outputs": []
    }
  ]
}