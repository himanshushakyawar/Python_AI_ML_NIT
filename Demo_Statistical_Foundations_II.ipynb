{
  "nbformat": 4,
  "nbformat_minor": 0,
  "metadata": {
    "kernelspec": {
      "display_name": "Python 3",
      "language": "python",
      "name": "python3"
    },
    "language_info": {
      "codemirror_mode": {
        "name": "ipython",
        "version": 3
      },
      "file_extension": ".py",
      "mimetype": "text/x-python",
      "name": "python",
      "nbconvert_exporter": "python",
      "pygments_lexer": "ipython3",
      "version": "3.8.3"
    },
    "colab": {
      "name": "Demo_Statistical_Foundations_II.ipynb",
      "provenance": [],
      "collapsed_sections": [],
      "include_colab_link": true
    }
  },
  "cells": [
    {
      "cell_type": "markdown",
      "metadata": {
        "id": "view-in-github",
        "colab_type": "text"
      },
      "source": [
        "<a href=\"https://colab.research.google.com/github/himanshushakyawar/Python_AI_ML_NIT/blob/main/Demo_Statistical_Foundations_II.ipynb\" target=\"_parent\"><img src=\"https://colab.research.google.com/assets/colab-badge.svg\" alt=\"Open In Colab\"/></a>"
      ]
    },
    {
      "cell_type": "markdown",
      "metadata": {
        "id": "jq4kmAygdb6P"
      },
      "source": [
        "# Measures of spread "
      ]
    },
    {
      "cell_type": "code",
      "metadata": {
        "id": "SKxx2A-fdb6V"
      },
      "source": [
        "import pandas as pd\n",
        "import numpy as np"
      ],
      "execution_count": null,
      "outputs": []
    },
    {
      "cell_type": "code",
      "metadata": {
        "id": "W1-q-ujAkb10",
        "colab": {
          "base_uri": "https://localhost:8080/"
        },
        "outputId": "0c2fdc3d-605b-4954-8e7f-359e3170843f"
      },
      "source": [
        "!wget \"https://www.dropbox.com/s/xtou41t94cyh6h6/dataset.zip\"\n",
        "!unzip dataset.zip"
      ],
      "execution_count": null,
      "outputs": [
        {
          "output_type": "stream",
          "name": "stdout",
          "text": [
            "--2021-11-28 15:12:55--  https://www.dropbox.com/s/xtou41t94cyh6h6/dataset.zip\n",
            "Resolving www.dropbox.com (www.dropbox.com)... 162.125.1.18, 2620:100:6035:18::a27d:5512\n",
            "Connecting to www.dropbox.com (www.dropbox.com)|162.125.1.18|:443... connected.\n",
            "HTTP request sent, awaiting response... 301 Moved Permanently\n",
            "Location: /s/raw/xtou41t94cyh6h6/dataset.zip [following]\n",
            "--2021-11-28 15:12:55--  https://www.dropbox.com/s/raw/xtou41t94cyh6h6/dataset.zip\n",
            "Reusing existing connection to www.dropbox.com:443.\n",
            "HTTP request sent, awaiting response... 302 Found\n",
            "Location: https://uc29ff4138d19aa7d06c49135d38.dl.dropboxusercontent.com/cd/0/inline/Ba3HlPSWx8dK9zrJSNuNcr_4KICaBY1TScWrtY5CEDfPAUrSFoit7Ov9stU-zx5I4S3Vqja4tnM_ZFOvsf7fcEPApkAeVS-xzkulMDgX-rmIs7cpS5GLpRltgsAPUT3RZmoVd5Asf7J_FFKEEQ_oGFHj/file# [following]\n",
            "--2021-11-28 15:12:55--  https://uc29ff4138d19aa7d06c49135d38.dl.dropboxusercontent.com/cd/0/inline/Ba3HlPSWx8dK9zrJSNuNcr_4KICaBY1TScWrtY5CEDfPAUrSFoit7Ov9stU-zx5I4S3Vqja4tnM_ZFOvsf7fcEPApkAeVS-xzkulMDgX-rmIs7cpS5GLpRltgsAPUT3RZmoVd5Asf7J_FFKEEQ_oGFHj/file\n",
            "Resolving uc29ff4138d19aa7d06c49135d38.dl.dropboxusercontent.com (uc29ff4138d19aa7d06c49135d38.dl.dropboxusercontent.com)... 162.125.1.15, 2620:100:6016:15::a27d:10f\n",
            "Connecting to uc29ff4138d19aa7d06c49135d38.dl.dropboxusercontent.com (uc29ff4138d19aa7d06c49135d38.dl.dropboxusercontent.com)|162.125.1.15|:443... connected.\n",
            "HTTP request sent, awaiting response... 302 Found\n",
            "Location: /cd/0/inline2/Ba2knY-DRERv_80caTd0TdBPThEsVT5Etox9HX-5QHqq8foGt8hLKivSn2x5qF-VRHCNaOPPWNiMvAjhG5oSa-Jfiq8nEpFkZRRZeJmkSBFLXno3ap5reORmRm3Aq6UZHDofLxUW0m8GnCdD1VbWEtb6up6-XNtfdfU1LUzSs9cUOKx4vmWQUfQLw_j4-VqI_okI9bp_PmvDB7N0kPjvx6fsJeXvHHZBzBs8w3U5pBWr3Ut9qn4ykgyXkpwAmH7TyzIpeOtSQyA9BfRGQzjg0bcn5nQpjsw5OR8zcJaQrw57d7vCh2svNaYBqQX5f3X3-7dKNEsmCotdWfqWS_7wxx3cZUFIalgFW1cdumkXUfQQXIx3P8aynLuCViG1VFehrhA/file [following]\n",
            "--2021-11-28 15:12:56--  https://uc29ff4138d19aa7d06c49135d38.dl.dropboxusercontent.com/cd/0/inline2/Ba2knY-DRERv_80caTd0TdBPThEsVT5Etox9HX-5QHqq8foGt8hLKivSn2x5qF-VRHCNaOPPWNiMvAjhG5oSa-Jfiq8nEpFkZRRZeJmkSBFLXno3ap5reORmRm3Aq6UZHDofLxUW0m8GnCdD1VbWEtb6up6-XNtfdfU1LUzSs9cUOKx4vmWQUfQLw_j4-VqI_okI9bp_PmvDB7N0kPjvx6fsJeXvHHZBzBs8w3U5pBWr3Ut9qn4ykgyXkpwAmH7TyzIpeOtSQyA9BfRGQzjg0bcn5nQpjsw5OR8zcJaQrw57d7vCh2svNaYBqQX5f3X3-7dKNEsmCotdWfqWS_7wxx3cZUFIalgFW1cdumkXUfQQXIx3P8aynLuCViG1VFehrhA/file\n",
            "Reusing existing connection to uc29ff4138d19aa7d06c49135d38.dl.dropboxusercontent.com:443.\n",
            "HTTP request sent, awaiting response... 200 OK\n",
            "Length: 1022504 (999K) [application/zip]\n",
            "Saving to: ‘dataset.zip’\n",
            "\n",
            "dataset.zip         100%[===================>] 998.54K  --.-KB/s    in 0.04s   \n",
            "\n",
            "2021-11-28 15:12:56 (26.4 MB/s) - ‘dataset.zip’ saved [1022504/1022504]\n",
            "\n",
            "Archive:  dataset.zip\n",
            "  inflating: Placement_Data_Full_Class.csv  \n",
            "  inflating: US Superstore data.xls  \n"
          ]
        }
      ]
    },
    {
      "cell_type": "markdown",
      "metadata": {
        "id": "A8VIkfxJdb6W"
      },
      "source": [
        "# Price of a single slice of pizza collected from restaurants in the city of New York and the country of Seneca in New York State"
      ]
    },
    {
      "cell_type": "code",
      "metadata": {
        "id": "6U5zNnSudb6X",
        "colab": {
          "base_uri": "https://localhost:8080/",
          "height": 802
        },
        "outputId": "055d94ce-71aa-41bf-c1f3-4be234e20339"
      },
      "source": [
        "nyc = [1,1,2,2,3,3,4,4,4,4,5,5,6,6,7,8,15,15,15,20,40,60,78,120]\n",
        "seneca = [1,1,2,2,3,3,4,4,4,4,5,5,6,6,7,8,3,5,15,2,4,6,8,12]\n",
        "d = {\n",
        "     'nyc': nyc,\n",
        "     'seneca' : seneca\n",
        "    }\n",
        " \n",
        "us_pizza = pd.DataFrame(d)\n",
        "us_pizza"
      ],
      "execution_count": null,
      "outputs": [
        {
          "output_type": "execute_result",
          "data": {
            "text/html": [
              "<div>\n",
              "<style scoped>\n",
              "    .dataframe tbody tr th:only-of-type {\n",
              "        vertical-align: middle;\n",
              "    }\n",
              "\n",
              "    .dataframe tbody tr th {\n",
              "        vertical-align: top;\n",
              "    }\n",
              "\n",
              "    .dataframe thead th {\n",
              "        text-align: right;\n",
              "    }\n",
              "</style>\n",
              "<table border=\"1\" class=\"dataframe\">\n",
              "  <thead>\n",
              "    <tr style=\"text-align: right;\">\n",
              "      <th></th>\n",
              "      <th>nyc</th>\n",
              "      <th>seneca</th>\n",
              "    </tr>\n",
              "  </thead>\n",
              "  <tbody>\n",
              "    <tr>\n",
              "      <th>0</th>\n",
              "      <td>1</td>\n",
              "      <td>1</td>\n",
              "    </tr>\n",
              "    <tr>\n",
              "      <th>1</th>\n",
              "      <td>1</td>\n",
              "      <td>1</td>\n",
              "    </tr>\n",
              "    <tr>\n",
              "      <th>2</th>\n",
              "      <td>2</td>\n",
              "      <td>2</td>\n",
              "    </tr>\n",
              "    <tr>\n",
              "      <th>3</th>\n",
              "      <td>2</td>\n",
              "      <td>2</td>\n",
              "    </tr>\n",
              "    <tr>\n",
              "      <th>4</th>\n",
              "      <td>3</td>\n",
              "      <td>3</td>\n",
              "    </tr>\n",
              "    <tr>\n",
              "      <th>5</th>\n",
              "      <td>3</td>\n",
              "      <td>3</td>\n",
              "    </tr>\n",
              "    <tr>\n",
              "      <th>6</th>\n",
              "      <td>4</td>\n",
              "      <td>4</td>\n",
              "    </tr>\n",
              "    <tr>\n",
              "      <th>7</th>\n",
              "      <td>4</td>\n",
              "      <td>4</td>\n",
              "    </tr>\n",
              "    <tr>\n",
              "      <th>8</th>\n",
              "      <td>4</td>\n",
              "      <td>4</td>\n",
              "    </tr>\n",
              "    <tr>\n",
              "      <th>9</th>\n",
              "      <td>4</td>\n",
              "      <td>4</td>\n",
              "    </tr>\n",
              "    <tr>\n",
              "      <th>10</th>\n",
              "      <td>5</td>\n",
              "      <td>5</td>\n",
              "    </tr>\n",
              "    <tr>\n",
              "      <th>11</th>\n",
              "      <td>5</td>\n",
              "      <td>5</td>\n",
              "    </tr>\n",
              "    <tr>\n",
              "      <th>12</th>\n",
              "      <td>6</td>\n",
              "      <td>6</td>\n",
              "    </tr>\n",
              "    <tr>\n",
              "      <th>13</th>\n",
              "      <td>6</td>\n",
              "      <td>6</td>\n",
              "    </tr>\n",
              "    <tr>\n",
              "      <th>14</th>\n",
              "      <td>7</td>\n",
              "      <td>7</td>\n",
              "    </tr>\n",
              "    <tr>\n",
              "      <th>15</th>\n",
              "      <td>8</td>\n",
              "      <td>8</td>\n",
              "    </tr>\n",
              "    <tr>\n",
              "      <th>16</th>\n",
              "      <td>15</td>\n",
              "      <td>3</td>\n",
              "    </tr>\n",
              "    <tr>\n",
              "      <th>17</th>\n",
              "      <td>15</td>\n",
              "      <td>5</td>\n",
              "    </tr>\n",
              "    <tr>\n",
              "      <th>18</th>\n",
              "      <td>15</td>\n",
              "      <td>15</td>\n",
              "    </tr>\n",
              "    <tr>\n",
              "      <th>19</th>\n",
              "      <td>20</td>\n",
              "      <td>2</td>\n",
              "    </tr>\n",
              "    <tr>\n",
              "      <th>20</th>\n",
              "      <td>40</td>\n",
              "      <td>4</td>\n",
              "    </tr>\n",
              "    <tr>\n",
              "      <th>21</th>\n",
              "      <td>60</td>\n",
              "      <td>6</td>\n",
              "    </tr>\n",
              "    <tr>\n",
              "      <th>22</th>\n",
              "      <td>78</td>\n",
              "      <td>8</td>\n",
              "    </tr>\n",
              "    <tr>\n",
              "      <th>23</th>\n",
              "      <td>120</td>\n",
              "      <td>12</td>\n",
              "    </tr>\n",
              "  </tbody>\n",
              "</table>\n",
              "</div>"
            ],
            "text/plain": [
              "    nyc  seneca\n",
              "0     1       1\n",
              "1     1       1\n",
              "2     2       2\n",
              "3     2       2\n",
              "4     3       3\n",
              "5     3       3\n",
              "6     4       4\n",
              "7     4       4\n",
              "8     4       4\n",
              "9     4       4\n",
              "10    5       5\n",
              "11    5       5\n",
              "12    6       6\n",
              "13    6       6\n",
              "14    7       7\n",
              "15    8       8\n",
              "16   15       3\n",
              "17   15       5\n",
              "18   15      15\n",
              "19   20       2\n",
              "20   40       4\n",
              "21   60       6\n",
              "22   78       8\n",
              "23  120      12"
            ]
          },
          "metadata": {},
          "execution_count": 3
        }
      ]
    },
    {
      "cell_type": "markdown",
      "metadata": {
        "id": "CpUTVLtVdb6Y"
      },
      "source": [
        "# Finding the mean prices of Pizza in 2 different cities "
      ]
    },
    {
      "cell_type": "code",
      "metadata": {
        "id": "e1T-qf4QhDYb",
        "colab": {
          "base_uri": "https://localhost:8080/",
          "height": 206
        },
        "outputId": "ddccddcd-b714-4585-b6c9-a7b2237486d5"
      },
      "source": [
        "us_pizza.head()"
      ],
      "execution_count": null,
      "outputs": [
        {
          "output_type": "execute_result",
          "data": {
            "text/html": [
              "<div>\n",
              "<style scoped>\n",
              "    .dataframe tbody tr th:only-of-type {\n",
              "        vertical-align: middle;\n",
              "    }\n",
              "\n",
              "    .dataframe tbody tr th {\n",
              "        vertical-align: top;\n",
              "    }\n",
              "\n",
              "    .dataframe thead th {\n",
              "        text-align: right;\n",
              "    }\n",
              "</style>\n",
              "<table border=\"1\" class=\"dataframe\">\n",
              "  <thead>\n",
              "    <tr style=\"text-align: right;\">\n",
              "      <th></th>\n",
              "      <th>nyc</th>\n",
              "      <th>seneca</th>\n",
              "    </tr>\n",
              "  </thead>\n",
              "  <tbody>\n",
              "    <tr>\n",
              "      <th>0</th>\n",
              "      <td>1</td>\n",
              "      <td>1</td>\n",
              "    </tr>\n",
              "    <tr>\n",
              "      <th>1</th>\n",
              "      <td>1</td>\n",
              "      <td>1</td>\n",
              "    </tr>\n",
              "    <tr>\n",
              "      <th>2</th>\n",
              "      <td>2</td>\n",
              "      <td>2</td>\n",
              "    </tr>\n",
              "    <tr>\n",
              "      <th>3</th>\n",
              "      <td>2</td>\n",
              "      <td>2</td>\n",
              "    </tr>\n",
              "    <tr>\n",
              "      <th>4</th>\n",
              "      <td>3</td>\n",
              "      <td>3</td>\n",
              "    </tr>\n",
              "  </tbody>\n",
              "</table>\n",
              "</div>"
            ],
            "text/plain": [
              "   nyc  seneca\n",
              "0    1       1\n",
              "1    1       1\n",
              "2    2       2\n",
              "3    2       2\n",
              "4    3       3"
            ]
          },
          "metadata": {},
          "execution_count": 4
        }
      ]
    },
    {
      "cell_type": "code",
      "metadata": {
        "id": "1C9JCH1ldb6Z",
        "colab": {
          "base_uri": "https://localhost:8080/"
        },
        "outputId": "45fb909c-33b7-4da8-9104-db5fbdefbefd"
      },
      "source": [
        "us_pizza.mean()"
      ],
      "execution_count": null,
      "outputs": [
        {
          "output_type": "execute_result",
          "data": {
            "text/plain": [
              "nyc       17.833333\n",
              "seneca     5.000000\n",
              "dtype: float64"
            ]
          },
          "metadata": {},
          "execution_count": 5
        }
      ]
    },
    {
      "cell_type": "markdown",
      "metadata": {
        "id": "plnyNuRedb6a"
      },
      "source": [
        "# Finding the median price of pizza "
      ]
    },
    {
      "cell_type": "code",
      "metadata": {
        "id": "23zfHH_hdb6a",
        "colab": {
          "base_uri": "https://localhost:8080/"
        },
        "outputId": "9febba97-829d-46eb-acb8-86282fc7385b"
      },
      "source": [
        "us_pizza.median()"
      ],
      "execution_count": null,
      "outputs": [
        {
          "output_type": "execute_result",
          "data": {
            "text/plain": [
              "nyc       5.5\n",
              "seneca    4.0\n",
              "dtype: float64"
            ]
          },
          "metadata": {},
          "execution_count": 6
        }
      ]
    },
    {
      "cell_type": "markdown",
      "metadata": {
        "id": "QcfyvJizdb6b"
      },
      "source": [
        "# Finding the most commonly priced  pizza (MODE)"
      ]
    },
    {
      "cell_type": "code",
      "metadata": {
        "id": "zZOpd53Ddb6c",
        "colab": {
          "base_uri": "https://localhost:8080/",
          "height": 80
        },
        "outputId": "6c93fc6f-f259-4265-8ae7-7200b4945402"
      },
      "source": [
        "us_pizza.mode()"
      ],
      "execution_count": null,
      "outputs": [
        {
          "output_type": "execute_result",
          "data": {
            "text/html": [
              "<div>\n",
              "<style scoped>\n",
              "    .dataframe tbody tr th:only-of-type {\n",
              "        vertical-align: middle;\n",
              "    }\n",
              "\n",
              "    .dataframe tbody tr th {\n",
              "        vertical-align: top;\n",
              "    }\n",
              "\n",
              "    .dataframe thead th {\n",
              "        text-align: right;\n",
              "    }\n",
              "</style>\n",
              "<table border=\"1\" class=\"dataframe\">\n",
              "  <thead>\n",
              "    <tr style=\"text-align: right;\">\n",
              "      <th></th>\n",
              "      <th>nyc</th>\n",
              "      <th>seneca</th>\n",
              "    </tr>\n",
              "  </thead>\n",
              "  <tbody>\n",
              "    <tr>\n",
              "      <th>0</th>\n",
              "      <td>4</td>\n",
              "      <td>4</td>\n",
              "    </tr>\n",
              "  </tbody>\n",
              "</table>\n",
              "</div>"
            ],
            "text/plain": [
              "   nyc  seneca\n",
              "0    4       4"
            ]
          },
          "metadata": {},
          "execution_count": 7
        }
      ]
    },
    {
      "cell_type": "markdown",
      "metadata": {
        "id": "bsSBxDoQdb6d"
      },
      "source": [
        "# Which city has a bigger variance (a wide range of prices to purchase a pizza)"
      ]
    },
    {
      "cell_type": "code",
      "metadata": {
        "id": "dBWwV4uqdb6d",
        "colab": {
          "base_uri": "https://localhost:8080/"
        },
        "outputId": "1292714f-e026-4af6-a9e2-94cb5d116fdf"
      },
      "source": [
        "us_pizza.std() # We are calculating the standard deviation (which is square root of variance)"
      ],
      "execution_count": null,
      "outputs": [
        {
          "output_type": "execute_result",
          "data": {
            "text/plain": [
              "nyc       29.082591\n",
              "seneca     3.296902\n",
              "dtype: float64"
            ]
          },
          "metadata": {},
          "execution_count": 8
        }
      ]
    },
    {
      "cell_type": "code",
      "metadata": {
        "id": "llQ2KW5cdb6d"
      },
      "source": [
        "# Note :Its obvious that the spread of pizza price is higher in the city of NY"
      ],
      "execution_count": null,
      "outputs": []
    },
    {
      "cell_type": "code",
      "metadata": {
        "colab": {
          "base_uri": "https://localhost:8080/",
          "height": 300
        },
        "id": "lZcrSDd5HHt4",
        "outputId": "080ea807-e3de-41d0-cae4-1148fa3ef1f6"
      },
      "source": [
        "us_pizza.describe()"
      ],
      "execution_count": null,
      "outputs": [
        {
          "output_type": "execute_result",
          "data": {
            "text/html": [
              "<div>\n",
              "<style scoped>\n",
              "    .dataframe tbody tr th:only-of-type {\n",
              "        vertical-align: middle;\n",
              "    }\n",
              "\n",
              "    .dataframe tbody tr th {\n",
              "        vertical-align: top;\n",
              "    }\n",
              "\n",
              "    .dataframe thead th {\n",
              "        text-align: right;\n",
              "    }\n",
              "</style>\n",
              "<table border=\"1\" class=\"dataframe\">\n",
              "  <thead>\n",
              "    <tr style=\"text-align: right;\">\n",
              "      <th></th>\n",
              "      <th>nyc</th>\n",
              "      <th>seneca</th>\n",
              "    </tr>\n",
              "  </thead>\n",
              "  <tbody>\n",
              "    <tr>\n",
              "      <th>count</th>\n",
              "      <td>24.000000</td>\n",
              "      <td>24.000000</td>\n",
              "    </tr>\n",
              "    <tr>\n",
              "      <th>mean</th>\n",
              "      <td>17.833333</td>\n",
              "      <td>5.000000</td>\n",
              "    </tr>\n",
              "    <tr>\n",
              "      <th>std</th>\n",
              "      <td>29.082591</td>\n",
              "      <td>3.296902</td>\n",
              "    </tr>\n",
              "    <tr>\n",
              "      <th>min</th>\n",
              "      <td>1.000000</td>\n",
              "      <td>1.000000</td>\n",
              "    </tr>\n",
              "    <tr>\n",
              "      <th>25%</th>\n",
              "      <td>3.750000</td>\n",
              "      <td>3.000000</td>\n",
              "    </tr>\n",
              "    <tr>\n",
              "      <th>50%</th>\n",
              "      <td>5.500000</td>\n",
              "      <td>4.000000</td>\n",
              "    </tr>\n",
              "    <tr>\n",
              "      <th>75%</th>\n",
              "      <td>15.000000</td>\n",
              "      <td>6.000000</td>\n",
              "    </tr>\n",
              "    <tr>\n",
              "      <th>max</th>\n",
              "      <td>120.000000</td>\n",
              "      <td>15.000000</td>\n",
              "    </tr>\n",
              "  </tbody>\n",
              "</table>\n",
              "</div>"
            ],
            "text/plain": [
              "              nyc     seneca\n",
              "count   24.000000  24.000000\n",
              "mean    17.833333   5.000000\n",
              "std     29.082591   3.296902\n",
              "min      1.000000   1.000000\n",
              "25%      3.750000   3.000000\n",
              "50%      5.500000   4.000000\n",
              "75%     15.000000   6.000000\n",
              "max    120.000000  15.000000"
            ]
          },
          "metadata": {},
          "execution_count": 9
        }
      ]
    },
    {
      "cell_type": "markdown",
      "metadata": {
        "id": "fHo9sSEcdb6e"
      },
      "source": [
        "# Finding the interquartile range of the columnar data from the NYC data frame \n"
      ]
    },
    {
      "cell_type": "code",
      "metadata": {
        "id": "pqGf8SSnhZvh",
        "colab": {
          "base_uri": "https://localhost:8080/",
          "height": 300
        },
        "outputId": "b7965ba9-8383-4cb6-cf61-f741d972c5e9"
      },
      "source": [
        "us_pizza.describe()"
      ],
      "execution_count": null,
      "outputs": [
        {
          "output_type": "execute_result",
          "data": {
            "text/html": [
              "<div>\n",
              "<style scoped>\n",
              "    .dataframe tbody tr th:only-of-type {\n",
              "        vertical-align: middle;\n",
              "    }\n",
              "\n",
              "    .dataframe tbody tr th {\n",
              "        vertical-align: top;\n",
              "    }\n",
              "\n",
              "    .dataframe thead th {\n",
              "        text-align: right;\n",
              "    }\n",
              "</style>\n",
              "<table border=\"1\" class=\"dataframe\">\n",
              "  <thead>\n",
              "    <tr style=\"text-align: right;\">\n",
              "      <th></th>\n",
              "      <th>nyc</th>\n",
              "      <th>seneca</th>\n",
              "    </tr>\n",
              "  </thead>\n",
              "  <tbody>\n",
              "    <tr>\n",
              "      <th>count</th>\n",
              "      <td>24.000000</td>\n",
              "      <td>24.000000</td>\n",
              "    </tr>\n",
              "    <tr>\n",
              "      <th>mean</th>\n",
              "      <td>17.833333</td>\n",
              "      <td>5.000000</td>\n",
              "    </tr>\n",
              "    <tr>\n",
              "      <th>std</th>\n",
              "      <td>29.082591</td>\n",
              "      <td>3.296902</td>\n",
              "    </tr>\n",
              "    <tr>\n",
              "      <th>min</th>\n",
              "      <td>1.000000</td>\n",
              "      <td>1.000000</td>\n",
              "    </tr>\n",
              "    <tr>\n",
              "      <th>25%</th>\n",
              "      <td>3.750000</td>\n",
              "      <td>3.000000</td>\n",
              "    </tr>\n",
              "    <tr>\n",
              "      <th>50%</th>\n",
              "      <td>5.500000</td>\n",
              "      <td>4.000000</td>\n",
              "    </tr>\n",
              "    <tr>\n",
              "      <th>75%</th>\n",
              "      <td>15.000000</td>\n",
              "      <td>6.000000</td>\n",
              "    </tr>\n",
              "    <tr>\n",
              "      <th>max</th>\n",
              "      <td>120.000000</td>\n",
              "      <td>15.000000</td>\n",
              "    </tr>\n",
              "  </tbody>\n",
              "</table>\n",
              "</div>"
            ],
            "text/plain": [
              "              nyc     seneca\n",
              "count   24.000000  24.000000\n",
              "mean    17.833333   5.000000\n",
              "std     29.082591   3.296902\n",
              "min      1.000000   1.000000\n",
              "25%      3.750000   3.000000\n",
              "50%      5.500000   4.000000\n",
              "75%     15.000000   6.000000\n",
              "max    120.000000  15.000000"
            ]
          },
          "metadata": {},
          "execution_count": 10
        }
      ]
    },
    {
      "cell_type": "code",
      "metadata": {
        "id": "yxKFLcL3h06e",
        "colab": {
          "base_uri": "https://localhost:8080/"
        },
        "outputId": "776cba61-dee8-4db9-808d-e33f1a5a6c12"
      },
      "source": [
        "us_pizza['seneca'].quantile(0.25)"
      ],
      "execution_count": null,
      "outputs": [
        {
          "output_type": "execute_result",
          "data": {
            "text/plain": [
              "3.0"
            ]
          },
          "metadata": {},
          "execution_count": 11
        }
      ]
    },
    {
      "cell_type": "code",
      "metadata": {
        "id": "lhh9f0bEdb6e",
        "colab": {
          "base_uri": "https://localhost:8080/"
        },
        "outputId": "dad7908e-d1d5-4c65-85f9-4d7930a89f92"
      },
      "source": [
        "q1=us_pizza['nyc'].quantile(0.25) # finding the lower quartile value \n",
        "q3=us_pizza['nyc'].quantile(0.75) # finding the upper quartile value \n",
        "iqr = q3-q1  # Calculating the inter quartile range\n",
        "print(\"Inter Quartile Range = \",iqr)\n",
        "# Note : 1.5 times the IQR is the treshold value to find the outliers \n",
        "upf = q3+(1.5*iqr) \n",
        "lwf = q1-(1.5*iqr)\n",
        "print(\"upper fence = \",upf)\n",
        "print(\"lower fence = \",lwf)"
      ],
      "execution_count": null,
      "outputs": [
        {
          "output_type": "stream",
          "name": "stdout",
          "text": [
            "Inter Quartile Range =  11.25\n",
            "upper fence =  31.875\n",
            "lower fence =  -13.125\n"
          ]
        }
      ]
    },
    {
      "cell_type": "code",
      "metadata": {
        "id": "Tm4IPOSedb6e"
      },
      "source": [
        "# Any data points above and below the upper and lower fence qualify for being outliers in general ! "
      ],
      "execution_count": null,
      "outputs": []
    },
    {
      "cell_type": "markdown",
      "metadata": {
        "id": "mU_eRhSndb6f"
      },
      "source": [
        "# How to check for the presence of outliers in the given data using box plots?"
      ]
    },
    {
      "cell_type": "code",
      "metadata": {
        "id": "WR75-4zHdb6f"
      },
      "source": [
        "import seaborn as sns\n",
        "import matplotlib.pyplot as plt\n",
        "sns.set()"
      ],
      "execution_count": null,
      "outputs": []
    },
    {
      "cell_type": "code",
      "metadata": {
        "id": "n5_JnH6Kdb6f",
        "colab": {
          "base_uri": "https://localhost:8080/",
          "height": 285
        },
        "outputId": "0d0c842b-7492-4828-fdd8-a9bd85f40993"
      },
      "source": [
        "# Plotting the box plots for all the columns in the us_pizza data frame \n",
        "sns.boxplot(data=us_pizza)\n",
        "plt.show()\n",
        "plt.clf()"
      ],
      "execution_count": null,
      "outputs": [
        {
          "output_type": "display_data",
          "data": {
            "image/png": "[encoded data removed]",
            "text/plain": [
              "<Figure size 432x288 with 1 Axes>"
            ]
          },
          "metadata": {}
        },
        {
          "output_type": "display_data",
          "data": {
            "text/plain": [
              "<Figure size 432x288 with 0 Axes>"
            ]
          },
          "metadata": {}
        }
      ]
    },
    {
      "cell_type": "markdown",
      "metadata": {
        "id": "4GrzdF5adb6g"
      },
      "source": [
        "# How to obtain the outliers data values for NYC column ? "
      ]
    },
    {
      "cell_type": "code",
      "metadata": {
        "id": "NYySj_MUiudh",
        "colab": {
          "base_uri": "https://localhost:8080/",
          "height": 268
        },
        "outputId": "63eb5228-5466-49df-f993-fd1c6d7edff7"
      },
      "source": [
        "nybox = plt.boxplot(us_pizza['nyc'])"
      ],
      "execution_count": null,
      "outputs": [
        {
          "output_type": "display_data",
          "data": {
            "image/png": "[encoded data removed]",
            "text/plain": [
              "<Figure size 432x288 with 1 Axes>"
            ]
          },
          "metadata": {}
        }
      ]
    },
    {
      "cell_type": "code",
      "metadata": {
        "id": "VJNiupuVixHQ",
        "colab": {
          "base_uri": "https://localhost:8080/"
        },
        "outputId": "e4fb3f68-20b7-4c36-9f60-20d927c73039"
      },
      "source": [
        "nybox[\"fliers\"][0].get_data()[1]"
      ],
      "execution_count": null,
      "outputs": [
        {
          "output_type": "execute_result",
          "data": {
            "text/plain": [
              "array([ 40,  60,  78, 120])"
            ]
          },
          "metadata": {},
          "execution_count": 16
        }
      ]
    },
    {
      "cell_type": "code",
      "metadata": {
        "id": "SaP0BvA4db6g",
        "colab": {
          "base_uri": "https://localhost:8080/",
          "height": 285
        },
        "outputId": "3dcd7be7-d655-4ceb-9f9a-3850135019c9"
      },
      "source": [
        "nybox = plt.boxplot(us_pizza['nyc'])\n",
        "#plt.boxplot(us_pizza)\n",
        "nyout = nybox['fliers'][0]\n",
        "nyout.get_data()[1]"
      ],
      "execution_count": null,
      "outputs": [
        {
          "output_type": "execute_result",
          "data": {
            "text/plain": [
              "array([ 40,  60,  78, 120])"
            ]
          },
          "metadata": {},
          "execution_count": 17
        },
        {
          "output_type": "display_data",
          "data": {
            "image/png": "[encoded data removed]",
            "text/plain": [
              "<Figure size 432x288 with 1 Axes>"
            ]
          },
          "metadata": {}
        }
      ]
    },
    {
      "cell_type": "code",
      "metadata": {
        "id": "xAvujUD9HuHH"
      },
      "source": [
        ""
      ],
      "execution_count": null,
      "outputs": []
    },
    {
      "cell_type": "markdown",
      "metadata": {
        "id": "sizo_1Zvdb6g"
      },
      "source": [
        "# Working on the campus placement report data set "
      ]
    },
    {
      "cell_type": "code",
      "metadata": {
        "id": "5sYJR3ZAdb6g",
        "colab": {
          "base_uri": "https://localhost:8080/",
          "height": 206
        },
        "outputId": "51b127fe-ed47-4c1f-ceb9-716f78fb75f4"
      },
      "source": [
        "campus = pd.read_csv('Placement_Data_Full_Class.csv')\n",
        "campus.tail()"
      ],
      "execution_count": null,
      "outputs": [
        {
          "output_type": "execute_result",
          "data": {
            "text/html": [
              "<div>\n",
              "<style scoped>\n",
              "    .dataframe tbody tr th:only-of-type {\n",
              "        vertical-align: middle;\n",
              "    }\n",
              "\n",
              "    .dataframe tbody tr th {\n",
              "        vertical-align: top;\n",
              "    }\n",
              "\n",
              "    .dataframe thead th {\n",
              "        text-align: right;\n",
              "    }\n",
              "</style>\n",
              "<table border=\"1\" class=\"dataframe\">\n",
              "  <thead>\n",
              "    <tr style=\"text-align: right;\">\n",
              "      <th></th>\n",
              "      <th>sl_no</th>\n",
              "      <th>gender</th>\n",
              "      <th>ssc_p</th>\n",
              "      <th>ssc_b</th>\n",
              "      <th>hsc_p</th>\n",
              "      <th>hsc_b</th>\n",
              "      <th>hsc_s</th>\n",
              "      <th>degree_p</th>\n",
              "      <th>degree_t</th>\n",
              "      <th>workex</th>\n",
              "      <th>etest_p</th>\n",
              "      <th>specialisation</th>\n",
              "      <th>mba_p</th>\n",
              "      <th>status</th>\n",
              "      <th>salary</th>\n",
              "    </tr>\n",
              "  </thead>\n",
              "  <tbody>\n",
              "    <tr>\n",
              "      <th>210</th>\n",
              "      <td>211</td>\n",
              "      <td>M</td>\n",
              "      <td>80.6</td>\n",
              "      <td>Others</td>\n",
              "      <td>82.0</td>\n",
              "      <td>Others</td>\n",
              "      <td>Commerce</td>\n",
              "      <td>77.6</td>\n",
              "      <td>Comm&amp;Mgmt</td>\n",
              "      <td>No</td>\n",
              "      <td>91.0</td>\n",
              "      <td>Mkt&amp;Fin</td>\n",
              "      <td>74.49</td>\n",
              "      <td>Placed</td>\n",
              "      <td>400000.0</td>\n",
              "    </tr>\n",
              "    <tr>\n",
              "      <th>211</th>\n",
              "      <td>212</td>\n",
              "      <td>M</td>\n",
              "      <td>58.0</td>\n",
              "      <td>Others</td>\n",
              "      <td>60.0</td>\n",
              "      <td>Others</td>\n",
              "      <td>Science</td>\n",
              "      <td>72.0</td>\n",
              "      <td>Sci&amp;Tech</td>\n",
              "      <td>No</td>\n",
              "      <td>74.0</td>\n",
              "      <td>Mkt&amp;Fin</td>\n",
              "      <td>53.62</td>\n",
              "      <td>Placed</td>\n",
              "      <td>275000.0</td>\n",
              "    </tr>\n",
              "    <tr>\n",
              "      <th>212</th>\n",
              "      <td>213</td>\n",
              "      <td>M</td>\n",
              "      <td>67.0</td>\n",
              "      <td>Others</td>\n",
              "      <td>67.0</td>\n",
              "      <td>Others</td>\n",
              "      <td>Commerce</td>\n",
              "      <td>73.0</td>\n",
              "      <td>Comm&amp;Mgmt</td>\n",
              "      <td>Yes</td>\n",
              "      <td>59.0</td>\n",
              "      <td>Mkt&amp;Fin</td>\n",
              "      <td>69.72</td>\n",
              "      <td>Placed</td>\n",
              "      <td>295000.0</td>\n",
              "    </tr>\n",
              "    <tr>\n",
              "      <th>213</th>\n",
              "      <td>214</td>\n",
              "      <td>F</td>\n",
              "      <td>74.0</td>\n",
              "      <td>Others</td>\n",
              "      <td>66.0</td>\n",
              "      <td>Others</td>\n",
              "      <td>Commerce</td>\n",
              "      <td>58.0</td>\n",
              "      <td>Comm&amp;Mgmt</td>\n",
              "      <td>No</td>\n",
              "      <td>70.0</td>\n",
              "      <td>Mkt&amp;HR</td>\n",
              "      <td>60.23</td>\n",
              "      <td>Placed</td>\n",
              "      <td>204000.0</td>\n",
              "    </tr>\n",
              "    <tr>\n",
              "      <th>214</th>\n",
              "      <td>215</td>\n",
              "      <td>M</td>\n",
              "      <td>62.0</td>\n",
              "      <td>Central</td>\n",
              "      <td>58.0</td>\n",
              "      <td>Others</td>\n",
              "      <td>Science</td>\n",
              "      <td>53.0</td>\n",
              "      <td>Comm&amp;Mgmt</td>\n",
              "      <td>No</td>\n",
              "      <td>89.0</td>\n",
              "      <td>Mkt&amp;HR</td>\n",
              "      <td>60.22</td>\n",
              "      <td>Not Placed</td>\n",
              "      <td>NaN</td>\n",
              "    </tr>\n",
              "  </tbody>\n",
              "</table>\n",
              "</div>"
            ],
            "text/plain": [
              "     sl_no gender  ssc_p    ssc_b  ...  specialisation  mba_p      status    salary\n",
              "210    211      M   80.6   Others  ...         Mkt&Fin  74.49      Placed  400000.0\n",
              "211    212      M   58.0   Others  ...         Mkt&Fin  53.62      Placed  275000.0\n",
              "212    213      M   67.0   Others  ...         Mkt&Fin  69.72      Placed  295000.0\n",
              "213    214      F   74.0   Others  ...          Mkt&HR  60.23      Placed  204000.0\n",
              "214    215      M   62.0  Central  ...          Mkt&HR  60.22  Not Placed       NaN\n",
              "\n",
              "[5 rows x 15 columns]"
            ]
          },
          "metadata": {},
          "execution_count": 18
        }
      ]
    },
    {
      "cell_type": "code",
      "metadata": {
        "id": "q_57FmCndb6h",
        "colab": {
          "base_uri": "https://localhost:8080/"
        },
        "outputId": "43840c4e-3095-4842-d73f-844183290a24"
      },
      "source": [
        "campus['salary'].mean()"
      ],
      "execution_count": null,
      "outputs": [
        {
          "output_type": "execute_result",
          "data": {
            "text/plain": [
              "288655.4054054054"
            ]
          },
          "metadata": {},
          "execution_count": 19
        }
      ]
    },
    {
      "cell_type": "code",
      "metadata": {
        "id": "W9VkSyv5db6h",
        "colab": {
          "base_uri": "https://localhost:8080/"
        },
        "outputId": "0b56071f-37fd-4292-d29b-959a322ee68e"
      },
      "source": [
        "campus['salary'].median()"
      ],
      "execution_count": null,
      "outputs": [
        {
          "output_type": "execute_result",
          "data": {
            "text/plain": [
              "265000.0"
            ]
          },
          "metadata": {},
          "execution_count": 20
        }
      ]
    },
    {
      "cell_type": "code",
      "metadata": {
        "id": "IctvuuCXdb6i",
        "colab": {
          "base_uri": "https://localhost:8080/"
        },
        "outputId": "669e9ebc-237a-4234-a145-5ad236037718"
      },
      "source": [
        "campus['salary'].mode()"
      ],
      "execution_count": null,
      "outputs": [
        {
          "output_type": "execute_result",
          "data": {
            "text/plain": [
              "0    300000.0\n",
              "dtype: float64"
            ]
          },
          "metadata": {},
          "execution_count": 21
        }
      ]
    },
    {
      "cell_type": "code",
      "metadata": {
        "id": "mZdXMS_gdb6i",
        "colab": {
          "base_uri": "https://localhost:8080/"
        },
        "outputId": "8c49225d-01d6-41dd-b977-91a70a65badd"
      },
      "source": [
        "campus['salary'].max()"
      ],
      "execution_count": null,
      "outputs": [
        {
          "output_type": "execute_result",
          "data": {
            "text/plain": [
              "940000.0"
            ]
          },
          "metadata": {},
          "execution_count": 22
        }
      ]
    },
    {
      "cell_type": "code",
      "metadata": {
        "id": "xbjn5qG5db6j",
        "colab": {
          "base_uri": "https://localhost:8080/"
        },
        "outputId": "357d376b-2746-49e9-8a06-4999cade4d42"
      },
      "source": [
        "campus['salary'].min()"
      ],
      "execution_count": null,
      "outputs": [
        {
          "output_type": "execute_result",
          "data": {
            "text/plain": [
              "200000.0"
            ]
          },
          "metadata": {},
          "execution_count": 23
        }
      ]
    },
    {
      "cell_type": "code",
      "metadata": {
        "id": "aHBgCwCwmfLk",
        "colab": {
          "base_uri": "https://localhost:8080/"
        },
        "outputId": "50bc52c2-7293-45ac-876a-891adc763fd1"
      },
      "source": [
        "(campus[\"salary\"] < lwf) | (campus[\"salary\"] > upf)"
      ],
      "execution_count": null,
      "outputs": [
        {
          "output_type": "execute_result",
          "data": {
            "text/plain": [
              "0       True\n",
              "1       True\n",
              "2       True\n",
              "3      False\n",
              "4       True\n",
              "       ...  \n",
              "210     True\n",
              "211     True\n",
              "212     True\n",
              "213     True\n",
              "214    False\n",
              "Name: salary, Length: 215, dtype: bool"
            ]
          },
          "metadata": {},
          "execution_count": 24
        }
      ]
    },
    {
      "cell_type": "code",
      "metadata": {
        "id": "JoQQVfVQmqmk"
      },
      "source": [
        "campus.describe()"
      ],
      "execution_count": null,
      "outputs": []
    },
    {
      "cell_type": "code",
      "metadata": {
        "id": "PQT65DcVdb6k"
      },
      "source": [
        "q1=campus['salary'].quantile(0.25) # finding the lower quartile value \n",
        "q3=campus['salary'].quantile(0.75) # finding the upper quartile value \n",
        "iqr = q3-q1  # Calculating the inter quartile range\n",
        "print(\"Inter Quartile Range = \",iqr)\n",
        "print(q1,q3)\n",
        "# Note : 1.5 times the IQR is the treshold value to find the outliers \n",
        "upf = q3 + (1.5*iqr) \n",
        "lwf = q1 - (1.5*iqr)\n",
        "campus[(campus[\"salary\"] < lwf) | (campus[\"salary\"] > upf)]"
      ],
      "execution_count": null,
      "outputs": []
    },
    {
      "cell_type": "markdown",
      "metadata": {
        "id": "cBVwldICdb6j"
      },
      "source": [
        "# In class exercise : \n",
        "Find the precence of outliers (if any) on this salary column using the box plots. Print the outlier values. "
      ]
    },
    {
      "cell_type": "markdown",
      "metadata": {
        "id": "T8qobGHJdb6j"
      },
      "source": [
        "# Working with the US super store data \n"
      ]
    },
    {
      "cell_type": "code",
      "metadata": {
        "id": "Aj-QTQ5Fdb6j",
        "colab": {
          "base_uri": "https://localhost:8080/",
          "height": 271
        },
        "outputId": "76abf7e1-e46a-42e5-a947-4abcaffc3133"
      },
      "source": [
        "df = pd.read_excel('US Superstore data.xls')\n",
        "df.head(2)"
      ],
      "execution_count": null,
      "outputs": [
        {
          "output_type": "execute_result",
          "data": {
            "text/html": [
              "<div>\n",
              "<style scoped>\n",
              "    .dataframe tbody tr th:only-of-type {\n",
              "        vertical-align: middle;\n",
              "    }\n",
              "\n",
              "    .dataframe tbody tr th {\n",
              "        vertical-align: top;\n",
              "    }\n",
              "\n",
              "    .dataframe thead th {\n",
              "        text-align: right;\n",
              "    }\n",
              "</style>\n",
              "<table border=\"1\" class=\"dataframe\">\n",
              "  <thead>\n",
              "    <tr style=\"text-align: right;\">\n",
              "      <th></th>\n",
              "      <th>Row ID</th>\n",
              "      <th>Order ID</th>\n",
              "      <th>Order Date</th>\n",
              "      <th>Ship Date</th>\n",
              "      <th>Ship Mode</th>\n",
              "      <th>Customer ID</th>\n",
              "      <th>Customer Name</th>\n",
              "      <th>Segment</th>\n",
              "      <th>Country</th>\n",
              "      <th>City</th>\n",
              "      <th>State</th>\n",
              "      <th>Postal Code</th>\n",
              "      <th>Region</th>\n",
              "      <th>Product ID</th>\n",
              "      <th>Category</th>\n",
              "      <th>Sub-Category</th>\n",
              "      <th>Product Name</th>\n",
              "      <th>Sales</th>\n",
              "      <th>Quantity</th>\n",
              "      <th>Discount</th>\n",
              "      <th>Profit</th>\n",
              "    </tr>\n",
              "  </thead>\n",
              "  <tbody>\n",
              "    <tr>\n",
              "      <th>0</th>\n",
              "      <td>1</td>\n",
              "      <td>CA-2016-152156</td>\n",
              "      <td>2016-11-08</td>\n",
              "      <td>2016-11-11</td>\n",
              "      <td>Second Class</td>\n",
              "      <td>CG-12520</td>\n",
              "      <td>Claire Gute</td>\n",
              "      <td>Consumer</td>\n",
              "      <td>United States</td>\n",
              "      <td>Henderson</td>\n",
              "      <td>Kentucky</td>\n",
              "      <td>42420</td>\n",
              "      <td>South</td>\n",
              "      <td>FUR-BO-10001798</td>\n",
              "      <td>Furniture</td>\n",
              "      <td>Bookcases</td>\n",
              "      <td>Bush Somerset Collection Bookcase</td>\n",
              "      <td>261.96</td>\n",
              "      <td>2</td>\n",
              "      <td>0.0</td>\n",
              "      <td>41.9136</td>\n",
              "    </tr>\n",
              "    <tr>\n",
              "      <th>1</th>\n",
              "      <td>2</td>\n",
              "      <td>CA-2016-152156</td>\n",
              "      <td>2016-11-08</td>\n",
              "      <td>2016-11-11</td>\n",
              "      <td>Second Class</td>\n",
              "      <td>CG-12520</td>\n",
              "      <td>Claire Gute</td>\n",
              "      <td>Consumer</td>\n",
              "      <td>United States</td>\n",
              "      <td>Henderson</td>\n",
              "      <td>Kentucky</td>\n",
              "      <td>42420</td>\n",
              "      <td>South</td>\n",
              "      <td>FUR-CH-10000454</td>\n",
              "      <td>Furniture</td>\n",
              "      <td>Chairs</td>\n",
              "      <td>Hon Deluxe Fabric Upholstered Stacking Chairs,...</td>\n",
              "      <td>731.94</td>\n",
              "      <td>3</td>\n",
              "      <td>0.0</td>\n",
              "      <td>219.5820</td>\n",
              "    </tr>\n",
              "  </tbody>\n",
              "</table>\n",
              "</div>"
            ],
            "text/plain": [
              "   Row ID        Order ID Order Date  ... Quantity Discount    Profit\n",
              "0       1  CA-2016-152156 2016-11-08  ...        2      0.0   41.9136\n",
              "1       2  CA-2016-152156 2016-11-08  ...        3      0.0  219.5820\n",
              "\n",
              "[2 rows x 21 columns]"
            ]
          },
          "metadata": {},
          "execution_count": 25
        }
      ]
    },
    {
      "cell_type": "markdown",
      "metadata": {
        "id": "iJvCw54Fdb6k"
      },
      "source": [
        "# Comparing the standard deviations of the profit column and the quantity column "
      ]
    },
    {
      "cell_type": "code",
      "metadata": {
        "id": "KQJMgfSidb6k"
      },
      "source": [
        "print('Standard Deviation for Profit:',np.std(df['Profit'], axis=0))\n",
        "print('Standard Deviation for Quantity:',np.std(df['Quantity'], axis=0))"
      ],
      "execution_count": null,
      "outputs": []
    },
    {
      "cell_type": "markdown",
      "metadata": {
        "id": "TmYK36Bsdb6l"
      },
      "source": [
        "# Justify if its a good idea to compare the std of any arbitary columns which are not relatable for analysis purposes ? "
      ]
    },
    {
      "cell_type": "markdown",
      "metadata": {
        "id": "WTsu7Ssidb6l"
      },
      "source": [
        "# Finding the IQR for the profits column "
      ]
    },
    {
      "cell_type": "code",
      "metadata": {
        "id": "CO8ZS1rAdb6m"
      },
      "source": [
        "from scipy.stats import iqr\n",
        "iqr(df['Profit'],axis=0, interpolation='higher')"
      ],
      "execution_count": null,
      "outputs": []
    },
    {
      "cell_type": "markdown",
      "metadata": {
        "id": "dlbCR1bMdb6m"
      },
      "source": [
        "# In class exercise :\n",
        "Check if there are outliers in the Profit column "
      ]
    },
    {
      "cell_type": "code",
      "metadata": {
        "id": "liEN-iP1lxzp"
      },
      "source": [
        ""
      ],
      "execution_count": null,
      "outputs": []
    },
    {
      "cell_type": "markdown",
      "metadata": {
        "id": "D23oGbTBdb6m"
      },
      "source": [
        "# What is the use of identifying outliers in the profilt column ? Do we always ignore the outliers ? "
      ]
    },
    {
      "cell_type": "markdown",
      "metadata": {
        "id": "Q3QiUOg-db6m"
      },
      "source": [
        "In this case, outliers (the items which are highly profitable needs more attention) Outlier analysis is to be dealt case-on-case basis. "
      ]
    },
    {
      "cell_type": "markdown",
      "metadata": {
        "id": "5c33nh8Kdb6m"
      },
      "source": [
        "# Sampling "
      ]
    },
    {
      "cell_type": "code",
      "metadata": {
        "id": "0J6CdQIKdb6m"
      },
      "source": [
        "# df already has the US uper Store data loaded into it \n",
        "df.head(2)"
      ],
      "execution_count": null,
      "outputs": []
    },
    {
      "cell_type": "markdown",
      "metadata": {
        "id": "DrFQ1cWxdb6n"
      },
      "source": [
        " # Obtaing a random sample "
      ]
    },
    {
      "cell_type": "code",
      "metadata": {
        "id": "ZuVmjIkedb6n"
      },
      "source": [
        "newdf = df.sample(frac = .30, random_state=21) # We are obtaining a sample of 30% of the original data "
      ],
      "execution_count": null,
      "outputs": []
    },
    {
      "cell_type": "code",
      "metadata": {
        "id": "wC5zxtG8db6n"
      },
      "source": [
        "newdf.head()"
      ],
      "execution_count": null,
      "outputs": []
    },
    {
      "cell_type": "markdown",
      "metadata": {
        "id": "aMLHDqPqdb6n"
      },
      "source": [
        "# Practice exercise "
      ]
    },
    {
      "cell_type": "markdown",
      "metadata": {
        "id": "3uQXG_jKdb6o"
      },
      "source": [
        "1) Obtain a stratified random sampling on the above data using the Segment column, i.e each segment can be considered as a strata  \n",
        "\n",
        "Hint : Create multiple data frames by filtering based on each segment. Obtain a simple random sample from each of the dataframes\n",
        "and create a new data frame by appending the results obtained. "
      ]
    },
    {
      "cell_type": "code",
      "metadata": {
        "id": "H_lYlatO3Yzx",
        "colab": {
          "base_uri": "https://localhost:8080/"
        },
        "outputId": "a0105cb9-5226-44c0-c267-a256bc370615"
      },
      "source": [
        "df[\"Segment\"].unique()"
      ],
      "execution_count": null,
      "outputs": [
        {
          "output_type": "execute_result",
          "data": {
            "text/plain": [
              "array(['Consumer', 'Corporate', 'Home Office'], dtype=object)"
            ]
          },
          "metadata": {},
          "execution_count": 26
        }
      ]
    },
    {
      "cell_type": "code",
      "metadata": {
        "id": "TbWbKqL93jHY"
      },
      "source": [
        "l = list(df[\"Segment\"].unique())"
      ],
      "execution_count": null,
      "outputs": []
    },
    {
      "cell_type": "code",
      "metadata": {
        "id": "7d1Ui13b3l5_",
        "colab": {
          "base_uri": "https://localhost:8080/"
        },
        "outputId": "251719ec-99eb-4b16-b0d2-65a04b3a183c"
      },
      "source": [
        "l"
      ],
      "execution_count": null,
      "outputs": [
        {
          "output_type": "execute_result",
          "data": {
            "text/plain": [
              "['Consumer', 'Corporate', 'Home Office']"
            ]
          },
          "metadata": {},
          "execution_count": 28
        }
      ]
    },
    {
      "cell_type": "code",
      "metadata": {
        "id": "RXTQ7QaZ3mWx"
      },
      "source": [
        "task = pd.DataFrame()\n",
        "for i in l:\n",
        "  sample = df[df[\"Segment\"] == i].sample(n=30)\n",
        "  task = pd.concat([task,sample],axis=0)"
      ],
      "execution_count": null,
      "outputs": []
    },
    {
      "cell_type": "code",
      "metadata": {
        "id": "tshhrOHS3uBd",
        "colab": {
          "base_uri": "https://localhost:8080/"
        },
        "outputId": "26394608-5b87-4431-c0a4-6969012d62db"
      },
      "source": [
        "task.shape"
      ],
      "execution_count": null,
      "outputs": [
        {
          "output_type": "execute_result",
          "data": {
            "text/plain": [
              "(90, 21)"
            ]
          },
          "metadata": {},
          "execution_count": 30
        }
      ]
    },
    {
      "cell_type": "code",
      "metadata": {
        "id": "t6j3l0Th4yA2",
        "colab": {
          "base_uri": "https://localhost:8080/"
        },
        "outputId": "d493c64d-55cf-4623-91fb-dfd0a021f9e0"
      },
      "source": [
        "task[\"Segment\"].value_counts()"
      ],
      "execution_count": null,
      "outputs": [
        {
          "output_type": "execute_result",
          "data": {
            "text/plain": [
              "Consumer       30\n",
              "Home Office    30\n",
              "Corporate      30\n",
              "Name: Segment, dtype: int64"
            ]
          },
          "metadata": {},
          "execution_count": 31
        }
      ]
    },
    {
      "cell_type": "code",
      "metadata": {
        "id": "CTVrefv93udC",
        "colab": {
          "base_uri": "https://localhost:8080/",
          "height": 1000
        },
        "outputId": "cfa04b2e-8fa4-4a62-eae7-b24b81ae55a5"
      },
      "source": [
        "df[df[\"Segment\"] == 'Consumer'].sample(n=30)"
      ],
      "execution_count": null,
      "outputs": [
        {
          "output_type": "execute_result",
          "data": {
            "text/html": [
              "<div>\n",
              "<style scoped>\n",
              "    .dataframe tbody tr th:only-of-type {\n",
              "        vertical-align: middle;\n",
              "    }\n",
              "\n",
              "    .dataframe tbody tr th {\n",
              "        vertical-align: top;\n",
              "    }\n",
              "\n",
              "    .dataframe thead th {\n",
              "        text-align: right;\n",
              "    }\n",
              "</style>\n",
              "<table border=\"1\" class=\"dataframe\">\n",
              "  <thead>\n",
              "    <tr style=\"text-align: right;\">\n",
              "      <th></th>\n",
              "      <th>Row ID</th>\n",
              "      <th>Order ID</th>\n",
              "      <th>Order Date</th>\n",
              "      <th>Ship Date</th>\n",
              "      <th>Ship Mode</th>\n",
              "      <th>Customer ID</th>\n",
              "      <th>Customer Name</th>\n",
              "      <th>Segment</th>\n",
              "      <th>Country</th>\n",
              "      <th>City</th>\n",
              "      <th>State</th>\n",
              "      <th>Postal Code</th>\n",
              "      <th>Region</th>\n",
              "      <th>Product ID</th>\n",
              "      <th>Category</th>\n",
              "      <th>Sub-Category</th>\n",
              "      <th>Product Name</th>\n",
              "      <th>Sales</th>\n",
              "      <th>Quantity</th>\n",
              "      <th>Discount</th>\n",
              "      <th>Profit</th>\n",
              "    </tr>\n",
              "  </thead>\n",
              "  <tbody>\n",
              "    <tr>\n",
              "      <th>346</th>\n",
              "      <td>347</td>\n",
              "      <td>CA-2017-134306</td>\n",
              "      <td>2017-07-08</td>\n",
              "      <td>2017-07-12</td>\n",
              "      <td>Standard Class</td>\n",
              "      <td>TD-20995</td>\n",
              "      <td>Tamara Dahlen</td>\n",
              "      <td>Consumer</td>\n",
              "      <td>United States</td>\n",
              "      <td>Lowell</td>\n",
              "      <td>Massachusetts</td>\n",
              "      <td>1852</td>\n",
              "      <td>East</td>\n",
              "      <td>OFF-AR-10004027</td>\n",
              "      <td>Office Supplies</td>\n",
              "      <td>Art</td>\n",
              "      <td>Binney &amp; Smith inkTank Erasable Desk Highlight...</td>\n",
              "      <td>7.560</td>\n",
              "      <td>3</td>\n",
              "      <td>0.0</td>\n",
              "      <td>3.0996</td>\n",
              "    </tr>\n",
              "    <tr>\n",
              "      <th>580</th>\n",
              "      <td>581</td>\n",
              "      <td>CA-2015-132906</td>\n",
              "      <td>2015-09-10</td>\n",
              "      <td>2015-09-14</td>\n",
              "      <td>Standard Class</td>\n",
              "      <td>CC-12145</td>\n",
              "      <td>Charles Crestani</td>\n",
              "      <td>Consumer</td>\n",
              "      <td>United States</td>\n",
              "      <td>Los Angeles</td>\n",
              "      <td>California</td>\n",
              "      <td>90004</td>\n",
              "      <td>West</td>\n",
              "      <td>OFF-SU-10004498</td>\n",
              "      <td>Office Supplies</td>\n",
              "      <td>Supplies</td>\n",
              "      <td>Martin-Yale Premier Letter Opener</td>\n",
              "      <td>51.520</td>\n",
              "      <td>4</td>\n",
              "      <td>0.0</td>\n",
              "      <td>1.5456</td>\n",
              "    </tr>\n",
              "    <tr>\n",
              "      <th>1146</th>\n",
              "      <td>1147</td>\n",
              "      <td>CA-2015-112452</td>\n",
              "      <td>2015-04-04</td>\n",
              "      <td>2015-04-04</td>\n",
              "      <td>Same Day</td>\n",
              "      <td>NC-18340</td>\n",
              "      <td>Nat Carroll</td>\n",
              "      <td>Consumer</td>\n",
              "      <td>United States</td>\n",
              "      <td>Lansing</td>\n",
              "      <td>Michigan</td>\n",
              "      <td>48911</td>\n",
              "      <td>Central</td>\n",
              "      <td>OFF-AP-10003849</td>\n",
              "      <td>Office Supplies</td>\n",
              "      <td>Appliances</td>\n",
              "      <td>Hoover Shoulder Vac Commercial Portable Vacuum</td>\n",
              "      <td>644.076</td>\n",
              "      <td>2</td>\n",
              "      <td>0.1</td>\n",
              "      <td>107.3460</td>\n",
              "    </tr>\n",
              "    <tr>\n",
              "      <th>2240</th>\n",
              "      <td>2241</td>\n",
              "      <td>CA-2016-146633</td>\n",
              "      <td>2016-11-15</td>\n",
              "      <td>2016-11-17</td>\n",
              "      <td>Second Class</td>\n",
              "      <td>TG-21310</td>\n",
              "      <td>Toby Gnade</td>\n",
              "      <td>Consumer</td>\n",
              "      <td>United States</td>\n",
              "      <td>Los Angeles</td>\n",
              "      <td>California</td>\n",
              "      <td>90049</td>\n",
              "      <td>West</td>\n",
              "      <td>OFF-BI-10002982</td>\n",
              "      <td>Office Supplies</td>\n",
              "      <td>Binders</td>\n",
              "      <td>Avery Self-Adhesive Photo Pockets for Polaroid...</td>\n",
              "      <td>38.136</td>\n",
              "      <td>7</td>\n",
              "      <td>0.2</td>\n",
              "      <td>13.3476</td>\n",
              "    </tr>\n",
              "    <tr>\n",
              "      <th>6603</th>\n",
              "      <td>6604</td>\n",
              "      <td>CA-2017-146346</td>\n",
              "      <td>2017-06-17</td>\n",
              "      <td>2017-06-20</td>\n",
              "      <td>First Class</td>\n",
              "      <td>RA-19945</td>\n",
              "      <td>Ryan Akin</td>\n",
              "      <td>Consumer</td>\n",
              "      <td>United States</td>\n",
              "      <td>Commerce City</td>\n",
              "      <td>Colorado</td>\n",
              "      <td>80022</td>\n",
              "      <td>West</td>\n",
              "      <td>OFF-ST-10001418</td>\n",
              "      <td>Office Supplies</td>\n",
              "      <td>Storage</td>\n",
              "      <td>Carina Media Storage Towers in Natural &amp; Black</td>\n",
              "      <td>146.352</td>\n",
              "      <td>3</td>\n",
              "      <td>0.2</td>\n",
              "      <td>-32.9292</td>\n",
              "    </tr>\n",
              "    <tr>\n",
              "      <th>6956</th>\n",
              "      <td>6957</td>\n",
              "      <td>CA-2016-157588</td>\n",
              "      <td>2016-07-14</td>\n",
              "      <td>2016-07-19</td>\n",
              "      <td>Standard Class</td>\n",
              "      <td>AR-10570</td>\n",
              "      <td>Anemone Ratner</td>\n",
              "      <td>Consumer</td>\n",
              "      <td>United States</td>\n",
              "      <td>Columbus</td>\n",
              "      <td>Georgia</td>\n",
              "      <td>31907</td>\n",
              "      <td>South</td>\n",
              "      <td>OFF-BI-10003963</td>\n",
              "      <td>Office Supplies</td>\n",
              "      <td>Binders</td>\n",
              "      <td>Cardinal Holdit Data Disk Pockets</td>\n",
              "      <td>36.400</td>\n",
              "      <td>5</td>\n",
              "      <td>0.0</td>\n",
              "      <td>17.1080</td>\n",
              "    </tr>\n",
              "    <tr>\n",
              "      <th>1604</th>\n",
              "      <td>1605</td>\n",
              "      <td>US-2016-115819</td>\n",
              "      <td>2016-04-19</td>\n",
              "      <td>2016-04-24</td>\n",
              "      <td>Second Class</td>\n",
              "      <td>JO-15280</td>\n",
              "      <td>Jas O'Carroll</td>\n",
              "      <td>Consumer</td>\n",
              "      <td>United States</td>\n",
              "      <td>Los Angeles</td>\n",
              "      <td>California</td>\n",
              "      <td>90049</td>\n",
              "      <td>West</td>\n",
              "      <td>TEC-PH-10004700</td>\n",
              "      <td>Technology</td>\n",
              "      <td>Phones</td>\n",
              "      <td>PowerGen Dual USB Car Charger</td>\n",
              "      <td>39.960</td>\n",
              "      <td>5</td>\n",
              "      <td>0.2</td>\n",
              "      <td>12.9870</td>\n",
              "    </tr>\n",
              "    <tr>\n",
              "      <th>6765</th>\n",
              "      <td>6766</td>\n",
              "      <td>CA-2017-100615</td>\n",
              "      <td>2017-04-20</td>\n",
              "      <td>2017-04-24</td>\n",
              "      <td>Standard Class</td>\n",
              "      <td>SJ-20215</td>\n",
              "      <td>Sarah Jordon</td>\n",
              "      <td>Consumer</td>\n",
              "      <td>United States</td>\n",
              "      <td>Chicago</td>\n",
              "      <td>Illinois</td>\n",
              "      <td>60653</td>\n",
              "      <td>Central</td>\n",
              "      <td>FUR-CH-10002602</td>\n",
              "      <td>Furniture</td>\n",
              "      <td>Chairs</td>\n",
              "      <td>DMI Arturo Collection Mission-style Design Woo...</td>\n",
              "      <td>317.058</td>\n",
              "      <td>3</td>\n",
              "      <td>0.3</td>\n",
              "      <td>-18.1176</td>\n",
              "    </tr>\n",
              "    <tr>\n",
              "      <th>9991</th>\n",
              "      <td>9992</td>\n",
              "      <td>CA-2017-121258</td>\n",
              "      <td>2017-02-26</td>\n",
              "      <td>2017-03-03</td>\n",
              "      <td>Standard Class</td>\n",
              "      <td>DB-13060</td>\n",
              "      <td>Dave Brooks</td>\n",
              "      <td>Consumer</td>\n",
              "      <td>United States</td>\n",
              "      <td>Costa Mesa</td>\n",
              "      <td>California</td>\n",
              "      <td>92627</td>\n",
              "      <td>West</td>\n",
              "      <td>TEC-PH-10003645</td>\n",
              "      <td>Technology</td>\n",
              "      <td>Phones</td>\n",
              "      <td>Aastra 57i VoIP phone</td>\n",
              "      <td>258.576</td>\n",
              "      <td>2</td>\n",
              "      <td>0.2</td>\n",
              "      <td>19.3932</td>\n",
              "    </tr>\n",
              "    <tr>\n",
              "      <th>1664</th>\n",
              "      <td>1665</td>\n",
              "      <td>CA-2016-128531</td>\n",
              "      <td>2016-11-24</td>\n",
              "      <td>2016-11-26</td>\n",
              "      <td>Second Class</td>\n",
              "      <td>NS-18505</td>\n",
              "      <td>Neola Schneider</td>\n",
              "      <td>Consumer</td>\n",
              "      <td>United States</td>\n",
              "      <td>Dallas</td>\n",
              "      <td>Texas</td>\n",
              "      <td>75217</td>\n",
              "      <td>Central</td>\n",
              "      <td>TEC-AC-10002049</td>\n",
              "      <td>Technology</td>\n",
              "      <td>Accessories</td>\n",
              "      <td>Logitech G19 Programmable Gaming Keyboard</td>\n",
              "      <td>297.576</td>\n",
              "      <td>3</td>\n",
              "      <td>0.2</td>\n",
              "      <td>-7.4394</td>\n",
              "    </tr>\n",
              "    <tr>\n",
              "      <th>4454</th>\n",
              "      <td>4455</td>\n",
              "      <td>CA-2016-147137</td>\n",
              "      <td>2016-07-04</td>\n",
              "      <td>2016-07-06</td>\n",
              "      <td>First Class</td>\n",
              "      <td>AA-10645</td>\n",
              "      <td>Anna Andreadi</td>\n",
              "      <td>Consumer</td>\n",
              "      <td>United States</td>\n",
              "      <td>San Francisco</td>\n",
              "      <td>California</td>\n",
              "      <td>94109</td>\n",
              "      <td>West</td>\n",
              "      <td>OFF-ST-10002486</td>\n",
              "      <td>Office Supplies</td>\n",
              "      <td>Storage</td>\n",
              "      <td>Eldon Shelf Savers Cubes and Bins</td>\n",
              "      <td>27.920</td>\n",
              "      <td>4</td>\n",
              "      <td>0.0</td>\n",
              "      <td>0.5584</td>\n",
              "    </tr>\n",
              "    <tr>\n",
              "      <th>1320</th>\n",
              "      <td>1321</td>\n",
              "      <td>CA-2017-167703</td>\n",
              "      <td>2017-02-03</td>\n",
              "      <td>2017-02-08</td>\n",
              "      <td>Standard Class</td>\n",
              "      <td>MC-17575</td>\n",
              "      <td>Matt Collins</td>\n",
              "      <td>Consumer</td>\n",
              "      <td>United States</td>\n",
              "      <td>Cincinnati</td>\n",
              "      <td>Ohio</td>\n",
              "      <td>45231</td>\n",
              "      <td>East</td>\n",
              "      <td>OFF-BI-10002071</td>\n",
              "      <td>Office Supplies</td>\n",
              "      <td>Binders</td>\n",
              "      <td>Fellowes Black Plastic Comb Bindings</td>\n",
              "      <td>5.229</td>\n",
              "      <td>3</td>\n",
              "      <td>0.7</td>\n",
              "      <td>-4.1832</td>\n",
              "    </tr>\n",
              "    <tr>\n",
              "      <th>456</th>\n",
              "      <td>457</td>\n",
              "      <td>US-2014-110674</td>\n",
              "      <td>2014-02-12</td>\n",
              "      <td>2014-02-18</td>\n",
              "      <td>Standard Class</td>\n",
              "      <td>SC-20095</td>\n",
              "      <td>Sanjit Chand</td>\n",
              "      <td>Consumer</td>\n",
              "      <td>United States</td>\n",
              "      <td>Concord</td>\n",
              "      <td>California</td>\n",
              "      <td>94521</td>\n",
              "      <td>West</td>\n",
              "      <td>FUR-CH-10000225</td>\n",
              "      <td>Furniture</td>\n",
              "      <td>Chairs</td>\n",
              "      <td>Global Geo Office Task Chair, Gray</td>\n",
              "      <td>129.568</td>\n",
              "      <td>2</td>\n",
              "      <td>0.2</td>\n",
              "      <td>-24.2940</td>\n",
              "    </tr>\n",
              "    <tr>\n",
              "      <th>3040</th>\n",
              "      <td>3041</td>\n",
              "      <td>US-2016-147991</td>\n",
              "      <td>2016-05-05</td>\n",
              "      <td>2016-05-09</td>\n",
              "      <td>Standard Class</td>\n",
              "      <td>ZD-21925</td>\n",
              "      <td>Zuschuss Donatelli</td>\n",
              "      <td>Consumer</td>\n",
              "      <td>United States</td>\n",
              "      <td>Chattanooga</td>\n",
              "      <td>Tennessee</td>\n",
              "      <td>37421</td>\n",
              "      <td>South</td>\n",
              "      <td>FUR-FU-10004270</td>\n",
              "      <td>Furniture</td>\n",
              "      <td>Furnishings</td>\n",
              "      <td>Eldon Image Series Desk Accessories, Burgundy</td>\n",
              "      <td>16.720</td>\n",
              "      <td>5</td>\n",
              "      <td>0.2</td>\n",
              "      <td>3.3440</td>\n",
              "    </tr>\n",
              "    <tr>\n",
              "      <th>9233</th>\n",
              "      <td>9234</td>\n",
              "      <td>CA-2016-126732</td>\n",
              "      <td>2016-09-02</td>\n",
              "      <td>2016-09-06</td>\n",
              "      <td>Standard Class</td>\n",
              "      <td>LR-16915</td>\n",
              "      <td>Lena Radford</td>\n",
              "      <td>Consumer</td>\n",
              "      <td>United States</td>\n",
              "      <td>Los Angeles</td>\n",
              "      <td>California</td>\n",
              "      <td>90036</td>\n",
              "      <td>West</td>\n",
              "      <td>OFF-ST-10000321</td>\n",
              "      <td>Office Supplies</td>\n",
              "      <td>Storage</td>\n",
              "      <td>Akro Stacking Bins</td>\n",
              "      <td>23.670</td>\n",
              "      <td>3</td>\n",
              "      <td>0.0</td>\n",
              "      <td>0.9468</td>\n",
              "    </tr>\n",
              "    <tr>\n",
              "      <th>7301</th>\n",
              "      <td>7302</td>\n",
              "      <td>CA-2014-163468</td>\n",
              "      <td>2014-11-18</td>\n",
              "      <td>2014-11-21</td>\n",
              "      <td>First Class</td>\n",
              "      <td>JK-15730</td>\n",
              "      <td>Joe Kamberova</td>\n",
              "      <td>Consumer</td>\n",
              "      <td>United States</td>\n",
              "      <td>Des Plaines</td>\n",
              "      <td>Illinois</td>\n",
              "      <td>60016</td>\n",
              "      <td>Central</td>\n",
              "      <td>OFF-BI-10004728</td>\n",
              "      <td>Office Supplies</td>\n",
              "      <td>Binders</td>\n",
              "      <td>Wilson Jones Turn Tabs Binder Tool for Ring Bi...</td>\n",
              "      <td>2.892</td>\n",
              "      <td>3</td>\n",
              "      <td>0.8</td>\n",
              "      <td>-4.9164</td>\n",
              "    </tr>\n",
              "    <tr>\n",
              "      <th>5116</th>\n",
              "      <td>5117</td>\n",
              "      <td>CA-2017-154137</td>\n",
              "      <td>2017-11-11</td>\n",
              "      <td>2017-11-17</td>\n",
              "      <td>Standard Class</td>\n",
              "      <td>MT-17815</td>\n",
              "      <td>Meg Tillman</td>\n",
              "      <td>Consumer</td>\n",
              "      <td>United States</td>\n",
              "      <td>New York City</td>\n",
              "      <td>New York</td>\n",
              "      <td>10009</td>\n",
              "      <td>East</td>\n",
              "      <td>OFF-ST-10003324</td>\n",
              "      <td>Office Supplies</td>\n",
              "      <td>Storage</td>\n",
              "      <td>Belkin OmniView SE Rackmount Kit</td>\n",
              "      <td>35.480</td>\n",
              "      <td>1</td>\n",
              "      <td>0.0</td>\n",
              "      <td>0.0000</td>\n",
              "    </tr>\n",
              "    <tr>\n",
              "      <th>3718</th>\n",
              "      <td>3719</td>\n",
              "      <td>CA-2016-142370</td>\n",
              "      <td>2016-09-19</td>\n",
              "      <td>2016-09-23</td>\n",
              "      <td>Standard Class</td>\n",
              "      <td>TP-21130</td>\n",
              "      <td>Theone Pippenger</td>\n",
              "      <td>Consumer</td>\n",
              "      <td>United States</td>\n",
              "      <td>Columbus</td>\n",
              "      <td>Georgia</td>\n",
              "      <td>31907</td>\n",
              "      <td>South</td>\n",
              "      <td>TEC-AC-10002926</td>\n",
              "      <td>Technology</td>\n",
              "      <td>Accessories</td>\n",
              "      <td>Logitech Wireless Marathon Mouse M705</td>\n",
              "      <td>249.950</td>\n",
              "      <td>5</td>\n",
              "      <td>0.0</td>\n",
              "      <td>107.4785</td>\n",
              "    </tr>\n",
              "    <tr>\n",
              "      <th>9882</th>\n",
              "      <td>9883</td>\n",
              "      <td>CA-2014-153927</td>\n",
              "      <td>2014-08-12</td>\n",
              "      <td>2014-08-13</td>\n",
              "      <td>First Class</td>\n",
              "      <td>LL-16840</td>\n",
              "      <td>Lauren Leatherbury</td>\n",
              "      <td>Consumer</td>\n",
              "      <td>United States</td>\n",
              "      <td>Woodstock</td>\n",
              "      <td>Georgia</td>\n",
              "      <td>30188</td>\n",
              "      <td>South</td>\n",
              "      <td>TEC-AC-10000023</td>\n",
              "      <td>Technology</td>\n",
              "      <td>Accessories</td>\n",
              "      <td>Maxell 74 Minute CD-R Spindle, 50/Pack</td>\n",
              "      <td>272.610</td>\n",
              "      <td>13</td>\n",
              "      <td>0.0</td>\n",
              "      <td>98.1396</td>\n",
              "    </tr>\n",
              "    <tr>\n",
              "      <th>2767</th>\n",
              "      <td>2768</td>\n",
              "      <td>CA-2017-167752</td>\n",
              "      <td>2017-01-15</td>\n",
              "      <td>2017-01-18</td>\n",
              "      <td>First Class</td>\n",
              "      <td>RW-19690</td>\n",
              "      <td>Robert Waldorf</td>\n",
              "      <td>Consumer</td>\n",
              "      <td>United States</td>\n",
              "      <td>Philadelphia</td>\n",
              "      <td>Pennsylvania</td>\n",
              "      <td>19134</td>\n",
              "      <td>East</td>\n",
              "      <td>OFF-AP-10002945</td>\n",
              "      <td>Office Supplies</td>\n",
              "      <td>Appliances</td>\n",
              "      <td>Honeywell Enviracaire Portable HEPA Air Cleane...</td>\n",
              "      <td>1924.160</td>\n",
              "      <td>8</td>\n",
              "      <td>0.2</td>\n",
              "      <td>312.6760</td>\n",
              "    </tr>\n",
              "    <tr>\n",
              "      <th>7607</th>\n",
              "      <td>7608</td>\n",
              "      <td>CA-2017-121195</td>\n",
              "      <td>2017-12-24</td>\n",
              "      <td>2017-12-27</td>\n",
              "      <td>First Class</td>\n",
              "      <td>NS-18505</td>\n",
              "      <td>Neola Schneider</td>\n",
              "      <td>Consumer</td>\n",
              "      <td>United States</td>\n",
              "      <td>Dallas</td>\n",
              "      <td>Texas</td>\n",
              "      <td>75220</td>\n",
              "      <td>Central</td>\n",
              "      <td>OFF-ST-10000585</td>\n",
              "      <td>Office Supplies</td>\n",
              "      <td>Storage</td>\n",
              "      <td>Economy Rollaway Files</td>\n",
              "      <td>264.320</td>\n",
              "      <td>2</td>\n",
              "      <td>0.2</td>\n",
              "      <td>19.8240</td>\n",
              "    </tr>\n",
              "    <tr>\n",
              "      <th>9628</th>\n",
              "      <td>9629</td>\n",
              "      <td>CA-2014-118192</td>\n",
              "      <td>2014-01-13</td>\n",
              "      <td>2014-01-18</td>\n",
              "      <td>Standard Class</td>\n",
              "      <td>MM-17920</td>\n",
              "      <td>Michael Moore</td>\n",
              "      <td>Consumer</td>\n",
              "      <td>United States</td>\n",
              "      <td>Newark</td>\n",
              "      <td>Ohio</td>\n",
              "      <td>43055</td>\n",
              "      <td>East</td>\n",
              "      <td>OFF-PA-10002947</td>\n",
              "      <td>Office Supplies</td>\n",
              "      <td>Paper</td>\n",
              "      <td>Xerox 1923</td>\n",
              "      <td>37.408</td>\n",
              "      <td>7</td>\n",
              "      <td>0.2</td>\n",
              "      <td>13.0928</td>\n",
              "    </tr>\n",
              "    <tr>\n",
              "      <th>8616</th>\n",
              "      <td>8617</td>\n",
              "      <td>CA-2016-165918</td>\n",
              "      <td>2016-09-10</td>\n",
              "      <td>2016-09-14</td>\n",
              "      <td>Standard Class</td>\n",
              "      <td>BD-11770</td>\n",
              "      <td>Bryan Davis</td>\n",
              "      <td>Consumer</td>\n",
              "      <td>United States</td>\n",
              "      <td>Edmonds</td>\n",
              "      <td>Washington</td>\n",
              "      <td>98026</td>\n",
              "      <td>West</td>\n",
              "      <td>OFF-PA-10000100</td>\n",
              "      <td>Office Supplies</td>\n",
              "      <td>Paper</td>\n",
              "      <td>Xerox 1945</td>\n",
              "      <td>81.980</td>\n",
              "      <td>2</td>\n",
              "      <td>0.0</td>\n",
              "      <td>40.1702</td>\n",
              "    </tr>\n",
              "    <tr>\n",
              "      <th>8232</th>\n",
              "      <td>8233</td>\n",
              "      <td>CA-2014-158225</td>\n",
              "      <td>2014-09-22</td>\n",
              "      <td>2014-09-28</td>\n",
              "      <td>Standard Class</td>\n",
              "      <td>SE-20110</td>\n",
              "      <td>Sanjit Engle</td>\n",
              "      <td>Consumer</td>\n",
              "      <td>United States</td>\n",
              "      <td>San Jose</td>\n",
              "      <td>California</td>\n",
              "      <td>95123</td>\n",
              "      <td>West</td>\n",
              "      <td>OFF-ST-10000675</td>\n",
              "      <td>Office Supplies</td>\n",
              "      <td>Storage</td>\n",
              "      <td>File Shuttle II and Handi-File, Black</td>\n",
              "      <td>169.450</td>\n",
              "      <td>5</td>\n",
              "      <td>0.0</td>\n",
              "      <td>42.3625</td>\n",
              "    </tr>\n",
              "    <tr>\n",
              "      <th>3944</th>\n",
              "      <td>3945</td>\n",
              "      <td>CA-2016-133144</td>\n",
              "      <td>2016-05-16</td>\n",
              "      <td>2016-05-21</td>\n",
              "      <td>Second Class</td>\n",
              "      <td>DO-13435</td>\n",
              "      <td>Denny Ordway</td>\n",
              "      <td>Consumer</td>\n",
              "      <td>United States</td>\n",
              "      <td>Los Angeles</td>\n",
              "      <td>California</td>\n",
              "      <td>90036</td>\n",
              "      <td>West</td>\n",
              "      <td>OFF-PA-10004971</td>\n",
              "      <td>Office Supplies</td>\n",
              "      <td>Paper</td>\n",
              "      <td>Xerox 196</td>\n",
              "      <td>17.340</td>\n",
              "      <td>3</td>\n",
              "      <td>0.0</td>\n",
              "      <td>8.4966</td>\n",
              "    </tr>\n",
              "    <tr>\n",
              "      <th>6544</th>\n",
              "      <td>6545</td>\n",
              "      <td>US-2017-154872</td>\n",
              "      <td>2017-05-14</td>\n",
              "      <td>2017-05-18</td>\n",
              "      <td>Standard Class</td>\n",
              "      <td>DP-13000</td>\n",
              "      <td>Darren Powers</td>\n",
              "      <td>Consumer</td>\n",
              "      <td>United States</td>\n",
              "      <td>Cleveland</td>\n",
              "      <td>Ohio</td>\n",
              "      <td>44105</td>\n",
              "      <td>East</td>\n",
              "      <td>OFF-BI-10003007</td>\n",
              "      <td>Office Supplies</td>\n",
              "      <td>Binders</td>\n",
              "      <td>Premium Transparent Presentation Covers, No Pa...</td>\n",
              "      <td>58.170</td>\n",
              "      <td>5</td>\n",
              "      <td>0.7</td>\n",
              "      <td>-46.5360</td>\n",
              "    </tr>\n",
              "    <tr>\n",
              "      <th>8157</th>\n",
              "      <td>8158</td>\n",
              "      <td>CA-2016-103464</td>\n",
              "      <td>2016-11-18</td>\n",
              "      <td>2016-11-22</td>\n",
              "      <td>Standard Class</td>\n",
              "      <td>PG-18820</td>\n",
              "      <td>Patrick Gardner</td>\n",
              "      <td>Consumer</td>\n",
              "      <td>United States</td>\n",
              "      <td>San Diego</td>\n",
              "      <td>California</td>\n",
              "      <td>92105</td>\n",
              "      <td>West</td>\n",
              "      <td>TEC-AC-10002842</td>\n",
              "      <td>Technology</td>\n",
              "      <td>Accessories</td>\n",
              "      <td>WD My Passport Ultra 2TB Portable External Har...</td>\n",
              "      <td>595.000</td>\n",
              "      <td>5</td>\n",
              "      <td>0.0</td>\n",
              "      <td>95.2000</td>\n",
              "    </tr>\n",
              "    <tr>\n",
              "      <th>2494</th>\n",
              "      <td>2495</td>\n",
              "      <td>CA-2016-146206</td>\n",
              "      <td>2016-09-10</td>\n",
              "      <td>2016-09-14</td>\n",
              "      <td>Second Class</td>\n",
              "      <td>KT-16480</td>\n",
              "      <td>Kean Thornton</td>\n",
              "      <td>Consumer</td>\n",
              "      <td>United States</td>\n",
              "      <td>Houston</td>\n",
              "      <td>Texas</td>\n",
              "      <td>77095</td>\n",
              "      <td>Central</td>\n",
              "      <td>TEC-PH-10000895</td>\n",
              "      <td>Technology</td>\n",
              "      <td>Phones</td>\n",
              "      <td>Polycom VVX 310 VoIP phone</td>\n",
              "      <td>719.960</td>\n",
              "      <td>5</td>\n",
              "      <td>0.2</td>\n",
              "      <td>53.9970</td>\n",
              "    </tr>\n",
              "    <tr>\n",
              "      <th>1033</th>\n",
              "      <td>1034</td>\n",
              "      <td>CA-2016-109820</td>\n",
              "      <td>2016-11-20</td>\n",
              "      <td>2016-11-22</td>\n",
              "      <td>First Class</td>\n",
              "      <td>AG-10390</td>\n",
              "      <td>Allen Goldenen</td>\n",
              "      <td>Consumer</td>\n",
              "      <td>United States</td>\n",
              "      <td>Cincinnati</td>\n",
              "      <td>Ohio</td>\n",
              "      <td>45231</td>\n",
              "      <td>East</td>\n",
              "      <td>OFF-PA-10000955</td>\n",
              "      <td>Office Supplies</td>\n",
              "      <td>Paper</td>\n",
              "      <td>Southworth 25% Cotton Granite Paper &amp; Envelopes</td>\n",
              "      <td>15.696</td>\n",
              "      <td>3</td>\n",
              "      <td>0.2</td>\n",
              "      <td>5.1012</td>\n",
              "    </tr>\n",
              "    <tr>\n",
              "      <th>8957</th>\n",
              "      <td>8958</td>\n",
              "      <td>CA-2017-105620</td>\n",
              "      <td>2017-12-25</td>\n",
              "      <td>2017-12-28</td>\n",
              "      <td>First Class</td>\n",
              "      <td>JH-15430</td>\n",
              "      <td>Jennifer Halladay</td>\n",
              "      <td>Consumer</td>\n",
              "      <td>United States</td>\n",
              "      <td>Hialeah</td>\n",
              "      <td>Florida</td>\n",
              "      <td>33012</td>\n",
              "      <td>South</td>\n",
              "      <td>TEC-MA-10004626</td>\n",
              "      <td>Technology</td>\n",
              "      <td>Machines</td>\n",
              "      <td>Lexmark 20R1285 X6650 Wireless All-in-One Printer</td>\n",
              "      <td>120.000</td>\n",
              "      <td>2</td>\n",
              "      <td>0.5</td>\n",
              "      <td>-7.2000</td>\n",
              "    </tr>\n",
              "  </tbody>\n",
              "</table>\n",
              "</div>"
            ],
            "text/plain": [
              "      Row ID        Order ID Order Date  ... Quantity Discount    Profit\n",
              "346      347  CA-2017-134306 2017-07-08  ...        3      0.0    3.0996\n",
              "580      581  CA-2015-132906 2015-09-10  ...        4      0.0    1.5456\n",
              "1146    1147  CA-2015-112452 2015-04-04  ...        2      0.1  107.3460\n",
              "2240    2241  CA-2016-146633 2016-11-15  ...        7      0.2   13.3476\n",
              "6603    6604  CA-2017-146346 2017-06-17  ...        3      0.2  -32.9292\n",
              "6956    6957  CA-2016-157588 2016-07-14  ...        5      0.0   17.1080\n",
              "1604    1605  US-2016-115819 2016-04-19  ...        5      0.2   12.9870\n",
              "6765    6766  CA-2017-100615 2017-04-20  ...        3      0.3  -18.1176\n",
              "9991    9992  CA-2017-121258 2017-02-26  ...        2      0.2   19.3932\n",
              "1664    1665  CA-2016-128531 2016-11-24  ...        3      0.2   -7.4394\n",
              "4454    4455  CA-2016-147137 2016-07-04  ...        4      0.0    0.5584\n",
              "1320    1321  CA-2017-167703 2017-02-03  ...        3      0.7   -4.1832\n",
              "456      457  US-2014-110674 2014-02-12  ...        2      0.2  -24.2940\n",
              "3040    3041  US-2016-147991 2016-05-05  ...        5      0.2    3.3440\n",
              "9233    9234  CA-2016-126732 2016-09-02  ...        3      0.0    0.9468\n",
              "7301    7302  CA-2014-163468 2014-11-18  ...        3      0.8   -4.9164\n",
              "5116    5117  CA-2017-154137 2017-11-11  ...        1      0.0    0.0000\n",
              "3718    3719  CA-2016-142370 2016-09-19  ...        5      0.0  107.4785\n",
              "9882    9883  CA-2014-153927 2014-08-12  ...       13      0.0   98.1396\n",
              "2767    2768  CA-2017-167752 2017-01-15  ...        8      0.2  312.6760\n",
              "7607    7608  CA-2017-121195 2017-12-24  ...        2      0.2   19.8240\n",
              "9628    9629  CA-2014-118192 2014-01-13  ...        7      0.2   13.0928\n",
              "8616    8617  CA-2016-165918 2016-09-10  ...        2      0.0   40.1702\n",
              "8232    8233  CA-2014-158225 2014-09-22  ...        5      0.0   42.3625\n",
              "3944    3945  CA-2016-133144 2016-05-16  ...        3      0.0    8.4966\n",
              "6544    6545  US-2017-154872 2017-05-14  ...        5      0.7  -46.5360\n",
              "8157    8158  CA-2016-103464 2016-11-18  ...        5      0.0   95.2000\n",
              "2494    2495  CA-2016-146206 2016-09-10  ...        5      0.2   53.9970\n",
              "1033    1034  CA-2016-109820 2016-11-20  ...        3      0.2    5.1012\n",
              "8957    8958  CA-2017-105620 2017-12-25  ...        2      0.5   -7.2000\n",
              "\n",
              "[30 rows x 21 columns]"
            ]
          },
          "metadata": {},
          "execution_count": 32
        }
      ]
    },
    {
      "cell_type": "code",
      "metadata": {
        "id": "akbtWtIL6E7-"
      },
      "source": [
        "df = pd.read_csv(\"/content/Placement_Data_Full_Class.csv\")"
      ],
      "execution_count": null,
      "outputs": []
    },
    {
      "cell_type": "code",
      "metadata": {
        "id": "lngOJvAp4i7O"
      },
      "source": [
        "sns.boxplot(data=df)\n",
        "plt.show()"
      ],
      "execution_count": null,
      "outputs": []
    },
    {
      "cell_type": "code",
      "metadata": {
        "id": "GbXPYB2r55XN"
      },
      "source": [
        "plt.boxplot(df['salary'].dropna())\n",
        "plt.ylim(0,50000)\n",
        "plt.show()"
      ],
      "execution_count": null,
      "outputs": []
    },
    {
      "cell_type": "code",
      "metadata": {
        "id": "QB5A92pd57xn"
      },
      "source": [
        ""
      ],
      "execution_count": null,
      "outputs": []
    }
  ]
}